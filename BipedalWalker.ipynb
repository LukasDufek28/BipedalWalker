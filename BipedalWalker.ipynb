{
  "cells": [
    {
      "cell_type": "markdown",
      "metadata": {},
      "source": [
        "**Importy**"
      ]
    },
    {
      "cell_type": "code",
      "execution_count": 1,
      "metadata": {},
      "outputs": [],
      "source": [
        "import gymnasium as gym\n",
        "import numpy as np\n",
        "from stable_baselines3 import TD3\n",
        "from stable_baselines3.common.vec_env import SubprocVecEnv, VecMonitor, DummyVecEnv\n",
        "from stable_baselines3.common.monitor import Monitor\n",
        "from stable_baselines3.common.noise import NormalActionNoise\n",
        "from stable_baselines3.common.callbacks import BaseCallback, EvalCallback\n",
        "from stable_baselines3.common.evaluation import evaluate_policy\n",
        "import os"
      ]
    },
    {
      "cell_type": "code",
      "execution_count": null,
      "metadata": {},
      "outputs": [],
      "source": [
        "# Parameters\n",
        "benchmark = \"BipedalWalker-v3\"\n",
        "model_ = TD3\n",
        "max_stepov_na_epizodu = 1000\n",
        "num_envs = 6\n",
        "\n",
        "# Custom environment wrapper (optional reward shaping)\n",
        "class CustomBipedalWalker(gym.Wrapper):\n",
        "    def __init__(self, env):\n",
        "        super().__init__(env)\n",
        "\n",
        "# Function to create monitored env\n",
        "def make_env():\n",
        "    env = gym.make(benchmark, max_episode_steps=max_stepov_na_epizodu)\n",
        "    env = CustomBipedalWalker(env)\n",
        "    env = Monitor(env)  # Required for episode reward tracking\n",
        "    return env\n",
        "\n",
        "# Vectorized environments with monitoring\n",
        "vec_env = SubprocVecEnv([make_env for _ in range(num_envs)])\n",
        "vec_env = VecMonitor(vec_env)\n",
        "\n",
        "# Action noise for TD3\n",
        "action_noise = NormalActionNoise(\n",
        "    mean=np.zeros(vec_env.action_space.shape),\n",
        "    sigma=0.1 * np.ones(vec_env.action_space.shape)\n",
        ")\n",
        "\n",
        "# Custom callback for logging average reward\n",
        "class AvgRewardCallback(BaseCallback):\n",
        "    def __init__(self, verbose=0):\n",
        "        super().__init__(verbose)\n",
        "        self.episode_rewards = []\n",
        "\n",
        "    def _on_step(self) -> bool:\n",
        "        if \"infos\" in self.locals:\n",
        "            for info in self.locals[\"infos\"]:\n",
        "                if \"episode\" in info:\n",
        "                    reward = info[\"episode\"][\"r\"]\n",
        "                    self.episode_rewards.append(reward)\n",
        "                    if len(self.episode_rewards) >= 100:\n",
        "                        avg_reward = sum(self.episode_rewards[-100:]) / 100\n",
        "                        self.logger.record(\"custom/avg_reward_100ep\", avg_reward)\n",
        "        return True\n",
        "\n",
        "# Eval environment\n",
        "eval_env = Monitor(gym.make(benchmark, max_episode_steps=max_stepov_na_epizodu))\n",
        "\n",
        "def make_eval_env():\n",
        "    env = gym.make(benchmark, max_episode_steps=max_stepov_na_epizodu)\n",
        "    env = CustomBipedalWalker(env)\n",
        "    env = Monitor(env)\n",
        "    return env\n",
        "\n",
        "eval_env = DummyVecEnv([make_eval_env])\n",
        "eval_env = VecMonitor(eval_env)\n",
        "\n",
        "\n",
        "# Eval callback\n",
        "eval_callback = EvalCallback(\n",
        "    eval_env,\n",
        "    best_model_save_path=\"./models/\",\n",
        "    log_path=\"./log/\",\n",
        "    eval_freq=5000,\n",
        "    deterministic=True,\n",
        "    render=False\n",
        ")\n",
        "\n"
      ]
    },
    {
      "cell_type": "code",
      "execution_count": null,
      "metadata": {},
      "outputs": [],
      "source": [
        "# Define model\n",
        "model = model_(\n",
        "    'MlpPolicy',\n",
        "    vec_env,\n",
        "    verbose=1,\n",
        "    device=\"cuda\",\n",
        "    action_noise=action_noise,\n",
        "    tensorboard_log=\"./log/\" + model_.__name__ + \"_\" + benchmark,\n",
        "    batch_size=256,\n",
        "    learning_rate=0.0003,\n",
        "    buffer_size = 1_000_000,\n",
        "    gamma=0.99,\n",
        "    learning_starts=10000,\n",
        "    policy_delay=2,\n",
        "    target_policy_noise=0.2,\n",
        "    target_noise_clip=0.5,\n",
        ")"
      ]
    },
    {
      "cell_type": "code",
      "execution_count": null,
      "metadata": {},
      "outputs": [],
      "source": [
        "# Train with callbacks\n",
        "model.learn(\n",
        "    total_timesteps=2_000_000,\n",
        "    callback=[eval_callback, AvgRewardCallback()],\n",
        "    progress_bar=True,\n",
        ")"
      ]
    },
    {
      "cell_type": "code",
      "execution_count": null,
      "metadata": {},
      "outputs": [],
      "source": [
        "model.save(model_.__name__ + \"_\" + benchmark)"
      ]
    },
    {
      "cell_type": "code",
      "execution_count": null,
      "metadata": {
        "colab": {
          "background_save": true
        },
        "id": "MNEXNxnzWCyf",
        "outputId": "a9e4dd9c-0bf8-472b-ec07-7b400119bf14"
      },
      "outputs": [],
      "source": [
        "model = model_.load(model_.__name__ + \"_\" + benchmark) # Načítanie modelu\n",
        "env = gym.make(benchmark, render_mode=\"human\", max_episode_steps=max_stepov_na_epizodu)\n",
        "\n",
        "\n",
        "# Spustenie evaluacie\n",
        "mean_reward, std_reward = evaluate_policy(model, env, n_eval_episodes=10, deterministic=True)\n",
        "print(mean_reward, std_reward)\n",
        "env.close()"
      ]
    },
    {
      "cell_type": "code",
      "execution_count": null,
      "metadata": {},
      "outputs": [
        {
          "name": "stdout",
          "output_type": "stream",
          "text": [
            "Logging to ./log/TD3_BipedalWalker-v3\\TD3_6\n"
          ]
        },
        {
          "data": {
            "application/vnd.jupyter.widget-view+json": {
              "model_id": "abc69edc2014467390aacd770fa6935f",
              "version_major": 2,
              "version_minor": 0
            },
            "text/plain": [
              "Output()"
            ]
          },
          "metadata": {},
          "output_type": "display_data"
        },
        {
          "name": "stdout",
          "output_type": "stream",
          "text": [
            "---------------------------------\n",
            "| rollout/           |          |\n",
            "|    ep_len_mean     | 70.2     |\n",
            "|    ep_rew_mean     | -112     |\n",
            "| time/              |          |\n",
            "|    episodes        | 4        |\n",
            "|    fps             | 2485     |\n",
            "|    time_elapsed    | 0        |\n",
            "|    total_timesteps | 480      |\n",
            "---------------------------------\n"
          ]
        },
        {
          "name": "stdout",
          "output_type": "stream",
          "text": [
            "---------------------------------\n",
            "| rollout/           |          |\n",
            "|    ep_len_mean     | 69.4     |\n",
            "|    ep_rew_mean     | -109     |\n",
            "| time/              |          |\n",
            "|    episodes        | 8        |\n",
            "|    fps             | 3033     |\n",
            "|    time_elapsed    | 0        |\n",
            "|    total_timesteps | 1206     |\n",
            "---------------------------------\n"
          ]
        },
        {
          "name": "stdout",
          "output_type": "stream",
          "text": [
            "---------------------------------\n",
            "| rollout/           |          |\n",
            "|    ep_len_mean     | 76.7     |\n",
            "|    ep_rew_mean     | -112     |\n",
            "| time/              |          |\n",
            "|    episodes        | 12       |\n",
            "|    fps             | 3224     |\n",
            "|    time_elapsed    | 0        |\n",
            "|    total_timesteps | 1734     |\n",
            "---------------------------------\n"
          ]
        },
        {
          "name": "stdout",
          "output_type": "stream",
          "text": [
            "---------------------------------\n",
            "| rollout/           |          |\n",
            "|    ep_len_mean     | 186      |\n",
            "|    ep_rew_mean     | -105     |\n",
            "| time/              |          |\n",
            "|    episodes        | 16       |\n",
            "|    fps             | 4045     |\n",
            "|    time_elapsed    | 1        |\n",
            "|    total_timesteps | 6000     |\n",
            "---------------------------------\n"
          ]
        },
        {
          "name": "stdout",
          "output_type": "stream",
          "text": [
            "---------------------------------\n",
            "| rollout/           |          |\n",
            "|    ep_len_mean     | 216      |\n",
            "|    ep_rew_mean     | -103     |\n",
            "| time/              |          |\n",
            "|    episodes        | 20       |\n",
            "|    fps             | 4053     |\n",
            "|    time_elapsed    | 1        |\n",
            "|    total_timesteps | 6540     |\n",
            "---------------------------------\n"
          ]
        },
        {
          "name": "stdout",
          "output_type": "stream",
          "text": [
            "---------------------------------\n",
            "| rollout/           |          |\n",
            "|    ep_len_mean     | 231      |\n",
            "|    ep_rew_mean     | -101     |\n",
            "| time/              |          |\n",
            "|    episodes        | 24       |\n",
            "|    fps             | 4095     |\n",
            "|    time_elapsed    | 1        |\n",
            "|    total_timesteps | 7626     |\n",
            "---------------------------------\n"
          ]
        },
        {
          "name": "stdout",
          "output_type": "stream",
          "text": [
            "---------------------------------\n",
            "| rollout/           |          |\n",
            "|    ep_len_mean     | 275      |\n",
            "|    ep_rew_mean     | -98.5    |\n",
            "| time/              |          |\n",
            "|    episodes        | 28       |\n",
            "|    fps             | 4164     |\n",
            "|    time_elapsed    | 2        |\n",
            "|    total_timesteps | 9078     |\n",
            "---------------------------------\n"
          ]
        },
        {
          "name": "stdout",
          "output_type": "stream",
          "text": [
            "---------------------------------\n",
            "| rollout/           |          |\n",
            "|    ep_len_mean     | 256      |\n",
            "|    ep_rew_mean     | -99.2    |\n",
            "| time/              |          |\n",
            "|    episodes        | 32       |\n",
            "|    fps             | 2434     |\n",
            "|    time_elapsed    | 4        |\n",
            "|    total_timesteps | 11226    |\n",
            "| train/             |          |\n",
            "|    actor_loss      | -4.66    |\n",
            "|    critic_loss     | 6.9      |\n",
            "|    learning_rate   | 0.0003   |\n",
            "|    n_updates       | 331872   |\n",
            "---------------------------------\n"
          ]
        },
        {
          "name": "stdout",
          "output_type": "stream",
          "text": [
            "---------------------------------\n",
            "| rollout/           |          |\n",
            "|    ep_len_mean     | 299      |\n",
            "|    ep_rew_mean     | -98.1    |\n",
            "| time/              |          |\n",
            "|    episodes        | 36       |\n",
            "|    fps             | 2122     |\n",
            "|    time_elapsed    | 5        |\n",
            "|    total_timesteps | 11820    |\n",
            "| train/             |          |\n",
            "|    actor_loss      | -3.81    |\n",
            "|    critic_loss     | 10.6     |\n",
            "|    learning_rate   | 0.0003   |\n",
            "|    n_updates       | 331971   |\n",
            "---------------------------------\n"
          ]
        },
        {
          "name": "stdout",
          "output_type": "stream",
          "text": [
            "---------------------------------\n",
            "| rollout/           |          |\n",
            "|    ep_len_mean     | 296      |\n",
            "|    ep_rew_mean     | -95.9    |\n",
            "| time/              |          |\n",
            "|    episodes        | 40       |\n",
            "|    fps             | 1806     |\n",
            "|    time_elapsed    | 6        |\n",
            "|    total_timesteps | 12642    |\n",
            "| train/             |          |\n",
            "|    actor_loss      | -5.61    |\n",
            "|    critic_loss     | 3.44     |\n",
            "|    learning_rate   | 0.0003   |\n",
            "|    n_updates       | 332108   |\n",
            "---------------------------------\n"
          ]
        },
        {
          "name": "stdout",
          "output_type": "stream",
          "text": [
            "---------------------------------\n",
            "| rollout/           |          |\n",
            "|    ep_len_mean     | 294      |\n",
            "|    ep_rew_mean     | -92.3    |\n",
            "| time/              |          |\n",
            "|    episodes        | 44       |\n",
            "|    fps             | 1391     |\n",
            "|    time_elapsed    | 10       |\n",
            "|    total_timesteps | 14598    |\n",
            "| train/             |          |\n",
            "|    actor_loss      | -7.46    |\n",
            "|    critic_loss     | 5.17     |\n",
            "|    learning_rate   | 0.0003   |\n",
            "|    n_updates       | 332434   |\n",
            "---------------------------------\n"
          ]
        },
        {
          "name": "stdout",
          "output_type": "stream",
          "text": [
            "---------------------------------\n",
            "| rollout/           |          |\n",
            "|    ep_len_mean     | 310      |\n",
            "|    ep_rew_mean     | -87.1    |\n",
            "| time/              |          |\n",
            "|    episodes        | 48       |\n",
            "|    fps             | 1275     |\n",
            "|    time_elapsed    | 12       |\n",
            "|    total_timesteps | 15618    |\n",
            "| train/             |          |\n",
            "|    actor_loss      | -3.44    |\n",
            "|    critic_loss     | 3.23     |\n",
            "|    learning_rate   | 0.0003   |\n",
            "|    n_updates       | 332604   |\n",
            "---------------------------------\n"
          ]
        },
        {
          "name": "stdout",
          "output_type": "stream",
          "text": [
            "---------------------------------\n",
            "| rollout/           |          |\n",
            "|    ep_len_mean     | 307      |\n",
            "|    ep_rew_mean     | -84.8    |\n",
            "| time/              |          |\n",
            "|    episodes        | 52       |\n",
            "|    fps             | 1193     |\n",
            "|    time_elapsed    | 13       |\n",
            "|    total_timesteps | 16536    |\n",
            "| train/             |          |\n",
            "|    actor_loss      | -6.63    |\n",
            "|    critic_loss     | 7.92     |\n",
            "|    learning_rate   | 0.0003   |\n",
            "|    n_updates       | 332757   |\n",
            "---------------------------------\n"
          ]
        },
        {
          "name": "stdout",
          "output_type": "stream",
          "text": [
            "---------------------------------\n",
            "| rollout/           |          |\n",
            "|    ep_len_mean     | 301      |\n",
            "|    ep_rew_mean     | -84      |\n",
            "| time/              |          |\n",
            "|    episodes        | 56       |\n",
            "|    fps             | 1121     |\n",
            "|    time_elapsed    | 15       |\n",
            "|    total_timesteps | 17670    |\n",
            "| train/             |          |\n",
            "|    actor_loss      | -8.62    |\n",
            "|    critic_loss     | 5.54     |\n",
            "|    learning_rate   | 0.0003   |\n",
            "|    n_updates       | 332946   |\n",
            "---------------------------------\n"
          ]
        },
        {
          "name": "stdout",
          "output_type": "stream",
          "text": [
            "---------------------------------\n",
            "| rollout/           |          |\n",
            "|    ep_len_mean     | 297      |\n",
            "|    ep_rew_mean     | -82.3    |\n",
            "| time/              |          |\n",
            "|    episodes        | 60       |\n",
            "|    fps             | 1039     |\n",
            "|    time_elapsed    | 18       |\n",
            "|    total_timesteps | 19356    |\n",
            "| train/             |          |\n",
            "|    actor_loss      | -8.41    |\n",
            "|    critic_loss     | 4.47     |\n",
            "|    learning_rate   | 0.0003   |\n",
            "|    n_updates       | 333227   |\n",
            "---------------------------------\n"
          ]
        },
        {
          "name": "stdout",
          "output_type": "stream",
          "text": [
            "---------------------------------\n",
            "| rollout/           |          |\n",
            "|    ep_len_mean     | 301      |\n",
            "|    ep_rew_mean     | -82.2    |\n",
            "| time/              |          |\n",
            "|    episodes        | 64       |\n",
            "|    fps             | 977      |\n",
            "|    time_elapsed    | 21       |\n",
            "|    total_timesteps | 21054    |\n",
            "| train/             |          |\n",
            "|    actor_loss      | -6.3     |\n",
            "|    critic_loss     | 6.63     |\n",
            "|    learning_rate   | 0.0003   |\n",
            "|    n_updates       | 333510   |\n",
            "---------------------------------\n"
          ]
        },
        {
          "name": "stdout",
          "output_type": "stream",
          "text": [
            "---------------------------------\n",
            "| rollout/           |          |\n",
            "|    ep_len_mean     | 301      |\n",
            "|    ep_rew_mean     | -81.2    |\n",
            "| time/              |          |\n",
            "|    episodes        | 68       |\n",
            "|    fps             | 952      |\n",
            "|    time_elapsed    | 23       |\n",
            "|    total_timesteps | 21930    |\n",
            "| train/             |          |\n",
            "|    actor_loss      | -6.55    |\n",
            "|    critic_loss     | 4.96     |\n",
            "|    learning_rate   | 0.0003   |\n",
            "|    n_updates       | 333656   |\n",
            "---------------------------------\n"
          ]
        },
        {
          "name": "stdout",
          "output_type": "stream",
          "text": [
            "---------------------------------\n",
            "| rollout/           |          |\n",
            "|    ep_len_mean     | 310      |\n",
            "|    ep_rew_mean     | -80.7    |\n",
            "| time/              |          |\n",
            "|    episodes        | 72       |\n",
            "|    fps             | 929      |\n",
            "|    time_elapsed    | 24       |\n",
            "|    total_timesteps | 22872    |\n",
            "| train/             |          |\n",
            "|    actor_loss      | -8.32    |\n",
            "|    critic_loss     | 8.36     |\n",
            "|    learning_rate   | 0.0003   |\n",
            "|    n_updates       | 333813   |\n",
            "---------------------------------\n"
          ]
        },
        {
          "name": "stdout",
          "output_type": "stream",
          "text": [
            "---------------------------------\n",
            "| rollout/           |          |\n",
            "|    ep_len_mean     | 303      |\n",
            "|    ep_rew_mean     | -80.7    |\n",
            "| time/              |          |\n",
            "|    episodes        | 76       |\n",
            "|    fps             | 914      |\n",
            "|    time_elapsed    | 25       |\n",
            "|    total_timesteps | 23466    |\n",
            "| train/             |          |\n",
            "|    actor_loss      | -9.14    |\n",
            "|    critic_loss     | 8.11     |\n",
            "|    learning_rate   | 0.0003   |\n",
            "|    n_updates       | 333912   |\n",
            "---------------------------------\n"
          ]
        },
        {
          "name": "stdout",
          "output_type": "stream",
          "text": [
            "---------------------------------\n",
            "| rollout/           |          |\n",
            "|    ep_len_mean     | 299      |\n",
            "|    ep_rew_mean     | -80.6    |\n",
            "| time/              |          |\n",
            "|    episodes        | 80       |\n",
            "|    fps             | 885      |\n",
            "|    time_elapsed    | 27       |\n",
            "|    total_timesteps | 24792    |\n",
            "| train/             |          |\n",
            "|    actor_loss      | -6.07    |\n",
            "|    critic_loss     | 12.1     |\n",
            "|    learning_rate   | 0.0003   |\n",
            "|    n_updates       | 334133   |\n",
            "---------------------------------\n"
          ]
        },
        {
          "name": "stdout",
          "output_type": "stream",
          "text": [
            "---------------------------------\n",
            "| rollout/           |          |\n",
            "|    ep_len_mean     | 295      |\n",
            "|    ep_rew_mean     | -80.2    |\n",
            "| time/              |          |\n",
            "|    episodes        | 84       |\n",
            "|    fps             | 862      |\n",
            "|    time_elapsed    | 30       |\n",
            "|    total_timesteps | 26154    |\n",
            "| train/             |          |\n",
            "|    actor_loss      | -8.37    |\n",
            "|    critic_loss     | 4.99     |\n",
            "|    learning_rate   | 0.0003   |\n",
            "|    n_updates       | 334360   |\n",
            "---------------------------------\n"
          ]
        },
        {
          "name": "stdout",
          "output_type": "stream",
          "text": [
            "---------------------------------\n",
            "| rollout/           |          |\n",
            "|    ep_len_mean     | 302      |\n",
            "|    ep_rew_mean     | -79.4    |\n",
            "| time/              |          |\n",
            "|    episodes        | 88       |\n",
            "|    fps             | 848      |\n",
            "|    time_elapsed    | 31       |\n",
            "|    total_timesteps | 27162    |\n",
            "| train/             |          |\n",
            "|    actor_loss      | -4.93    |\n",
            "|    critic_loss     | 12.1     |\n",
            "|    learning_rate   | 0.0003   |\n",
            "|    n_updates       | 334528   |\n",
            "---------------------------------\n"
          ]
        },
        {
          "name": "stdout",
          "output_type": "stream",
          "text": [
            "---------------------------------\n",
            "| rollout/           |          |\n",
            "|    ep_len_mean     | 296      |\n",
            "|    ep_rew_mean     | -79.6    |\n",
            "| time/              |          |\n",
            "|    episodes        | 92       |\n",
            "|    fps             | 841      |\n",
            "|    time_elapsed    | 32       |\n",
            "|    total_timesteps | 27564    |\n",
            "| train/             |          |\n",
            "|    actor_loss      | -9.22    |\n",
            "|    critic_loss     | 12.5     |\n",
            "|    learning_rate   | 0.0003   |\n",
            "|    n_updates       | 334595   |\n",
            "---------------------------------\n"
          ]
        },
        {
          "name": "stdout",
          "output_type": "stream",
          "text": [
            "---------------------------------\n",
            "| rollout/           |          |\n",
            "|    ep_len_mean     | 296      |\n",
            "|    ep_rew_mean     | -79.5    |\n",
            "| time/              |          |\n",
            "|    episodes        | 96       |\n",
            "|    fps             | 813      |\n",
            "|    time_elapsed    | 36       |\n",
            "|    total_timesteps | 29640    |\n",
            "| train/             |          |\n",
            "|    actor_loss      | -6.67    |\n",
            "|    critic_loss     | 9.86     |\n",
            "|    learning_rate   | 0.0003   |\n",
            "|    n_updates       | 334941   |\n",
            "---------------------------------\n"
          ]
        },
        {
          "data": {
            "text/html": [
              "<pre style=\"white-space:pre;overflow-x:auto;line-height:normal;font-family:Menlo,'DejaVu Sans Mono',consolas,'Courier New',monospace\">Eval num_timesteps=30000, episode_reward=-76.25 +/- 34.40\n",
              "</pre>\n"
            ],
            "text/plain": [
              "Eval num_timesteps=30000, episode_reward=-76.25 +/- 34.40\n"
            ]
          },
          "metadata": {},
          "output_type": "display_data"
        },
        {
          "data": {
            "text/html": [
              "<pre style=\"white-space:pre;overflow-x:auto;line-height:normal;font-family:Menlo,'DejaVu Sans Mono',consolas,'Courier New',monospace\">Episode length: 535.00 +/- 266.98\n",
              "</pre>\n"
            ],
            "text/plain": [
              "Episode length: 535.00 +/- 266.98\n"
            ]
          },
          "metadata": {},
          "output_type": "display_data"
        },
        {
          "name": "stdout",
          "output_type": "stream",
          "text": [
            "---------------------------------\n",
            "| eval/              |          |\n",
            "|    mean_ep_length  | 535      |\n",
            "|    mean_reward     | -76.3    |\n",
            "| time/              |          |\n",
            "|    total_timesteps | 30000    |\n",
            "| train/             |          |\n",
            "|    actor_loss      | -9.75    |\n",
            "|    critic_loss     | 8.9      |\n",
            "|    learning_rate   | 0.0003   |\n",
            "|    n_updates       | 335001   |\n",
            "---------------------------------\n"
          ]
        },
        {
          "data": {
            "text/html": [
              "<pre style=\"white-space:pre;overflow-x:auto;line-height:normal;font-family:Menlo,'DejaVu Sans Mono',consolas,'Courier New',monospace\">New best mean reward!\n",
              "</pre>\n"
            ],
            "text/plain": [
              "New best mean reward!\n"
            ]
          },
          "metadata": {},
          "output_type": "display_data"
        },
        {
          "name": "stdout",
          "output_type": "stream",
          "text": [
            "-----------------------------------\n",
            "| custom/             |           |\n",
            "|    avg_reward_100ep | -79.40436 |\n",
            "| rollout/            |           |\n",
            "|    ep_len_mean      | 299       |\n",
            "|    ep_rew_mean      | -79.4     |\n",
            "| time/               |           |\n",
            "|    episodes         | 100       |\n",
            "|    fps              | 751       |\n",
            "|    time_elapsed     | 41        |\n",
            "|    total_timesteps  | 31062     |\n",
            "| train/              |           |\n",
            "|    actor_loss       | -7.1      |\n",
            "|    critic_loss      | 10.2      |\n",
            "|    learning_rate    | 0.0003    |\n",
            "|    n_updates        | 335178    |\n",
            "-----------------------------------\n"
          ]
        },
        {
          "name": "stdout",
          "output_type": "stream",
          "text": [
            "-----------------------------------\n",
            "| custom/             |           |\n",
            "|    avg_reward_100ep | -77.81638 |\n",
            "| rollout/            |           |\n",
            "|    ep_len_mean      | 313       |\n",
            "|    ep_rew_mean      | -77.8     |\n",
            "| time/               |           |\n",
            "|    episodes         | 104       |\n",
            "|    fps              | 740       |\n",
            "|    time_elapsed     | 44        |\n",
            "|    total_timesteps  | 33120     |\n",
            "| train/              |           |\n",
            "|    actor_loss       | -6.23     |\n",
            "|    critic_loss      | 24.7      |\n",
            "|    learning_rate    | 0.0003    |\n",
            "|    n_updates        | 335521    |\n",
            "-----------------------------------\n"
          ]
        },
        {
          "name": "stdout",
          "output_type": "stream",
          "text": [
            "-----------------------------------\n",
            "| custom/             |           |\n",
            "|    avg_reward_100ep | -77.20667 |\n",
            "| rollout/            |           |\n",
            "|    ep_len_mean      | 333       |\n",
            "|    ep_rew_mean      | -77.2     |\n",
            "| time/               |           |\n",
            "|    episodes         | 108       |\n",
            "|    fps              | 727       |\n",
            "|    time_elapsed     | 49        |\n",
            "|    total_timesteps  | 35670     |\n",
            "| train/              |           |\n",
            "|    actor_loss       | -5.07     |\n",
            "|    critic_loss      | 13.4      |\n",
            "|    learning_rate    | 0.0003    |\n",
            "|    n_updates        | 335946    |\n",
            "-----------------------------------\n"
          ]
        },
        {
          "name": "stdout",
          "output_type": "stream",
          "text": [
            "-----------------------------------\n",
            "| custom/             |           |\n",
            "|    avg_reward_100ep | -74.57843 |\n",
            "| rollout/            |           |\n",
            "|    ep_len_mean      | 350       |\n",
            "|    ep_rew_mean      | -74.6     |\n",
            "| time/               |           |\n",
            "|    episodes         | 112       |\n",
            "|    fps              | 720       |\n",
            "|    time_elapsed     | 51        |\n",
            "|    total_timesteps  | 36780     |\n",
            "| train/              |           |\n",
            "|    actor_loss       | -8.73     |\n",
            "|    critic_loss      | 8.26      |\n",
            "|    learning_rate    | 0.0003    |\n",
            "|    n_updates        | 336131    |\n",
            "-----------------------------------\n"
          ]
        },
        {
          "name": "stdout",
          "output_type": "stream",
          "text": [
            "-----------------------------------\n",
            "| custom/             |           |\n",
            "|    avg_reward_100ep | -73.93396 |\n",
            "| rollout/            |           |\n",
            "|    ep_len_mean      | 353       |\n",
            "|    ep_rew_mean      | -73.9     |\n",
            "| time/               |           |\n",
            "|    episodes         | 116       |\n",
            "|    fps              | 709       |\n",
            "|    time_elapsed     | 55        |\n",
            "|    total_timesteps  | 39432     |\n",
            "| train/              |           |\n",
            "|    actor_loss       | -7.41     |\n",
            "|    critic_loss      | 5.64      |\n",
            "|    learning_rate    | 0.0003    |\n",
            "|    n_updates        | 336573    |\n",
            "-----------------------------------\n"
          ]
        },
        {
          "name": "stdout",
          "output_type": "stream",
          "text": [
            "------------------------------------\n",
            "| custom/             |            |\n",
            "|    avg_reward_100ep | -73.329025 |\n",
            "| rollout/            |            |\n",
            "|    ep_len_mean      | 342        |\n",
            "|    ep_rew_mean      | -73.3      |\n",
            "| time/               |            |\n",
            "|    episodes         | 120        |\n",
            "|    fps              | 702        |\n",
            "|    time_elapsed     | 58         |\n",
            "|    total_timesteps  | 40980      |\n",
            "| train/              |            |\n",
            "|    actor_loss       | -4.39      |\n",
            "|    critic_loss      | 11.4       |\n",
            "|    learning_rate    | 0.0003     |\n",
            "|    n_updates        | 336831     |\n",
            "------------------------------------\n"
          ]
        },
        {
          "name": "stdout",
          "output_type": "stream",
          "text": [
            "----------------------------------\n",
            "| custom/             |          |\n",
            "|    avg_reward_100ep | -72.4971 |\n",
            "| rollout/            |          |\n",
            "|    ep_len_mean      | 355      |\n",
            "|    ep_rew_mean      | -72.5    |\n",
            "| time/               |          |\n",
            "|    episodes         | 124      |\n",
            "|    fps              | 695      |\n",
            "|    time_elapsed     | 61       |\n",
            "|    total_timesteps  | 42768    |\n",
            "| train/              |          |\n",
            "|    actor_loss       | -2.79    |\n",
            "|    critic_loss      | 6.68     |\n",
            "|    learning_rate    | 0.0003   |\n",
            "|    n_updates        | 337129   |\n",
            "----------------------------------\n"
          ]
        },
        {
          "name": "stdout",
          "output_type": "stream",
          "text": [
            "-----------------------------------\n",
            "| custom/             |           |\n",
            "|    avg_reward_100ep | -72.39083 |\n",
            "| rollout/            |           |\n",
            "|    ep_len_mean      | 349       |\n",
            "|    ep_rew_mean      | -72.4     |\n",
            "| time/               |           |\n",
            "|    episodes         | 128       |\n",
            "|    fps              | 689       |\n",
            "|    time_elapsed     | 64        |\n",
            "|    total_timesteps  | 44622     |\n",
            "| train/              |           |\n",
            "|    actor_loss       | -6.31     |\n",
            "|    critic_loss      | 9.91      |\n",
            "|    learning_rate    | 0.0003    |\n",
            "|    n_updates        | 337438    |\n",
            "-----------------------------------\n"
          ]
        },
        {
          "name": "stdout",
          "output_type": "stream",
          "text": [
            "-----------------------------------\n",
            "| custom/             |           |\n",
            "|    avg_reward_100ep | -70.55799 |\n",
            "| rollout/            |           |\n",
            "|    ep_len_mean      | 364       |\n",
            "|    ep_rew_mean      | -70.6     |\n",
            "| time/               |           |\n",
            "|    episodes         | 132       |\n",
            "|    fps              | 683       |\n",
            "|    time_elapsed     | 69        |\n",
            "|    total_timesteps  | 47346     |\n",
            "| train/              |           |\n",
            "|    actor_loss       | -6.54     |\n",
            "|    critic_loss      | 4.99      |\n",
            "|    learning_rate    | 0.0003    |\n",
            "|    n_updates        | 337892    |\n",
            "-----------------------------------\n"
          ]
        },
        {
          "name": "stdout",
          "output_type": "stream",
          "text": [
            "-----------------------------------\n",
            "| custom/             |           |\n",
            "|    avg_reward_100ep | -69.27291 |\n",
            "| rollout/            |           |\n",
            "|    ep_len_mean      | 363       |\n",
            "|    ep_rew_mean      | -69.3     |\n",
            "| time/               |           |\n",
            "|    episodes         | 136       |\n",
            "|    fps              | 678       |\n",
            "|    time_elapsed     | 72        |\n",
            "|    total_timesteps  | 49146     |\n",
            "| train/              |           |\n",
            "|    actor_loss       | -5.11     |\n",
            "|    critic_loss      | 22.5      |\n",
            "|    learning_rate    | 0.0003    |\n",
            "|    n_updates        | 338192    |\n",
            "-----------------------------------\n"
          ]
        },
        {
          "name": "stdout",
          "output_type": "stream",
          "text": [
            "-----------------------------------\n",
            "| custom/             |           |\n",
            "|    avg_reward_100ep | -67.81259 |\n",
            "| rollout/            |           |\n",
            "|    ep_len_mean      | 377       |\n",
            "|    ep_rew_mean      | -67.8     |\n",
            "| time/               |           |\n",
            "|    episodes         | 140       |\n",
            "|    fps              | 674       |\n",
            "|    time_elapsed     | 76        |\n",
            "|    total_timesteps  | 51486     |\n",
            "| train/              |           |\n",
            "|    actor_loss       | -8.07     |\n",
            "|    critic_loss      | 7.81      |\n",
            "|    learning_rate    | 0.0003    |\n",
            "|    n_updates        | 338582    |\n",
            "-----------------------------------\n"
          ]
        },
        {
          "name": "stdout",
          "output_type": "stream",
          "text": [
            "-----------------------------------\n",
            "| custom/             |           |\n",
            "|    avg_reward_100ep | -68.48883 |\n",
            "| rollout/            |           |\n",
            "|    ep_len_mean      | 381       |\n",
            "|    ep_rew_mean      | -68.5     |\n",
            "| time/               |           |\n",
            "|    episodes         | 144       |\n",
            "|    fps              | 671       |\n",
            "|    time_elapsed     | 79        |\n",
            "|    total_timesteps  | 53490     |\n",
            "| train/              |           |\n",
            "|    actor_loss       | -8.45     |\n",
            "|    critic_loss      | 6.03      |\n",
            "|    learning_rate    | 0.0003    |\n",
            "|    n_updates        | 338916    |\n",
            "-----------------------------------\n"
          ]
        },
        {
          "name": "stdout",
          "output_type": "stream",
          "text": [
            "-----------------------------------\n",
            "| custom/             |           |\n",
            "|    avg_reward_100ep | -68.99107 |\n",
            "| rollout/            |           |\n",
            "|    ep_len_mean      | 394       |\n",
            "|    ep_rew_mean      | -69       |\n",
            "| time/               |           |\n",
            "|    episodes         | 148       |\n",
            "|    fps              | 667       |\n",
            "|    time_elapsed     | 84        |\n",
            "|    total_timesteps  | 56256     |\n",
            "| train/              |           |\n",
            "|    actor_loss       | -2.78     |\n",
            "|    critic_loss      | 14.3      |\n",
            "|    learning_rate    | 0.0003    |\n",
            "|    n_updates        | 339377    |\n",
            "-----------------------------------\n"
          ]
        },
        {
          "name": "stdout",
          "output_type": "stream",
          "text": [
            "-----------------------------------\n",
            "| custom/             |           |\n",
            "|    avg_reward_100ep | -69.92446 |\n",
            "| rollout/            |           |\n",
            "|    ep_len_mean      | 403       |\n",
            "|    ep_rew_mean      | -69.9     |\n",
            "| time/               |           |\n",
            "|    episodes         | 152       |\n",
            "|    fps              | 664       |\n",
            "|    time_elapsed     | 87        |\n",
            "|    total_timesteps  | 58284     |\n",
            "| train/              |           |\n",
            "|    actor_loss       | -6.76     |\n",
            "|    critic_loss      | 7.51      |\n",
            "|    learning_rate    | 0.0003    |\n",
            "|    n_updates        | 339715    |\n",
            "-----------------------------------\n"
          ]
        },
        {
          "data": {
            "text/html": [
              "<pre style=\"white-space:pre;overflow-x:auto;line-height:normal;font-family:Menlo,'DejaVu Sans Mono',consolas,'Courier New',monospace\">Eval num_timesteps=60000, episode_reward=-68.97 +/- 33.64\n",
              "</pre>\n"
            ],
            "text/plain": [
              "Eval num_timesteps=60000, episode_reward=-68.97 +/- 33.64\n"
            ]
          },
          "metadata": {},
          "output_type": "display_data"
        },
        {
          "data": {
            "text/html": [
              "<pre style=\"white-space:pre;overflow-x:auto;line-height:normal;font-family:Menlo,'DejaVu Sans Mono',consolas,'Courier New',monospace\">Episode length: 445.40 +/- 313.51\n",
              "</pre>\n"
            ],
            "text/plain": [
              "Episode length: 445.40 +/- 313.51\n"
            ]
          },
          "metadata": {},
          "output_type": "display_data"
        },
        {
          "name": "stdout",
          "output_type": "stream",
          "text": [
            "-----------------------------------\n",
            "| custom/             |           |\n",
            "|    avg_reward_100ep | -69.39248 |\n",
            "| eval/               |           |\n",
            "|    mean_ep_length   | 445       |\n",
            "|    mean_reward      | -69       |\n",
            "| time/               |           |\n",
            "|    total_timesteps  | 60000     |\n",
            "| train/              |           |\n",
            "|    actor_loss       | -7.13     |\n",
            "|    critic_loss      | 23.8      |\n",
            "|    learning_rate    | 0.0003    |\n",
            "|    n_updates        | 340001    |\n",
            "-----------------------------------\n"
          ]
        },
        {
          "data": {
            "text/html": [
              "<pre style=\"white-space:pre;overflow-x:auto;line-height:normal;font-family:Menlo,'DejaVu Sans Mono',consolas,'Courier New',monospace\">New best mean reward!\n",
              "</pre>\n"
            ],
            "text/plain": [
              "New best mean reward!\n"
            ]
          },
          "metadata": {},
          "output_type": "display_data"
        },
        {
          "name": "stdout",
          "output_type": "stream",
          "text": [
            "------------------------------------\n",
            "| custom/             |            |\n",
            "|    avg_reward_100ep | -68.893234 |\n",
            "| rollout/            |            |\n",
            "|    ep_len_mean      | 417        |\n",
            "|    ep_rew_mean      | -68.9      |\n",
            "| time/               |            |\n",
            "|    episodes         | 156        |\n",
            "|    fps              | 647        |\n",
            "|    time_elapsed     | 94         |\n",
            "|    total_timesteps  | 61146      |\n",
            "| train/              |            |\n",
            "|    actor_loss       | -5.76      |\n",
            "|    critic_loss      | 7.16       |\n",
            "|    learning_rate    | 0.0003     |\n",
            "|    n_updates        | 340192     |\n",
            "------------------------------------\n"
          ]
        },
        {
          "name": "stdout",
          "output_type": "stream",
          "text": [
            "------------------------------------\n",
            "| custom/             |            |\n",
            "|    avg_reward_100ep | -67.112404 |\n",
            "| rollout/            |            |\n",
            "|    ep_len_mean      | 447        |\n",
            "|    ep_rew_mean      | -67.1      |\n",
            "| time/               |            |\n",
            "|    episodes         | 160        |\n",
            "|    fps              | 644        |\n",
            "|    time_elapsed     | 101        |\n",
            "|    total_timesteps  | 65280      |\n",
            "| train/              |            |\n",
            "|    actor_loss       | -5.24      |\n",
            "|    critic_loss      | 11.3       |\n",
            "|    learning_rate    | 0.0003     |\n",
            "|    n_updates        | 340881     |\n",
            "------------------------------------\n"
          ]
        },
        {
          "name": "stdout",
          "output_type": "stream",
          "text": [
            "------------------------------------\n",
            "| custom/             |            |\n",
            "|    avg_reward_100ep | -64.758286 |\n",
            "| rollout/            |            |\n",
            "|    ep_len_mean      | 468        |\n",
            "|    ep_rew_mean      | -64.8      |\n",
            "| time/               |            |\n",
            "|    episodes         | 164        |\n",
            "|    fps              | 642        |\n",
            "|    time_elapsed     | 106        |\n",
            "|    total_timesteps  | 68484      |\n",
            "| train/              |            |\n",
            "|    actor_loss       | -6.16      |\n",
            "|    critic_loss      | 8.25       |\n",
            "|    learning_rate    | 0.0003     |\n",
            "|    n_updates        | 341415     |\n",
            "------------------------------------\n"
          ]
        },
        {
          "name": "stdout",
          "output_type": "stream",
          "text": [
            "------------------------------------\n",
            "| custom/             |            |\n",
            "|    avg_reward_100ep | -61.541996 |\n",
            "| rollout/            |            |\n",
            "|    ep_len_mean      | 495        |\n",
            "|    ep_rew_mean      | -61.5      |\n",
            "| time/               |            |\n",
            "|    episodes         | 168        |\n",
            "|    fps              | 640        |\n",
            "|    time_elapsed     | 111        |\n",
            "|    total_timesteps  | 71490      |\n",
            "| train/              |            |\n",
            "|    actor_loss       | -5.32      |\n",
            "|    critic_loss      | 9.94       |\n",
            "|    learning_rate    | 0.0003     |\n",
            "|    n_updates        | 341916     |\n",
            "------------------------------------\n"
          ]
        },
        {
          "name": "stdout",
          "output_type": "stream",
          "text": [
            "------------------------------------\n",
            "| custom/             |            |\n",
            "|    avg_reward_100ep | -61.509766 |\n",
            "| rollout/            |            |\n",
            "|    ep_len_mean      | 489        |\n",
            "|    ep_rew_mean      | -61.5      |\n",
            "| time/               |            |\n",
            "|    episodes         | 172        |\n",
            "|    fps              | 639        |\n",
            "|    time_elapsed     | 114        |\n",
            "|    total_timesteps  | 73110      |\n",
            "| train/              |            |\n",
            "|    actor_loss       | -5.22      |\n",
            "|    critic_loss      | 14.4       |\n",
            "|    learning_rate    | 0.0003     |\n",
            "|    n_updates        | 342186     |\n",
            "------------------------------------\n"
          ]
        },
        {
          "name": "stdout",
          "output_type": "stream",
          "text": [
            "-----------------------------------\n",
            "| custom/             |           |\n",
            "|    avg_reward_100ep | -61.38907 |\n",
            "| rollout/            |           |\n",
            "|    ep_len_mean      | 506       |\n",
            "|    ep_rew_mean      | -61.4     |\n",
            "| time/               |           |\n",
            "|    episodes         | 176       |\n",
            "|    fps              | 637       |\n",
            "|    time_elapsed     | 119       |\n",
            "|    total_timesteps  | 76284     |\n",
            "| train/              |           |\n",
            "|    actor_loss       | -6.38     |\n",
            "|    critic_loss      | 10.4      |\n",
            "|    learning_rate    | 0.0003    |\n",
            "|    n_updates        | 342715    |\n",
            "-----------------------------------\n"
          ]
        },
        {
          "name": "stdout",
          "output_type": "stream",
          "text": [
            "-----------------------------------\n",
            "| custom/             |           |\n",
            "|    avg_reward_100ep | -57.71397 |\n",
            "| rollout/            |           |\n",
            "|    ep_len_mean      | 535       |\n",
            "|    ep_rew_mean      | -57.7     |\n",
            "| time/               |           |\n",
            "|    episodes         | 180       |\n",
            "|    fps              | 635       |\n",
            "|    time_elapsed     | 126       |\n",
            "|    total_timesteps  | 80130     |\n",
            "| train/              |           |\n",
            "|    actor_loss       | -4.6      |\n",
            "|    critic_loss      | 9.67      |\n",
            "|    learning_rate    | 0.0003    |\n",
            "|    n_updates        | 343356    |\n",
            "-----------------------------------\n"
          ]
        },
        {
          "name": "stdout",
          "output_type": "stream",
          "text": [
            "------------------------------------\n",
            "| custom/             |            |\n",
            "|    avg_reward_100ep | -56.333588 |\n",
            "| rollout/            |            |\n",
            "|    ep_len_mean      | 558        |\n",
            "|    ep_rew_mean      | -56.3      |\n",
            "| time/               |            |\n",
            "|    episodes         | 184        |\n",
            "|    fps              | 634        |\n",
            "|    time_elapsed     | 131        |\n",
            "|    total_timesteps  | 83280      |\n",
            "| train/              |            |\n",
            "|    actor_loss       | -5.48      |\n",
            "|    critic_loss      | 7.8        |\n",
            "|    learning_rate    | 0.0003     |\n",
            "|    n_updates        | 343881     |\n",
            "------------------------------------\n"
          ]
        },
        {
          "name": "stdout",
          "output_type": "stream",
          "text": [
            "------------------------------------\n",
            "| custom/             |            |\n",
            "|    avg_reward_100ep | -55.917206 |\n",
            "| rollout/            |            |\n",
            "|    ep_len_mean      | 567        |\n",
            "|    ep_rew_mean      | -55.9      |\n",
            "| time/               |            |\n",
            "|    episodes         | 188        |\n",
            "|    fps              | 633        |\n",
            "|    time_elapsed     | 134        |\n",
            "|    total_timesteps  | 84924      |\n",
            "| train/              |            |\n",
            "|    actor_loss       | -6.86      |\n",
            "|    critic_loss      | 10.5       |\n",
            "|    learning_rate    | 0.0003     |\n",
            "|    n_updates        | 344155     |\n",
            "------------------------------------\n"
          ]
        },
        {
          "name": "stdout",
          "output_type": "stream",
          "text": [
            "------------------------------------\n",
            "| custom/             |            |\n",
            "|    avg_reward_100ep | -54.506996 |\n",
            "| rollout/            |            |\n",
            "|    ep_len_mean      | 593        |\n",
            "|    ep_rew_mean      | -54.5      |\n",
            "| time/               |            |\n",
            "|    episodes         | 192        |\n",
            "|    fps              | 629        |\n",
            "|    time_elapsed     | 141        |\n",
            "|    total_timesteps  | 89376      |\n",
            "| train/              |            |\n",
            "|    actor_loss       | -6.18      |\n",
            "|    critic_loss      | 10.1       |\n",
            "|    learning_rate    | 0.0003     |\n",
            "|    n_updates        | 344897     |\n",
            "------------------------------------\n"
          ]
        },
        {
          "data": {
            "text/html": [
              "<pre style=\"white-space:pre;overflow-x:auto;line-height:normal;font-family:Menlo,'DejaVu Sans Mono',consolas,'Courier New',monospace\">Eval num_timesteps=90000, episode_reward=-71.48 +/- 42.79\n",
              "</pre>\n"
            ],
            "text/plain": [
              "Eval num_timesteps=90000, episode_reward=-71.48 +/- 42.79\n"
            ]
          },
          "metadata": {},
          "output_type": "display_data"
        },
        {
          "data": {
            "text/html": [
              "<pre style=\"white-space:pre;overflow-x:auto;line-height:normal;font-family:Menlo,'DejaVu Sans Mono',consolas,'Courier New',monospace\">Episode length: 471.20 +/- 297.47\n",
              "</pre>\n"
            ],
            "text/plain": [
              "Episode length: 471.20 +/- 297.47\n"
            ]
          },
          "metadata": {},
          "output_type": "display_data"
        },
        {
          "name": "stdout",
          "output_type": "stream",
          "text": [
            "---------------------------------\n",
            "| eval/              |          |\n",
            "|    mean_ep_length  | 471      |\n",
            "|    mean_reward     | -71.5    |\n",
            "| time/              |          |\n",
            "|    total_timesteps | 90000    |\n",
            "| train/             |          |\n",
            "|    actor_loss      | -4.49    |\n",
            "|    critic_loss     | 8.27     |\n",
            "|    learning_rate   | 0.0003   |\n",
            "|    n_updates       | 345001   |\n",
            "---------------------------------\n"
          ]
        },
        {
          "name": "stdout",
          "output_type": "stream",
          "text": [
            "------------------------------------\n",
            "| custom/             |            |\n",
            "|    avg_reward_100ep | -52.666172 |\n",
            "| rollout/            |            |\n",
            "|    ep_len_mean      | 614        |\n",
            "|    ep_rew_mean      | -52.7      |\n",
            "| time/               |            |\n",
            "|    episodes         | 196        |\n",
            "|    fps              | 620        |\n",
            "|    time_elapsed     | 147        |\n",
            "|    total_timesteps  | 91242      |\n",
            "| train/              |            |\n",
            "|    actor_loss       | -7.32      |\n",
            "|    critic_loss      | 11.2       |\n",
            "|    learning_rate    | 0.0003     |\n",
            "|    n_updates        | 345208     |\n",
            "------------------------------------\n"
          ]
        },
        {
          "name": "stdout",
          "output_type": "stream",
          "text": [
            "-----------------------------------\n",
            "| custom/             |           |\n",
            "|    avg_reward_100ep | -51.78557 |\n",
            "| rollout/            |           |\n",
            "|    ep_len_mean      | 620       |\n",
            "|    ep_rew_mean      | -51.8     |\n",
            "| time/               |           |\n",
            "|    episodes         | 200       |\n",
            "|    fps              | 619       |\n",
            "|    time_elapsed     | 151       |\n",
            "|    total_timesteps  | 93738     |\n",
            "| train/              |           |\n",
            "|    actor_loss       | -5.31     |\n",
            "|    critic_loss      | 4.71      |\n",
            "|    learning_rate    | 0.0003    |\n",
            "|    n_updates        | 345624    |\n",
            "-----------------------------------\n"
          ]
        },
        {
          "name": "stdout",
          "output_type": "stream",
          "text": [
            "-----------------------------------\n",
            "| custom/             |           |\n",
            "|    avg_reward_100ep | -52.32429 |\n",
            "| rollout/            |           |\n",
            "|    ep_len_mean      | 636       |\n",
            "|    ep_rew_mean      | -52.3     |\n",
            "| time/               |           |\n",
            "|    episodes         | 204       |\n",
            "|    fps              | 618       |\n",
            "|    time_elapsed     | 159       |\n",
            "|    total_timesteps  | 98466     |\n",
            "| train/              |           |\n",
            "|    actor_loss       | -1.6      |\n",
            "|    critic_loss      | 14.6      |\n",
            "|    learning_rate    | 0.0003    |\n",
            "|    n_updates        | 346412    |\n",
            "-----------------------------------\n"
          ]
        },
        {
          "name": "stdout",
          "output_type": "stream",
          "text": [
            "------------------------------------\n",
            "| custom/             |            |\n",
            "|    avg_reward_100ep | -49.182724 |\n",
            "| rollout/            |            |\n",
            "|    ep_len_mean      | 651        |\n",
            "|    ep_rew_mean      | -49.2      |\n",
            "| time/               |            |\n",
            "|    episodes         | 208        |\n",
            "|    fps              | 617        |\n",
            "|    time_elapsed     | 161        |\n",
            "|    total_timesteps  | 99834      |\n",
            "| train/              |            |\n",
            "|    actor_loss       | -5.69      |\n",
            "|    critic_loss      | 3.97       |\n",
            "|    learning_rate    | 0.0003     |\n",
            "|    n_updates        | 346640     |\n",
            "------------------------------------\n"
          ]
        },
        {
          "name": "stdout",
          "output_type": "stream",
          "text": [
            "------------------------------------\n",
            "| custom/             |            |\n",
            "|    avg_reward_100ep | -50.390575 |\n",
            "| rollout/            |            |\n",
            "|    ep_len_mean      | 650        |\n",
            "|    ep_rew_mean      | -50.4      |\n",
            "| time/               |            |\n",
            "|    episodes         | 212        |\n",
            "|    fps              | 617        |\n",
            "|    time_elapsed     | 166        |\n",
            "|    total_timesteps  | 102930     |\n",
            "| train/              |            |\n",
            "|    actor_loss       | -4.13      |\n",
            "|    critic_loss      | 5.89       |\n",
            "|    learning_rate    | 0.0003     |\n",
            "|    n_updates        | 347156     |\n",
            "------------------------------------\n"
          ]
        },
        {
          "name": "stdout",
          "output_type": "stream",
          "text": [
            "----------------------------------\n",
            "| custom/             |          |\n",
            "|    avg_reward_100ep | -50.131  |\n",
            "| rollout/            |          |\n",
            "|    ep_len_mean      | 659      |\n",
            "|    ep_rew_mean      | -50.1    |\n",
            "| time/               |          |\n",
            "|    episodes         | 216      |\n",
            "|    fps              | 616      |\n",
            "|    time_elapsed     | 170      |\n",
            "|    total_timesteps  | 105270   |\n",
            "| train/              |          |\n",
            "|    actor_loss       | -5.8     |\n",
            "|    critic_loss      | 4.44     |\n",
            "|    learning_rate    | 0.0003   |\n",
            "|    n_updates        | 347546   |\n",
            "----------------------------------\n"
          ]
        },
        {
          "name": "stdout",
          "output_type": "stream",
          "text": [
            "------------------------------------\n",
            "| custom/             |            |\n",
            "|    avg_reward_100ep | -48.249424 |\n",
            "| rollout/            |            |\n",
            "|    ep_len_mean      | 680        |\n",
            "|    ep_rew_mean      | -48.2      |\n",
            "| time/               |            |\n",
            "|    episodes         | 220        |\n",
            "|    fps              | 616        |\n",
            "|    time_elapsed     | 176        |\n",
            "|    total_timesteps  | 108930     |\n",
            "| train/              |            |\n",
            "|    actor_loss       | -2.67      |\n",
            "|    critic_loss      | 6.09       |\n",
            "|    learning_rate    | 0.0003     |\n",
            "|    n_updates        | 348156     |\n",
            "------------------------------------\n"
          ]
        },
        {
          "name": "stdout",
          "output_type": "stream",
          "text": [
            "------------------------------------\n",
            "| custom/             |            |\n",
            "|    avg_reward_100ep | -47.089893 |\n",
            "| rollout/            |            |\n",
            "|    ep_len_mean      | 672        |\n",
            "|    ep_rew_mean      | -47.1      |\n",
            "| time/               |            |\n",
            "|    episodes         | 224        |\n",
            "|    fps              | 615        |\n",
            "|    time_elapsed     | 179        |\n",
            "|    total_timesteps  | 110742     |\n",
            "| train/              |            |\n",
            "|    actor_loss       | -3.98      |\n",
            "|    critic_loss      | 10.3       |\n",
            "|    learning_rate    | 0.0003     |\n",
            "|    n_updates        | 348458     |\n",
            "------------------------------------\n"
          ]
        },
        {
          "name": "stdout",
          "output_type": "stream",
          "text": [
            "------------------------------------\n",
            "| custom/             |            |\n",
            "|    avg_reward_100ep | -45.279537 |\n",
            "| rollout/            |            |\n",
            "|    ep_len_mean      | 683        |\n",
            "|    ep_rew_mean      | -45.3      |\n",
            "| time/               |            |\n",
            "|    episodes         | 228        |\n",
            "|    fps              | 614        |\n",
            "|    time_elapsed     | 182        |\n",
            "|    total_timesteps  | 111948     |\n",
            "| train/              |            |\n",
            "|    actor_loss       | -4.79      |\n",
            "|    critic_loss      | 14.1       |\n",
            "|    learning_rate    | 0.0003     |\n",
            "|    n_updates        | 348659     |\n",
            "------------------------------------\n"
          ]
        },
        {
          "name": "stdout",
          "output_type": "stream",
          "text": [
            "------------------------------------\n",
            "| custom/             |            |\n",
            "|    avg_reward_100ep | -45.114902 |\n",
            "| rollout/            |            |\n",
            "|    ep_len_mean      | 685        |\n",
            "|    ep_rew_mean      | -45.1      |\n",
            "| time/               |            |\n",
            "|    episodes         | 232        |\n",
            "|    fps              | 613        |\n",
            "|    time_elapsed     | 188        |\n",
            "|    total_timesteps  | 115734     |\n",
            "| train/              |            |\n",
            "|    actor_loss       | -4.91      |\n",
            "|    critic_loss      | 12.3       |\n",
            "|    learning_rate    | 0.0003     |\n",
            "|    n_updates        | 349290     |\n",
            "------------------------------------\n"
          ]
        },
        {
          "name": "stdout",
          "output_type": "stream",
          "text": [
            "------------------------------------\n",
            "| custom/             |            |\n",
            "|    avg_reward_100ep | -44.285694 |\n",
            "| rollout/            |            |\n",
            "|    ep_len_mean      | 695        |\n",
            "|    ep_rew_mean      | -44.3      |\n",
            "| time/               |            |\n",
            "|    episodes         | 236        |\n",
            "|    fps              | 613        |\n",
            "|    time_elapsed     | 192        |\n",
            "|    total_timesteps  | 117876     |\n",
            "| train/              |            |\n",
            "|    actor_loss       | -4.49      |\n",
            "|    critic_loss      | 13.1       |\n",
            "|    learning_rate    | 0.0003     |\n",
            "|    n_updates        | 349647     |\n",
            "------------------------------------\n"
          ]
        },
        {
          "data": {
            "text/html": [
              "<pre style=\"white-space:pre;overflow-x:auto;line-height:normal;font-family:Menlo,'DejaVu Sans Mono',consolas,'Courier New',monospace\">Eval num_timesteps=120000, episode_reward=-72.88 +/- 37.49\n",
              "</pre>\n"
            ],
            "text/plain": [
              "Eval num_timesteps=120000, episode_reward=-72.88 +/- 37.49\n"
            ]
          },
          "metadata": {},
          "output_type": "display_data"
        },
        {
          "data": {
            "text/html": [
              "<pre style=\"white-space:pre;overflow-x:auto;line-height:normal;font-family:Menlo,'DejaVu Sans Mono',consolas,'Courier New',monospace\">Episode length: 635.40 +/- 360.65\n",
              "</pre>\n"
            ],
            "text/plain": [
              "Episode length: 635.40 +/- 360.65\n"
            ]
          },
          "metadata": {},
          "output_type": "display_data"
        },
        {
          "name": "stdout",
          "output_type": "stream",
          "text": [
            "------------------------------------\n",
            "| custom/             |            |\n",
            "|    avg_reward_100ep | -44.852467 |\n",
            "| eval/               |            |\n",
            "|    mean_ep_length   | 635        |\n",
            "|    mean_reward      | -72.9      |\n",
            "| time/               |            |\n",
            "|    total_timesteps  | 120000     |\n",
            "| train/              |            |\n",
            "|    actor_loss       | -5.53      |\n",
            "|    critic_loss      | 8.27       |\n",
            "|    learning_rate    | 0.0003     |\n",
            "|    n_updates        | 350001     |\n",
            "------------------------------------\n"
          ]
        },
        {
          "name": "stdout",
          "output_type": "stream",
          "text": [
            "------------------------------------\n",
            "| custom/             |            |\n",
            "|    avg_reward_100ep | -44.544907 |\n",
            "| rollout/            |            |\n",
            "|    ep_len_mean      | 688        |\n",
            "|    ep_rew_mean      | -44.5      |\n",
            "| time/               |            |\n",
            "|    episodes         | 240        |\n",
            "|    fps              | 605        |\n",
            "|    time_elapsed     | 199        |\n",
            "|    total_timesteps  | 120930     |\n",
            "| train/              |            |\n",
            "|    actor_loss       | -4.85      |\n",
            "|    critic_loss      | 7.59       |\n",
            "|    learning_rate    | 0.0003     |\n",
            "|    n_updates        | 350156     |\n",
            "------------------------------------\n"
          ]
        },
        {
          "name": "stdout",
          "output_type": "stream",
          "text": [
            "-----------------------------------\n",
            "| custom/             |           |\n",
            "|    avg_reward_100ep | -42.19212 |\n",
            "| rollout/            |           |\n",
            "|    ep_len_mean      | 705       |\n",
            "|    ep_rew_mean      | -42.2     |\n",
            "| time/               |           |\n",
            "|    episodes         | 244       |\n",
            "|    fps              | 605       |\n",
            "|    time_elapsed     | 204       |\n",
            "|    total_timesteps  | 123930    |\n",
            "| train/              |           |\n",
            "|    actor_loss       | -3.75     |\n",
            "|    critic_loss      | 7.26      |\n",
            "|    learning_rate    | 0.0003    |\n",
            "|    n_updates        | 350656    |\n",
            "-----------------------------------\n"
          ]
        },
        {
          "name": "stdout",
          "output_type": "stream",
          "text": [
            "------------------------------------\n",
            "| custom/             |            |\n",
            "|    avg_reward_100ep | -43.145737 |\n",
            "| rollout/            |            |\n",
            "|    ep_len_mean      | 710        |\n",
            "|    ep_rew_mean      | -43.1      |\n",
            "| time/               |            |\n",
            "|    episodes         | 248        |\n",
            "|    fps              | 605        |\n",
            "|    time_elapsed     | 209        |\n",
            "|    total_timesteps  | 127026     |\n",
            "| train/              |            |\n",
            "|    actor_loss       | -3.13      |\n",
            "|    critic_loss      | 5.16       |\n",
            "|    learning_rate    | 0.0003     |\n",
            "|    n_updates        | 351172     |\n",
            "------------------------------------\n"
          ]
        },
        {
          "name": "stdout",
          "output_type": "stream",
          "text": [
            "-----------------------------------\n",
            "| custom/             |           |\n",
            "|    avg_reward_100ep | -41.61769 |\n",
            "| rollout/            |           |\n",
            "|    ep_len_mean      | 721       |\n",
            "|    ep_rew_mean      | -41.6     |\n",
            "| time/               |           |\n",
            "|    episodes         | 252       |\n",
            "|    fps              | 605       |\n",
            "|    time_elapsed     | 215       |\n",
            "|    total_timesteps  | 130266    |\n",
            "| train/              |           |\n",
            "|    actor_loss       | -5.09     |\n",
            "|    critic_loss      | 4.73      |\n",
            "|    learning_rate    | 0.0003    |\n",
            "|    n_updates        | 351712    |\n",
            "-----------------------------------\n"
          ]
        },
        {
          "name": "stdout",
          "output_type": "stream",
          "text": [
            "-----------------------------------\n",
            "| custom/             |           |\n",
            "|    avg_reward_100ep | -42.54476 |\n",
            "| rollout/            |           |\n",
            "|    ep_len_mean      | 723       |\n",
            "|    ep_rew_mean      | -42.5     |\n",
            "| time/               |           |\n",
            "|    episodes         | 256       |\n",
            "|    fps              | 605       |\n",
            "|    time_elapsed     | 218       |\n",
            "|    total_timesteps  | 132480    |\n",
            "| train/              |           |\n",
            "|    actor_loss       | -2.68     |\n",
            "|    critic_loss      | 9.86      |\n",
            "|    learning_rate    | 0.0003    |\n",
            "|    n_updates        | 352081    |\n",
            "-----------------------------------\n"
          ]
        },
        {
          "name": "stdout",
          "output_type": "stream",
          "text": [
            "------------------------------------\n",
            "| custom/             |            |\n",
            "|    avg_reward_100ep | -45.096745 |\n",
            "| rollout/            |            |\n",
            "|    ep_len_mean      | 701        |\n",
            "|    ep_rew_mean      | -45.1      |\n",
            "| time/               |            |\n",
            "|    episodes         | 260        |\n",
            "|    fps              | 605        |\n",
            "|    time_elapsed     | 221        |\n",
            "|    total_timesteps  | 133938     |\n",
            "| train/              |            |\n",
            "|    actor_loss       | -1.83      |\n",
            "|    critic_loss      | 8.06       |\n",
            "|    learning_rate    | 0.0003     |\n",
            "|    n_updates        | 352324     |\n",
            "------------------------------------\n"
          ]
        },
        {
          "name": "stdout",
          "output_type": "stream",
          "text": [
            "------------------------------------\n",
            "| custom/             |            |\n",
            "|    avg_reward_100ep | -47.196144 |\n",
            "| rollout/            |            |\n",
            "|    ep_len_mean      | 684        |\n",
            "|    ep_rew_mean      | -47.2      |\n",
            "| time/               |            |\n",
            "|    episodes         | 264        |\n",
            "|    fps              | 605        |\n",
            "|    time_elapsed     | 224        |\n",
            "|    total_timesteps  | 135810     |\n",
            "| train/              |            |\n",
            "|    actor_loss       | -3.59      |\n",
            "|    critic_loss      | 9.52       |\n",
            "|    learning_rate    | 0.0003     |\n",
            "|    n_updates        | 352636     |\n",
            "------------------------------------\n"
          ]
        },
        {
          "name": "stdout",
          "output_type": "stream",
          "text": [
            "-----------------------------------\n",
            "| custom/             |           |\n",
            "|    avg_reward_100ep | -49.75336 |\n",
            "| rollout/            |           |\n",
            "|    ep_len_mean      | 667       |\n",
            "|    ep_rew_mean      | -49.8     |\n",
            "| time/               |           |\n",
            "|    episodes         | 268       |\n",
            "|    fps              | 605       |\n",
            "|    time_elapsed     | 228       |\n",
            "|    total_timesteps  | 138450    |\n",
            "| train/              |           |\n",
            "|    actor_loss       | -6.06     |\n",
            "|    critic_loss      | 4.03      |\n",
            "|    learning_rate    | 0.0003    |\n",
            "|    n_updates        | 353076    |\n",
            "-----------------------------------\n"
          ]
        },
        {
          "name": "stdout",
          "output_type": "stream",
          "text": [
            "------------------------------------\n",
            "| custom/             |            |\n",
            "|    avg_reward_100ep | -50.810375 |\n",
            "| rollout/            |            |\n",
            "|    ep_len_mean      | 667        |\n",
            "|    ep_rew_mean      | -50.8      |\n",
            "| time/               |            |\n",
            "|    episodes         | 272        |\n",
            "|    fps              | 604        |\n",
            "|    time_elapsed     | 234        |\n",
            "|    total_timesteps  | 141534     |\n",
            "| train/              |            |\n",
            "|    actor_loss       | -3.63      |\n",
            "|    critic_loss      | 14.1       |\n",
            "|    learning_rate    | 0.0003     |\n",
            "|    n_updates        | 353590     |\n",
            "------------------------------------\n"
          ]
        },
        {
          "name": "stdout",
          "output_type": "stream",
          "text": [
            "-----------------------------------\n",
            "| custom/             |           |\n",
            "|    avg_reward_100ep | -49.80635 |\n",
            "| rollout/            |           |\n",
            "|    ep_len_mean      | 674       |\n",
            "|    ep_rew_mean      | -49.8     |\n",
            "| time/               |           |\n",
            "|    episodes         | 276       |\n",
            "|    fps              | 604       |\n",
            "|    time_elapsed     | 235       |\n",
            "|    total_timesteps  | 142572    |\n",
            "| train/              |           |\n",
            "|    actor_loss       | -1.74     |\n",
            "|    critic_loss      | 11.8      |\n",
            "|    learning_rate    | 0.0003    |\n",
            "|    n_updates        | 353763    |\n",
            "-----------------------------------\n"
          ]
        },
        {
          "name": "stdout",
          "output_type": "stream",
          "text": [
            "-----------------------------------\n",
            "| custom/             |           |\n",
            "|    avg_reward_100ep | -52.96703 |\n",
            "| rollout/            |           |\n",
            "|    ep_len_mean      | 653       |\n",
            "|    ep_rew_mean      | -53       |\n",
            "| time/               |           |\n",
            "|    episodes         | 280       |\n",
            "|    fps              | 604       |\n",
            "|    time_elapsed     | 237       |\n",
            "|    total_timesteps  | 143568    |\n",
            "| train/              |           |\n",
            "|    actor_loss       | -5.01     |\n",
            "|    critic_loss      | 7.46      |\n",
            "|    learning_rate    | 0.0003    |\n",
            "|    n_updates        | 353929    |\n",
            "-----------------------------------\n"
          ]
        },
        {
          "name": "stdout",
          "output_type": "stream",
          "text": [
            "------------------------------------\n",
            "| custom/             |            |\n",
            "|    avg_reward_100ep | -55.871353 |\n",
            "| rollout/            |            |\n",
            "|    ep_len_mean      | 628        |\n",
            "|    ep_rew_mean      | -55.9      |\n",
            "| time/               |            |\n",
            "|    episodes         | 284        |\n",
            "|    fps              | 604        |\n",
            "|    time_elapsed     | 238        |\n",
            "|    total_timesteps  | 144156     |\n",
            "| train/              |            |\n",
            "|    actor_loss       | -2.69      |\n",
            "|    critic_loss      | 8.81       |\n",
            "|    learning_rate    | 0.0003     |\n",
            "|    n_updates        | 354027     |\n",
            "------------------------------------\n"
          ]
        },
        {
          "name": "stdout",
          "output_type": "stream",
          "text": [
            "------------------------------------\n",
            "| custom/             |            |\n",
            "|    avg_reward_100ep | -56.308727 |\n",
            "| rollout/            |            |\n",
            "|    ep_len_mean      | 632        |\n",
            "|    ep_rew_mean      | -56.3      |\n",
            "| time/               |            |\n",
            "|    episodes         | 288        |\n",
            "|    fps              | 604        |\n",
            "|    time_elapsed     | 245        |\n",
            "|    total_timesteps  | 148764     |\n",
            "| train/              |            |\n",
            "|    actor_loss       | -1.5       |\n",
            "|    critic_loss      | 9.16       |\n",
            "|    learning_rate    | 0.0003     |\n",
            "|    n_updates        | 354795     |\n",
            "------------------------------------\n"
          ]
        },
        {
          "data": {
            "text/html": [
              "<pre style=\"white-space:pre;overflow-x:auto;line-height:normal;font-family:Menlo,'DejaVu Sans Mono',consolas,'Courier New',monospace\">Eval num_timesteps=150000, episode_reward=-76.47 +/- 36.36\n",
              "</pre>\n"
            ],
            "text/plain": [
              "Eval num_timesteps=150000, episode_reward=-76.47 +/- 36.36\n"
            ]
          },
          "metadata": {},
          "output_type": "display_data"
        },
        {
          "data": {
            "text/html": [
              "<pre style=\"white-space:pre;overflow-x:auto;line-height:normal;font-family:Menlo,'DejaVu Sans Mono',consolas,'Courier New',monospace\">Episode length: 572.60 +/- 324.98\n",
              "</pre>\n"
            ],
            "text/plain": [
              "Episode length: 572.60 +/- 324.98\n"
            ]
          },
          "metadata": {},
          "output_type": "display_data"
        },
        {
          "name": "stdout",
          "output_type": "stream",
          "text": [
            "-----------------------------------\n",
            "| custom/             |           |\n",
            "|    avg_reward_100ep | -56.98253 |\n",
            "| eval/               |           |\n",
            "|    mean_ep_length   | 573       |\n",
            "|    mean_reward      | -76.5     |\n",
            "| time/               |           |\n",
            "|    total_timesteps  | 150000    |\n",
            "| train/              |           |\n",
            "|    actor_loss       | -3.81     |\n",
            "|    critic_loss      | 5.72      |\n",
            "|    learning_rate    | 0.0003    |\n",
            "|    n_updates        | 355001    |\n",
            "-----------------------------------\n"
          ]
        },
        {
          "name": "stdout",
          "output_type": "stream",
          "text": [
            "-----------------------------------\n",
            "| custom/             |           |\n",
            "|    avg_reward_100ep | -56.14251 |\n",
            "| rollout/            |           |\n",
            "|    ep_len_mean      | 626       |\n",
            "|    ep_rew_mean      | -56.1     |\n",
            "| time/               |           |\n",
            "|    episodes         | 292       |\n",
            "|    fps              | 598       |\n",
            "|    time_elapsed     | 250       |\n",
            "|    total_timesteps  | 150156    |\n",
            "| train/              |           |\n",
            "|    actor_loss       | -4.74     |\n",
            "|    critic_loss      | 4.62      |\n",
            "|    learning_rate    | 0.0003    |\n",
            "|    n_updates        | 355027    |\n",
            "-----------------------------------\n"
          ]
        },
        {
          "name": "stdout",
          "output_type": "stream",
          "text": [
            "-----------------------------------\n",
            "| custom/             |           |\n",
            "|    avg_reward_100ep | -58.49712 |\n",
            "| rollout/            |           |\n",
            "|    ep_len_mean      | 609       |\n",
            "|    ep_rew_mean      | -58.5     |\n",
            "| time/               |           |\n",
            "|    episodes         | 296       |\n",
            "|    fps              | 598       |\n",
            "|    time_elapsed     | 255       |\n",
            "|    total_timesteps  | 152814    |\n",
            "| train/              |           |\n",
            "|    actor_loss       | -3.88     |\n",
            "|    critic_loss      | 4.61      |\n",
            "|    learning_rate    | 0.0003    |\n",
            "|    n_updates        | 355470    |\n",
            "-----------------------------------\n"
          ]
        },
        {
          "name": "stdout",
          "output_type": "stream",
          "text": [
            "------------------------------------\n",
            "| custom/             |            |\n",
            "|    avg_reward_100ep | -58.827423 |\n",
            "| rollout/            |            |\n",
            "|    ep_len_mean      | 611        |\n",
            "|    ep_rew_mean      | -58.8      |\n",
            "| time/               |            |\n",
            "|    episodes         | 300        |\n",
            "|    fps              | 598        |\n",
            "|    time_elapsed     | 258        |\n",
            "|    total_timesteps  | 154914     |\n",
            "| train/              |            |\n",
            "|    actor_loss       | -2.86      |\n",
            "|    critic_loss      | 11.4       |\n",
            "|    learning_rate    | 0.0003     |\n",
            "|    n_updates        | 355820     |\n",
            "------------------------------------\n"
          ]
        },
        {
          "name": "stdout",
          "output_type": "stream",
          "text": [
            "-----------------------------------\n",
            "| custom/             |           |\n",
            "|    avg_reward_100ep | -58.82619 |\n",
            "| rollout/            |           |\n",
            "|    ep_len_mean      | 596       |\n",
            "|    ep_rew_mean      | -58.8     |\n",
            "| time/               |           |\n",
            "|    episodes         | 304       |\n",
            "|    fps              | 598       |\n",
            "|    time_elapsed     | 261       |\n",
            "|    total_timesteps  | 156822    |\n",
            "| train/              |           |\n",
            "|    actor_loss       | -1.45     |\n",
            "|    critic_loss      | 13.6      |\n",
            "|    learning_rate    | 0.0003    |\n",
            "|    n_updates        | 356138    |\n",
            "-----------------------------------\n"
          ]
        },
        {
          "name": "stdout",
          "output_type": "stream",
          "text": [
            "-----------------------------------\n",
            "| custom/             |           |\n",
            "|    avg_reward_100ep | -60.44347 |\n",
            "| rollout/            |           |\n",
            "|    ep_len_mean      | 584       |\n",
            "|    ep_rew_mean      | -60.4     |\n",
            "| time/               |           |\n",
            "|    episodes         | 308       |\n",
            "|    fps              | 598       |\n",
            "|    time_elapsed     | 266       |\n",
            "|    total_timesteps  | 159414    |\n",
            "| train/              |           |\n",
            "|    actor_loss       | -1.27     |\n",
            "|    critic_loss      | 13.5      |\n",
            "|    learning_rate    | 0.0003    |\n",
            "|    n_updates        | 356570    |\n",
            "-----------------------------------\n"
          ]
        },
        {
          "name": "stdout",
          "output_type": "stream",
          "text": [
            "-----------------------------------\n",
            "| custom/             |           |\n",
            "|    avg_reward_100ep | -59.77127 |\n",
            "| rollout/            |           |\n",
            "|    ep_len_mean      | 588       |\n",
            "|    ep_rew_mean      | -59.8     |\n",
            "| time/               |           |\n",
            "|    episodes         | 312       |\n",
            "|    fps              | 598       |\n",
            "|    time_elapsed     | 270       |\n",
            "|    total_timesteps  | 162264    |\n",
            "| train/              |           |\n",
            "|    actor_loss       | -2.75     |\n",
            "|    critic_loss      | 5.49      |\n",
            "|    learning_rate    | 0.0003    |\n",
            "|    n_updates        | 357045    |\n",
            "-----------------------------------\n"
          ]
        },
        {
          "name": "stdout",
          "output_type": "stream",
          "text": [
            "-----------------------------------\n",
            "| custom/             |           |\n",
            "|    avg_reward_100ep | -56.36681 |\n",
            "| rollout/            |           |\n",
            "|    ep_len_mean      | 597       |\n",
            "|    ep_rew_mean      | -56.4     |\n",
            "| time/               |           |\n",
            "|    episodes         | 316       |\n",
            "|    fps              | 599       |\n",
            "|    time_elapsed     | 275       |\n",
            "|    total_timesteps  | 164814    |\n",
            "| train/              |           |\n",
            "|    actor_loss       | -1.55     |\n",
            "|    critic_loss      | 5.76      |\n",
            "|    learning_rate    | 0.0003    |\n",
            "|    n_updates        | 357470    |\n",
            "-----------------------------------\n"
          ]
        },
        {
          "name": "stdout",
          "output_type": "stream",
          "text": [
            "-----------------------------------\n",
            "| custom/             |           |\n",
            "|    avg_reward_100ep | -58.19025 |\n",
            "| rollout/            |           |\n",
            "|    ep_len_mean      | 589       |\n",
            "|    ep_rew_mean      | -58.2     |\n",
            "| time/               |           |\n",
            "|    episodes         | 320       |\n",
            "|    fps              | 599       |\n",
            "|    time_elapsed     | 278       |\n",
            "|    total_timesteps  | 166914    |\n",
            "| train/              |           |\n",
            "|    actor_loss       | -3.1      |\n",
            "|    critic_loss      | 7.15      |\n",
            "|    learning_rate    | 0.0003    |\n",
            "|    n_updates        | 357820    |\n",
            "-----------------------------------\n"
          ]
        },
        {
          "name": "stdout",
          "output_type": "stream",
          "text": [
            "------------------------------------\n",
            "| custom/             |            |\n",
            "|    avg_reward_100ep | -59.156094 |\n",
            "| rollout/            |            |\n",
            "|    ep_len_mean      | 590        |\n",
            "|    ep_rew_mean      | -59.2      |\n",
            "| time/               |            |\n",
            "|    episodes         | 324        |\n",
            "|    fps              | 599        |\n",
            "|    time_elapsed     | 283        |\n",
            "|    total_timesteps  | 169824     |\n",
            "| train/              |            |\n",
            "|    actor_loss       | -3.04      |\n",
            "|    critic_loss      | 4.36       |\n",
            "|    learning_rate    | 0.0003     |\n",
            "|    n_updates        | 358305     |\n",
            "------------------------------------\n"
          ]
        },
        {
          "name": "stdout",
          "output_type": "stream",
          "text": [
            "------------------------------------\n",
            "| custom/             |            |\n",
            "|    avg_reward_100ep | -57.876446 |\n",
            "| rollout/            |            |\n",
            "|    ep_len_mean      | 597        |\n",
            "|    ep_rew_mean      | -57.9      |\n",
            "| time/               |            |\n",
            "|    episodes         | 328        |\n",
            "|    fps              | 599        |\n",
            "|    time_elapsed     | 288        |\n",
            "|    total_timesteps  | 172914     |\n",
            "| train/              |            |\n",
            "|    actor_loss       | -3.65      |\n",
            "|    critic_loss      | 6.03       |\n",
            "|    learning_rate    | 0.0003     |\n",
            "|    n_updates        | 358820     |\n",
            "------------------------------------\n"
          ]
        },
        {
          "name": "stdout",
          "output_type": "stream",
          "text": [
            "-----------------------------------\n",
            "| custom/             |           |\n",
            "|    avg_reward_100ep | -54.55544 |\n",
            "| rollout/            |           |\n",
            "|    ep_len_mean      | 614       |\n",
            "|    ep_rew_mean      | -54.6     |\n",
            "| time/               |           |\n",
            "|    episodes         | 332       |\n",
            "|    fps              | 599       |\n",
            "|    time_elapsed     | 296       |\n",
            "|    total_timesteps  | 177456    |\n",
            "| train/              |           |\n",
            "|    actor_loss       | -1.44     |\n",
            "|    critic_loss      | 7.96      |\n",
            "|    learning_rate    | 0.0003    |\n",
            "|    n_updates        | 359577    |\n",
            "-----------------------------------\n"
          ]
        },
        {
          "data": {
            "text/html": [
              "<pre style=\"white-space:pre;overflow-x:auto;line-height:normal;font-family:Menlo,'DejaVu Sans Mono',consolas,'Courier New',monospace\">Eval num_timesteps=180000, episode_reward=-19.22 +/- 58.83\n",
              "</pre>\n"
            ],
            "text/plain": [
              "Eval num_timesteps=180000, episode_reward=-19.22 +/- 58.83\n"
            ]
          },
          "metadata": {},
          "output_type": "display_data"
        },
        {
          "data": {
            "text/html": [
              "<pre style=\"white-space:pre;overflow-x:auto;line-height:normal;font-family:Menlo,'DejaVu Sans Mono',consolas,'Courier New',monospace\">Episode length: 704.20 +/- 338.28\n",
              "</pre>\n"
            ],
            "text/plain": [
              "Episode length: 704.20 +/- 338.28\n"
            ]
          },
          "metadata": {},
          "output_type": "display_data"
        },
        {
          "name": "stdout",
          "output_type": "stream",
          "text": [
            "------------------------------------\n",
            "| custom/             |            |\n",
            "|    avg_reward_100ep | -54.163242 |\n",
            "| eval/               |            |\n",
            "|    mean_ep_length   | 704        |\n",
            "|    mean_reward      | -19.2      |\n",
            "| time/               |            |\n",
            "|    total_timesteps  | 180000     |\n",
            "| train/              |            |\n",
            "|    actor_loss       | -2.06      |\n",
            "|    critic_loss      | 4.29       |\n",
            "|    learning_rate    | 0.0003     |\n",
            "|    n_updates        | 360001     |\n",
            "------------------------------------\n"
          ]
        },
        {
          "data": {
            "text/html": [
              "<pre style=\"white-space:pre;overflow-x:auto;line-height:normal;font-family:Menlo,'DejaVu Sans Mono',consolas,'Courier New',monospace\">New best mean reward!\n",
              "</pre>\n"
            ],
            "text/plain": [
              "New best mean reward!\n"
            ]
          },
          "metadata": {},
          "output_type": "display_data"
        },
        {
          "name": "stdout",
          "output_type": "stream",
          "text": [
            "------------------------------------\n",
            "| custom/             |            |\n",
            "|    avg_reward_100ep | -54.072582 |\n",
            "| rollout/            |            |\n",
            "|    ep_len_mean      | 616        |\n",
            "|    ep_rew_mean      | -54.1      |\n",
            "| time/               |            |\n",
            "|    episodes         | 336        |\n",
            "|    fps              | 593        |\n",
            "|    time_elapsed     | 304        |\n",
            "|    total_timesteps  | 180504     |\n",
            "| train/              |            |\n",
            "|    actor_loss       | -1.78      |\n",
            "|    critic_loss      | 9.98       |\n",
            "|    learning_rate    | 0.0003     |\n",
            "|    n_updates        | 360085     |\n",
            "------------------------------------\n"
          ]
        },
        {
          "name": "stdout",
          "output_type": "stream",
          "text": [
            "------------------------------------\n",
            "| custom/             |            |\n",
            "|    avg_reward_100ep | -54.491158 |\n",
            "| rollout/            |            |\n",
            "|    ep_len_mean      | 629        |\n",
            "|    ep_rew_mean      | -54.5      |\n",
            "| time/               |            |\n",
            "|    episodes         | 340        |\n",
            "|    fps              | 593        |\n",
            "|    time_elapsed     | 307        |\n",
            "|    total_timesteps  | 182466     |\n",
            "| train/              |            |\n",
            "|    actor_loss       | -0.41      |\n",
            "|    critic_loss      | 4.9        |\n",
            "|    learning_rate    | 0.0003     |\n",
            "|    n_updates        | 360412     |\n",
            "------------------------------------\n"
          ]
        },
        {
          "name": "stdout",
          "output_type": "stream",
          "text": [
            "-----------------------------------\n",
            "| custom/             |           |\n",
            "|    avg_reward_100ep | -56.69252 |\n",
            "| rollout/            |           |\n",
            "|    ep_len_mean      | 621       |\n",
            "|    ep_rew_mean      | -56.7     |\n",
            "| time/               |           |\n",
            "|    episodes         | 344       |\n",
            "|    fps              | 593       |\n",
            "|    time_elapsed     | 313       |\n",
            "|    total_timesteps  | 186180    |\n",
            "| train/              |           |\n",
            "|    actor_loss       | -0.36     |\n",
            "|    critic_loss      | 5.62      |\n",
            "|    learning_rate    | 0.0003    |\n",
            "|    n_updates        | 361031    |\n",
            "-----------------------------------\n"
          ]
        },
        {
          "name": "stdout",
          "output_type": "stream",
          "text": [
            "-----------------------------------\n",
            "| custom/             |           |\n",
            "|    avg_reward_100ep | -53.49196 |\n",
            "| rollout/            |           |\n",
            "|    ep_len_mean      | 616       |\n",
            "|    ep_rew_mean      | -53.5     |\n",
            "| time/               |           |\n",
            "|    episodes         | 348       |\n",
            "|    fps              | 593       |\n",
            "|    time_elapsed     | 317       |\n",
            "|    total_timesteps  | 188466    |\n",
            "| train/              |           |\n",
            "|    actor_loss       | -2.37     |\n",
            "|    critic_loss      | 4.53      |\n",
            "|    learning_rate    | 0.0003    |\n",
            "|    n_updates        | 361412    |\n",
            "-----------------------------------\n"
          ]
        },
        {
          "name": "stdout",
          "output_type": "stream",
          "text": [
            "------------------------------------\n",
            "| custom/             |            |\n",
            "|    avg_reward_100ep | -54.463856 |\n",
            "| rollout/            |            |\n",
            "|    ep_len_mean      | 616        |\n",
            "|    ep_rew_mean      | -54.5      |\n",
            "| time/               |            |\n",
            "|    episodes         | 352        |\n",
            "|    fps              | 593        |\n",
            "|    time_elapsed     | 325        |\n",
            "|    total_timesteps  | 193098     |\n",
            "| train/              |            |\n",
            "|    actor_loss       | -0.228     |\n",
            "|    critic_loss      | 4.62       |\n",
            "|    learning_rate    | 0.0003     |\n",
            "|    n_updates        | 362184     |\n",
            "------------------------------------\n"
          ]
        },
        {
          "name": "stdout",
          "output_type": "stream",
          "text": [
            "-----------------------------------\n",
            "| custom/             |           |\n",
            "|    avg_reward_100ep | -52.37108 |\n",
            "| rollout/            |           |\n",
            "|    ep_len_mean      | 620       |\n",
            "|    ep_rew_mean      | -52.4     |\n",
            "| time/               |           |\n",
            "|    episodes         | 356       |\n",
            "|    fps              | 593       |\n",
            "|    time_elapsed     | 330       |\n",
            "|    total_timesteps  | 195918    |\n",
            "| train/              |           |\n",
            "|    actor_loss       | -0.719    |\n",
            "|    critic_loss      | 10        |\n",
            "|    learning_rate    | 0.0003    |\n",
            "|    n_updates        | 362654    |\n",
            "-----------------------------------\n"
          ]
        },
        {
          "name": "stdout",
          "output_type": "stream",
          "text": [
            "-----------------------------------\n",
            "| custom/             |           |\n",
            "|    avg_reward_100ep | -48.49849 |\n",
            "| rollout/            |           |\n",
            "|    ep_len_mean      | 638       |\n",
            "|    ep_rew_mean      | -48.5     |\n",
            "| time/               |           |\n",
            "|    episodes         | 360       |\n",
            "|    fps              | 593       |\n",
            "|    time_elapsed     | 335       |\n",
            "|    total_timesteps  | 199098    |\n",
            "| train/              |           |\n",
            "|    actor_loss       | -1.29     |\n",
            "|    critic_loss      | 5.79      |\n",
            "|    learning_rate    | 0.0003    |\n",
            "|    n_updates        | 363184    |\n",
            "-----------------------------------\n"
          ]
        },
        {
          "name": "stdout",
          "output_type": "stream",
          "text": [
            "------------------------------------\n",
            "| custom/             |            |\n",
            "|    avg_reward_100ep | -47.064796 |\n",
            "| rollout/            |            |\n",
            "|    ep_len_mean      | 644        |\n",
            "|    ep_rew_mean      | -47.1      |\n",
            "| time/               |            |\n",
            "|    episodes         | 364        |\n",
            "|    fps              | 593        |\n",
            "|    time_elapsed     | 340        |\n",
            "|    total_timesteps  | 201918     |\n",
            "| train/              |            |\n",
            "|    actor_loss       | -1.4       |\n",
            "|    critic_loss      | 13.6       |\n",
            "|    learning_rate    | 0.0003     |\n",
            "|    n_updates        | 363654     |\n",
            "------------------------------------\n"
          ]
        },
        {
          "name": "stdout",
          "output_type": "stream",
          "text": [
            "------------------------------------\n",
            "| custom/             |            |\n",
            "|    avg_reward_100ep | -44.490005 |\n",
            "| rollout/            |            |\n",
            "|    ep_len_mean      | 656        |\n",
            "|    ep_rew_mean      | -44.5      |\n",
            "| time/               |            |\n",
            "|    episodes         | 368        |\n",
            "|    fps              | 593        |\n",
            "|    time_elapsed     | 341        |\n",
            "|    total_timesteps  | 202794     |\n",
            "| train/              |            |\n",
            "|    actor_loss       | -0.78      |\n",
            "|    critic_loss      | 5.56       |\n",
            "|    learning_rate    | 0.0003     |\n",
            "|    n_updates        | 363800     |\n",
            "------------------------------------\n"
          ]
        },
        {
          "name": "stdout",
          "output_type": "stream",
          "text": [
            "------------------------------------\n",
            "| custom/             |            |\n",
            "|    avg_reward_100ep | -42.133835 |\n",
            "| rollout/            |            |\n",
            "|    ep_len_mean      | 671        |\n",
            "|    ep_rew_mean      | -42.1      |\n",
            "| time/               |            |\n",
            "|    episodes         | 372        |\n",
            "|    fps              | 593        |\n",
            "|    time_elapsed     | 350        |\n",
            "|    total_timesteps  | 208134     |\n",
            "| train/              |            |\n",
            "|    actor_loss       | -1.01      |\n",
            "|    critic_loss      | 9.94       |\n",
            "|    learning_rate    | 0.0003     |\n",
            "|    n_updates        | 364690     |\n",
            "------------------------------------\n"
          ]
        },
        {
          "name": "stdout",
          "output_type": "stream",
          "text": [
            "----------------------------------\n",
            "| custom/             |          |\n",
            "|    avg_reward_100ep | -41.2286 |\n",
            "| rollout/            |          |\n",
            "|    ep_len_mean      | 673      |\n",
            "|    ep_rew_mean      | -41.2    |\n",
            "| time/               |          |\n",
            "|    episodes         | 376      |\n",
            "|    fps              | 593      |\n",
            "|    time_elapsed     | 352      |\n",
            "|    total_timesteps  | 209406   |\n",
            "| train/              |          |\n",
            "|    actor_loss       | -0.679   |\n",
            "|    critic_loss      | 6.37     |\n",
            "|    learning_rate    | 0.0003   |\n",
            "|    n_updates        | 364902   |\n",
            "----------------------------------\n"
          ]
        },
        {
          "data": {
            "text/html": [
              "<pre style=\"white-space:pre;overflow-x:auto;line-height:normal;font-family:Menlo,'DejaVu Sans Mono',consolas,'Courier New',monospace\">Eval num_timesteps=210000, episode_reward=-58.08 +/- 21.52\n",
              "</pre>\n"
            ],
            "text/plain": [
              "Eval num_timesteps=210000, episode_reward=-58.08 +/- 21.52\n"
            ]
          },
          "metadata": {},
          "output_type": "display_data"
        },
        {
          "data": {
            "text/html": [
              "<pre style=\"white-space:pre;overflow-x:auto;line-height:normal;font-family:Menlo,'DejaVu Sans Mono',consolas,'Courier New',monospace\">Episode length: 546.60 +/- 379.79\n",
              "</pre>\n"
            ],
            "text/plain": [
              "Episode length: 546.60 +/- 379.79\n"
            ]
          },
          "metadata": {},
          "output_type": "display_data"
        },
        {
          "name": "stdout",
          "output_type": "stream",
          "text": [
            "---------------------------------\n",
            "| eval/              |          |\n",
            "|    mean_ep_length  | 547      |\n",
            "|    mean_reward     | -58.1    |\n",
            "| time/              |          |\n",
            "|    total_timesteps | 210000   |\n",
            "| train/             |          |\n",
            "|    actor_loss      | 0.261    |\n",
            "|    critic_loss     | 6.71     |\n",
            "|    learning_rate   | 0.0003   |\n",
            "|    n_updates       | 365001   |\n",
            "---------------------------------\n"
          ]
        },
        {
          "name": "stdout",
          "output_type": "stream",
          "text": [
            "-----------------------------------\n",
            "| custom/             |           |\n",
            "|    avg_reward_100ep | -38.94255 |\n",
            "| rollout/            |           |\n",
            "|    ep_len_mean      | 688       |\n",
            "|    ep_rew_mean      | -38.9     |\n",
            "| time/               |           |\n",
            "|    episodes         | 380       |\n",
            "|    fps              | 590       |\n",
            "|    time_elapsed     | 362       |\n",
            "|    total_timesteps  | 213918    |\n",
            "| train/              |           |\n",
            "|    actor_loss       | 0.0917    |\n",
            "|    critic_loss      | 4.42      |\n",
            "|    learning_rate    | 0.0003    |\n",
            "|    n_updates        | 365654    |\n",
            "-----------------------------------\n"
          ]
        },
        {
          "name": "stdout",
          "output_type": "stream",
          "text": [
            "----------------------------------\n",
            "| custom/             |          |\n",
            "|    avg_reward_100ep | -36.8676 |\n",
            "| rollout/            |          |\n",
            "|    ep_len_mean      | 707      |\n",
            "|    ep_rew_mean      | -36.9    |\n",
            "| time/               |          |\n",
            "|    episodes         | 384      |\n",
            "|    fps              | 590      |\n",
            "|    time_elapsed     | 365      |\n",
            "|    total_timesteps  | 215826   |\n",
            "| train/              |          |\n",
            "|    actor_loss       | 2.32     |\n",
            "|    critic_loss      | 11.1     |\n",
            "|    learning_rate    | 0.0003   |\n",
            "|    n_updates        | 365972   |\n",
            "----------------------------------\n"
          ]
        },
        {
          "name": "stdout",
          "output_type": "stream",
          "text": [
            "------------------------------------\n",
            "| custom/             |            |\n",
            "|    avg_reward_100ep | -37.239594 |\n",
            "| rollout/            |            |\n",
            "|    ep_len_mean      | 710        |\n",
            "|    ep_rew_mean      | -37.2      |\n",
            "| time/               |            |\n",
            "|    episodes         | 388        |\n",
            "|    fps              | 590        |\n",
            "|    time_elapsed     | 371        |\n",
            "|    total_timesteps  | 219558     |\n",
            "| train/              |            |\n",
            "|    actor_loss       | 0.396      |\n",
            "|    critic_loss      | 9.59       |\n",
            "|    learning_rate    | 0.0003     |\n",
            "|    n_updates        | 366594     |\n",
            "------------------------------------\n"
          ]
        },
        {
          "name": "stdout",
          "output_type": "stream",
          "text": [
            "------------------------------------\n",
            "| custom/             |            |\n",
            "|    avg_reward_100ep | -36.199265 |\n",
            "| rollout/            |            |\n",
            "|    ep_len_mean      | 723        |\n",
            "|    ep_rew_mean      | -36.2      |\n",
            "| time/               |            |\n",
            "|    episodes         | 392        |\n",
            "|    fps              | 591        |\n",
            "|    time_elapsed     | 379        |\n",
            "|    total_timesteps  | 224598     |\n",
            "| train/              |            |\n",
            "|    actor_loss       | -1.7       |\n",
            "|    critic_loss      | 2.91       |\n",
            "|    learning_rate    | 0.0003     |\n",
            "|    n_updates        | 367434     |\n",
            "------------------------------------\n"
          ]
        },
        {
          "name": "stdout",
          "output_type": "stream",
          "text": [
            "------------------------------------\n",
            "| custom/             |            |\n",
            "|    avg_reward_100ep | -35.124973 |\n",
            "| rollout/            |            |\n",
            "|    ep_len_mean      | 736        |\n",
            "|    ep_rew_mean      | -35.1      |\n",
            "| time/               |            |\n",
            "|    episodes         | 396        |\n",
            "|    fps              | 591        |\n",
            "|    time_elapsed     | 381        |\n",
            "|    total_timesteps  | 225816     |\n",
            "| train/              |            |\n",
            "|    actor_loss       | -1.23      |\n",
            "|    critic_loss      | 3.21       |\n",
            "|    learning_rate    | 0.0003     |\n",
            "|    n_updates        | 367637     |\n",
            "------------------------------------\n"
          ]
        },
        {
          "name": "stdout",
          "output_type": "stream",
          "text": [
            "------------------------------------\n",
            "| custom/             |            |\n",
            "|    avg_reward_100ep | -34.660713 |\n",
            "| rollout/            |            |\n",
            "|    ep_len_mean      | 738        |\n",
            "|    ep_rew_mean      | -34.7      |\n",
            "| time/               |            |\n",
            "|    episodes         | 400        |\n",
            "|    fps              | 591        |\n",
            "|    time_elapsed     | 386        |\n",
            "|    total_timesteps  | 228306     |\n",
            "| train/              |            |\n",
            "|    actor_loss       | -0.0468    |\n",
            "|    critic_loss      | 4.29       |\n",
            "|    learning_rate    | 0.0003     |\n",
            "|    n_updates        | 368052     |\n",
            "------------------------------------\n"
          ]
        },
        {
          "name": "stdout",
          "output_type": "stream",
          "text": [
            "------------------------------------\n",
            "| custom/             |            |\n",
            "|    avg_reward_100ep | -32.513145 |\n",
            "| rollout/            |            |\n",
            "|    ep_len_mean      | 748        |\n",
            "|    ep_rew_mean      | -32.5      |\n",
            "| time/               |            |\n",
            "|    episodes         | 404        |\n",
            "|    fps              | 591        |\n",
            "|    time_elapsed     | 391        |\n",
            "|    total_timesteps  | 231816     |\n",
            "| train/              |            |\n",
            "|    actor_loss       | 0.0239     |\n",
            "|    critic_loss      | 21.2       |\n",
            "|    learning_rate    | 0.0003     |\n",
            "|    n_updates        | 368637     |\n",
            "------------------------------------\n"
          ]
        },
        {
          "name": "stdout",
          "output_type": "stream",
          "text": [
            "-----------------------------------\n",
            "| custom/             |           |\n",
            "|    avg_reward_100ep | -31.74641 |\n",
            "| rollout/            |           |\n",
            "|    ep_len_mean      | 753       |\n",
            "|    ep_rew_mean      | -31.7     |\n",
            "| time/               |           |\n",
            "|    episodes         | 408       |\n",
            "|    fps              | 591       |\n",
            "|    time_elapsed     | 395       |\n",
            "|    total_timesteps  | 234306    |\n",
            "| train/              |           |\n",
            "|    actor_loss       | 0.293     |\n",
            "|    critic_loss      | 6.63      |\n",
            "|    learning_rate    | 0.0003    |\n",
            "|    n_updates        | 369052    |\n",
            "-----------------------------------\n"
          ]
        },
        {
          "name": "stdout",
          "output_type": "stream",
          "text": [
            "------------------------------------\n",
            "| custom/             |            |\n",
            "|    avg_reward_100ep | -31.484175 |\n",
            "| rollout/            |            |\n",
            "|    ep_len_mean      | 744        |\n",
            "|    ep_rew_mean      | -31.5      |\n",
            "| time/               |            |\n",
            "|    episodes         | 412        |\n",
            "|    fps              | 591        |\n",
            "|    time_elapsed     | 397        |\n",
            "|    total_timesteps  | 235410     |\n",
            "| train/              |            |\n",
            "|    actor_loss       | 0.543      |\n",
            "|    critic_loss      | 5.19       |\n",
            "|    learning_rate    | 0.0003     |\n",
            "|    n_updates        | 369236     |\n",
            "------------------------------------\n"
          ]
        },
        {
          "name": "stdout",
          "output_type": "stream",
          "text": [
            "------------------------------------\n",
            "| custom/             |            |\n",
            "|    avg_reward_100ep | -34.409496 |\n",
            "| rollout/            |            |\n",
            "|    ep_len_mean      | 730        |\n",
            "|    ep_rew_mean      | -34.4      |\n",
            "| time/               |            |\n",
            "|    episodes         | 416        |\n",
            "|    fps              | 591        |\n",
            "|    time_elapsed     | 402        |\n",
            "|    total_timesteps  | 238104     |\n",
            "| train/              |            |\n",
            "|    actor_loss       | 1.5        |\n",
            "|    critic_loss      | 5.26       |\n",
            "|    learning_rate    | 0.0003     |\n",
            "|    n_updates        | 369685     |\n",
            "------------------------------------\n"
          ]
        },
        {
          "data": {
            "text/html": [
              "<pre style=\"white-space:pre;overflow-x:auto;line-height:normal;font-family:Menlo,'DejaVu Sans Mono',consolas,'Courier New',monospace\">Eval num_timesteps=240000, episode_reward=-52.02 +/- 42.68\n",
              "</pre>\n"
            ],
            "text/plain": [
              "Eval num_timesteps=240000, episode_reward=-52.02 +/- 42.68\n"
            ]
          },
          "metadata": {},
          "output_type": "display_data"
        },
        {
          "data": {
            "text/html": [
              "<pre style=\"white-space:pre;overflow-x:auto;line-height:normal;font-family:Menlo,'DejaVu Sans Mono',consolas,'Courier New',monospace\">Episode length: 485.00 +/- 214.29\n",
              "</pre>\n"
            ],
            "text/plain": [
              "Episode length: 485.00 +/- 214.29\n"
            ]
          },
          "metadata": {},
          "output_type": "display_data"
        },
        {
          "name": "stdout",
          "output_type": "stream",
          "text": [
            "-----------------------------------\n",
            "| custom/             |           |\n",
            "|    avg_reward_100ep | -33.40945 |\n",
            "| eval/               |           |\n",
            "|    mean_ep_length   | 485       |\n",
            "|    mean_reward      | -52       |\n",
            "| time/               |           |\n",
            "|    total_timesteps  | 240000    |\n",
            "| train/              |           |\n",
            "|    actor_loss       | 2.5       |\n",
            "|    critic_loss      | 4.14      |\n",
            "|    learning_rate    | 0.0003    |\n",
            "|    n_updates        | 370001    |\n",
            "-----------------------------------\n"
          ]
        },
        {
          "name": "stdout",
          "output_type": "stream",
          "text": [
            "-----------------------------------\n",
            "| custom/             |           |\n",
            "|    avg_reward_100ep | -34.18958 |\n",
            "| rollout/            |           |\n",
            "|    ep_len_mean      | 723       |\n",
            "|    ep_rew_mean      | -34.2     |\n",
            "| time/               |           |\n",
            "|    episodes         | 420       |\n",
            "|    fps              | 588       |\n",
            "|    time_elapsed     | 409       |\n",
            "|    total_timesteps  | 240924    |\n",
            "| train/              |           |\n",
            "|    actor_loss       | 1.39      |\n",
            "|    critic_loss      | 5.07      |\n",
            "|    learning_rate    | 0.0003    |\n",
            "|    n_updates        | 370155    |\n",
            "-----------------------------------\n"
          ]
        },
        {
          "name": "stdout",
          "output_type": "stream",
          "text": [
            "-----------------------------------\n",
            "| custom/             |           |\n",
            "|    avg_reward_100ep | -33.40951 |\n",
            "| rollout/            |           |\n",
            "|    ep_len_mean      | 730       |\n",
            "|    ep_rew_mean      | -33.4     |\n",
            "| time/               |           |\n",
            "|    episodes         | 424       |\n",
            "|    fps              | 588       |\n",
            "|    time_elapsed     | 412       |\n",
            "|    total_timesteps  | 242796    |\n",
            "| train/              |           |\n",
            "|    actor_loss       | 1.09      |\n",
            "|    critic_loss      | 7.62      |\n",
            "|    learning_rate    | 0.0003    |\n",
            "|    n_updates        | 370467    |\n",
            "-----------------------------------\n"
          ]
        },
        {
          "name": "stdout",
          "output_type": "stream",
          "text": [
            "------------------------------------\n",
            "| custom/             |            |\n",
            "|    avg_reward_100ep | -35.920227 |\n",
            "| rollout/            |            |\n",
            "|    ep_len_mean      | 714        |\n",
            "|    ep_rew_mean      | -35.9      |\n",
            "| time/               |            |\n",
            "|    episodes         | 428        |\n",
            "|    fps              | 588        |\n",
            "|    time_elapsed     | 414        |\n",
            "|    total_timesteps  | 243816     |\n",
            "| train/              |            |\n",
            "|    actor_loss       | 1.07       |\n",
            "|    critic_loss      | 6.09       |\n",
            "|    learning_rate    | 0.0003     |\n",
            "|    n_updates        | 370637     |\n",
            "------------------------------------\n"
          ]
        },
        {
          "name": "stdout",
          "output_type": "stream",
          "text": [
            "------------------------------------\n",
            "| custom/             |            |\n",
            "|    avg_reward_100ep | -37.156876 |\n",
            "| rollout/            |            |\n",
            "|    ep_len_mean      | 696        |\n",
            "|    ep_rew_mean      | -37.2      |\n",
            "| time/               |            |\n",
            "|    episodes         | 432        |\n",
            "|    fps              | 588        |\n",
            "|    time_elapsed     | 415        |\n",
            "|    total_timesteps  | 244800     |\n",
            "| train/              |            |\n",
            "|    actor_loss       | 1.81       |\n",
            "|    critic_loss      | 8.22       |\n",
            "|    learning_rate    | 0.0003     |\n",
            "|    n_updates        | 370801     |\n",
            "------------------------------------\n"
          ]
        },
        {
          "name": "stdout",
          "output_type": "stream",
          "text": [
            "------------------------------------\n",
            "| custom/             |            |\n",
            "|    avg_reward_100ep | -39.109932 |\n",
            "| rollout/            |            |\n",
            "|    ep_len_mean      | 686        |\n",
            "|    ep_rew_mean      | -39.1      |\n",
            "| time/               |            |\n",
            "|    episodes         | 436        |\n",
            "|    fps              | 589        |\n",
            "|    time_elapsed     | 424        |\n",
            "|    total_timesteps  | 250104     |\n",
            "| train/              |            |\n",
            "|    actor_loss       | 1.93       |\n",
            "|    critic_loss      | 5.13       |\n",
            "|    learning_rate    | 0.0003     |\n",
            "|    n_updates        | 371685     |\n",
            "------------------------------------\n"
          ]
        },
        {
          "name": "stdout",
          "output_type": "stream",
          "text": [
            "------------------------------------\n",
            "| custom/             |            |\n",
            "|    avg_reward_100ep | -36.905285 |\n",
            "| rollout/            |            |\n",
            "|    ep_len_mean      | 694        |\n",
            "|    ep_rew_mean      | -36.9      |\n",
            "| time/               |            |\n",
            "|    episodes         | 440        |\n",
            "|    fps              | 588        |\n",
            "|    time_elapsed     | 428        |\n",
            "|    total_timesteps  | 252330     |\n",
            "| train/              |            |\n",
            "|    actor_loss       | 1.59       |\n",
            "|    critic_loss      | 8.61       |\n",
            "|    learning_rate    | 0.0003     |\n",
            "|    n_updates        | 372056     |\n",
            "------------------------------------\n"
          ]
        },
        {
          "name": "stdout",
          "output_type": "stream",
          "text": [
            "------------------------------------\n",
            "| custom/             |            |\n",
            "|    avg_reward_100ep | -35.731277 |\n",
            "| rollout/            |            |\n",
            "|    ep_len_mean      | 704        |\n",
            "|    ep_rew_mean      | -35.7      |\n",
            "| time/               |            |\n",
            "|    episodes         | 444        |\n",
            "|    fps              | 589        |\n",
            "|    time_elapsed     | 435        |\n",
            "|    total_timesteps  | 256560     |\n",
            "| train/              |            |\n",
            "|    actor_loss       | 1.63       |\n",
            "|    critic_loss      | 5.88       |\n",
            "|    learning_rate    | 0.0003     |\n",
            "|    n_updates        | 372761     |\n",
            "------------------------------------\n"
          ]
        },
        {
          "name": "stdout",
          "output_type": "stream",
          "text": [
            "------------------------------------\n",
            "| custom/             |            |\n",
            "|    avg_reward_100ep | -35.710014 |\n",
            "| rollout/            |            |\n",
            "|    ep_len_mean      | 704        |\n",
            "|    ep_rew_mean      | -35.7      |\n",
            "| time/               |            |\n",
            "|    episodes         | 448        |\n",
            "|    fps              | 589        |\n",
            "|    time_elapsed     | 439        |\n",
            "|    total_timesteps  | 259218     |\n",
            "| train/              |            |\n",
            "|    actor_loss       | -0.437     |\n",
            "|    critic_loss      | 6.77       |\n",
            "|    learning_rate    | 0.0003     |\n",
            "|    n_updates        | 373204     |\n",
            "------------------------------------\n"
          ]
        },
        {
          "name": "stdout",
          "output_type": "stream",
          "text": [
            "------------------------------------\n",
            "| custom/             |            |\n",
            "|    avg_reward_100ep | -31.350342 |\n",
            "| rollout/            |            |\n",
            "|    ep_len_mean      | 713        |\n",
            "|    ep_rew_mean      | -31.4      |\n",
            "| time/               |            |\n",
            "|    episodes         | 452        |\n",
            "|    fps              | 589        |\n",
            "|    time_elapsed     | 445        |\n",
            "|    total_timesteps  | 262800     |\n",
            "| train/              |            |\n",
            "|    actor_loss       | 2.38       |\n",
            "|    critic_loss      | 6.41       |\n",
            "|    learning_rate    | 0.0003     |\n",
            "|    n_updates        | 373801     |\n",
            "------------------------------------\n"
          ]
        },
        {
          "name": "stdout",
          "output_type": "stream",
          "text": [
            "------------------------------------\n",
            "| custom/             |            |\n",
            "|    avg_reward_100ep | -32.213295 |\n",
            "| rollout/            |            |\n",
            "|    ep_len_mean      | 698        |\n",
            "|    ep_rew_mean      | -32.2      |\n",
            "| time/               |            |\n",
            "|    episodes         | 456        |\n",
            "|    fps              | 589        |\n",
            "|    time_elapsed     | 448        |\n",
            "|    total_timesteps  | 264432     |\n",
            "| train/              |            |\n",
            "|    actor_loss       | 1.57       |\n",
            "|    critic_loss      | 3.82       |\n",
            "|    learning_rate    | 0.0003     |\n",
            "|    n_updates        | 374073     |\n",
            "------------------------------------\n"
          ]
        },
        {
          "name": "stdout",
          "output_type": "stream",
          "text": [
            "------------------------------------\n",
            "| custom/             |            |\n",
            "|    avg_reward_100ep | -32.071823 |\n",
            "| rollout/            |            |\n",
            "|    ep_len_mean      | 687        |\n",
            "|    ep_rew_mean      | -32.1      |\n",
            "| time/               |            |\n",
            "|    episodes         | 460        |\n",
            "|    fps              | 589        |\n",
            "|    time_elapsed     | 452        |\n",
            "|    total_timesteps  | 266514     |\n",
            "| train/              |            |\n",
            "|    actor_loss       | 1.14       |\n",
            "|    critic_loss      | 10.9       |\n",
            "|    learning_rate    | 0.0003     |\n",
            "|    n_updates        | 374420     |\n",
            "------------------------------------\n"
          ]
        },
        {
          "name": "stdout",
          "output_type": "stream",
          "text": [
            "------------------------------------\n",
            "| custom/             |            |\n",
            "|    avg_reward_100ep | -34.058933 |\n",
            "| rollout/            |            |\n",
            "|    ep_len_mean      | 683        |\n",
            "|    ep_rew_mean      | -34.1      |\n",
            "| time/               |            |\n",
            "|    episodes         | 464        |\n",
            "|    fps              | 589        |\n",
            "|    time_elapsed     | 455        |\n",
            "|    total_timesteps  | 268686     |\n",
            "| train/              |            |\n",
            "|    actor_loss       | 4.18       |\n",
            "|    critic_loss      | 5.77       |\n",
            "|    learning_rate    | 0.0003     |\n",
            "|    n_updates        | 374782     |\n",
            "------------------------------------\n"
          ]
        },
        {
          "data": {
            "text/html": [
              "<pre style=\"white-space:pre;overflow-x:auto;line-height:normal;font-family:Menlo,'DejaVu Sans Mono',consolas,'Courier New',monospace\">Eval num_timesteps=270000, episode_reward=-42.28 +/- 92.31\n",
              "</pre>\n"
            ],
            "text/plain": [
              "Eval num_timesteps=270000, episode_reward=-42.28 +/- 92.31\n"
            ]
          },
          "metadata": {},
          "output_type": "display_data"
        },
        {
          "data": {
            "text/html": [
              "<pre style=\"white-space:pre;overflow-x:auto;line-height:normal;font-family:Menlo,'DejaVu Sans Mono',consolas,'Courier New',monospace\">Episode length: 346.40 +/- 332.27\n",
              "</pre>\n"
            ],
            "text/plain": [
              "Episode length: 346.40 +/- 332.27\n"
            ]
          },
          "metadata": {},
          "output_type": "display_data"
        },
        {
          "name": "stdout",
          "output_type": "stream",
          "text": [
            "------------------------------------\n",
            "| custom/             |            |\n",
            "|    avg_reward_100ep | -34.169308 |\n",
            "| eval/               |            |\n",
            "|    mean_ep_length   | 346        |\n",
            "|    mean_reward      | -42.3      |\n",
            "| time/               |            |\n",
            "|    total_timesteps  | 270000     |\n",
            "| train/              |            |\n",
            "|    actor_loss       | 4.55       |\n",
            "|    critic_loss      | 2.94       |\n",
            "|    learning_rate    | 0.0003     |\n",
            "|    n_updates        | 375001     |\n",
            "------------------------------------\n"
          ]
        },
        {
          "name": "stdout",
          "output_type": "stream",
          "text": [
            "------------------------------------\n",
            "| custom/             |            |\n",
            "|    avg_reward_100ep | -34.054935 |\n",
            "| rollout/            |            |\n",
            "|    ep_len_mean      | 675        |\n",
            "|    ep_rew_mean      | -34.1      |\n",
            "| time/               |            |\n",
            "|    episodes         | 468        |\n",
            "|    fps              | 587        |\n",
            "|    time_elapsed     | 463        |\n",
            "|    total_timesteps  | 272430     |\n",
            "| train/              |            |\n",
            "|    actor_loss       | 2.79       |\n",
            "|    critic_loss      | 10.2       |\n",
            "|    learning_rate    | 0.0003     |\n",
            "|    n_updates        | 375406     |\n",
            "------------------------------------\n"
          ]
        },
        {
          "name": "stdout",
          "output_type": "stream",
          "text": [
            "------------------------------------\n",
            "| custom/             |            |\n",
            "|    avg_reward_100ep | -35.200943 |\n",
            "| rollout/            |            |\n",
            "|    ep_len_mean      | 669        |\n",
            "|    ep_rew_mean      | -35.2      |\n",
            "| time/               |            |\n",
            "|    episodes         | 472        |\n",
            "|    fps              | 588        |\n",
            "|    time_elapsed     | 467        |\n",
            "|    total_timesteps  | 274644     |\n",
            "| train/              |            |\n",
            "|    actor_loss       | 1.42       |\n",
            "|    critic_loss      | 3.15       |\n",
            "|    learning_rate    | 0.0003     |\n",
            "|    n_updates        | 375775     |\n",
            "------------------------------------\n"
          ]
        },
        {
          "name": "stdout",
          "output_type": "stream",
          "text": [
            "-----------------------------------\n",
            "| custom/             |           |\n",
            "|    avg_reward_100ep | -35.22062 |\n",
            "| rollout/            |           |\n",
            "|    ep_len_mean      | 663       |\n",
            "|    ep_rew_mean      | -35.2     |\n",
            "| time/               |           |\n",
            "|    episodes         | 476       |\n",
            "|    fps              | 588       |\n",
            "|    time_elapsed     | 471       |\n",
            "|    total_timesteps  | 277122    |\n",
            "| train/              |           |\n",
            "|    actor_loss       | 3.24      |\n",
            "|    critic_loss      | 3.58      |\n",
            "|    learning_rate    | 0.0003    |\n",
            "|    n_updates        | 376188    |\n",
            "-----------------------------------\n"
          ]
        },
        {
          "name": "stdout",
          "output_type": "stream",
          "text": [
            "----------------------------------\n",
            "| custom/             |          |\n",
            "|    avg_reward_100ep | -36.9286 |\n",
            "| rollout/            |          |\n",
            "|    ep_len_mean      | 660      |\n",
            "|    ep_rew_mean      | -36.9    |\n",
            "| time/               |          |\n",
            "|    episodes         | 480      |\n",
            "|    fps              | 588      |\n",
            "|    time_elapsed     | 474      |\n",
            "|    total_timesteps  | 279006   |\n",
            "| train/              |          |\n",
            "|    actor_loss       | 1.84     |\n",
            "|    critic_loss      | 8.67     |\n",
            "|    learning_rate    | 0.0003   |\n",
            "|    n_updates        | 376502   |\n",
            "----------------------------------\n"
          ]
        },
        {
          "name": "stdout",
          "output_type": "stream",
          "text": [
            "-----------------------------------\n",
            "| custom/             |           |\n",
            "|    avg_reward_100ep | -34.35782 |\n",
            "| rollout/            |           |\n",
            "|    ep_len_mean      | 663       |\n",
            "|    ep_rew_mean      | -34.4     |\n",
            "| time/               |           |\n",
            "|    episodes         | 484       |\n",
            "|    fps              | 588       |\n",
            "|    time_elapsed     | 480       |\n",
            "|    total_timesteps  | 282534    |\n",
            "| train/              |           |\n",
            "|    actor_loss       | 3.54      |\n",
            "|    critic_loss      | 5.63      |\n",
            "|    learning_rate    | 0.0003    |\n",
            "|    n_updates        | 377090    |\n",
            "-----------------------------------\n"
          ]
        },
        {
          "name": "stdout",
          "output_type": "stream",
          "text": [
            "------------------------------------\n",
            "| custom/             |            |\n",
            "|    avg_reward_100ep | -33.200882 |\n",
            "| rollout/            |            |\n",
            "|    ep_len_mean      | 660        |\n",
            "|    ep_rew_mean      | -33.2      |\n",
            "| time/               |            |\n",
            "|    episodes         | 488        |\n",
            "|    fps              | 588        |\n",
            "|    time_elapsed     | 483        |\n",
            "|    total_timesteps  | 284514     |\n",
            "| train/              |            |\n",
            "|    actor_loss       | 2.45       |\n",
            "|    critic_loss      | 5.58       |\n",
            "|    learning_rate    | 0.0003     |\n",
            "|    n_updates        | 377420     |\n",
            "------------------------------------\n"
          ]
        },
        {
          "name": "stdout",
          "output_type": "stream",
          "text": [
            "------------------------------------\n",
            "| custom/             |            |\n",
            "|    avg_reward_100ep | -32.716835 |\n",
            "| rollout/            |            |\n",
            "|    ep_len_mean      | 647        |\n",
            "|    ep_rew_mean      | -32.7      |\n",
            "| time/               |            |\n",
            "|    episodes         | 492        |\n",
            "|    fps              | 588        |\n",
            "|    time_elapsed     | 490        |\n",
            "|    total_timesteps  | 288588     |\n",
            "| train/              |            |\n",
            "|    actor_loss       | 1.77       |\n",
            "|    critic_loss      | 5.18       |\n",
            "|    learning_rate    | 0.0003     |\n",
            "|    n_updates        | 378099     |\n",
            "------------------------------------\n"
          ]
        },
        {
          "name": "stdout",
          "output_type": "stream",
          "text": [
            "-----------------------------------\n",
            "| custom/             |           |\n",
            "|    avg_reward_100ep | -30.14949 |\n",
            "| rollout/            |           |\n",
            "|    ep_len_mean      | 647       |\n",
            "|    ep_rew_mean      | -30.1     |\n",
            "| time/               |           |\n",
            "|    episodes         | 496       |\n",
            "|    fps              | 588       |\n",
            "|    time_elapsed     | 492       |\n",
            "|    total_timesteps  | 290088    |\n",
            "| train/              |           |\n",
            "|    actor_loss       | 3.28      |\n",
            "|    critic_loss      | 5.29      |\n",
            "|    learning_rate    | 0.0003    |\n",
            "|    n_updates        | 378349    |\n",
            "-----------------------------------\n"
          ]
        },
        {
          "name": "stdout",
          "output_type": "stream",
          "text": [
            "-----------------------------------\n",
            "| custom/             |           |\n",
            "|    avg_reward_100ep | -30.15019 |\n",
            "| rollout/            |           |\n",
            "|    ep_len_mean      | 638       |\n",
            "|    ep_rew_mean      | -30.2     |\n",
            "| time/               |           |\n",
            "|    episodes         | 500       |\n",
            "|    fps              | 588       |\n",
            "|    time_elapsed     | 498       |\n",
            "|    total_timesteps  | 293412    |\n",
            "| train/              |           |\n",
            "|    actor_loss       | 3.06      |\n",
            "|    critic_loss      | 9.11      |\n",
            "|    learning_rate    | 0.0003    |\n",
            "|    n_updates        | 378903    |\n",
            "-----------------------------------\n"
          ]
        },
        {
          "name": "stdout",
          "output_type": "stream",
          "text": [
            "------------------------------------\n",
            "| custom/             |            |\n",
            "|    avg_reward_100ep | -26.265749 |\n",
            "| rollout/            |            |\n",
            "|    ep_len_mean      | 646        |\n",
            "|    ep_rew_mean      | -26.3      |\n",
            "| time/               |            |\n",
            "|    episodes         | 504        |\n",
            "|    fps              | 588        |\n",
            "|    time_elapsed     | 501        |\n",
            "|    total_timesteps  | 295452     |\n",
            "| train/              |            |\n",
            "|    actor_loss       | 5.13       |\n",
            "|    critic_loss      | 3.93       |\n",
            "|    learning_rate    | 0.0003     |\n",
            "|    n_updates        | 379243     |\n",
            "------------------------------------\n"
          ]
        },
        {
          "data": {
            "text/html": [
              "<pre style=\"white-space:pre;overflow-x:auto;line-height:normal;font-family:Menlo,'DejaVu Sans Mono',consolas,'Courier New',monospace\">Eval num_timesteps=300000, episode_reward=-22.78 +/- 41.30\n",
              "</pre>\n"
            ],
            "text/plain": [
              "Eval num_timesteps=300000, episode_reward=-22.78 +/- 41.30\n"
            ]
          },
          "metadata": {},
          "output_type": "display_data"
        },
        {
          "data": {
            "text/html": [
              "<pre style=\"white-space:pre;overflow-x:auto;line-height:normal;font-family:Menlo,'DejaVu Sans Mono',consolas,'Courier New',monospace\">Episode length: 713.80 +/- 337.89\n",
              "</pre>\n"
            ],
            "text/plain": [
              "Episode length: 713.80 +/- 337.89\n"
            ]
          },
          "metadata": {},
          "output_type": "display_data"
        },
        {
          "name": "stdout",
          "output_type": "stream",
          "text": [
            "------------------------------------\n",
            "| custom/             |            |\n",
            "|    avg_reward_100ep | -26.554848 |\n",
            "| eval/               |            |\n",
            "|    mean_ep_length   | 714        |\n",
            "|    mean_reward      | -22.8      |\n",
            "| time/               |            |\n",
            "|    total_timesteps  | 300000     |\n",
            "| train/              |            |\n",
            "|    actor_loss       | 4.51       |\n",
            "|    critic_loss      | 9.01       |\n",
            "|    learning_rate    | 0.0003     |\n",
            "|    n_updates        | 380001     |\n",
            "------------------------------------\n"
          ]
        },
        {
          "name": "stdout",
          "output_type": "stream",
          "text": [
            "------------------------------------\n",
            "| custom/             |            |\n",
            "|    avg_reward_100ep | -25.863092 |\n",
            "| rollout/            |            |\n",
            "|    ep_len_mean      | 653        |\n",
            "|    ep_rew_mean      | -25.9      |\n",
            "| time/               |            |\n",
            "|    episodes         | 508        |\n",
            "|    fps              | 585        |\n",
            "|    time_elapsed     | 512        |\n",
            "|    total_timesteps  | 300300     |\n",
            "| train/              |            |\n",
            "|    actor_loss       | 2.45       |\n",
            "|    critic_loss      | 4.64       |\n",
            "|    learning_rate    | 0.0003     |\n",
            "|    n_updates        | 380051     |\n",
            "------------------------------------\n"
          ]
        },
        {
          "name": "stdout",
          "output_type": "stream",
          "text": [
            "-----------------------------------\n",
            "| custom/             |           |\n",
            "|    avg_reward_100ep | -26.02333 |\n",
            "| rollout/            |           |\n",
            "|    ep_len_mean      | 662       |\n",
            "|    ep_rew_mean      | -26       |\n",
            "| time/               |           |\n",
            "|    episodes         | 512       |\n",
            "|    fps              | 586       |\n",
            "|    time_elapsed     | 514       |\n",
            "|    total_timesteps  | 301752    |\n",
            "| train/              |           |\n",
            "|    actor_loss       | 2.5       |\n",
            "|    critic_loss      | 8.02      |\n",
            "|    learning_rate    | 0.0003    |\n",
            "|    n_updates        | 380293    |\n",
            "-----------------------------------\n"
          ]
        },
        {
          "name": "stdout",
          "output_type": "stream",
          "text": [
            "-----------------------------------\n",
            "| custom/             |           |\n",
            "|    avg_reward_100ep | -26.20667 |\n",
            "| rollout/            |           |\n",
            "|    ep_len_mean      | 669       |\n",
            "|    ep_rew_mean      | -26.2     |\n",
            "| time/               |           |\n",
            "|    episodes         | 516       |\n",
            "|    fps              | 586       |\n",
            "|    time_elapsed     | 520       |\n",
            "|    total_timesteps  | 305412    |\n",
            "| train/              |           |\n",
            "|    actor_loss       | 4.07      |\n",
            "|    critic_loss      | 2.88      |\n",
            "|    learning_rate    | 0.0003    |\n",
            "|    n_updates        | 380903    |\n",
            "-----------------------------------\n"
          ]
        },
        {
          "name": "stdout",
          "output_type": "stream",
          "text": [
            "------------------------------------\n",
            "| custom/             |            |\n",
            "|    avg_reward_100ep | -25.140633 |\n",
            "| rollout/            |            |\n",
            "|    ep_len_mean      | 682        |\n",
            "|    ep_rew_mean      | -25.1      |\n",
            "| time/               |            |\n",
            "|    episodes         | 520        |\n",
            "|    fps              | 586        |\n",
            "|    time_elapsed     | 524        |\n",
            "|    total_timesteps  | 307836     |\n",
            "| train/              |            |\n",
            "|    actor_loss       | 1.66       |\n",
            "|    critic_loss      | 12         |\n",
            "|    learning_rate    | 0.0003     |\n",
            "|    n_updates        | 381307     |\n",
            "------------------------------------\n"
          ]
        },
        {
          "name": "stdout",
          "output_type": "stream",
          "text": [
            "------------------------------------\n",
            "| custom/             |            |\n",
            "|    avg_reward_100ep | -24.286386 |\n",
            "| rollout/            |            |\n",
            "|    ep_len_mean      | 698        |\n",
            "|    ep_rew_mean      | -24.3      |\n",
            "| time/               |            |\n",
            "|    episodes         | 524        |\n",
            "|    fps              | 586        |\n",
            "|    time_elapsed     | 533        |\n",
            "|    total_timesteps  | 313038     |\n",
            "| train/              |            |\n",
            "|    actor_loss       | 2.33       |\n",
            "|    critic_loss      | 2.75       |\n",
            "|    learning_rate    | 0.0003     |\n",
            "|    n_updates        | 382174     |\n",
            "------------------------------------\n"
          ]
        },
        {
          "name": "stdout",
          "output_type": "stream",
          "text": [
            "------------------------------------\n",
            "| custom/             |            |\n",
            "|    avg_reward_100ep | -23.276035 |\n",
            "| rollout/            |            |\n",
            "|    ep_len_mean      | 720        |\n",
            "|    ep_rew_mean      | -23.3      |\n",
            "| time/               |            |\n",
            "|    episodes         | 528        |\n",
            "|    fps              | 586        |\n",
            "|    time_elapsed     | 539        |\n",
            "|    total_timesteps  | 316410     |\n",
            "| train/              |            |\n",
            "|    actor_loss       | 4.79       |\n",
            "|    critic_loss      | 7.59       |\n",
            "|    learning_rate    | 0.0003     |\n",
            "|    n_updates        | 382736     |\n",
            "------------------------------------\n"
          ]
        },
        {
          "name": "stdout",
          "output_type": "stream",
          "text": [
            "------------------------------------\n",
            "| custom/             |            |\n",
            "|    avg_reward_100ep | -24.368532 |\n",
            "| rollout/            |            |\n",
            "|    ep_len_mean      | 737        |\n",
            "|    ep_rew_mean      | -24.4      |\n",
            "| time/               |            |\n",
            "|    episodes         | 532        |\n",
            "|    fps              | 586        |\n",
            "|    time_elapsed     | 544        |\n",
            "|    total_timesteps  | 319836     |\n",
            "| train/              |            |\n",
            "|    actor_loss       | 3.1        |\n",
            "|    critic_loss      | 4.79       |\n",
            "|    learning_rate    | 0.0003     |\n",
            "|    n_updates        | 383307     |\n",
            "------------------------------------\n"
          ]
        },
        {
          "name": "stdout",
          "output_type": "stream",
          "text": [
            "------------------------------------\n",
            "| custom/             |            |\n",
            "|    avg_reward_100ep | -22.850288 |\n",
            "| rollout/            |            |\n",
            "|    ep_len_mean      | 740        |\n",
            "|    ep_rew_mean      | -22.9      |\n",
            "| time/               |            |\n",
            "|    episodes         | 536        |\n",
            "|    fps              | 587        |\n",
            "|    time_elapsed     | 550        |\n",
            "|    total_timesteps  | 323244     |\n",
            "| train/              |            |\n",
            "|    actor_loss       | 4.68       |\n",
            "|    critic_loss      | 4.44       |\n",
            "|    learning_rate    | 0.0003     |\n",
            "|    n_updates        | 383875     |\n",
            "------------------------------------\n"
          ]
        },
        {
          "name": "stdout",
          "output_type": "stream",
          "text": [
            "------------------------------------\n",
            "| custom/             |            |\n",
            "|    avg_reward_100ep | -23.488945 |\n",
            "| rollout/            |            |\n",
            "|    ep_len_mean      | 732        |\n",
            "|    ep_rew_mean      | -23.5      |\n",
            "| time/               |            |\n",
            "|    episodes         | 540        |\n",
            "|    fps              | 587        |\n",
            "|    time_elapsed     | 554        |\n",
            "|    total_timesteps  | 325836     |\n",
            "| train/              |            |\n",
            "|    actor_loss       | 5.74       |\n",
            "|    critic_loss      | 5.19       |\n",
            "|    learning_rate    | 0.0003     |\n",
            "|    n_updates        | 384307     |\n",
            "------------------------------------\n"
          ]
        },
        {
          "name": "stdout",
          "output_type": "stream",
          "text": [
            "------------------------------------\n",
            "| custom/             |            |\n",
            "|    avg_reward_100ep | -23.905855 |\n",
            "| rollout/            |            |\n",
            "|    ep_len_mean      | 730        |\n",
            "|    ep_rew_mean      | -23.9      |\n",
            "| time/               |            |\n",
            "|    episodes         | 544        |\n",
            "|    fps              | 587        |\n",
            "|    time_elapsed     | 560        |\n",
            "|    total_timesteps  | 329412     |\n",
            "| train/              |            |\n",
            "|    actor_loss       | 3.41       |\n",
            "|    critic_loss      | 5.6        |\n",
            "|    learning_rate    | 0.0003     |\n",
            "|    n_updates        | 384903     |\n",
            "------------------------------------\n"
          ]
        },
        {
          "data": {
            "text/html": [
              "<pre style=\"white-space:pre;overflow-x:auto;line-height:normal;font-family:Menlo,'DejaVu Sans Mono',consolas,'Courier New',monospace\">Eval num_timesteps=330000, episode_reward=-20.17 +/- 61.98\n",
              "</pre>\n"
            ],
            "text/plain": [
              "Eval num_timesteps=330000, episode_reward=-20.17 +/- 61.98\n"
            ]
          },
          "metadata": {},
          "output_type": "display_data"
        },
        {
          "data": {
            "text/html": [
              "<pre style=\"white-space:pre;overflow-x:auto;line-height:normal;font-family:Menlo,'DejaVu Sans Mono',consolas,'Courier New',monospace\">Episode length: 717.80 +/- 359.34\n",
              "</pre>\n"
            ],
            "text/plain": [
              "Episode length: 717.80 +/- 359.34\n"
            ]
          },
          "metadata": {},
          "output_type": "display_data"
        },
        {
          "name": "stdout",
          "output_type": "stream",
          "text": [
            "---------------------------------\n",
            "| eval/              |          |\n",
            "|    mean_ep_length  | 718      |\n",
            "|    mean_reward     | -20.2    |\n",
            "| time/              |          |\n",
            "|    total_timesteps | 330000   |\n",
            "| train/             |          |\n",
            "|    actor_loss      | 4.97     |\n",
            "|    critic_loss     | 3.68     |\n",
            "|    learning_rate   | 0.0003   |\n",
            "|    n_updates       | 385001   |\n",
            "---------------------------------\n"
          ]
        },
        {
          "name": "stdout",
          "output_type": "stream",
          "text": [
            "------------------------------------\n",
            "| custom/             |            |\n",
            "|    avg_reward_100ep | -25.696253 |\n",
            "| rollout/            |            |\n",
            "|    ep_len_mean      | 735        |\n",
            "|    ep_rew_mean      | -25.7      |\n",
            "| time/               |            |\n",
            "|    episodes         | 548        |\n",
            "|    fps              | 584        |\n",
            "|    time_elapsed     | 570        |\n",
            "|    total_timesteps  | 333558     |\n",
            "| train/              |            |\n",
            "|    actor_loss       | 3.37       |\n",
            "|    critic_loss      | 3.63       |\n",
            "|    learning_rate    | 0.0003     |\n",
            "|    n_updates        | 385594     |\n",
            "------------------------------------\n"
          ]
        },
        {
          "name": "stdout",
          "output_type": "stream",
          "text": [
            "------------------------------------\n",
            "| custom/             |            |\n",
            "|    avg_reward_100ep | -28.535294 |\n",
            "| rollout/            |            |\n",
            "|    ep_len_mean      | 731        |\n",
            "|    ep_rew_mean      | -28.5      |\n",
            "| time/               |            |\n",
            "|    episodes         | 552        |\n",
            "|    fps              | 584        |\n",
            "|    time_elapsed     | 575        |\n",
            "|    total_timesteps  | 336336     |\n",
            "| train/              |            |\n",
            "|    actor_loss       | 6.14       |\n",
            "|    critic_loss      | 6.05       |\n",
            "|    learning_rate    | 0.0003     |\n",
            "|    n_updates        | 386057     |\n",
            "------------------------------------\n"
          ]
        },
        {
          "name": "stdout",
          "output_type": "stream",
          "text": [
            "-----------------------------------\n",
            "| custom/             |           |\n",
            "|    avg_reward_100ep | -29.00557 |\n",
            "| rollout/            |           |\n",
            "|    ep_len_mean      | 739       |\n",
            "|    ep_rew_mean      | -29       |\n",
            "| time/               |           |\n",
            "|    episodes         | 556       |\n",
            "|    fps              | 584       |\n",
            "|    time_elapsed     | 580       |\n",
            "|    total_timesteps  | 339060    |\n",
            "| train/              |           |\n",
            "|    actor_loss       | 6.64      |\n",
            "|    critic_loss      | 6.29      |\n",
            "|    learning_rate    | 0.0003    |\n",
            "|    n_updates        | 386511    |\n",
            "-----------------------------------\n"
          ]
        },
        {
          "name": "stdout",
          "output_type": "stream",
          "text": [
            "------------------------------------\n",
            "| custom/             |            |\n",
            "|    avg_reward_100ep | -31.014727 |\n",
            "| rollout/            |            |\n",
            "|    ep_len_mean      | 750        |\n",
            "|    ep_rew_mean      | -31        |\n",
            "| time/               |            |\n",
            "|    episodes         | 560        |\n",
            "|    fps              | 584        |\n",
            "|    time_elapsed     | 584        |\n",
            "|    total_timesteps  | 341454     |\n",
            "| train/              |            |\n",
            "|    actor_loss       | 4.75       |\n",
            "|    critic_loss      | 4.05       |\n",
            "|    learning_rate    | 0.0003     |\n",
            "|    n_updates        | 386910     |\n",
            "------------------------------------\n"
          ]
        },
        {
          "name": "stdout",
          "output_type": "stream",
          "text": [
            "------------------------------------\n",
            "| custom/             |            |\n",
            "|    avg_reward_100ep | -28.704824 |\n",
            "| rollout/            |            |\n",
            "|    ep_len_mean      | 750        |\n",
            "|    ep_rew_mean      | -28.7      |\n",
            "| time/               |            |\n",
            "|    episodes         | 564        |\n",
            "|    fps              | 584        |\n",
            "|    time_elapsed     | 587        |\n",
            "|    total_timesteps  | 343836     |\n",
            "| train/              |            |\n",
            "|    actor_loss       | 4.87       |\n",
            "|    critic_loss      | 4.08       |\n",
            "|    learning_rate    | 0.0003     |\n",
            "|    n_updates        | 387307     |\n",
            "------------------------------------\n"
          ]
        },
        {
          "name": "stdout",
          "output_type": "stream",
          "text": [
            "------------------------------------\n",
            "| custom/             |            |\n",
            "|    avg_reward_100ep | -28.751158 |\n",
            "| rollout/            |            |\n",
            "|    ep_len_mean      | 758        |\n",
            "|    ep_rew_mean      | -28.8      |\n",
            "| time/               |            |\n",
            "|    episodes         | 568        |\n",
            "|    fps              | 585        |\n",
            "|    time_elapsed     | 596        |\n",
            "|    total_timesteps  | 348846     |\n",
            "| train/              |            |\n",
            "|    actor_loss       | 6.2        |\n",
            "|    critic_loss      | 7.83       |\n",
            "|    learning_rate    | 0.0003     |\n",
            "|    n_updates        | 388142     |\n",
            "------------------------------------\n"
          ]
        },
        {
          "name": "stdout",
          "output_type": "stream",
          "text": [
            "-----------------------------------\n",
            "| custom/             |           |\n",
            "|    avg_reward_100ep | -27.62992 |\n",
            "| rollout/            |           |\n",
            "|    ep_len_mean      | 762       |\n",
            "|    ep_rew_mean      | -27.6     |\n",
            "| time/               |           |\n",
            "|    episodes         | 572       |\n",
            "|    fps              | 585       |\n",
            "|    time_elapsed     | 599       |\n",
            "|    total_timesteps  | 350682    |\n",
            "| train/              |           |\n",
            "|    actor_loss       | 5.85      |\n",
            "|    critic_loss      | 8.06      |\n",
            "|    learning_rate    | 0.0003    |\n",
            "|    n_updates        | 388448    |\n",
            "-----------------------------------\n"
          ]
        },
        {
          "name": "stdout",
          "output_type": "stream",
          "text": [
            "------------------------------------\n",
            "| custom/             |            |\n",
            "|    avg_reward_100ep | -27.845848 |\n",
            "| rollout/            |            |\n",
            "|    ep_len_mean      | 766        |\n",
            "|    ep_rew_mean      | -27.8      |\n",
            "| time/               |            |\n",
            "|    episodes         | 576        |\n",
            "|    fps              | 585        |\n",
            "|    time_elapsed     | 605        |\n",
            "|    total_timesteps  | 354618     |\n",
            "| train/              |            |\n",
            "|    actor_loss       | 4.6        |\n",
            "|    critic_loss      | 4.93       |\n",
            "|    learning_rate    | 0.0003     |\n",
            "|    n_updates        | 389104     |\n",
            "------------------------------------\n"
          ]
        },
        {
          "name": "stdout",
          "output_type": "stream",
          "text": [
            "------------------------------------\n",
            "| custom/             |            |\n",
            "|    avg_reward_100ep | -25.476702 |\n",
            "| rollout/            |            |\n",
            "|    ep_len_mean      | 771        |\n",
            "|    ep_rew_mean      | -25.5      |\n",
            "| time/               |            |\n",
            "|    episodes         | 580        |\n",
            "|    fps              | 585        |\n",
            "|    time_elapsed     | 609        |\n",
            "|    total_timesteps  | 356682     |\n",
            "| train/              |            |\n",
            "|    actor_loss       | 4.74       |\n",
            "|    critic_loss      | 4.19       |\n",
            "|    learning_rate    | 0.0003     |\n",
            "|    n_updates        | 389448     |\n",
            "------------------------------------\n"
          ]
        },
        {
          "data": {
            "text/html": [
              "<pre style=\"white-space:pre;overflow-x:auto;line-height:normal;font-family:Menlo,'DejaVu Sans Mono',consolas,'Courier New',monospace\">Eval num_timesteps=360000, episode_reward=-32.66 +/- 50.61\n",
              "</pre>\n"
            ],
            "text/plain": [
              "Eval num_timesteps=360000, episode_reward=-32.66 +/- 50.61\n"
            ]
          },
          "metadata": {},
          "output_type": "display_data"
        },
        {
          "data": {
            "text/html": [
              "<pre style=\"white-space:pre;overflow-x:auto;line-height:normal;font-family:Menlo,'DejaVu Sans Mono',consolas,'Courier New',monospace\">Episode length: 934.80 +/- 130.40\n",
              "</pre>\n"
            ],
            "text/plain": [
              "Episode length: 934.80 +/- 130.40\n"
            ]
          },
          "metadata": {},
          "output_type": "display_data"
        },
        {
          "name": "stdout",
          "output_type": "stream",
          "text": [
            "------------------------------------\n",
            "| custom/             |            |\n",
            "|    avg_reward_100ep | -25.946735 |\n",
            "| eval/               |            |\n",
            "|    mean_ep_length   | 935        |\n",
            "|    mean_reward      | -32.7      |\n",
            "| time/               |            |\n",
            "|    total_timesteps  | 360000     |\n",
            "| train/              |            |\n",
            "|    actor_loss       | 5.14       |\n",
            "|    critic_loss      | 3.56       |\n",
            "|    learning_rate    | 0.0003     |\n",
            "|    n_updates        | 390001     |\n",
            "------------------------------------\n"
          ]
        },
        {
          "name": "stdout",
          "output_type": "stream",
          "text": [
            "------------------------------------\n",
            "| custom/             |            |\n",
            "|    avg_reward_100ep | -27.179626 |\n",
            "| rollout/            |            |\n",
            "|    ep_len_mean      | 775        |\n",
            "|    ep_rew_mean      | -27.2      |\n",
            "| time/               |            |\n",
            "|    episodes         | 584        |\n",
            "|    fps              | 581        |\n",
            "|    time_elapsed     | 620        |\n",
            "|    total_timesteps  | 361092     |\n",
            "| train/              |            |\n",
            "|    actor_loss       | 5.98       |\n",
            "|    critic_loss      | 3.74       |\n",
            "|    learning_rate    | 0.0003     |\n",
            "|    n_updates        | 390183     |\n",
            "------------------------------------\n"
          ]
        },
        {
          "name": "stdout",
          "output_type": "stream",
          "text": [
            "------------------------------------\n",
            "| custom/             |            |\n",
            "|    avg_reward_100ep | -26.133938 |\n",
            "| rollout/            |            |\n",
            "|    ep_len_mean      | 785        |\n",
            "|    ep_rew_mean      | -26.1      |\n",
            "| time/               |            |\n",
            "|    episodes         | 588        |\n",
            "|    fps              | 581        |\n",
            "|    time_elapsed     | 625        |\n",
            "|    total_timesteps  | 363702     |\n",
            "| train/              |            |\n",
            "|    actor_loss       | 4.89       |\n",
            "|    critic_loss      | 5.92       |\n",
            "|    learning_rate    | 0.0003     |\n",
            "|    n_updates        | 390618     |\n",
            "------------------------------------\n"
          ]
        },
        {
          "name": "stdout",
          "output_type": "stream",
          "text": [
            "------------------------------------\n",
            "| custom/             |            |\n",
            "|    avg_reward_100ep | -26.976076 |\n",
            "| rollout/            |            |\n",
            "|    ep_len_mean      | 798        |\n",
            "|    ep_rew_mean      | -27        |\n",
            "| time/               |            |\n",
            "|    episodes         | 592        |\n",
            "|    fps              | 582        |\n",
            "|    time_elapsed     | 633        |\n",
            "|    total_timesteps  | 368682     |\n",
            "| train/              |            |\n",
            "|    actor_loss       | 5.62       |\n",
            "|    critic_loss      | 2.85       |\n",
            "|    learning_rate    | 0.0003     |\n",
            "|    n_updates        | 391448     |\n",
            "------------------------------------\n"
          ]
        },
        {
          "name": "stdout",
          "output_type": "stream",
          "text": [
            "------------------------------------\n",
            "| custom/             |            |\n",
            "|    avg_reward_100ep | -28.557364 |\n",
            "| rollout/            |            |\n",
            "|    ep_len_mean      | 802        |\n",
            "|    ep_rew_mean      | -28.6      |\n",
            "| time/               |            |\n",
            "|    episodes         | 596        |\n",
            "|    fps              | 582        |\n",
            "|    time_elapsed     | 637        |\n",
            "|    total_timesteps  | 370998     |\n",
            "| train/              |            |\n",
            "|    actor_loss       | 3.46       |\n",
            "|    critic_loss      | 2.76       |\n",
            "|    learning_rate    | 0.0003     |\n",
            "|    n_updates        | 391834     |\n",
            "------------------------------------\n"
          ]
        },
        {
          "name": "stdout",
          "output_type": "stream",
          "text": [
            "------------------------------------\n",
            "| custom/             |            |\n",
            "|    avg_reward_100ep | -27.299736 |\n",
            "| rollout/            |            |\n",
            "|    ep_len_mean      | 812        |\n",
            "|    ep_rew_mean      | -27.3      |\n",
            "| time/               |            |\n",
            "|    episodes         | 600        |\n",
            "|    fps              | 582        |\n",
            "|    time_elapsed     | 643        |\n",
            "|    total_timesteps  | 374592     |\n",
            "| train/              |            |\n",
            "|    actor_loss       | 4.51       |\n",
            "|    critic_loss      | 3.62       |\n",
            "|    learning_rate    | 0.0003     |\n",
            "|    n_updates        | 392433     |\n",
            "------------------------------------\n"
          ]
        },
        {
          "name": "stdout",
          "output_type": "stream",
          "text": [
            "------------------------------------\n",
            "| custom/             |            |\n",
            "|    avg_reward_100ep | -30.435093 |\n",
            "| rollout/            |            |\n",
            "|    ep_len_mean      | 815        |\n",
            "|    ep_rew_mean      | -30.4      |\n",
            "| time/               |            |\n",
            "|    episodes         | 604        |\n",
            "|    fps              | 582        |\n",
            "|    time_elapsed     | 649        |\n",
            "|    total_timesteps  | 378066     |\n",
            "| train/              |            |\n",
            "|    actor_loss       | 5.01       |\n",
            "|    critic_loss      | 10.6       |\n",
            "|    learning_rate    | 0.0003     |\n",
            "|    n_updates        | 393012     |\n",
            "------------------------------------\n"
          ]
        },
        {
          "name": "stdout",
          "output_type": "stream",
          "text": [
            "----------------------------------\n",
            "| custom/             |          |\n",
            "|    avg_reward_100ep | -29.4475 |\n",
            "| rollout/            |          |\n",
            "|    ep_len_mean      | 818      |\n",
            "|    ep_rew_mean      | -29.4    |\n",
            "| time/               |          |\n",
            "|    episodes         | 608      |\n",
            "|    fps              | 582      |\n",
            "|    time_elapsed     | 653      |\n",
            "|    total_timesteps  | 380748   |\n",
            "| train/              |          |\n",
            "|    actor_loss       | 4.9      |\n",
            "|    critic_loss      | 2.15     |\n",
            "|    learning_rate    | 0.0003   |\n",
            "|    n_updates        | 393459   |\n",
            "----------------------------------\n"
          ]
        },
        {
          "name": "stdout",
          "output_type": "stream",
          "text": [
            "------------------------------------\n",
            "| custom/             |            |\n",
            "|    avg_reward_100ep | -30.061298 |\n",
            "| rollout/            |            |\n",
            "|    ep_len_mean      | 811        |\n",
            "|    ep_rew_mean      | -30.1      |\n",
            "| time/               |            |\n",
            "|    episodes         | 612        |\n",
            "|    fps              | 582        |\n",
            "|    time_elapsed     | 659        |\n",
            "|    total_timesteps  | 384246     |\n",
            "| train/              |            |\n",
            "|    actor_loss       | 4.72       |\n",
            "|    critic_loss      | 6          |\n",
            "|    learning_rate    | 0.0003     |\n",
            "|    n_updates        | 394042     |\n",
            "------------------------------------\n"
          ]
        },
        {
          "name": "stdout",
          "output_type": "stream",
          "text": [
            "------------------------------------\n",
            "| custom/             |            |\n",
            "|    avg_reward_100ep | -29.375462 |\n",
            "| rollout/            |            |\n",
            "|    ep_len_mean      | 813        |\n",
            "|    ep_rew_mean      | -29.4      |\n",
            "| time/               |            |\n",
            "|    episodes         | 616        |\n",
            "|    fps              | 582        |\n",
            "|    time_elapsed     | 663        |\n",
            "|    total_timesteps  | 386592     |\n",
            "| train/              |            |\n",
            "|    actor_loss       | 6.54       |\n",
            "|    critic_loss      | 3.48       |\n",
            "|    learning_rate    | 0.0003     |\n",
            "|    n_updates        | 394433     |\n",
            "------------------------------------\n"
          ]
        },
        {
          "name": "stdout",
          "output_type": "stream",
          "text": [
            "------------------------------------\n",
            "| custom/             |            |\n",
            "|    avg_reward_100ep | -30.238348 |\n",
            "| rollout/            |            |\n",
            "|    ep_len_mean      | 809        |\n",
            "|    ep_rew_mean      | -30.2      |\n",
            "| time/               |            |\n",
            "|    episodes         | 620        |\n",
            "|    fps              | 582        |\n",
            "|    time_elapsed     | 665        |\n",
            "|    total_timesteps  | 388272     |\n",
            "| train/              |            |\n",
            "|    actor_loss       | 4.54       |\n",
            "|    critic_loss      | 3.86       |\n",
            "|    learning_rate    | 0.0003     |\n",
            "|    n_updates        | 394713     |\n",
            "------------------------------------\n"
          ]
        },
        {
          "data": {
            "text/html": [
              "<pre style=\"white-space:pre;overflow-x:auto;line-height:normal;font-family:Menlo,'DejaVu Sans Mono',consolas,'Courier New',monospace\">Eval num_timesteps=390000, episode_reward=-9.63 +/- 46.71\n",
              "</pre>\n"
            ],
            "text/plain": [
              "Eval num_timesteps=390000, episode_reward=-9.63 +/- 46.71\n"
            ]
          },
          "metadata": {},
          "output_type": "display_data"
        },
        {
          "data": {
            "text/html": [
              "<pre style=\"white-space:pre;overflow-x:auto;line-height:normal;font-family:Menlo,'DejaVu Sans Mono',consolas,'Courier New',monospace\">Episode length: 841.60 +/- 316.80\n",
              "</pre>\n"
            ],
            "text/plain": [
              "Episode length: 841.60 +/- 316.80\n"
            ]
          },
          "metadata": {},
          "output_type": "display_data"
        },
        {
          "name": "stdout",
          "output_type": "stream",
          "text": [
            "---------------------------------\n",
            "| eval/              |          |\n",
            "|    mean_ep_length  | 842      |\n",
            "|    mean_reward     | -9.63    |\n",
            "| time/              |          |\n",
            "|    total_timesteps | 390000   |\n",
            "| train/             |          |\n",
            "|    actor_loss      | 3.8      |\n",
            "|    critic_loss     | 3.9      |\n",
            "|    learning_rate   | 0.0003   |\n",
            "|    n_updates       | 395001   |\n",
            "---------------------------------\n"
          ]
        },
        {
          "data": {
            "text/html": [
              "<pre style=\"white-space:pre;overflow-x:auto;line-height:normal;font-family:Menlo,'DejaVu Sans Mono',consolas,'Courier New',monospace\">New best mean reward!\n",
              "</pre>\n"
            ],
            "text/plain": [
              "New best mean reward!\n"
            ]
          },
          "metadata": {},
          "output_type": "display_data"
        },
        {
          "name": "stdout",
          "output_type": "stream",
          "text": [
            "------------------------------------\n",
            "| custom/             |            |\n",
            "|    avg_reward_100ep | -28.373568 |\n",
            "| rollout/            |            |\n",
            "|    ep_len_mean      | 809        |\n",
            "|    ep_rew_mean      | -28.4      |\n",
            "| time/               |            |\n",
            "|    episodes         | 624        |\n",
            "|    fps              | 580        |\n",
            "|    time_elapsed     | 678        |\n",
            "|    total_timesteps  | 393966     |\n",
            "| train/              |            |\n",
            "|    actor_loss       | 6.05       |\n",
            "|    critic_loss      | 2.77       |\n",
            "|    learning_rate    | 0.0003     |\n",
            "|    n_updates        | 395662     |\n",
            "------------------------------------\n"
          ]
        },
        {
          "name": "stdout",
          "output_type": "stream",
          "text": [
            "------------------------------------\n",
            "| custom/             |            |\n",
            "|    avg_reward_100ep | -27.112906 |\n",
            "| rollout/            |            |\n",
            "|    ep_len_mean      | 809        |\n",
            "|    ep_rew_mean      | -27.1      |\n",
            "| time/               |            |\n",
            "|    episodes         | 628        |\n",
            "|    fps              | 580        |\n",
            "|    time_elapsed     | 684        |\n",
            "|    total_timesteps  | 397338     |\n",
            "| train/              |            |\n",
            "|    actor_loss       | 4.6        |\n",
            "|    critic_loss      | 3.25       |\n",
            "|    learning_rate    | 0.0003     |\n",
            "|    n_updates        | 396224     |\n",
            "------------------------------------\n"
          ]
        },
        {
          "name": "stdout",
          "output_type": "stream",
          "text": [
            "------------------------------------\n",
            "| custom/             |            |\n",
            "|    avg_reward_100ep | -26.439577 |\n",
            "| rollout/            |            |\n",
            "|    ep_len_mean      | 806        |\n",
            "|    ep_rew_mean      | -26.4      |\n",
            "| time/               |            |\n",
            "|    episodes         | 632        |\n",
            "|    fps              | 580        |\n",
            "|    time_elapsed     | 689        |\n",
            "|    total_timesteps  | 400272     |\n",
            "| train/              |            |\n",
            "|    actor_loss       | 7.48       |\n",
            "|    critic_loss      | 3.4        |\n",
            "|    learning_rate    | 0.0003     |\n",
            "|    n_updates        | 396713     |\n",
            "------------------------------------\n"
          ]
        },
        {
          "name": "stdout",
          "output_type": "stream",
          "text": [
            "------------------------------------\n",
            "| custom/             |            |\n",
            "|    avg_reward_100ep | -24.416191 |\n",
            "| rollout/            |            |\n",
            "|    ep_len_mean      | 819        |\n",
            "|    ep_rew_mean      | -24.4      |\n",
            "| time/               |            |\n",
            "|    episodes         | 636        |\n",
            "|    fps              | 580        |\n",
            "|    time_elapsed     | 696        |\n",
            "|    total_timesteps  | 404748     |\n",
            "| train/              |            |\n",
            "|    actor_loss       | 7.11       |\n",
            "|    critic_loss      | 5.48       |\n",
            "|    learning_rate    | 0.0003     |\n",
            "|    n_updates        | 397459     |\n",
            "------------------------------------\n"
          ]
        },
        {
          "name": "stdout",
          "output_type": "stream",
          "text": [
            "------------------------------------\n",
            "| custom/             |            |\n",
            "|    avg_reward_100ep | -25.297945 |\n",
            "| rollout/            |            |\n",
            "|    ep_len_mean      | 826        |\n",
            "|    ep_rew_mean      | -25.3      |\n",
            "| time/               |            |\n",
            "|    episodes         | 640        |\n",
            "|    fps              | 581        |\n",
            "|    time_elapsed     | 703        |\n",
            "|    total_timesteps  | 408972     |\n",
            "| train/              |            |\n",
            "|    actor_loss       | 4.98       |\n",
            "|    critic_loss      | 6.63       |\n",
            "|    learning_rate    | 0.0003     |\n",
            "|    n_updates        | 398163     |\n",
            "------------------------------------\n"
          ]
        },
        {
          "name": "stdout",
          "output_type": "stream",
          "text": [
            "------------------------------------\n",
            "| custom/             |            |\n",
            "|    avg_reward_100ep | -23.316465 |\n",
            "| rollout/            |            |\n",
            "|    ep_len_mean      | 828        |\n",
            "|    ep_rew_mean      | -23.3      |\n",
            "| time/               |            |\n",
            "|    episodes         | 644        |\n",
            "|    fps              | 581        |\n",
            "|    time_elapsed     | 709        |\n",
            "|    total_timesteps  | 412272     |\n",
            "| train/              |            |\n",
            "|    actor_loss       | 6.65       |\n",
            "|    critic_loss      | 2.85       |\n",
            "|    learning_rate    | 0.0003     |\n",
            "|    n_updates        | 398713     |\n",
            "------------------------------------\n"
          ]
        },
        {
          "name": "stdout",
          "output_type": "stream",
          "text": [
            "-----------------------------------\n",
            "| custom/             |           |\n",
            "|    avg_reward_100ep | -19.76171 |\n",
            "| rollout/            |           |\n",
            "|    ep_len_mean      | 833       |\n",
            "|    ep_rew_mean      | -19.8     |\n",
            "| time/               |           |\n",
            "|    episodes         | 648       |\n",
            "|    fps              | 581       |\n",
            "|    time_elapsed     | 715       |\n",
            "|    total_timesteps  | 416064    |\n",
            "| train/              |           |\n",
            "|    actor_loss       | 6.3       |\n",
            "|    critic_loss      | 3.14      |\n",
            "|    learning_rate    | 0.0003    |\n",
            "|    n_updates        | 399345    |\n",
            "-----------------------------------\n"
          ]
        },
        {
          "name": "stdout",
          "output_type": "stream",
          "text": [
            "------------------------------------\n",
            "| custom/             |            |\n",
            "|    avg_reward_100ep | -20.902855 |\n",
            "| rollout/            |            |\n",
            "|    ep_len_mean      | 828        |\n",
            "|    ep_rew_mean      | -20.9      |\n",
            "| time/               |            |\n",
            "|    episodes         | 652        |\n",
            "|    fps              | 581        |\n",
            "|    time_elapsed     | 720        |\n",
            "|    total_timesteps  | 418854     |\n",
            "| train/              |            |\n",
            "|    actor_loss       | 8.04       |\n",
            "|    critic_loss      | 7.04       |\n",
            "|    learning_rate    | 0.0003     |\n",
            "|    n_updates        | 399810     |\n",
            "------------------------------------\n"
          ]
        },
        {
          "data": {
            "text/html": [
              "<pre style=\"white-space:pre;overflow-x:auto;line-height:normal;font-family:Menlo,'DejaVu Sans Mono',consolas,'Courier New',monospace\">Eval num_timesteps=420000, episode_reward=34.60 +/- 71.71\n",
              "</pre>\n"
            ],
            "text/plain": [
              "Eval num_timesteps=420000, episode_reward=34.60 +/- 71.71\n"
            ]
          },
          "metadata": {},
          "output_type": "display_data"
        },
        {
          "data": {
            "text/html": [
              "<pre style=\"white-space:pre;overflow-x:auto;line-height:normal;font-family:Menlo,'DejaVu Sans Mono',consolas,'Courier New',monospace\">Episode length: 820.00 +/- 302.71\n",
              "</pre>\n"
            ],
            "text/plain": [
              "Episode length: 820.00 +/- 302.71\n"
            ]
          },
          "metadata": {},
          "output_type": "display_data"
        },
        {
          "name": "stdout",
          "output_type": "stream",
          "text": [
            "---------------------------------\n",
            "| eval/              |          |\n",
            "|    mean_ep_length  | 820      |\n",
            "|    mean_reward     | 34.6     |\n",
            "| time/              |          |\n",
            "|    total_timesteps | 420000   |\n",
            "| train/             |          |\n",
            "|    actor_loss      | 5.34     |\n",
            "|    critic_loss     | 4.88     |\n",
            "|    learning_rate   | 0.0003   |\n",
            "|    n_updates       | 400001   |\n",
            "---------------------------------\n"
          ]
        },
        {
          "data": {
            "text/html": [
              "<pre style=\"white-space:pre;overflow-x:auto;line-height:normal;font-family:Menlo,'DejaVu Sans Mono',consolas,'Courier New',monospace\">New best mean reward!\n",
              "</pre>\n"
            ],
            "text/plain": [
              "New best mean reward!\n"
            ]
          },
          "metadata": {},
          "output_type": "display_data"
        },
        {
          "name": "stdout",
          "output_type": "stream",
          "text": [
            "-----------------------------------\n",
            "| custom/             |           |\n",
            "|    avg_reward_100ep | -19.98599 |\n",
            "| rollout/            |           |\n",
            "|    ep_len_mean      | 837       |\n",
            "|    ep_rew_mean      | -20       |\n",
            "| time/               |           |\n",
            "|    episodes         | 656       |\n",
            "|    fps              | 578       |\n",
            "|    time_elapsed     | 730       |\n",
            "|    total_timesteps  | 422748    |\n",
            "| train/              |           |\n",
            "|    actor_loss       | 6.16      |\n",
            "|    critic_loss      | 3.53      |\n",
            "|    learning_rate    | 0.0003    |\n",
            "|    n_updates        | 400459    |\n",
            "-----------------------------------\n"
          ]
        },
        {
          "name": "stdout",
          "output_type": "stream",
          "text": [
            "------------------------------------\n",
            "| custom/             |            |\n",
            "|    avg_reward_100ep | -20.293966 |\n",
            "| rollout/            |            |\n",
            "|    ep_len_mean      | 836        |\n",
            "|    ep_rew_mean      | -20.3      |\n",
            "| time/               |            |\n",
            "|    episodes         | 660        |\n",
            "|    fps              | 579        |\n",
            "|    time_elapsed     | 735        |\n",
            "|    total_timesteps  | 426108     |\n",
            "| train/              |            |\n",
            "|    actor_loss       | 8.33       |\n",
            "|    critic_loss      | 4.78       |\n",
            "|    learning_rate    | 0.0003     |\n",
            "|    n_updates        | 401019     |\n",
            "------------------------------------\n"
          ]
        },
        {
          "name": "stdout",
          "output_type": "stream",
          "text": [
            "------------------------------------\n",
            "| custom/             |            |\n",
            "|    avg_reward_100ep | -18.028181 |\n",
            "| rollout/            |            |\n",
            "|    ep_len_mean      | 848        |\n",
            "|    ep_rew_mean      | -18        |\n",
            "| time/               |            |\n",
            "|    episodes         | 664        |\n",
            "|    fps              | 579        |\n",
            "|    time_elapsed     | 740        |\n",
            "|    total_timesteps  | 428964     |\n",
            "| train/              |            |\n",
            "|    actor_loss       | 6.09       |\n",
            "|    critic_loss      | 2.79       |\n",
            "|    learning_rate    | 0.0003     |\n",
            "|    n_updates        | 401495     |\n",
            "------------------------------------\n"
          ]
        },
        {
          "name": "stdout",
          "output_type": "stream",
          "text": [
            "------------------------------------\n",
            "| custom/             |            |\n",
            "|    avg_reward_100ep | -17.891447 |\n",
            "| rollout/            |            |\n",
            "|    ep_len_mean      | 852        |\n",
            "|    ep_rew_mean      | -17.9      |\n",
            "| time/               |            |\n",
            "|    episodes         | 668        |\n",
            "|    fps              | 579        |\n",
            "|    time_elapsed     | 748        |\n",
            "|    total_timesteps  | 434064     |\n",
            "| train/              |            |\n",
            "|    actor_loss       | 6.92       |\n",
            "|    critic_loss      | 2.71       |\n",
            "|    learning_rate    | 0.0003     |\n",
            "|    n_updates        | 402345     |\n",
            "------------------------------------\n"
          ]
        },
        {
          "name": "stdout",
          "output_type": "stream",
          "text": [
            "------------------------------------\n",
            "| custom/             |            |\n",
            "|    avg_reward_100ep | -18.876883 |\n",
            "| rollout/            |            |\n",
            "|    ep_len_mean      | 850        |\n",
            "|    ep_rew_mean      | -18.9      |\n",
            "| time/               |            |\n",
            "|    episodes         | 672        |\n",
            "|    fps              | 579        |\n",
            "|    time_elapsed     | 751        |\n",
            "|    total_timesteps  | 435642     |\n",
            "| train/              |            |\n",
            "|    actor_loss       | 5.18       |\n",
            "|    critic_loss      | 3.02       |\n",
            "|    learning_rate    | 0.0003     |\n",
            "|    n_updates        | 402608     |\n",
            "------------------------------------\n"
          ]
        },
        {
          "name": "stdout",
          "output_type": "stream",
          "text": [
            "------------------------------------\n",
            "| custom/             |            |\n",
            "|    avg_reward_100ep | -18.525585 |\n",
            "| rollout/            |            |\n",
            "|    ep_len_mean      | 853        |\n",
            "|    ep_rew_mean      | -18.5      |\n",
            "| time/               |            |\n",
            "|    episodes         | 676        |\n",
            "|    fps              | 579        |\n",
            "|    time_elapsed     | 758        |\n",
            "|    total_timesteps  | 440064     |\n",
            "| train/              |            |\n",
            "|    actor_loss       | 6.41       |\n",
            "|    critic_loss      | 2.19       |\n",
            "|    learning_rate    | 0.0003     |\n",
            "|    n_updates        | 403345     |\n",
            "------------------------------------\n"
          ]
        },
        {
          "name": "stdout",
          "output_type": "stream",
          "text": [
            "------------------------------------\n",
            "| custom/             |            |\n",
            "|    avg_reward_100ep | -18.754402 |\n",
            "| rollout/            |            |\n",
            "|    ep_len_mean      | 859        |\n",
            "|    ep_rew_mean      | -18.8      |\n",
            "| time/               |            |\n",
            "|    episodes         | 680        |\n",
            "|    fps              | 579        |\n",
            "|    time_elapsed     | 761        |\n",
            "|    total_timesteps  | 441882     |\n",
            "| train/              |            |\n",
            "|    actor_loss       | 6.37       |\n",
            "|    critic_loss      | 3.03       |\n",
            "|    learning_rate    | 0.0003     |\n",
            "|    n_updates        | 403648     |\n",
            "------------------------------------\n"
          ]
        },
        {
          "name": "stdout",
          "output_type": "stream",
          "text": [
            "------------------------------------\n",
            "| custom/             |            |\n",
            "|    avg_reward_100ep | -17.683144 |\n",
            "| rollout/            |            |\n",
            "|    ep_len_mean      | 858        |\n",
            "|    ep_rew_mean      | -17.7      |\n",
            "| time/               |            |\n",
            "|    episodes         | 684        |\n",
            "|    fps              | 580        |\n",
            "|    time_elapsed     | 768        |\n",
            "|    total_timesteps  | 446070     |\n",
            "| train/              |            |\n",
            "|    actor_loss       | 5.53       |\n",
            "|    critic_loss      | 3.1        |\n",
            "|    learning_rate    | 0.0003     |\n",
            "|    n_updates        | 404346     |\n",
            "------------------------------------\n"
          ]
        },
        {
          "name": "stdout",
          "output_type": "stream",
          "text": [
            "------------------------------------\n",
            "| custom/             |            |\n",
            "|    avg_reward_100ep | -17.181128 |\n",
            "| rollout/            |            |\n",
            "|    ep_len_mean      | 851        |\n",
            "|    ep_rew_mean      | -17.2      |\n",
            "| time/               |            |\n",
            "|    episodes         | 688        |\n",
            "|    fps              | 580        |\n",
            "|    time_elapsed     | 774        |\n",
            "|    total_timesteps  | 449514     |\n",
            "| train/              |            |\n",
            "|    actor_loss       | 5.68       |\n",
            "|    critic_loss      | 4.17       |\n",
            "|    learning_rate    | 0.0003     |\n",
            "|    n_updates        | 404920     |\n",
            "------------------------------------\n"
          ]
        },
        {
          "data": {
            "text/html": [
              "<pre style=\"white-space:pre;overflow-x:auto;line-height:normal;font-family:Menlo,'DejaVu Sans Mono',consolas,'Courier New',monospace\">Eval num_timesteps=450000, episode_reward=47.79 +/- 72.05\n",
              "</pre>\n"
            ],
            "text/plain": [
              "Eval num_timesteps=450000, episode_reward=47.79 +/- 72.05\n"
            ]
          },
          "metadata": {},
          "output_type": "display_data"
        },
        {
          "data": {
            "text/html": [
              "<pre style=\"white-space:pre;overflow-x:auto;line-height:normal;font-family:Menlo,'DejaVu Sans Mono',consolas,'Courier New',monospace\">Episode length: 1000.00 +/- 0.00\n",
              "</pre>\n"
            ],
            "text/plain": [
              "Episode length: 1000.00 +/- 0.00\n"
            ]
          },
          "metadata": {},
          "output_type": "display_data"
        },
        {
          "name": "stdout",
          "output_type": "stream",
          "text": [
            "------------------------------------\n",
            "| custom/             |            |\n",
            "|    avg_reward_100ep | -17.114977 |\n",
            "| eval/               |            |\n",
            "|    mean_ep_length   | 1e+03      |\n",
            "|    mean_reward      | 47.8       |\n",
            "| time/               |            |\n",
            "|    total_timesteps  | 450000     |\n",
            "| train/              |            |\n",
            "|    actor_loss       | 6.52       |\n",
            "|    critic_loss      | 3.03       |\n",
            "|    learning_rate    | 0.0003     |\n",
            "|    n_updates        | 405001     |\n",
            "------------------------------------\n"
          ]
        },
        {
          "data": {
            "text/html": [
              "<pre style=\"white-space:pre;overflow-x:auto;line-height:normal;font-family:Menlo,'DejaVu Sans Mono',consolas,'Courier New',monospace\">New best mean reward!\n",
              "</pre>\n"
            ],
            "text/plain": [
              "New best mean reward!\n"
            ]
          },
          "metadata": {},
          "output_type": "display_data"
        },
        {
          "name": "stdout",
          "output_type": "stream",
          "text": [
            "------------------------------------\n",
            "| custom/             |            |\n",
            "|    avg_reward_100ep | -18.259483 |\n",
            "| rollout/            |            |\n",
            "|    ep_len_mean      | 838        |\n",
            "|    ep_rew_mean      | -18.3      |\n",
            "| time/               |            |\n",
            "|    episodes         | 692        |\n",
            "|    fps              | 577        |\n",
            "|    time_elapsed     | 783        |\n",
            "|    total_timesteps  | 452064     |\n",
            "| train/              |            |\n",
            "|    actor_loss       | 7.67       |\n",
            "|    critic_loss      | 2.86       |\n",
            "|    learning_rate    | 0.0003     |\n",
            "|    n_updates        | 405345     |\n",
            "------------------------------------\n"
          ]
        },
        {
          "name": "stdout",
          "output_type": "stream",
          "text": [
            "------------------------------------\n",
            "| custom/             |            |\n",
            "|    avg_reward_100ep | -18.392122 |\n",
            "| rollout/            |            |\n",
            "|    ep_len_mean      | 831        |\n",
            "|    ep_rew_mean      | -18.4      |\n",
            "| time/               |            |\n",
            "|    episodes         | 696        |\n",
            "|    fps              | 577        |\n",
            "|    time_elapsed     | 786        |\n",
            "|    total_timesteps  | 453888     |\n",
            "| train/              |            |\n",
            "|    actor_loss       | 7.46       |\n",
            "|    critic_loss      | 3.09       |\n",
            "|    learning_rate    | 0.0003     |\n",
            "|    n_updates        | 405649     |\n",
            "------------------------------------\n"
          ]
        },
        {
          "name": "stdout",
          "output_type": "stream",
          "text": [
            "------------------------------------\n",
            "| custom/             |            |\n",
            "|    avg_reward_100ep | -16.889376 |\n",
            "| rollout/            |            |\n",
            "|    ep_len_mean      | 836        |\n",
            "|    ep_rew_mean      | -16.9      |\n",
            "| time/               |            |\n",
            "|    episodes         | 700        |\n",
            "|    fps              | 577        |\n",
            "|    time_elapsed     | 793        |\n",
            "|    total_timesteps  | 458070     |\n",
            "| train/              |            |\n",
            "|    actor_loss       | 5.66       |\n",
            "|    critic_loss      | 3.01       |\n",
            "|    learning_rate    | 0.0003     |\n",
            "|    n_updates        | 406346     |\n",
            "------------------------------------\n"
          ]
        },
        {
          "name": "stdout",
          "output_type": "stream",
          "text": [
            "-----------------------------------\n",
            "| custom/             |           |\n",
            "|    avg_reward_100ep | -17.26297 |\n",
            "| rollout/            |           |\n",
            "|    ep_len_mean      | 831       |\n",
            "|    ep_rew_mean      | -17.3     |\n",
            "| time/               |           |\n",
            "|    episodes         | 704       |\n",
            "|    fps              | 577       |\n",
            "|    time_elapsed     | 796       |\n",
            "|    total_timesteps  | 459978    |\n",
            "| train/              |           |\n",
            "|    actor_loss       | 6.32      |\n",
            "|    critic_loss      | 3.75      |\n",
            "|    learning_rate    | 0.0003    |\n",
            "|    n_updates        | 406664    |\n",
            "-----------------------------------\n"
          ]
        },
        {
          "name": "stdout",
          "output_type": "stream",
          "text": [
            "------------------------------------\n",
            "| custom/             |            |\n",
            "|    avg_reward_100ep | -16.134716 |\n",
            "| rollout/            |            |\n",
            "|    ep_len_mean      | 827        |\n",
            "|    ep_rew_mean      | -16.1      |\n",
            "| time/               |            |\n",
            "|    episodes         | 708        |\n",
            "|    fps              | 577        |\n",
            "|    time_elapsed     | 804        |\n",
            "|    total_timesteps  | 465126     |\n",
            "| train/              |            |\n",
            "|    actor_loss       | 7.49       |\n",
            "|    critic_loss      | 5.11       |\n",
            "|    learning_rate    | 0.0003     |\n",
            "|    n_updates        | 407522     |\n",
            "------------------------------------\n"
          ]
        },
        {
          "name": "stdout",
          "output_type": "stream",
          "text": [
            "------------------------------------\n",
            "| custom/             |            |\n",
            "|    avg_reward_100ep | -14.928597 |\n",
            "| rollout/            |            |\n",
            "|    ep_len_mean      | 835        |\n",
            "|    ep_rew_mean      | -14.9      |\n",
            "| time/               |            |\n",
            "|    episodes         | 712        |\n",
            "|    fps              | 577        |\n",
            "|    time_elapsed     | 808        |\n",
            "|    total_timesteps  | 467310     |\n",
            "| train/              |            |\n",
            "|    actor_loss       | 5.93       |\n",
            "|    critic_loss      | 3.76       |\n",
            "|    learning_rate    | 0.0003     |\n",
            "|    n_updates        | 407886     |\n",
            "------------------------------------\n"
          ]
        },
        {
          "name": "stdout",
          "output_type": "stream",
          "text": [
            "------------------------------------\n",
            "| custom/             |            |\n",
            "|    avg_reward_100ep | -12.074262 |\n",
            "| rollout/            |            |\n",
            "|    ep_len_mean      | 845        |\n",
            "|    ep_rew_mean      | -12.1      |\n",
            "| time/               |            |\n",
            "|    episodes         | 716        |\n",
            "|    fps              | 578        |\n",
            "|    time_elapsed     | 815        |\n",
            "|    total_timesteps  | 471390     |\n",
            "| train/              |            |\n",
            "|    actor_loss       | 7.56       |\n",
            "|    critic_loss      | 3.18       |\n",
            "|    learning_rate    | 0.0003     |\n",
            "|    n_updates        | 408566     |\n",
            "------------------------------------\n"
          ]
        },
        {
          "name": "stdout",
          "output_type": "stream",
          "text": [
            "-----------------------------------\n",
            "| custom/             |           |\n",
            "|    avg_reward_100ep | -7.218013 |\n",
            "| rollout/            |           |\n",
            "|    ep_len_mean      | 855       |\n",
            "|    ep_rew_mean      | -7.22     |\n",
            "| time/               |           |\n",
            "|    episodes         | 720       |\n",
            "|    fps              | 578       |\n",
            "|    time_elapsed     | 821       |\n",
            "|    total_timesteps  | 475416    |\n",
            "| train/              |           |\n",
            "|    actor_loss       | 5.96      |\n",
            "|    critic_loss      | 12        |\n",
            "|    learning_rate    | 0.0003    |\n",
            "|    n_updates        | 409237    |\n",
            "-----------------------------------\n"
          ]
        },
        {
          "name": "stdout",
          "output_type": "stream",
          "text": [
            "------------------------------------\n",
            "| custom/             |            |\n",
            "|    avg_reward_100ep | -8.2006645 |\n",
            "| rollout/            |            |\n",
            "|    ep_len_mean      | 848        |\n",
            "|    ep_rew_mean      | -8.2       |\n",
            "| time/               |            |\n",
            "|    episodes         | 724        |\n",
            "|    fps              | 578        |\n",
            "|    time_elapsed     | 825        |\n",
            "|    total_timesteps  | 477390     |\n",
            "| train/              |            |\n",
            "|    actor_loss       | 6.42       |\n",
            "|    critic_loss      | 3.89       |\n",
            "|    learning_rate    | 0.0003     |\n",
            "|    n_updates        | 409566     |\n",
            "------------------------------------\n"
          ]
        },
        {
          "data": {
            "text/html": [
              "<pre style=\"white-space:pre;overflow-x:auto;line-height:normal;font-family:Menlo,'DejaVu Sans Mono',consolas,'Courier New',monospace\">Eval num_timesteps=480000, episode_reward=-8.40 +/- 59.57\n",
              "</pre>\n"
            ],
            "text/plain": [
              "Eval num_timesteps=480000, episode_reward=-8.40 +/- 59.57\n"
            ]
          },
          "metadata": {},
          "output_type": "display_data"
        },
        {
          "data": {
            "text/html": [
              "<pre style=\"white-space:pre;overflow-x:auto;line-height:normal;font-family:Menlo,'DejaVu Sans Mono',consolas,'Courier New',monospace\">Episode length: 738.00 +/- 309.29\n",
              "</pre>\n"
            ],
            "text/plain": [
              "Episode length: 738.00 +/- 309.29\n"
            ]
          },
          "metadata": {},
          "output_type": "display_data"
        },
        {
          "name": "stdout",
          "output_type": "stream",
          "text": [
            "------------------------------------\n",
            "| custom/             |            |\n",
            "|    avg_reward_100ep | -6.6425767 |\n",
            "| eval/               |            |\n",
            "|    mean_ep_length   | 738        |\n",
            "|    mean_reward      | -8.4       |\n",
            "| time/               |            |\n",
            "|    total_timesteps  | 480000     |\n",
            "| train/              |            |\n",
            "|    actor_loss       | 7.14       |\n",
            "|    critic_loss      | 4.37       |\n",
            "|    learning_rate    | 0.0003     |\n",
            "|    n_updates        | 410001     |\n",
            "------------------------------------\n"
          ]
        },
        {
          "name": "stdout",
          "output_type": "stream",
          "text": [
            "-----------------------------------\n",
            "| custom/             |           |\n",
            "|    avg_reward_100ep | -5.420981 |\n",
            "| rollout/            |           |\n",
            "|    ep_len_mean      | 848       |\n",
            "|    ep_rew_mean      | -5.42     |\n",
            "| time/               |           |\n",
            "|    episodes         | 728       |\n",
            "|    fps              | 576       |\n",
            "|    time_elapsed     | 837       |\n",
            "|    total_timesteps  | 482838    |\n",
            "| train/              |           |\n",
            "|    actor_loss       | 6.23      |\n",
            "|    critic_loss      | 4.14      |\n",
            "|    learning_rate    | 0.0003    |\n",
            "|    n_updates        | 410474    |\n",
            "-----------------------------------\n"
          ]
        },
        {
          "name": "stdout",
          "output_type": "stream",
          "text": [
            "------------------------------------\n",
            "| custom/             |            |\n",
            "|    avg_reward_100ep | -4.7041864 |\n",
            "| rollout/            |            |\n",
            "|    ep_len_mean      | 844        |\n",
            "|    ep_rew_mean      | -4.7       |\n",
            "| time/               |            |\n",
            "|    episodes         | 732        |\n",
            "|    fps              | 576        |\n",
            "|    time_elapsed     | 840        |\n",
            "|    total_timesteps  | 484830     |\n",
            "| train/              |            |\n",
            "|    actor_loss       | 8.34       |\n",
            "|    critic_loss      | 3.26       |\n",
            "|    learning_rate    | 0.0003     |\n",
            "|    n_updates        | 410806     |\n",
            "------------------------------------\n"
          ]
        },
        {
          "name": "stdout",
          "output_type": "stream",
          "text": [
            "-----------------------------------\n",
            "| custom/             |           |\n",
            "|    avg_reward_100ep | -5.134849 |\n",
            "| rollout/            |           |\n",
            "|    ep_len_mean      | 836       |\n",
            "|    ep_rew_mean      | -5.13     |\n",
            "| time/               |           |\n",
            "|    episodes         | 736       |\n",
            "|    fps              | 576       |\n",
            "|    time_elapsed     | 848       |\n",
            "|    total_timesteps  | 489126    |\n",
            "| train/              |           |\n",
            "|    actor_loss       | 8.93      |\n",
            "|    critic_loss      | 8.31      |\n",
            "|    learning_rate    | 0.0003    |\n",
            "|    n_updates        | 411522    |\n",
            "-----------------------------------\n"
          ]
        },
        {
          "name": "stdout",
          "output_type": "stream",
          "text": [
            "-----------------------------------\n",
            "| custom/             |           |\n",
            "|    avg_reward_100ep | -4.268117 |\n",
            "| rollout/            |           |\n",
            "|    ep_len_mean      | 838       |\n",
            "|    ep_rew_mean      | -4.27     |\n",
            "| time/               |           |\n",
            "|    episodes         | 740       |\n",
            "|    fps              | 576       |\n",
            "|    time_elapsed     | 853       |\n",
            "|    total_timesteps  | 492222    |\n",
            "| train/              |           |\n",
            "|    actor_loss       | 7.27      |\n",
            "|    critic_loss      | 2.71      |\n",
            "|    learning_rate    | 0.0003    |\n",
            "|    n_updates        | 412038    |\n",
            "-----------------------------------\n"
          ]
        },
        {
          "name": "stdout",
          "output_type": "stream",
          "text": [
            "------------------------------------\n",
            "| custom/             |            |\n",
            "|    avg_reward_100ep | -4.7292933 |\n",
            "| rollout/            |            |\n",
            "|    ep_len_mean      | 839        |\n",
            "|    ep_rew_mean      | -4.73      |\n",
            "| time/               |            |\n",
            "|    episodes         | 744        |\n",
            "|    fps              | 577        |\n",
            "|    time_elapsed     | 858        |\n",
            "|    total_timesteps  | 495606     |\n",
            "| train/              |            |\n",
            "|    actor_loss       | 4.65       |\n",
            "|    critic_loss      | 4.81       |\n",
            "|    learning_rate    | 0.0003     |\n",
            "|    n_updates        | 412602     |\n",
            "------------------------------------\n"
          ]
        },
        {
          "name": "stdout",
          "output_type": "stream",
          "text": [
            "------------------------------------\n",
            "| custom/             |            |\n",
            "|    avg_reward_100ep | -5.9130225 |\n",
            "| rollout/            |            |\n",
            "|    ep_len_mean      | 836        |\n",
            "|    ep_rew_mean      | -5.91      |\n",
            "| time/               |            |\n",
            "|    episodes         | 748        |\n",
            "|    fps              | 577        |\n",
            "|    time_elapsed     | 867        |\n",
            "|    total_timesteps  | 500838     |\n",
            "| train/              |            |\n",
            "|    actor_loss       | 5.85       |\n",
            "|    critic_loss      | 3.47       |\n",
            "|    learning_rate    | 0.0003     |\n",
            "|    n_updates        | 413474     |\n",
            "------------------------------------\n"
          ]
        },
        {
          "name": "stdout",
          "output_type": "stream",
          "text": [
            "------------------------------------\n",
            "| custom/             |            |\n",
            "|    avg_reward_100ep | -2.0836816 |\n",
            "| rollout/            |            |\n",
            "|    ep_len_mean      | 844        |\n",
            "|    ep_rew_mean      | -2.08      |\n",
            "| time/               |            |\n",
            "|    episodes         | 752        |\n",
            "|    fps              | 577        |\n",
            "|    time_elapsed     | 871        |\n",
            "|    total_timesteps  | 503310     |\n",
            "| train/              |            |\n",
            "|    actor_loss       | 6.53       |\n",
            "|    critic_loss      | 3.52       |\n",
            "|    learning_rate    | 0.0003     |\n",
            "|    n_updates        | 413886     |\n",
            "------------------------------------\n"
          ]
        },
        {
          "name": "stdout",
          "output_type": "stream",
          "text": [
            "------------------------------------\n",
            "| custom/             |            |\n",
            "|    avg_reward_100ep | 0.59475374 |\n",
            "| rollout/            |            |\n",
            "|    ep_len_mean      | 852        |\n",
            "|    ep_rew_mean      | 0.595      |\n",
            "| time/               |            |\n",
            "|    episodes         | 756        |\n",
            "|    fps              | 577        |\n",
            "|    time_elapsed     | 878        |\n",
            "|    total_timesteps  | 507606     |\n",
            "| train/              |            |\n",
            "|    actor_loss       | 5.62       |\n",
            "|    critic_loss      | 4.79       |\n",
            "|    learning_rate    | 0.0003     |\n",
            "|    n_updates        | 414602     |\n",
            "------------------------------------\n"
          ]
        },
        {
          "data": {
            "text/html": [
              "<pre style=\"white-space:pre;overflow-x:auto;line-height:normal;font-family:Menlo,'DejaVu Sans Mono',consolas,'Courier New',monospace\">Eval num_timesteps=510000, episode_reward=41.92 +/- 59.39\n",
              "</pre>\n"
            ],
            "text/plain": [
              "Eval num_timesteps=510000, episode_reward=41.92 +/- 59.39\n"
            ]
          },
          "metadata": {},
          "output_type": "display_data"
        },
        {
          "data": {
            "text/html": [
              "<pre style=\"white-space:pre;overflow-x:auto;line-height:normal;font-family:Menlo,'DejaVu Sans Mono',consolas,'Courier New',monospace\">Episode length: 1000.00 +/- 0.00\n",
              "</pre>\n"
            ],
            "text/plain": [
              "Episode length: 1000.00 +/- 0.00\n"
            ]
          },
          "metadata": {},
          "output_type": "display_data"
        },
        {
          "name": "stdout",
          "output_type": "stream",
          "text": [
            "-----------------------------------\n",
            "| custom/             |           |\n",
            "|    avg_reward_100ep | 1.5126784 |\n",
            "| eval/               |           |\n",
            "|    mean_ep_length   | 1e+03     |\n",
            "|    mean_reward      | 41.9      |\n",
            "| time/               |           |\n",
            "|    total_timesteps  | 510000    |\n",
            "| train/              |           |\n",
            "|    actor_loss       | 6.02      |\n",
            "|    critic_loss      | 5.09      |\n",
            "|    learning_rate    | 0.0003    |\n",
            "|    n_updates        | 415001    |\n",
            "-----------------------------------\n"
          ]
        },
        {
          "name": "stdout",
          "output_type": "stream",
          "text": [
            "-----------------------------------\n",
            "| custom/             |           |\n",
            "|    avg_reward_100ep | 1.3688421 |\n",
            "| rollout/            |           |\n",
            "|    ep_len_mean      | 842       |\n",
            "|    ep_rew_mean      | 1.37      |\n",
            "| time/               |           |\n",
            "|    episodes         | 760       |\n",
            "|    fps              | 574       |\n",
            "|    time_elapsed     | 887       |\n",
            "|    total_timesteps  | 510174    |\n",
            "| train/              |           |\n",
            "|    actor_loss       | 8.03      |\n",
            "|    critic_loss      | 4.13      |\n",
            "|    learning_rate    | 0.0003    |\n",
            "|    n_updates        | 415030    |\n",
            "-----------------------------------\n"
          ]
        },
        {
          "name": "stdout",
          "output_type": "stream",
          "text": [
            "------------------------------------\n",
            "| custom/             |            |\n",
            "|    avg_reward_100ep | 0.37955415 |\n",
            "| rollout/            |            |\n",
            "|    ep_len_mean      | 851        |\n",
            "|    ep_rew_mean      | 0.38       |\n",
            "| time/               |            |\n",
            "|    episodes         | 764        |\n",
            "|    fps              | 575        |\n",
            "|    time_elapsed     | 893        |\n",
            "|    total_timesteps  | 514086     |\n",
            "| train/              |            |\n",
            "|    actor_loss       | 6.34       |\n",
            "|    critic_loss      | 3          |\n",
            "|    learning_rate    | 0.0003     |\n",
            "|    n_updates        | 415682     |\n",
            "------------------------------------\n"
          ]
        },
        {
          "name": "stdout",
          "output_type": "stream",
          "text": [
            "------------------------------------\n",
            "| custom/             |            |\n",
            "|    avg_reward_100ep | -1.2571156 |\n",
            "| rollout/            |            |\n",
            "|    ep_len_mean      | 839        |\n",
            "|    ep_rew_mean      | -1.26      |\n",
            "| time/               |            |\n",
            "|    episodes         | 768        |\n",
            "|    fps              | 575        |\n",
            "|    time_elapsed     | 899        |\n",
            "|    total_timesteps  | 517620     |\n",
            "| train/              |            |\n",
            "|    actor_loss       | 6.62       |\n",
            "|    critic_loss      | 4.11       |\n",
            "|    learning_rate    | 0.0003     |\n",
            "|    n_updates        | 416271     |\n",
            "------------------------------------\n"
          ]
        },
        {
          "name": "stdout",
          "output_type": "stream",
          "text": [
            "-----------------------------------\n",
            "| custom/             |           |\n",
            "|    avg_reward_100ep | 0.7697285 |\n",
            "| rollout/            |           |\n",
            "|    ep_len_mean      | 847       |\n",
            "|    ep_rew_mean      | 0.77      |\n",
            "| time/               |           |\n",
            "|    episodes         | 772       |\n",
            "|    fps              | 575       |\n",
            "|    time_elapsed     | 906       |\n",
            "|    total_timesteps  | 521448    |\n",
            "| train/              |           |\n",
            "|    actor_loss       | 6.26      |\n",
            "|    critic_loss      | 6.09      |\n",
            "|    learning_rate    | 0.0003    |\n",
            "|    n_updates        | 416909    |\n",
            "-----------------------------------\n"
          ]
        },
        {
          "name": "stdout",
          "output_type": "stream",
          "text": [
            "-----------------------------------\n",
            "| custom/             |           |\n",
            "|    avg_reward_100ep | 2.1180243 |\n",
            "| rollout/            |           |\n",
            "|    ep_len_mean      | 857       |\n",
            "|    ep_rew_mean      | 2.12      |\n",
            "| time/               |           |\n",
            "|    episodes         | 776       |\n",
            "|    fps              | 575       |\n",
            "|    time_elapsed     | 909       |\n",
            "|    total_timesteps  | 523632    |\n",
            "| train/              |           |\n",
            "|    actor_loss       | 7.32      |\n",
            "|    critic_loss      | 4.29      |\n",
            "|    learning_rate    | 0.0003    |\n",
            "|    n_updates        | 417273    |\n",
            "-----------------------------------\n"
          ]
        },
        {
          "name": "stdout",
          "output_type": "stream",
          "text": [
            "-------------------------------------\n",
            "| custom/             |             |\n",
            "|    avg_reward_100ep | 0.078602985 |\n",
            "| rollout/            |             |\n",
            "|    ep_len_mean      | 837         |\n",
            "|    ep_rew_mean      | 0.0786      |\n",
            "| time/               |             |\n",
            "|    episodes         | 780         |\n",
            "|    fps              | 575         |\n",
            "|    time_elapsed     | 913         |\n",
            "|    total_timesteps  | 525666      |\n",
            "| train/              |             |\n",
            "|    actor_loss       | 6.39        |\n",
            "|    critic_loss      | 4.61        |\n",
            "|    learning_rate    | 0.0003      |\n",
            "|    n_updates        | 417612      |\n",
            "-------------------------------------\n"
          ]
        },
        {
          "name": "stdout",
          "output_type": "stream",
          "text": [
            "------------------------------------\n",
            "| custom/             |            |\n",
            "|    avg_reward_100ep | 0.78705704 |\n",
            "| rollout/            |            |\n",
            "|    ep_len_mean      | 832        |\n",
            "|    ep_rew_mean      | 0.787      |\n",
            "| time/               |            |\n",
            "|    episodes         | 784        |\n",
            "|    fps              | 575        |\n",
            "|    time_elapsed     | 919        |\n",
            "|    total_timesteps  | 529632     |\n",
            "| train/              |            |\n",
            "|    actor_loss       | 8.07       |\n",
            "|    critic_loss      | 2.33       |\n",
            "|    learning_rate    | 0.0003     |\n",
            "|    n_updates        | 418273     |\n",
            "------------------------------------\n"
          ]
        },
        {
          "name": "stdout",
          "output_type": "stream",
          "text": [
            "-----------------------------------\n",
            "| custom/             |           |\n",
            "|    avg_reward_100ep | 2.3235536 |\n",
            "| rollout/            |           |\n",
            "|    ep_len_mean      | 837       |\n",
            "|    ep_rew_mean      | 2.32      |\n",
            "| time/               |           |\n",
            "|    episodes         | 788       |\n",
            "|    fps              | 575       |\n",
            "|    time_elapsed     | 924       |\n",
            "|    total_timesteps  | 532512    |\n",
            "| train/              |           |\n",
            "|    actor_loss       | 6.5       |\n",
            "|    critic_loss      | 3.05      |\n",
            "|    learning_rate    | 0.0003    |\n",
            "|    n_updates        | 418753    |\n",
            "-----------------------------------\n"
          ]
        },
        {
          "name": "stdout",
          "output_type": "stream",
          "text": [
            "-----------------------------------\n",
            "| custom/             |           |\n",
            "|    avg_reward_100ep | 6.3883476 |\n",
            "| rollout/            |           |\n",
            "|    ep_len_mean      | 842       |\n",
            "|    ep_rew_mean      | 6.39      |\n",
            "| time/               |           |\n",
            "|    episodes         | 792       |\n",
            "|    fps              | 576       |\n",
            "|    time_elapsed     | 930       |\n",
            "|    total_timesteps  | 536148    |\n",
            "| train/              |           |\n",
            "|    actor_loss       | 5.67      |\n",
            "|    critic_loss      | 4.61      |\n",
            "|    learning_rate    | 0.0003    |\n",
            "|    n_updates        | 419359    |\n",
            "-----------------------------------\n"
          ]
        },
        {
          "data": {
            "text/html": [
              "<pre style=\"white-space:pre;overflow-x:auto;line-height:normal;font-family:Menlo,'DejaVu Sans Mono',consolas,'Courier New',monospace\">Eval num_timesteps=540000, episode_reward=-38.05 +/- 18.37\n",
              "</pre>\n"
            ],
            "text/plain": [
              "Eval num_timesteps=540000, episode_reward=-38.05 +/- 18.37\n"
            ]
          },
          "metadata": {},
          "output_type": "display_data"
        },
        {
          "data": {
            "text/html": [
              "<pre style=\"white-space:pre;overflow-x:auto;line-height:normal;font-family:Menlo,'DejaVu Sans Mono',consolas,'Courier New',monospace\">Episode length: 887.60 +/- 224.80\n",
              "</pre>\n"
            ],
            "text/plain": [
              "Episode length: 887.60 +/- 224.80\n"
            ]
          },
          "metadata": {},
          "output_type": "display_data"
        },
        {
          "name": "stdout",
          "output_type": "stream",
          "text": [
            "----------------------------------\n",
            "| custom/             |          |\n",
            "|    avg_reward_100ep | 8.363043 |\n",
            "| eval/               |          |\n",
            "|    mean_ep_length   | 888      |\n",
            "|    mean_reward      | -38      |\n",
            "| time/               |          |\n",
            "|    total_timesteps  | 540000   |\n",
            "| train/              |          |\n",
            "|    actor_loss       | 8.62     |\n",
            "|    critic_loss      | 3.43     |\n",
            "|    learning_rate    | 0.0003   |\n",
            "|    n_updates        | 420001   |\n",
            "----------------------------------\n"
          ]
        },
        {
          "name": "stdout",
          "output_type": "stream",
          "text": [
            "----------------------------------\n",
            "| custom/             |          |\n",
            "|    avg_reward_100ep | 8.59162  |\n",
            "| rollout/            |          |\n",
            "|    ep_len_mean      | 851      |\n",
            "|    ep_rew_mean      | 8.59     |\n",
            "| time/               |          |\n",
            "|    episodes         | 796      |\n",
            "|    fps              | 573      |\n",
            "|    time_elapsed     | 942      |\n",
            "|    total_timesteps  | 540864   |\n",
            "| train/              |          |\n",
            "|    actor_loss       | 6.71     |\n",
            "|    critic_loss      | 4.3      |\n",
            "|    learning_rate    | 0.0003   |\n",
            "|    n_updates        | 420145   |\n",
            "----------------------------------\n"
          ]
        },
        {
          "name": "stdout",
          "output_type": "stream",
          "text": [
            "----------------------------------\n",
            "| custom/             |          |\n",
            "|    avg_reward_100ep | 8.218019 |\n",
            "| rollout/            |          |\n",
            "|    ep_len_mean      | 862      |\n",
            "|    ep_rew_mean      | 8.22     |\n",
            "| time/               |          |\n",
            "|    episodes         | 800      |\n",
            "|    fps              | 573      |\n",
            "|    time_elapsed     | 947      |\n",
            "|    total_timesteps  | 543582   |\n",
            "| train/              |          |\n",
            "|    actor_loss       | 6.83     |\n",
            "|    critic_loss      | 2.62     |\n",
            "|    learning_rate    | 0.0003   |\n",
            "|    n_updates        | 420598   |\n",
            "----------------------------------\n"
          ]
        },
        {
          "name": "stdout",
          "output_type": "stream",
          "text": [
            "----------------------------------\n",
            "| custom/             |          |\n",
            "|    avg_reward_100ep | 9.67533  |\n",
            "| rollout/            |          |\n",
            "|    ep_len_mean      | 855      |\n",
            "|    ep_rew_mean      | 9.68     |\n",
            "| time/               |          |\n",
            "|    episodes         | 804      |\n",
            "|    fps              | 574      |\n",
            "|    time_elapsed     | 952      |\n",
            "|    total_timesteps  | 546864   |\n",
            "| train/              |          |\n",
            "|    actor_loss       | 7.15     |\n",
            "|    critic_loss      | 3.56     |\n",
            "|    learning_rate    | 0.0003   |\n",
            "|    n_updates        | 421145   |\n",
            "----------------------------------\n"
          ]
        },
        {
          "name": "stdout",
          "output_type": "stream",
          "text": [
            "----------------------------------\n",
            "| custom/             |          |\n",
            "|    avg_reward_100ep | 8.651408 |\n",
            "| rollout/            |          |\n",
            "|    ep_len_mean      | 863      |\n",
            "|    ep_rew_mean      | 8.65     |\n",
            "| time/               |          |\n",
            "|    episodes         | 808      |\n",
            "|    fps              | 574      |\n",
            "|    time_elapsed     | 958      |\n",
            "|    total_timesteps  | 550494   |\n",
            "| train/              |          |\n",
            "|    actor_loss       | 7.25     |\n",
            "|    critic_loss      | 3.72     |\n",
            "|    learning_rate    | 0.0003   |\n",
            "|    n_updates        | 421750   |\n",
            "----------------------------------\n"
          ]
        },
        {
          "name": "stdout",
          "output_type": "stream",
          "text": [
            "-----------------------------------\n",
            "| custom/             |           |\n",
            "|    avg_reward_100ep | 11.621018 |\n",
            "| rollout/            |           |\n",
            "|    ep_len_mean      | 870       |\n",
            "|    ep_rew_mean      | 11.6      |\n",
            "| time/               |           |\n",
            "|    episodes         | 812       |\n",
            "|    fps              | 574       |\n",
            "|    time_elapsed     | 964       |\n",
            "|    total_timesteps  | 553956    |\n",
            "| train/              |           |\n",
            "|    actor_loss       | 7.5       |\n",
            "|    critic_loss      | 4.25      |\n",
            "|    learning_rate    | 0.0003    |\n",
            "|    n_updates        | 422327    |\n",
            "-----------------------------------\n"
          ]
        },
        {
          "name": "stdout",
          "output_type": "stream",
          "text": [
            "-----------------------------------\n",
            "| custom/             |           |\n",
            "|    avg_reward_100ep | 13.395133 |\n",
            "| rollout/            |           |\n",
            "|    ep_len_mean      | 864       |\n",
            "|    ep_rew_mean      | 13.4      |\n",
            "| time/               |           |\n",
            "|    episodes         | 816       |\n",
            "|    fps              | 574       |\n",
            "|    time_elapsed     | 969       |\n",
            "|    total_timesteps  | 556830    |\n",
            "| train/              |           |\n",
            "|    actor_loss       | 5.73      |\n",
            "|    critic_loss      | 2.85      |\n",
            "|    learning_rate    | 0.0003    |\n",
            "|    n_updates        | 422806    |\n",
            "-----------------------------------\n"
          ]
        },
        {
          "name": "stdout",
          "output_type": "stream",
          "text": [
            "----------------------------------\n",
            "| custom/             |          |\n",
            "|    avg_reward_100ep | 11.59577 |\n",
            "| rollout/            |          |\n",
            "|    ep_len_mean      | 859      |\n",
            "|    ep_rew_mean      | 11.6     |\n",
            "| time/               |          |\n",
            "|    episodes         | 820      |\n",
            "|    fps              | 574      |\n",
            "|    time_elapsed     | 975      |\n",
            "|    total_timesteps  | 560532   |\n",
            "| train/              |          |\n",
            "|    actor_loss       | 7.13     |\n",
            "|    critic_loss      | 2.24     |\n",
            "|    learning_rate    | 0.0003   |\n",
            "|    n_updates        | 423423   |\n",
            "----------------------------------\n"
          ]
        },
        {
          "name": "stdout",
          "output_type": "stream",
          "text": [
            "-----------------------------------\n",
            "| custom/             |           |\n",
            "|    avg_reward_100ep | 13.291232 |\n",
            "| rollout/            |           |\n",
            "|    ep_len_mean      | 860       |\n",
            "|    ep_rew_mean      | 13.3      |\n",
            "| time/               |           |\n",
            "|    episodes         | 824       |\n",
            "|    fps              | 574       |\n",
            "|    time_elapsed     | 983       |\n",
            "|    total_timesteps  | 565218    |\n",
            "| train/              |           |\n",
            "|    actor_loss       | 6.76      |\n",
            "|    critic_loss      | 3.29      |\n",
            "|    learning_rate    | 0.0003    |\n",
            "|    n_updates        | 424204    |\n",
            "-----------------------------------\n"
          ]
        },
        {
          "name": "stdout",
          "output_type": "stream",
          "text": [
            "-----------------------------------\n",
            "| custom/             |           |\n",
            "|    avg_reward_100ep | 12.006521 |\n",
            "| rollout/            |           |\n",
            "|    ep_len_mean      | 860       |\n",
            "|    ep_rew_mean      | 12        |\n",
            "| time/               |           |\n",
            "|    episodes         | 828       |\n",
            "|    fps              | 574       |\n",
            "|    time_elapsed     | 986       |\n",
            "|    total_timesteps  | 566874    |\n",
            "| train/              |           |\n",
            "|    actor_loss       | 7.42      |\n",
            "|    critic_loss      | 5.14      |\n",
            "|    learning_rate    | 0.0003    |\n",
            "|    n_updates        | 424480    |\n",
            "-----------------------------------\n"
          ]
        },
        {
          "data": {
            "text/html": [
              "<pre style=\"white-space:pre;overflow-x:auto;line-height:normal;font-family:Menlo,'DejaVu Sans Mono',consolas,'Courier New',monospace\">Eval num_timesteps=570000, episode_reward=49.07 +/- 71.52\n",
              "</pre>\n"
            ],
            "text/plain": [
              "Eval num_timesteps=570000, episode_reward=49.07 +/- 71.52\n"
            ]
          },
          "metadata": {},
          "output_type": "display_data"
        },
        {
          "data": {
            "text/html": [
              "<pre style=\"white-space:pre;overflow-x:auto;line-height:normal;font-family:Menlo,'DejaVu Sans Mono',consolas,'Courier New',monospace\">Episode length: 1000.00 +/- 0.00\n",
              "</pre>\n"
            ],
            "text/plain": [
              "Episode length: 1000.00 +/- 0.00\n"
            ]
          },
          "metadata": {},
          "output_type": "display_data"
        },
        {
          "name": "stdout",
          "output_type": "stream",
          "text": [
            "-----------------------------------\n",
            "| custom/             |           |\n",
            "|    avg_reward_100ep | 12.267317 |\n",
            "| eval/               |           |\n",
            "|    mean_ep_length   | 1e+03     |\n",
            "|    mean_reward      | 49.1      |\n",
            "| time/               |           |\n",
            "|    total_timesteps  | 570000    |\n",
            "| train/              |           |\n",
            "|    actor_loss       | 7.3       |\n",
            "|    critic_loss      | 5.51      |\n",
            "|    learning_rate    | 0.0003    |\n",
            "|    n_updates        | 425001    |\n",
            "-----------------------------------\n"
          ]
        },
        {
          "data": {
            "text/html": [
              "<pre style=\"white-space:pre;overflow-x:auto;line-height:normal;font-family:Menlo,'DejaVu Sans Mono',consolas,'Courier New',monospace\">New best mean reward!\n",
              "</pre>\n"
            ],
            "text/plain": [
              "New best mean reward!\n"
            ]
          },
          "metadata": {},
          "output_type": "display_data"
        },
        {
          "name": "stdout",
          "output_type": "stream",
          "text": [
            "-----------------------------------\n",
            "| custom/             |           |\n",
            "|    avg_reward_100ep | 11.563352 |\n",
            "| rollout/            |           |\n",
            "|    ep_len_mean      | 865       |\n",
            "|    ep_rew_mean      | 11.6      |\n",
            "| time/               |           |\n",
            "|    episodes         | 832       |\n",
            "|    fps              | 572       |\n",
            "|    time_elapsed     | 998       |\n",
            "|    total_timesteps  | 571518    |\n",
            "| train/              |           |\n",
            "|    actor_loss       | 6.64      |\n",
            "|    critic_loss      | 2.9       |\n",
            "|    learning_rate    | 0.0003    |\n",
            "|    n_updates        | 425254    |\n",
            "-----------------------------------\n"
          ]
        },
        {
          "name": "stdout",
          "output_type": "stream",
          "text": [
            "-----------------------------------\n",
            "| custom/             |           |\n",
            "|    avg_reward_100ep | 11.087822 |\n",
            "| rollout/            |           |\n",
            "|    ep_len_mean      | 866       |\n",
            "|    ep_rew_mean      | 11.1      |\n",
            "| time/               |           |\n",
            "|    episodes         | 836       |\n",
            "|    fps              | 572       |\n",
            "|    time_elapsed     | 1004      |\n",
            "|    total_timesteps  | 575454    |\n",
            "| train/              |           |\n",
            "|    actor_loss       | 7.51      |\n",
            "|    critic_loss      | 3.36      |\n",
            "|    learning_rate    | 0.0003    |\n",
            "|    n_updates        | 425910    |\n",
            "-----------------------------------\n"
          ]
        },
        {
          "name": "stdout",
          "output_type": "stream",
          "text": [
            "----------------------------------\n",
            "| custom/             |          |\n",
            "|    avg_reward_100ep | 15.85583 |\n",
            "| rollout/            |          |\n",
            "|    ep_len_mean      | 866      |\n",
            "|    ep_rew_mean      | 15.9     |\n",
            "| time/               |          |\n",
            "|    episodes         | 840      |\n",
            "|    fps              | 572      |\n",
            "|    time_elapsed     | 1009     |\n",
            "|    total_timesteps  | 578532   |\n",
            "| train/              |          |\n",
            "|    actor_loss       | 7.94     |\n",
            "|    critic_loss      | 3.57     |\n",
            "|    learning_rate    | 0.0003   |\n",
            "|    n_updates        | 426423   |\n",
            "----------------------------------\n"
          ]
        },
        {
          "name": "stdout",
          "output_type": "stream",
          "text": [
            "----------------------------------\n",
            "| custom/             |          |\n",
            "|    avg_reward_100ep | 17.72052 |\n",
            "| rollout/            |          |\n",
            "|    ep_len_mean      | 870      |\n",
            "|    ep_rew_mean      | 17.7     |\n",
            "| time/               |          |\n",
            "|    episodes         | 844      |\n",
            "|    fps              | 573      |\n",
            "|    time_elapsed     | 1017     |\n",
            "|    total_timesteps  | 583374   |\n",
            "| train/              |          |\n",
            "|    actor_loss       | 7.81     |\n",
            "|    critic_loss      | 3.11     |\n",
            "|    learning_rate    | 0.0003   |\n",
            "|    n_updates        | 427230   |\n",
            "----------------------------------\n"
          ]
        },
        {
          "name": "stdout",
          "output_type": "stream",
          "text": [
            "-----------------------------------\n",
            "| custom/             |           |\n",
            "|    avg_reward_100ep | 17.367346 |\n",
            "| rollout/            |           |\n",
            "|    ep_len_mean      | 870       |\n",
            "|    ep_rew_mean      | 17.4      |\n",
            "| time/               |           |\n",
            "|    episodes         | 848       |\n",
            "|    fps              | 573       |\n",
            "|    time_elapsed     | 1024      |\n",
            "|    total_timesteps  | 587412    |\n",
            "| train/              |           |\n",
            "|    actor_loss       | 7.57      |\n",
            "|    critic_loss      | 9.28      |\n",
            "|    learning_rate    | 0.0003    |\n",
            "|    n_updates        | 427903    |\n",
            "-----------------------------------\n"
          ]
        },
        {
          "name": "stdout",
          "output_type": "stream",
          "text": [
            "-----------------------------------\n",
            "| custom/             |           |\n",
            "|    avg_reward_100ep | 16.774233 |\n",
            "| rollout/            |           |\n",
            "|    ep_len_mean      | 870       |\n",
            "|    ep_rew_mean      | 16.8      |\n",
            "| time/               |           |\n",
            "|    episodes         | 852       |\n",
            "|    fps              | 573       |\n",
            "|    time_elapsed     | 1029      |\n",
            "|    total_timesteps  | 590532    |\n",
            "| train/              |           |\n",
            "|    actor_loss       | 6.66      |\n",
            "|    critic_loss      | 6.75      |\n",
            "|    learning_rate    | 0.0003    |\n",
            "|    n_updates        | 428423    |\n",
            "-----------------------------------\n"
          ]
        },
        {
          "name": "stdout",
          "output_type": "stream",
          "text": [
            "-----------------------------------\n",
            "| custom/             |           |\n",
            "|    avg_reward_100ep | 13.502515 |\n",
            "| rollout/            |           |\n",
            "|    ep_len_mean      | 863       |\n",
            "|    ep_rew_mean      | 13.5      |\n",
            "| time/               |           |\n",
            "|    episodes         | 856       |\n",
            "|    fps              | 573       |\n",
            "|    time_elapsed     | 1035      |\n",
            "|    total_timesteps  | 593994    |\n",
            "| train/              |           |\n",
            "|    actor_loss       | 7.6       |\n",
            "|    critic_loss      | 7.38      |\n",
            "|    learning_rate    | 0.0003    |\n",
            "|    n_updates        | 429000    |\n",
            "-----------------------------------\n"
          ]
        },
        {
          "name": "stdout",
          "output_type": "stream",
          "text": [
            "-----------------------------------\n",
            "| custom/             |           |\n",
            "|    avg_reward_100ep | 13.791273 |\n",
            "| rollout/            |           |\n",
            "|    ep_len_mean      | 866       |\n",
            "|    ep_rew_mean      | 13.8      |\n",
            "| time/               |           |\n",
            "|    episodes         | 860       |\n",
            "|    fps              | 573       |\n",
            "|    time_elapsed     | 1040      |\n",
            "|    total_timesteps  | 596772    |\n",
            "| train/              |           |\n",
            "|    actor_loss       | 6.83      |\n",
            "|    critic_loss      | 3.29      |\n",
            "|    learning_rate    | 0.0003    |\n",
            "|    n_updates        | 429463    |\n",
            "-----------------------------------\n"
          ]
        },
        {
          "data": {
            "text/html": [
              "<pre style=\"white-space:pre;overflow-x:auto;line-height:normal;font-family:Menlo,'DejaVu Sans Mono',consolas,'Courier New',monospace\">Eval num_timesteps=600000, episode_reward=9.42 +/- 98.11\n",
              "</pre>\n"
            ],
            "text/plain": [
              "Eval num_timesteps=600000, episode_reward=9.42 +/- 98.11\n"
            ]
          },
          "metadata": {},
          "output_type": "display_data"
        },
        {
          "data": {
            "text/html": [
              "<pre style=\"white-space:pre;overflow-x:auto;line-height:normal;font-family:Menlo,'DejaVu Sans Mono',consolas,'Courier New',monospace\">Episode length: 760.20 +/- 294.37\n",
              "</pre>\n"
            ],
            "text/plain": [
              "Episode length: 760.20 +/- 294.37\n"
            ]
          },
          "metadata": {},
          "output_type": "display_data"
        },
        {
          "name": "stdout",
          "output_type": "stream",
          "text": [
            "-----------------------------------\n",
            "| custom/             |           |\n",
            "|    avg_reward_100ep | 16.741968 |\n",
            "| eval/               |           |\n",
            "|    mean_ep_length   | 760       |\n",
            "|    mean_reward      | 9.42      |\n",
            "| time/               |           |\n",
            "|    total_timesteps  | 600000    |\n",
            "| train/              |           |\n",
            "|    actor_loss       | 7.85      |\n",
            "|    critic_loss      | 3.95      |\n",
            "|    learning_rate    | 0.0003    |\n",
            "|    n_updates        | 430001    |\n",
            "-----------------------------------\n"
          ]
        },
        {
          "name": "stdout",
          "output_type": "stream",
          "text": [
            "-----------------------------------\n",
            "| custom/             |           |\n",
            "|    avg_reward_100ep | 17.043034 |\n",
            "| rollout/            |           |\n",
            "|    ep_len_mean      | 866       |\n",
            "|    ep_rew_mean      | 17        |\n",
            "| time/               |           |\n",
            "|    episodes         | 864       |\n",
            "|    fps              | 572       |\n",
            "|    time_elapsed     | 1049      |\n",
            "|    total_timesteps  | 600342    |\n",
            "| train/              |           |\n",
            "|    actor_loss       | 7.47      |\n",
            "|    critic_loss      | 3.01      |\n",
            "|    learning_rate    | 0.0003    |\n",
            "|    n_updates        | 430058    |\n",
            "-----------------------------------\n"
          ]
        },
        {
          "name": "stdout",
          "output_type": "stream",
          "text": [
            "-----------------------------------\n",
            "| custom/             |           |\n",
            "|    avg_reward_100ep | 16.572596 |\n",
            "| rollout/            |           |\n",
            "|    ep_len_mean      | 856       |\n",
            "|    ep_rew_mean      | 16.6      |\n",
            "| time/               |           |\n",
            "|    episodes         | 868       |\n",
            "|    fps              | 572       |\n",
            "|    time_elapsed     | 1052      |\n",
            "|    total_timesteps  | 602568    |\n",
            "| train/              |           |\n",
            "|    actor_loss       | 6.81      |\n",
            "|    critic_loss      | 3.15      |\n",
            "|    learning_rate    | 0.0003    |\n",
            "|    n_updates        | 430429    |\n",
            "-----------------------------------\n"
          ]
        },
        {
          "name": "stdout",
          "output_type": "stream",
          "text": [
            "-----------------------------------\n",
            "| custom/             |           |\n",
            "|    avg_reward_100ep | 14.896807 |\n",
            "| rollout/            |           |\n",
            "|    ep_len_mean      | 849       |\n",
            "|    ep_rew_mean      | 14.9      |\n",
            "| time/               |           |\n",
            "|    episodes         | 872       |\n",
            "|    fps              | 572       |\n",
            "|    time_elapsed     | 1058      |\n",
            "|    total_timesteps  | 605994    |\n",
            "| train/              |           |\n",
            "|    actor_loss       | 6.87      |\n",
            "|    critic_loss      | 4.26      |\n",
            "|    learning_rate    | 0.0003    |\n",
            "|    n_updates        | 431000    |\n",
            "-----------------------------------\n"
          ]
        },
        {
          "name": "stdout",
          "output_type": "stream",
          "text": [
            "-----------------------------------\n",
            "| custom/             |           |\n",
            "|    avg_reward_100ep | 14.205837 |\n",
            "| rollout/            |           |\n",
            "|    ep_len_mean      | 843       |\n",
            "|    ep_rew_mean      | 14.2      |\n",
            "| time/               |           |\n",
            "|    episodes         | 876       |\n",
            "|    fps              | 572       |\n",
            "|    time_elapsed     | 1062      |\n",
            "|    total_timesteps  | 608568    |\n",
            "| train/              |           |\n",
            "|    actor_loss       | 7.58      |\n",
            "|    critic_loss      | 1.42      |\n",
            "|    learning_rate    | 0.0003    |\n",
            "|    n_updates        | 431429    |\n",
            "-----------------------------------\n"
          ]
        },
        {
          "name": "stdout",
          "output_type": "stream",
          "text": [
            "-----------------------------------\n",
            "| custom/             |           |\n",
            "|    avg_reward_100ep | 17.343002 |\n",
            "| rollout/            |           |\n",
            "|    ep_len_mean      | 859       |\n",
            "|    ep_rew_mean      | 17.3      |\n",
            "| time/               |           |\n",
            "|    episodes         | 880       |\n",
            "|    fps              | 572       |\n",
            "|    time_elapsed     | 1069      |\n",
            "|    total_timesteps  | 612330    |\n",
            "| train/              |           |\n",
            "|    actor_loss       | 5.83      |\n",
            "|    critic_loss      | 6.54      |\n",
            "|    learning_rate    | 0.0003    |\n",
            "|    n_updates        | 432056    |\n",
            "-----------------------------------\n"
          ]
        },
        {
          "name": "stdout",
          "output_type": "stream",
          "text": [
            "-----------------------------------\n",
            "| custom/             |           |\n",
            "|    avg_reward_100ep | 19.716618 |\n",
            "| rollout/            |           |\n",
            "|    ep_len_mean      | 872       |\n",
            "|    ep_rew_mean      | 19.7      |\n",
            "| time/               |           |\n",
            "|    episodes         | 884       |\n",
            "|    fps              | 572       |\n",
            "|    time_elapsed     | 1077      |\n",
            "|    total_timesteps  | 617100    |\n",
            "| train/              |           |\n",
            "|    actor_loss       | 6.94      |\n",
            "|    critic_loss      | 3.1       |\n",
            "|    learning_rate    | 0.0003    |\n",
            "|    n_updates        | 432851    |\n",
            "-----------------------------------\n"
          ]
        },
        {
          "name": "stdout",
          "output_type": "stream",
          "text": [
            "-----------------------------------\n",
            "| custom/             |           |\n",
            "|    avg_reward_100ep | 20.690075 |\n",
            "| rollout/            |           |\n",
            "|    ep_len_mean      | 875       |\n",
            "|    ep_rew_mean      | 20.7      |\n",
            "| time/               |           |\n",
            "|    episodes         | 888       |\n",
            "|    fps              | 573       |\n",
            "|    time_elapsed     | 1082      |\n",
            "|    total_timesteps  | 620532    |\n",
            "| train/              |           |\n",
            "|    actor_loss       | 7.08      |\n",
            "|    critic_loss      | 5.41      |\n",
            "|    learning_rate    | 0.0003    |\n",
            "|    n_updates        | 433423    |\n",
            "-----------------------------------\n"
          ]
        },
        {
          "name": "stdout",
          "output_type": "stream",
          "text": [
            "-----------------------------------\n",
            "| custom/             |           |\n",
            "|    avg_reward_100ep | 21.433477 |\n",
            "| rollout/            |           |\n",
            "|    ep_len_mean      | 882       |\n",
            "|    ep_rew_mean      | 21.4      |\n",
            "| time/               |           |\n",
            "|    episodes         | 892       |\n",
            "|    fps              | 573       |\n",
            "|    time_elapsed     | 1089      |\n",
            "|    total_timesteps  | 624330    |\n",
            "| train/              |           |\n",
            "|    actor_loss       | 8.08      |\n",
            "|    critic_loss      | 3.28      |\n",
            "|    learning_rate    | 0.0003    |\n",
            "|    n_updates        | 434056    |\n",
            "-----------------------------------\n"
          ]
        },
        {
          "name": "stdout",
          "output_type": "stream",
          "text": [
            "----------------------------------\n",
            "| custom/             |          |\n",
            "|    avg_reward_100ep | 24.35228 |\n",
            "| rollout/            |          |\n",
            "|    ep_len_mean      | 885      |\n",
            "|    ep_rew_mean      | 24.4     |\n",
            "| time/               |          |\n",
            "|    episodes         | 896      |\n",
            "|    fps              | 573      |\n",
            "|    time_elapsed     | 1096     |\n",
            "|    total_timesteps  | 628890   |\n",
            "| train/              |          |\n",
            "|    actor_loss       | 7.1      |\n",
            "|    critic_loss      | 1.56     |\n",
            "|    learning_rate    | 0.0003   |\n",
            "|    n_updates        | 434816   |\n",
            "----------------------------------\n"
          ]
        },
        {
          "data": {
            "text/html": [
              "<pre style=\"white-space:pre;overflow-x:auto;line-height:normal;font-family:Menlo,'DejaVu Sans Mono',consolas,'Courier New',monospace\">Eval num_timesteps=630000, episode_reward=-14.91 +/- 36.53\n",
              "</pre>\n"
            ],
            "text/plain": [
              "Eval num_timesteps=630000, episode_reward=-14.91 +/- 36.53\n"
            ]
          },
          "metadata": {},
          "output_type": "display_data"
        },
        {
          "data": {
            "text/html": [
              "<pre style=\"white-space:pre;overflow-x:auto;line-height:normal;font-family:Menlo,'DejaVu Sans Mono',consolas,'Courier New',monospace\">Episode length: 726.20 +/- 285.80\n",
              "</pre>\n"
            ],
            "text/plain": [
              "Episode length: 726.20 +/- 285.80\n"
            ]
          },
          "metadata": {},
          "output_type": "display_data"
        },
        {
          "name": "stdout",
          "output_type": "stream",
          "text": [
            "-----------------------------------\n",
            "| custom/             |           |\n",
            "|    avg_reward_100ep | 25.157906 |\n",
            "| eval/               |           |\n",
            "|    mean_ep_length   | 726       |\n",
            "|    mean_reward      | -14.9     |\n",
            "| time/               |           |\n",
            "|    total_timesteps  | 630000    |\n",
            "| train/              |           |\n",
            "|    actor_loss       | 7.08      |\n",
            "|    critic_loss      | 4.53      |\n",
            "|    learning_rate    | 0.0003    |\n",
            "|    n_updates        | 435001    |\n",
            "-----------------------------------\n"
          ]
        },
        {
          "name": "stdout",
          "output_type": "stream",
          "text": [
            "-----------------------------------\n",
            "| custom/             |           |\n",
            "|    avg_reward_100ep | 25.708542 |\n",
            "| rollout/            |           |\n",
            "|    ep_len_mean      | 880       |\n",
            "|    ep_rew_mean      | 25.7      |\n",
            "| time/               |           |\n",
            "|    episodes         | 900       |\n",
            "|    fps              | 571       |\n",
            "|    time_elapsed     | 1105      |\n",
            "|    total_timesteps  | 632352    |\n",
            "| train/              |           |\n",
            "|    actor_loss       | 8.09      |\n",
            "|    critic_loss      | 4.26      |\n",
            "|    learning_rate    | 0.0003    |\n",
            "|    n_updates        | 435393    |\n",
            "-----------------------------------\n"
          ]
        },
        {
          "name": "stdout",
          "output_type": "stream",
          "text": [
            "-----------------------------------\n",
            "| custom/             |           |\n",
            "|    avg_reward_100ep | 26.347345 |\n",
            "| rollout/            |           |\n",
            "|    ep_len_mean      | 894       |\n",
            "|    ep_rew_mean      | 26.3      |\n",
            "| time/               |           |\n",
            "|    episodes         | 904       |\n",
            "|    fps              | 572       |\n",
            "|    time_elapsed     | 1111      |\n",
            "|    total_timesteps  | 635994    |\n",
            "| train/              |           |\n",
            "|    actor_loss       | 6.12      |\n",
            "|    critic_loss      | 4.01      |\n",
            "|    learning_rate    | 0.0003    |\n",
            "|    n_updates        | 436000    |\n",
            "-----------------------------------\n"
          ]
        },
        {
          "name": "stdout",
          "output_type": "stream",
          "text": [
            "----------------------------------\n",
            "| custom/             |          |\n",
            "|    avg_reward_100ep | 26.48888 |\n",
            "| rollout/            |          |\n",
            "|    ep_len_mean      | 894      |\n",
            "|    ep_rew_mean      | 26.5     |\n",
            "| time/               |          |\n",
            "|    episodes         | 908      |\n",
            "|    fps              | 572      |\n",
            "|    time_elapsed     | 1117     |\n",
            "|    total_timesteps  | 639540   |\n",
            "| train/              |          |\n",
            "|    actor_loss       | 7.32     |\n",
            "|    critic_loss      | 2.13     |\n",
            "|    learning_rate    | 0.0003   |\n",
            "|    n_updates        | 436591   |\n",
            "----------------------------------\n"
          ]
        },
        {
          "name": "stdout",
          "output_type": "stream",
          "text": [
            "-----------------------------------\n",
            "| custom/             |           |\n",
            "|    avg_reward_100ep | 23.385025 |\n",
            "| rollout/            |           |\n",
            "|    ep_len_mean      | 881       |\n",
            "|    ep_rew_mean      | 23.4      |\n",
            "| time/               |           |\n",
            "|    episodes         | 912       |\n",
            "|    fps              | 572       |\n",
            "|    time_elapsed     | 1121      |\n",
            "|    total_timesteps  | 641994    |\n",
            "| train/              |           |\n",
            "|    actor_loss       | 6.55      |\n",
            "|    critic_loss      | 2.88      |\n",
            "|    learning_rate    | 0.0003    |\n",
            "|    n_updates        | 437000    |\n",
            "-----------------------------------\n"
          ]
        },
        {
          "name": "stdout",
          "output_type": "stream",
          "text": [
            "-----------------------------------\n",
            "| custom/             |           |\n",
            "|    avg_reward_100ep | 19.611792 |\n",
            "| rollout/            |           |\n",
            "|    ep_len_mean      | 875       |\n",
            "|    ep_rew_mean      | 19.6      |\n",
            "| time/               |           |\n",
            "|    episodes         | 916       |\n",
            "|    fps              | 572       |\n",
            "|    time_elapsed     | 1126      |\n",
            "|    total_timesteps  | 644532    |\n",
            "| train/              |           |\n",
            "|    actor_loss       | 5.7       |\n",
            "|    critic_loss      | 2.89      |\n",
            "|    learning_rate    | 0.0003    |\n",
            "|    n_updates        | 437423    |\n",
            "-----------------------------------\n"
          ]
        },
        {
          "name": "stdout",
          "output_type": "stream",
          "text": [
            "-----------------------------------\n",
            "| custom/             |           |\n",
            "|    avg_reward_100ep | 21.636675 |\n",
            "| rollout/            |           |\n",
            "|    ep_len_mean      | 884       |\n",
            "|    ep_rew_mean      | 21.6      |\n",
            "| time/               |           |\n",
            "|    episodes         | 920       |\n",
            "|    fps              | 572       |\n",
            "|    time_elapsed     | 1133      |\n",
            "|    total_timesteps  | 648870    |\n",
            "| train/              |           |\n",
            "|    actor_loss       | 6.58      |\n",
            "|    critic_loss      | 1.68      |\n",
            "|    learning_rate    | 0.0003    |\n",
            "|    n_updates        | 438146    |\n",
            "-----------------------------------\n"
          ]
        },
        {
          "name": "stdout",
          "output_type": "stream",
          "text": [
            "----------------------------------\n",
            "| custom/             |          |\n",
            "|    avg_reward_100ep | 20.29816 |\n",
            "| rollout/            |          |\n",
            "|    ep_len_mean      | 882      |\n",
            "|    ep_rew_mean      | 20.3     |\n",
            "| time/               |          |\n",
            "|    episodes         | 924      |\n",
            "|    fps              | 572      |\n",
            "|    time_elapsed     | 1138     |\n",
            "|    total_timesteps  | 651690   |\n",
            "| train/              |          |\n",
            "|    actor_loss       | 5.93     |\n",
            "|    critic_loss      | 4.31     |\n",
            "|    learning_rate    | 0.0003   |\n",
            "|    n_updates        | 438616   |\n",
            "----------------------------------\n"
          ]
        },
        {
          "name": "stdout",
          "output_type": "stream",
          "text": [
            "-----------------------------------\n",
            "| custom/             |           |\n",
            "|    avg_reward_100ep | 21.904427 |\n",
            "| rollout/            |           |\n",
            "|    ep_len_mean      | 878       |\n",
            "|    ep_rew_mean      | 21.9      |\n",
            "| time/               |           |\n",
            "|    episodes         | 928       |\n",
            "|    fps              | 572       |\n",
            "|    time_elapsed     | 1146      |\n",
            "|    total_timesteps  | 656532    |\n",
            "| train/              |           |\n",
            "|    actor_loss       | 7.01      |\n",
            "|    critic_loss      | 2.74      |\n",
            "|    learning_rate    | 0.0003    |\n",
            "|    n_updates        | 439423    |\n",
            "-----------------------------------\n"
          ]
        },
        {
          "name": "stdout",
          "output_type": "stream",
          "text": [
            "-----------------------------------\n",
            "| custom/             |           |\n",
            "|    avg_reward_100ep | 22.772837 |\n",
            "| rollout/            |           |\n",
            "|    ep_len_mean      | 866       |\n",
            "|    ep_rew_mean      | 22.8      |\n",
            "| time/               |           |\n",
            "|    episodes         | 932       |\n",
            "|    fps              | 572       |\n",
            "|    time_elapsed     | 1148      |\n",
            "|    total_timesteps  | 658092    |\n",
            "| train/              |           |\n",
            "|    actor_loss       | 6.44      |\n",
            "|    critic_loss      | 2.55      |\n",
            "|    learning_rate    | 0.0003    |\n",
            "|    n_updates        | 439683    |\n",
            "-----------------------------------\n"
          ]
        },
        {
          "data": {
            "text/html": [
              "<pre style=\"white-space:pre;overflow-x:auto;line-height:normal;font-family:Menlo,'DejaVu Sans Mono',consolas,'Courier New',monospace\">Eval num_timesteps=660000, episode_reward=53.15 +/- 73.70\n",
              "</pre>\n"
            ],
            "text/plain": [
              "Eval num_timesteps=660000, episode_reward=53.15 +/- 73.70\n"
            ]
          },
          "metadata": {},
          "output_type": "display_data"
        },
        {
          "data": {
            "text/html": [
              "<pre style=\"white-space:pre;overflow-x:auto;line-height:normal;font-family:Menlo,'DejaVu Sans Mono',consolas,'Courier New',monospace\">Episode length: 846.00 +/- 195.95\n",
              "</pre>\n"
            ],
            "text/plain": [
              "Episode length: 846.00 +/- 195.95\n"
            ]
          },
          "metadata": {},
          "output_type": "display_data"
        },
        {
          "name": "stdout",
          "output_type": "stream",
          "text": [
            "-----------------------------------\n",
            "| custom/             |           |\n",
            "|    avg_reward_100ep | 25.033657 |\n",
            "| eval/               |           |\n",
            "|    mean_ep_length   | 846       |\n",
            "|    mean_reward      | 53.2      |\n",
            "| time/               |           |\n",
            "|    total_timesteps  | 660000    |\n",
            "| train/              |           |\n",
            "|    actor_loss       | 6.1       |\n",
            "|    critic_loss      | 2.44      |\n",
            "|    learning_rate    | 0.0003    |\n",
            "|    n_updates        | 440001    |\n",
            "-----------------------------------\n"
          ]
        },
        {
          "data": {
            "text/html": [
              "<pre style=\"white-space:pre;overflow-x:auto;line-height:normal;font-family:Menlo,'DejaVu Sans Mono',consolas,'Courier New',monospace\">New best mean reward!\n",
              "</pre>\n"
            ],
            "text/plain": [
              "New best mean reward!\n"
            ]
          },
          "metadata": {},
          "output_type": "display_data"
        },
        {
          "name": "stdout",
          "output_type": "stream",
          "text": [
            "-----------------------------------\n",
            "| custom/             |           |\n",
            "|    avg_reward_100ep | 24.284792 |\n",
            "| rollout/            |           |\n",
            "|    ep_len_mean      | 857       |\n",
            "|    ep_rew_mean      | 24.3      |\n",
            "| time/               |           |\n",
            "|    episodes         | 936       |\n",
            "|    fps              | 571       |\n",
            "|    time_elapsed     | 1157      |\n",
            "|    total_timesteps  | 660972    |\n",
            "| train/              |           |\n",
            "|    actor_loss       | 6.84      |\n",
            "|    critic_loss      | 2.43      |\n",
            "|    learning_rate    | 0.0003    |\n",
            "|    n_updates        | 440163    |\n",
            "-----------------------------------\n"
          ]
        },
        {
          "name": "stdout",
          "output_type": "stream",
          "text": [
            "-----------------------------------\n",
            "| custom/             |           |\n",
            "|    avg_reward_100ep | 24.578192 |\n",
            "| rollout/            |           |\n",
            "|    ep_len_mean      | 857       |\n",
            "|    ep_rew_mean      | 24.6      |\n",
            "| time/               |           |\n",
            "|    episodes         | 940       |\n",
            "|    fps              | 571       |\n",
            "|    time_elapsed     | 1163      |\n",
            "|    total_timesteps  | 664890    |\n",
            "| train/              |           |\n",
            "|    actor_loss       | 7.96      |\n",
            "|    critic_loss      | 4.48      |\n",
            "|    learning_rate    | 0.0003    |\n",
            "|    n_updates        | 440816    |\n",
            "-----------------------------------\n"
          ]
        },
        {
          "name": "stdout",
          "output_type": "stream",
          "text": [
            "-----------------------------------\n",
            "| custom/             |           |\n",
            "|    avg_reward_100ep | 25.772581 |\n",
            "| rollout/            |           |\n",
            "|    ep_len_mean      | 850       |\n",
            "|    ep_rew_mean      | 25.8      |\n",
            "| time/               |           |\n",
            "|    episodes         | 944       |\n",
            "|    fps              | 571       |\n",
            "|    time_elapsed     | 1169      |\n",
            "|    total_timesteps  | 668586    |\n",
            "| train/              |           |\n",
            "|    actor_loss       | 8.48      |\n",
            "|    critic_loss      | 5.44      |\n",
            "|    learning_rate    | 0.0003    |\n",
            "|    n_updates        | 441432    |\n",
            "-----------------------------------\n"
          ]
        },
        {
          "name": "stdout",
          "output_type": "stream",
          "text": [
            "-----------------------------------\n",
            "| custom/             |           |\n",
            "|    avg_reward_100ep | 23.789595 |\n",
            "| rollout/            |           |\n",
            "|    ep_len_mean      | 846       |\n",
            "|    ep_rew_mean      | 23.8      |\n",
            "| time/               |           |\n",
            "|    episodes         | 948       |\n",
            "|    fps              | 571       |\n",
            "|    time_elapsed     | 1174      |\n",
            "|    total_timesteps  | 671100    |\n",
            "| train/              |           |\n",
            "|    actor_loss       | 8.66      |\n",
            "|    critic_loss      | 6.69      |\n",
            "|    learning_rate    | 0.0003    |\n",
            "|    n_updates        | 441851    |\n",
            "-----------------------------------\n"
          ]
        },
        {
          "name": "stdout",
          "output_type": "stream",
          "text": [
            "-----------------------------------\n",
            "| custom/             |           |\n",
            "|    avg_reward_100ep | 24.998629 |\n",
            "| rollout/            |           |\n",
            "|    ep_len_mean      | 842       |\n",
            "|    ep_rew_mean      | 25        |\n",
            "| time/               |           |\n",
            "|    episodes         | 952       |\n",
            "|    fps              | 571       |\n",
            "|    time_elapsed     | 1179      |\n",
            "|    total_timesteps  | 674586    |\n",
            "| train/              |           |\n",
            "|    actor_loss       | 6.37      |\n",
            "|    critic_loss      | 3.07      |\n",
            "|    learning_rate    | 0.0003    |\n",
            "|    n_updates        | 442432    |\n",
            "-----------------------------------\n"
          ]
        },
        {
          "name": "stdout",
          "output_type": "stream",
          "text": [
            "-----------------------------------\n",
            "| custom/             |           |\n",
            "|    avg_reward_100ep | 29.953676 |\n",
            "| rollout/            |           |\n",
            "|    ep_len_mean      | 848       |\n",
            "|    ep_rew_mean      | 30        |\n",
            "| time/               |           |\n",
            "|    episodes         | 956       |\n",
            "|    fps              | 571       |\n",
            "|    time_elapsed     | 1187      |\n",
            "|    total_timesteps  | 678972    |\n",
            "| train/              |           |\n",
            "|    actor_loss       | 6.33      |\n",
            "|    critic_loss      | 2.57      |\n",
            "|    learning_rate    | 0.0003    |\n",
            "|    n_updates        | 443163    |\n",
            "-----------------------------------\n"
          ]
        },
        {
          "name": "stdout",
          "output_type": "stream",
          "text": [
            "-----------------------------------\n",
            "| custom/             |           |\n",
            "|    avg_reward_100ep | 32.361847 |\n",
            "| rollout/            |           |\n",
            "|    ep_len_mean      | 859       |\n",
            "|    ep_rew_mean      | 32.4      |\n",
            "| time/               |           |\n",
            "|    episodes         | 960       |\n",
            "|    fps              | 572       |\n",
            "|    time_elapsed     | 1194      |\n",
            "|    total_timesteps  | 683100    |\n",
            "| train/              |           |\n",
            "|    actor_loss       | 6.64      |\n",
            "|    critic_loss      | 2.39      |\n",
            "|    learning_rate    | 0.0003    |\n",
            "|    n_updates        | 443851    |\n",
            "-----------------------------------\n"
          ]
        },
        {
          "name": "stdout",
          "output_type": "stream",
          "text": [
            "-----------------------------------\n",
            "| custom/             |           |\n",
            "|    avg_reward_100ep | 30.330881 |\n",
            "| rollout/            |           |\n",
            "|    ep_len_mean      | 852       |\n",
            "|    ep_rew_mean      | 30.3      |\n",
            "| time/               |           |\n",
            "|    episodes         | 964       |\n",
            "|    fps              | 572       |\n",
            "|    time_elapsed     | 1198      |\n",
            "|    total_timesteps  | 685410    |\n",
            "| train/              |           |\n",
            "|    actor_loss       | 7.85      |\n",
            "|    critic_loss      | 5.73      |\n",
            "|    learning_rate    | 0.0003    |\n",
            "|    n_updates        | 444236    |\n",
            "-----------------------------------\n"
          ]
        },
        {
          "name": "stdout",
          "output_type": "stream",
          "text": [
            "----------------------------------\n",
            "| custom/             |          |\n",
            "|    avg_reward_100ep | 32.62727 |\n",
            "| rollout/            |          |\n",
            "|    ep_len_mean      | 863      |\n",
            "|    ep_rew_mean      | 32.6     |\n",
            "| time/               |          |\n",
            "|    episodes         | 968      |\n",
            "|    fps              | 572      |\n",
            "|    time_elapsed     | 1204     |\n",
            "|    total_timesteps  | 689100   |\n",
            "| train/              |          |\n",
            "|    actor_loss       | 6.63     |\n",
            "|    critic_loss      | 1.78     |\n",
            "|    learning_rate    | 0.0003   |\n",
            "|    n_updates        | 444851   |\n",
            "----------------------------------\n"
          ]
        },
        {
          "data": {
            "text/html": [
              "<pre style=\"white-space:pre;overflow-x:auto;line-height:normal;font-family:Menlo,'DejaVu Sans Mono',consolas,'Courier New',monospace\">Eval num_timesteps=690000, episode_reward=10.72 +/- 105.63\n",
              "</pre>\n"
            ],
            "text/plain": [
              "Eval num_timesteps=690000, episode_reward=10.72 +/- 105.63\n"
            ]
          },
          "metadata": {},
          "output_type": "display_data"
        },
        {
          "data": {
            "text/html": [
              "<pre style=\"white-space:pre;overflow-x:auto;line-height:normal;font-family:Menlo,'DejaVu Sans Mono',consolas,'Courier New',monospace\">Episode length: 572.20 +/- 360.35\n",
              "</pre>\n"
            ],
            "text/plain": [
              "Episode length: 572.20 +/- 360.35\n"
            ]
          },
          "metadata": {},
          "output_type": "display_data"
        },
        {
          "name": "stdout",
          "output_type": "stream",
          "text": [
            "-----------------------------------\n",
            "| custom/             |           |\n",
            "|    avg_reward_100ep | 32.676582 |\n",
            "| eval/               |           |\n",
            "|    mean_ep_length   | 572       |\n",
            "|    mean_reward      | 10.7      |\n",
            "| time/               |           |\n",
            "|    total_timesteps  | 690000    |\n",
            "| train/              |           |\n",
            "|    actor_loss       | 7.29      |\n",
            "|    critic_loss      | 3.81      |\n",
            "|    learning_rate    | 0.0003    |\n",
            "|    n_updates        | 445001    |\n",
            "-----------------------------------\n"
          ]
        },
        {
          "name": "stdout",
          "output_type": "stream",
          "text": [
            "-----------------------------------\n",
            "| custom/             |           |\n",
            "|    avg_reward_100ep | 35.400673 |\n",
            "| rollout/            |           |\n",
            "|    ep_len_mean      | 866       |\n",
            "|    ep_rew_mean      | 35.4      |\n",
            "| time/               |           |\n",
            "|    episodes         | 972       |\n",
            "|    fps              | 571       |\n",
            "|    time_elapsed     | 1210      |\n",
            "|    total_timesteps  | 691410    |\n",
            "| train/              |           |\n",
            "|    actor_loss       | 7.37      |\n",
            "|    critic_loss      | 5.03      |\n",
            "|    learning_rate    | 0.0003    |\n",
            "|    n_updates        | 445236    |\n",
            "-----------------------------------\n"
          ]
        },
        {
          "name": "stdout",
          "output_type": "stream",
          "text": [
            "-----------------------------------\n",
            "| custom/             |           |\n",
            "|    avg_reward_100ep | 38.711857 |\n",
            "| rollout/            |           |\n",
            "|    ep_len_mean      | 870       |\n",
            "|    ep_rew_mean      | 38.7      |\n",
            "| time/               |           |\n",
            "|    episodes         | 976       |\n",
            "|    fps              | 571       |\n",
            "|    time_elapsed     | 1216      |\n",
            "|    total_timesteps  | 694746    |\n",
            "| train/              |           |\n",
            "|    actor_loss       | 6.06      |\n",
            "|    critic_loss      | 3.72      |\n",
            "|    learning_rate    | 0.0003    |\n",
            "|    n_updates        | 445792    |\n",
            "-----------------------------------\n"
          ]
        },
        {
          "name": "stdout",
          "output_type": "stream",
          "text": [
            "----------------------------------\n",
            "| custom/             |          |\n",
            "|    avg_reward_100ep | 35.57783 |\n",
            "| rollout/            |          |\n",
            "|    ep_len_mean      | 858      |\n",
            "|    ep_rew_mean      | 35.6     |\n",
            "| time/               |          |\n",
            "|    episodes         | 980      |\n",
            "|    fps              | 571      |\n",
            "|    time_elapsed     | 1221     |\n",
            "|    total_timesteps  | 697728   |\n",
            "| train/              |          |\n",
            "|    actor_loss       | 8.37     |\n",
            "|    critic_loss      | 4.37     |\n",
            "|    learning_rate    | 0.0003   |\n",
            "|    n_updates        | 446289   |\n",
            "----------------------------------\n"
          ]
        },
        {
          "name": "stdout",
          "output_type": "stream",
          "text": [
            "-----------------------------------\n",
            "| custom/             |           |\n",
            "|    avg_reward_100ep | 34.117928 |\n",
            "| rollout/            |           |\n",
            "|    ep_len_mean      | 852       |\n",
            "|    ep_rew_mean      | 34.1      |\n",
            "| time/               |           |\n",
            "|    episodes         | 984       |\n",
            "|    fps              | 571       |\n",
            "|    time_elapsed     | 1227      |\n",
            "|    total_timesteps  | 701490    |\n",
            "| train/              |           |\n",
            "|    actor_loss       | 5.86      |\n",
            "|    critic_loss      | 1.85      |\n",
            "|    learning_rate    | 0.0003    |\n",
            "|    n_updates        | 446916    |\n",
            "-----------------------------------\n"
          ]
        },
        {
          "name": "stdout",
          "output_type": "stream",
          "text": [
            "----------------------------------\n",
            "| custom/             |          |\n",
            "|    avg_reward_100ep | 33.84159 |\n",
            "| rollout/            |          |\n",
            "|    ep_len_mean      | 853      |\n",
            "|    ep_rew_mean      | 33.8     |\n",
            "| time/               |          |\n",
            "|    episodes         | 988      |\n",
            "|    fps              | 571      |\n",
            "|    time_elapsed     | 1235     |\n",
            "|    total_timesteps  | 706212   |\n",
            "| train/              |          |\n",
            "|    actor_loss       | 7.29     |\n",
            "|    critic_loss      | 4.68     |\n",
            "|    learning_rate    | 0.0003   |\n",
            "|    n_updates        | 447703   |\n",
            "----------------------------------\n"
          ]
        },
        {
          "name": "stdout",
          "output_type": "stream",
          "text": [
            "----------------------------------\n",
            "| custom/             |          |\n",
            "|    avg_reward_100ep | 34.06282 |\n",
            "| rollout/            |          |\n",
            "|    ep_len_mean      | 844      |\n",
            "|    ep_rew_mean      | 34.1     |\n",
            "| time/               |          |\n",
            "|    episodes         | 992      |\n",
            "|    fps              | 571      |\n",
            "|    time_elapsed     | 1240     |\n",
            "|    total_timesteps  | 709410   |\n",
            "| train/              |          |\n",
            "|    actor_loss       | 5.96     |\n",
            "|    critic_loss      | 2.14     |\n",
            "|    learning_rate    | 0.0003   |\n",
            "|    n_updates        | 448236   |\n",
            "----------------------------------\n"
          ]
        },
        {
          "name": "stdout",
          "output_type": "stream",
          "text": [
            "-----------------------------------\n",
            "| custom/             |           |\n",
            "|    avg_reward_100ep | 33.946945 |\n",
            "| rollout/            |           |\n",
            "|    ep_len_mean      | 844       |\n",
            "|    ep_rew_mean      | 33.9      |\n",
            "| time/               |           |\n",
            "|    episodes         | 996       |\n",
            "|    fps              | 572       |\n",
            "|    time_elapsed     | 1246      |\n",
            "|    total_timesteps  | 713028    |\n",
            "| train/              |           |\n",
            "|    actor_loss       | 6.84      |\n",
            "|    critic_loss      | 1.95      |\n",
            "|    learning_rate    | 0.0003    |\n",
            "|    n_updates        | 448839    |\n",
            "-----------------------------------\n"
          ]
        },
        {
          "name": "stdout",
          "output_type": "stream",
          "text": [
            "-----------------------------------\n",
            "| custom/             |           |\n",
            "|    avg_reward_100ep | 33.754795 |\n",
            "| rollout/            |           |\n",
            "|    ep_len_mean      | 846       |\n",
            "|    ep_rew_mean      | 33.8      |\n",
            "| time/               |           |\n",
            "|    episodes         | 1000      |\n",
            "|    fps              | 572       |\n",
            "|    time_elapsed     | 1253      |\n",
            "|    total_timesteps  | 716970    |\n",
            "| train/              |           |\n",
            "|    actor_loss       | 6.36      |\n",
            "|    critic_loss      | 2.95      |\n",
            "|    learning_rate    | 0.0003    |\n",
            "|    n_updates        | 449496    |\n",
            "-----------------------------------\n"
          ]
        },
        {
          "data": {
            "text/html": [
              "<pre style=\"white-space:pre;overflow-x:auto;line-height:normal;font-family:Menlo,'DejaVu Sans Mono',consolas,'Courier New',monospace\">Eval num_timesteps=720000, episode_reward=51.38 +/- 108.67\n",
              "</pre>\n"
            ],
            "text/plain": [
              "Eval num_timesteps=720000, episode_reward=51.38 +/- 108.67\n"
            ]
          },
          "metadata": {},
          "output_type": "display_data"
        },
        {
          "data": {
            "text/html": [
              "<pre style=\"white-space:pre;overflow-x:auto;line-height:normal;font-family:Menlo,'DejaVu Sans Mono',consolas,'Courier New',monospace\">Episode length: 715.80 +/- 350.92\n",
              "</pre>\n"
            ],
            "text/plain": [
              "Episode length: 715.80 +/- 350.92\n"
            ]
          },
          "metadata": {},
          "output_type": "display_data"
        },
        {
          "name": "stdout",
          "output_type": "stream",
          "text": [
            "-----------------------------------\n",
            "| custom/             |           |\n",
            "|    avg_reward_100ep | 33.479103 |\n",
            "| eval/               |           |\n",
            "|    mean_ep_length   | 716       |\n",
            "|    mean_reward      | 51.4      |\n",
            "| time/               |           |\n",
            "|    total_timesteps  | 720000    |\n",
            "| train/              |           |\n",
            "|    actor_loss       | 8         |\n",
            "|    critic_loss      | 3.82      |\n",
            "|    learning_rate    | 0.0003    |\n",
            "|    n_updates        | 450001    |\n",
            "-----------------------------------\n"
          ]
        },
        {
          "name": "stdout",
          "output_type": "stream",
          "text": [
            "----------------------------------\n",
            "| custom/             |          |\n",
            "|    avg_reward_100ep | 33.25844 |\n",
            "| rollout/            |          |\n",
            "|    ep_len_mean      | 846      |\n",
            "|    ep_rew_mean      | 33.3     |\n",
            "| time/               |          |\n",
            "|    episodes         | 1004     |\n",
            "|    fps              | 570      |\n",
            "|    time_elapsed     | 1262     |\n",
            "|    total_timesteps  | 720132   |\n",
            "| train/              |          |\n",
            "|    actor_loss       | 7.41     |\n",
            "|    critic_loss      | 2.73     |\n",
            "|    learning_rate    | 0.0003   |\n",
            "|    n_updates        | 450023   |\n",
            "----------------------------------\n"
          ]
        },
        {
          "name": "stdout",
          "output_type": "stream",
          "text": [
            "----------------------------------\n",
            "| custom/             |          |\n",
            "|    avg_reward_100ep | 34.75907 |\n",
            "| rollout/            |          |\n",
            "|    ep_len_mean      | 845      |\n",
            "|    ep_rew_mean      | 34.8     |\n",
            "| time/               |          |\n",
            "|    episodes         | 1008     |\n",
            "|    fps              | 570      |\n",
            "|    time_elapsed     | 1270     |\n",
            "|    total_timesteps  | 724638   |\n",
            "| train/              |          |\n",
            "|    actor_loss       | 6.32     |\n",
            "|    critic_loss      | 2.05     |\n",
            "|    learning_rate    | 0.0003   |\n",
            "|    n_updates        | 450774   |\n",
            "----------------------------------\n"
          ]
        },
        {
          "name": "stdout",
          "output_type": "stream",
          "text": [
            "-----------------------------------\n",
            "| custom/             |           |\n",
            "|    avg_reward_100ep | 35.404713 |\n",
            "| rollout/            |           |\n",
            "|    ep_len_mean      | 853       |\n",
            "|    ep_rew_mean      | 35.4      |\n",
            "| time/               |           |\n",
            "|    episodes         | 1012      |\n",
            "|    fps              | 570       |\n",
            "|    time_elapsed     | 1276      |\n",
            "|    total_timesteps  | 728340    |\n",
            "| train/              |           |\n",
            "|    actor_loss       | 7.78      |\n",
            "|    critic_loss      | 1.23      |\n",
            "|    learning_rate    | 0.0003    |\n",
            "|    n_updates        | 451391    |\n",
            "-----------------------------------\n"
          ]
        },
        {
          "name": "stdout",
          "output_type": "stream",
          "text": [
            "-----------------------------------\n",
            "| custom/             |           |\n",
            "|    avg_reward_100ep | 36.708744 |\n",
            "| rollout/            |           |\n",
            "|    ep_len_mean      | 858       |\n",
            "|    ep_rew_mean      | 36.7      |\n",
            "| time/               |           |\n",
            "|    episodes         | 1016      |\n",
            "|    fps              | 570       |\n",
            "|    time_elapsed     | 1279      |\n",
            "|    total_timesteps  | 730638    |\n",
            "| train/              |           |\n",
            "|    actor_loss       | 7.19      |\n",
            "|    critic_loss      | 3.13      |\n",
            "|    learning_rate    | 0.0003    |\n",
            "|    n_updates        | 451774    |\n",
            "-----------------------------------\n"
          ]
        },
        {
          "name": "stdout",
          "output_type": "stream",
          "text": [
            "-----------------------------------\n",
            "| custom/             |           |\n",
            "|    avg_reward_100ep | 35.500687 |\n",
            "| rollout/            |           |\n",
            "|    ep_len_mean      | 848       |\n",
            "|    ep_rew_mean      | 35.5      |\n",
            "| time/               |           |\n",
            "|    episodes         | 1020      |\n",
            "|    fps              | 571       |\n",
            "|    time_elapsed     | 1285      |\n",
            "|    total_timesteps  | 734340    |\n",
            "| train/              |           |\n",
            "|    actor_loss       | 6.17      |\n",
            "|    critic_loss      | 3         |\n",
            "|    learning_rate    | 0.0003    |\n",
            "|    n_updates        | 452391    |\n",
            "-----------------------------------\n"
          ]
        },
        {
          "name": "stdout",
          "output_type": "stream",
          "text": [
            "----------------------------------\n",
            "| custom/             |          |\n",
            "|    avg_reward_100ep | 34.72483 |\n",
            "| rollout/            |          |\n",
            "|    ep_len_mean      | 846      |\n",
            "|    ep_rew_mean      | 34.7     |\n",
            "| time/               |          |\n",
            "|    episodes         | 1024     |\n",
            "|    fps              | 571      |\n",
            "|    time_elapsed     | 1290     |\n",
            "|    total_timesteps  | 737550   |\n",
            "| train/              |          |\n",
            "|    actor_loss       | 7.79     |\n",
            "|    critic_loss      | 4.56     |\n",
            "|    learning_rate    | 0.0003   |\n",
            "|    n_updates        | 452926   |\n",
            "----------------------------------\n"
          ]
        },
        {
          "name": "stdout",
          "output_type": "stream",
          "text": [
            "----------------------------------\n",
            "| custom/             |          |\n",
            "|    avg_reward_100ep | 34.93861 |\n",
            "| rollout/            |          |\n",
            "|    ep_len_mean      | 850      |\n",
            "|    ep_rew_mean      | 34.9     |\n",
            "| time/               |          |\n",
            "|    episodes         | 1028     |\n",
            "|    fps              | 571      |\n",
            "|    time_elapsed     | 1295     |\n",
            "|    total_timesteps  | 740562   |\n",
            "| train/              |          |\n",
            "|    actor_loss       | 7.96     |\n",
            "|    critic_loss      | 1.83     |\n",
            "|    learning_rate    | 0.0003   |\n",
            "|    n_updates        | 453428   |\n",
            "----------------------------------\n"
          ]
        },
        {
          "name": "stdout",
          "output_type": "stream",
          "text": [
            "-----------------------------------\n",
            "| custom/             |           |\n",
            "|    avg_reward_100ep | 35.830517 |\n",
            "| rollout/            |           |\n",
            "|    ep_len_mean      | 864       |\n",
            "|    ep_rew_mean      | 35.8      |\n",
            "| time/               |           |\n",
            "|    episodes         | 1032      |\n",
            "|    fps              | 571       |\n",
            "|    time_elapsed     | 1301      |\n",
            "|    total_timesteps  | 743898    |\n",
            "| train/              |           |\n",
            "|    actor_loss       | 6.11      |\n",
            "|    critic_loss      | 4.55      |\n",
            "|    learning_rate    | 0.0003    |\n",
            "|    n_updates        | 453984    |\n",
            "-----------------------------------\n"
          ]
        },
        {
          "name": "stdout",
          "output_type": "stream",
          "text": [
            "-----------------------------------\n",
            "| custom/             |           |\n",
            "|    avg_reward_100ep | 37.459732 |\n",
            "| rollout/            |           |\n",
            "|    ep_len_mean      | 874       |\n",
            "|    ep_rew_mean      | 37.5      |\n",
            "| time/               |           |\n",
            "|    episodes         | 1036      |\n",
            "|    fps              | 571       |\n",
            "|    time_elapsed     | 1309      |\n",
            "|    total_timesteps  | 748764    |\n",
            "| train/              |           |\n",
            "|    actor_loss       | 7.36      |\n",
            "|    critic_loss      | 2.37      |\n",
            "|    learning_rate    | 0.0003    |\n",
            "|    n_updates        | 454795    |\n",
            "-----------------------------------\n"
          ]
        },
        {
          "data": {
            "text/html": [
              "<pre style=\"white-space:pre;overflow-x:auto;line-height:normal;font-family:Menlo,'DejaVu Sans Mono',consolas,'Courier New',monospace\">Eval num_timesteps=750000, episode_reward=22.86 +/- 82.92\n",
              "</pre>\n"
            ],
            "text/plain": [
              "Eval num_timesteps=750000, episode_reward=22.86 +/- 82.92\n"
            ]
          },
          "metadata": {},
          "output_type": "display_data"
        },
        {
          "data": {
            "text/html": [
              "<pre style=\"white-space:pre;overflow-x:auto;line-height:normal;font-family:Menlo,'DejaVu Sans Mono',consolas,'Courier New',monospace\">Episode length: 945.00 +/- 110.00\n",
              "</pre>\n"
            ],
            "text/plain": [
              "Episode length: 945.00 +/- 110.00\n"
            ]
          },
          "metadata": {},
          "output_type": "display_data"
        },
        {
          "name": "stdout",
          "output_type": "stream",
          "text": [
            "-----------------------------------\n",
            "| custom/             |           |\n",
            "|    avg_reward_100ep | 37.491985 |\n",
            "| eval/               |           |\n",
            "|    mean_ep_length   | 945       |\n",
            "|    mean_reward      | 22.9      |\n",
            "| time/               |           |\n",
            "|    total_timesteps  | 750000    |\n",
            "| train/              |           |\n",
            "|    actor_loss       | 9.01      |\n",
            "|    critic_loss      | 6.25      |\n",
            "|    learning_rate    | 0.0003    |\n",
            "|    n_updates        | 455001    |\n",
            "-----------------------------------\n"
          ]
        },
        {
          "name": "stdout",
          "output_type": "stream",
          "text": [
            "----------------------------------\n",
            "| custom/             |          |\n",
            "|    avg_reward_100ep | 36.21464 |\n",
            "| rollout/            |          |\n",
            "|    ep_len_mean      | 874      |\n",
            "|    ep_rew_mean      | 36.2     |\n",
            "| time/               |          |\n",
            "|    episodes         | 1040     |\n",
            "|    fps              | 570      |\n",
            "|    time_elapsed     | 1318     |\n",
            "|    total_timesteps  | 752400   |\n",
            "| train/              |          |\n",
            "|    actor_loss       | 7.01     |\n",
            "|    critic_loss      | 2.85     |\n",
            "|    learning_rate    | 0.0003   |\n",
            "|    n_updates        | 455401   |\n",
            "----------------------------------\n"
          ]
        },
        {
          "name": "stdout",
          "output_type": "stream",
          "text": [
            "-----------------------------------\n",
            "| custom/             |           |\n",
            "|    avg_reward_100ep | 34.073414 |\n",
            "| rollout/            |           |\n",
            "|    ep_len_mean      | 871       |\n",
            "|    ep_rew_mean      | 34.1      |\n",
            "| time/               |           |\n",
            "|    episodes         | 1044      |\n",
            "|    fps              | 570       |\n",
            "|    time_elapsed     | 1324      |\n",
            "|    total_timesteps  | 755748    |\n",
            "| train/              |           |\n",
            "|    actor_loss       | 6.64      |\n",
            "|    critic_loss      | 4.55      |\n",
            "|    learning_rate    | 0.0003    |\n",
            "|    n_updates        | 455959    |\n",
            "-----------------------------------\n"
          ]
        },
        {
          "name": "stdout",
          "output_type": "stream",
          "text": [
            "----------------------------------\n",
            "| custom/             |          |\n",
            "|    avg_reward_100ep | 36.35248 |\n",
            "| rollout/            |          |\n",
            "|    ep_len_mean      | 876      |\n",
            "|    ep_rew_mean      | 36.4     |\n",
            "| time/               |          |\n",
            "|    episodes         | 1048     |\n",
            "|    fps              | 570      |\n",
            "|    time_elapsed     | 1328     |\n",
            "|    total_timesteps  | 758562   |\n",
            "| train/              |          |\n",
            "|    actor_loss       | 6.02     |\n",
            "|    critic_loss      | 1.67     |\n",
            "|    learning_rate    | 0.0003   |\n",
            "|    n_updates        | 456428   |\n",
            "----------------------------------\n"
          ]
        },
        {
          "name": "stdout",
          "output_type": "stream",
          "text": [
            "-----------------------------------\n",
            "| custom/             |           |\n",
            "|    avg_reward_100ep | 34.924625 |\n",
            "| rollout/            |           |\n",
            "|    ep_len_mean      | 874       |\n",
            "|    ep_rew_mean      | 34.9      |\n",
            "| time/               |           |\n",
            "|    episodes         | 1052      |\n",
            "|    fps              | 570       |\n",
            "|    time_elapsed     | 1334      |\n",
            "|    total_timesteps  | 761862    |\n",
            "| train/              |           |\n",
            "|    actor_loss       | 7.89      |\n",
            "|    critic_loss      | 2.44      |\n",
            "|    learning_rate    | 0.0003    |\n",
            "|    n_updates        | 456978    |\n",
            "-----------------------------------\n"
          ]
        },
        {
          "name": "stdout",
          "output_type": "stream",
          "text": [
            "----------------------------------\n",
            "| custom/             |          |\n",
            "|    avg_reward_100ep | 30.72875 |\n",
            "| rollout/            |          |\n",
            "|    ep_len_mean      | 862      |\n",
            "|    ep_rew_mean      | 30.7     |\n",
            "| time/               |          |\n",
            "|    episodes         | 1056     |\n",
            "|    fps              | 571      |\n",
            "|    time_elapsed     | 1340     |\n",
            "|    total_timesteps  | 765636   |\n",
            "| train/              |          |\n",
            "|    actor_loss       | 5.91     |\n",
            "|    critic_loss      | 3.19     |\n",
            "|    learning_rate    | 0.0003   |\n",
            "|    n_updates        | 457607   |\n",
            "----------------------------------\n"
          ]
        },
        {
          "name": "stdout",
          "output_type": "stream",
          "text": [
            "-----------------------------------\n",
            "| custom/             |           |\n",
            "|    avg_reward_100ep | 28.543003 |\n",
            "| rollout/            |           |\n",
            "|    ep_len_mean      | 854       |\n",
            "|    ep_rew_mean      | 28.5      |\n",
            "| time/               |           |\n",
            "|    episodes         | 1060      |\n",
            "|    fps              | 571       |\n",
            "|    time_elapsed     | 1344      |\n",
            "|    total_timesteps  | 767946    |\n",
            "| train/              |           |\n",
            "|    actor_loss       | 6.33      |\n",
            "|    critic_loss      | 2.39      |\n",
            "|    learning_rate    | 0.0003    |\n",
            "|    n_updates        | 457992    |\n",
            "-----------------------------------\n"
          ]
        },
        {
          "name": "stdout",
          "output_type": "stream",
          "text": [
            "-----------------------------------\n",
            "| custom/             |           |\n",
            "|    avg_reward_100ep | 25.512274 |\n",
            "| rollout/            |           |\n",
            "|    ep_len_mean      | 847       |\n",
            "|    ep_rew_mean      | 25.5      |\n",
            "| time/               |           |\n",
            "|    episodes         | 1064      |\n",
            "|    fps              | 571       |\n",
            "|    time_elapsed     | 1348      |\n",
            "|    total_timesteps  | 770400    |\n",
            "| train/              |           |\n",
            "|    actor_loss       | 6.68      |\n",
            "|    critic_loss      | 2.82      |\n",
            "|    learning_rate    | 0.0003    |\n",
            "|    n_updates        | 458401    |\n",
            "-----------------------------------\n"
          ]
        },
        {
          "name": "stdout",
          "output_type": "stream",
          "text": [
            "-----------------------------------\n",
            "| custom/             |           |\n",
            "|    avg_reward_100ep | 26.244612 |\n",
            "| rollout/            |           |\n",
            "|    ep_len_mean      | 852       |\n",
            "|    ep_rew_mean      | 26.2      |\n",
            "| time/               |           |\n",
            "|    episodes         | 1068      |\n",
            "|    fps              | 571       |\n",
            "|    time_elapsed     | 1353      |\n",
            "|    total_timesteps  | 773778    |\n",
            "| train/              |           |\n",
            "|    actor_loss       | 8.21      |\n",
            "|    critic_loss      | 3.74      |\n",
            "|    learning_rate    | 0.0003    |\n",
            "|    n_updates        | 458964    |\n",
            "-----------------------------------\n"
          ]
        },
        {
          "name": "stdout",
          "output_type": "stream",
          "text": [
            "-----------------------------------\n",
            "| custom/             |           |\n",
            "|    avg_reward_100ep | 28.040258 |\n",
            "| rollout/            |           |\n",
            "|    ep_len_mean      | 849       |\n",
            "|    ep_rew_mean      | 28        |\n",
            "| time/               |           |\n",
            "|    episodes         | 1072      |\n",
            "|    fps              | 571       |\n",
            "|    time_elapsed     | 1358      |\n",
            "|    total_timesteps  | 776850    |\n",
            "| train/              |           |\n",
            "|    actor_loss       | 5.89      |\n",
            "|    critic_loss      | 3.7       |\n",
            "|    learning_rate    | 0.0003    |\n",
            "|    n_updates        | 459476    |\n",
            "-----------------------------------\n"
          ]
        },
        {
          "data": {
            "text/html": [
              "<pre style=\"white-space:pre;overflow-x:auto;line-height:normal;font-family:Menlo,'DejaVu Sans Mono',consolas,'Courier New',monospace\">Eval num_timesteps=780000, episode_reward=53.08 +/- 97.08\n",
              "</pre>\n"
            ],
            "text/plain": [
              "Eval num_timesteps=780000, episode_reward=53.08 +/- 97.08\n"
            ]
          },
          "metadata": {},
          "output_type": "display_data"
        },
        {
          "data": {
            "text/html": [
              "<pre style=\"white-space:pre;overflow-x:auto;line-height:normal;font-family:Menlo,'DejaVu Sans Mono',consolas,'Courier New',monospace\">Episode length: 782.20 +/- 279.79\n",
              "</pre>\n"
            ],
            "text/plain": [
              "Episode length: 782.20 +/- 279.79\n"
            ]
          },
          "metadata": {},
          "output_type": "display_data"
        },
        {
          "name": "stdout",
          "output_type": "stream",
          "text": [
            "-----------------------------------\n",
            "| custom/             |           |\n",
            "|    avg_reward_100ep | 27.414522 |\n",
            "| eval/               |           |\n",
            "|    mean_ep_length   | 782       |\n",
            "|    mean_reward      | 53.1      |\n",
            "| time/               |           |\n",
            "|    total_timesteps  | 780000    |\n",
            "| train/              |           |\n",
            "|    actor_loss       | 6.5       |\n",
            "|    critic_loss      | 2.8       |\n",
            "|    learning_rate    | 0.0003    |\n",
            "|    n_updates        | 460001    |\n",
            "-----------------------------------\n"
          ]
        },
        {
          "name": "stdout",
          "output_type": "stream",
          "text": [
            "----------------------------------\n",
            "| custom/             |          |\n",
            "|    avg_reward_100ep | 27.33495 |\n",
            "| rollout/            |          |\n",
            "|    ep_len_mean      | 856      |\n",
            "|    ep_rew_mean      | 27.3     |\n",
            "| time/               |          |\n",
            "|    episodes         | 1076     |\n",
            "|    fps              | 570      |\n",
            "|    time_elapsed     | 1369     |\n",
            "|    total_timesteps  | 781956   |\n",
            "| train/              |          |\n",
            "|    actor_loss       | 6.72     |\n",
            "|    critic_loss      | 2.28     |\n",
            "|    learning_rate    | 0.0003   |\n",
            "|    n_updates        | 460327   |\n",
            "----------------------------------\n"
          ]
        },
        {
          "name": "stdout",
          "output_type": "stream",
          "text": [
            "-----------------------------------\n",
            "| custom/             |           |\n",
            "|    avg_reward_100ep | 32.047714 |\n",
            "| rollout/            |           |\n",
            "|    ep_len_mean      | 866       |\n",
            "|    ep_rew_mean      | 32        |\n",
            "| time/               |           |\n",
            "|    episodes         | 1080      |\n",
            "|    fps              | 571       |\n",
            "|    time_elapsed     | 1375      |\n",
            "|    total_timesteps  | 785748    |\n",
            "| train/              |           |\n",
            "|    actor_loss       | 7.32      |\n",
            "|    critic_loss      | 2.68      |\n",
            "|    learning_rate    | 0.0003    |\n",
            "|    n_updates        | 460959    |\n",
            "-----------------------------------\n"
          ]
        },
        {
          "name": "stdout",
          "output_type": "stream",
          "text": [
            "-----------------------------------\n",
            "| custom/             |           |\n",
            "|    avg_reward_100ep | 31.223232 |\n",
            "| rollout/            |           |\n",
            "|    ep_len_mean      | 872       |\n",
            "|    ep_rew_mean      | 31.2      |\n",
            "| time/               |           |\n",
            "|    episodes         | 1084      |\n",
            "|    fps              | 571       |\n",
            "|    time_elapsed     | 1380      |\n",
            "|    total_timesteps  | 788400    |\n",
            "| train/              |           |\n",
            "|    actor_loss       | 6.64      |\n",
            "|    critic_loss      | 2.54      |\n",
            "|    learning_rate    | 0.0003    |\n",
            "|    n_updates        | 461401    |\n",
            "-----------------------------------\n"
          ]
        },
        {
          "name": "stdout",
          "output_type": "stream",
          "text": [
            "-----------------------------------\n",
            "| custom/             |           |\n",
            "|    avg_reward_100ep | 28.743292 |\n",
            "| rollout/            |           |\n",
            "|    ep_len_mean      | 864       |\n",
            "|    ep_rew_mean      | 28.7      |\n",
            "| time/               |           |\n",
            "|    episodes         | 1088      |\n",
            "|    fps              | 571       |\n",
            "|    time_elapsed     | 1385      |\n",
            "|    total_timesteps  | 791760    |\n",
            "| train/              |           |\n",
            "|    actor_loss       | 6.8       |\n",
            "|    critic_loss      | 4.21      |\n",
            "|    learning_rate    | 0.0003    |\n",
            "|    n_updates        | 461961    |\n",
            "-----------------------------------\n"
          ]
        },
        {
          "name": "stdout",
          "output_type": "stream",
          "text": [
            "-----------------------------------\n",
            "| custom/             |           |\n",
            "|    avg_reward_100ep | 24.234077 |\n",
            "| rollout/            |           |\n",
            "|    ep_len_mean      | 862       |\n",
            "|    ep_rew_mean      | 24.2      |\n",
            "| time/               |           |\n",
            "|    episodes         | 1092      |\n",
            "|    fps              | 571       |\n",
            "|    time_elapsed     | 1389      |\n",
            "|    total_timesteps  | 794400    |\n",
            "| train/              |           |\n",
            "|    actor_loss       | 7.65      |\n",
            "|    critic_loss      | 2.82      |\n",
            "|    learning_rate    | 0.0003    |\n",
            "|    n_updates        | 462401    |\n",
            "-----------------------------------\n"
          ]
        },
        {
          "name": "stdout",
          "output_type": "stream",
          "text": [
            "-----------------------------------\n",
            "| custom/             |           |\n",
            "|    avg_reward_100ep | 21.633867 |\n",
            "| rollout/            |           |\n",
            "|    ep_len_mean      | 853       |\n",
            "|    ep_rew_mean      | 21.6      |\n",
            "| time/               |           |\n",
            "|    episodes         | 1096      |\n",
            "|    fps              | 571       |\n",
            "|    time_elapsed     | 1396      |\n",
            "|    total_timesteps  | 798444    |\n",
            "| train/              |           |\n",
            "|    actor_loss       | 7.01      |\n",
            "|    critic_loss      | 6.01      |\n",
            "|    learning_rate    | 0.0003    |\n",
            "|    n_updates        | 463075    |\n",
            "-----------------------------------\n"
          ]
        },
        {
          "name": "stdout",
          "output_type": "stream",
          "text": [
            "-----------------------------------\n",
            "| custom/             |           |\n",
            "|    avg_reward_100ep | 22.032198 |\n",
            "| rollout/            |           |\n",
            "|    ep_len_mean      | 854       |\n",
            "|    ep_rew_mean      | 22        |\n",
            "| time/               |           |\n",
            "|    episodes         | 1100      |\n",
            "|    fps              | 572       |\n",
            "|    time_elapsed     | 1402      |\n",
            "|    total_timesteps  | 802062    |\n",
            "| train/              |           |\n",
            "|    actor_loss       | 7.12      |\n",
            "|    critic_loss      | 1.58      |\n",
            "|    learning_rate    | 0.0003    |\n",
            "|    n_updates        | 463678    |\n",
            "-----------------------------------\n"
          ]
        },
        {
          "name": "stdout",
          "output_type": "stream",
          "text": [
            "----------------------------------\n",
            "| custom/             |          |\n",
            "|    avg_reward_100ep | 26.06891 |\n",
            "| rollout/            |          |\n",
            "|    ep_len_mean      | 851      |\n",
            "|    ep_rew_mean      | 26.1     |\n",
            "| time/               |          |\n",
            "|    episodes         | 1104     |\n",
            "|    fps              | 572      |\n",
            "|    time_elapsed     | 1408     |\n",
            "|    total_timesteps  | 805716   |\n",
            "| train/              |          |\n",
            "|    actor_loss       | 7.76     |\n",
            "|    critic_loss      | 3.27     |\n",
            "|    learning_rate    | 0.0003   |\n",
            "|    n_updates        | 464287   |\n",
            "----------------------------------\n"
          ]
        },
        {
          "name": "stdout",
          "output_type": "stream",
          "text": [
            "----------------------------------\n",
            "| custom/             |          |\n",
            "|    avg_reward_100ep | 25.75361 |\n",
            "| rollout/            |          |\n",
            "|    ep_len_mean      | 846      |\n",
            "|    ep_rew_mean      | 25.8     |\n",
            "| time/               |          |\n",
            "|    episodes         | 1108     |\n",
            "|    fps              | 572      |\n",
            "|    time_elapsed     | 1411     |\n",
            "|    total_timesteps  | 808062   |\n",
            "| train/              |          |\n",
            "|    actor_loss       | 5.86     |\n",
            "|    critic_loss      | 2.38     |\n",
            "|    learning_rate    | 0.0003   |\n",
            "|    n_updates        | 464678   |\n",
            "----------------------------------\n"
          ]
        },
        {
          "data": {
            "text/html": [
              "<pre style=\"white-space:pre;overflow-x:auto;line-height:normal;font-family:Menlo,'DejaVu Sans Mono',consolas,'Courier New',monospace\">Eval num_timesteps=810000, episode_reward=55.35 +/- 70.94\n",
              "</pre>\n"
            ],
            "text/plain": [
              "Eval num_timesteps=810000, episode_reward=55.35 +/- 70.94\n"
            ]
          },
          "metadata": {},
          "output_type": "display_data"
        },
        {
          "data": {
            "text/html": [
              "<pre style=\"white-space:pre;overflow-x:auto;line-height:normal;font-family:Menlo,'DejaVu Sans Mono',consolas,'Courier New',monospace\">Episode length: 977.80 +/- 44.40\n",
              "</pre>\n"
            ],
            "text/plain": [
              "Episode length: 977.80 +/- 44.40\n"
            ]
          },
          "metadata": {},
          "output_type": "display_data"
        },
        {
          "name": "stdout",
          "output_type": "stream",
          "text": [
            "-----------------------------------\n",
            "| custom/             |           |\n",
            "|    avg_reward_100ep | 26.401878 |\n",
            "| eval/               |           |\n",
            "|    mean_ep_length   | 978       |\n",
            "|    mean_reward      | 55.3      |\n",
            "| time/               |           |\n",
            "|    total_timesteps  | 810000    |\n",
            "| train/              |           |\n",
            "|    actor_loss       | 4.89      |\n",
            "|    critic_loss      | 1.47      |\n",
            "|    learning_rate    | 0.0003    |\n",
            "|    n_updates        | 465001    |\n",
            "-----------------------------------\n"
          ]
        },
        {
          "data": {
            "text/html": [
              "<pre style=\"white-space:pre;overflow-x:auto;line-height:normal;font-family:Menlo,'DejaVu Sans Mono',consolas,'Courier New',monospace\">New best mean reward!\n",
              "</pre>\n"
            ],
            "text/plain": [
              "New best mean reward!\n"
            ]
          },
          "metadata": {},
          "output_type": "display_data"
        },
        {
          "name": "stdout",
          "output_type": "stream",
          "text": [
            "-----------------------------------\n",
            "| custom/             |           |\n",
            "|    avg_reward_100ep | 26.758478 |\n",
            "| rollout/            |           |\n",
            "|    ep_len_mean      | 843       |\n",
            "|    ep_rew_mean      | 26.8      |\n",
            "| time/               |           |\n",
            "|    episodes         | 1112      |\n",
            "|    fps              | 570       |\n",
            "|    time_elapsed     | 1421      |\n",
            "|    total_timesteps  | 811716    |\n",
            "| train/              |           |\n",
            "|    actor_loss       | 7.27      |\n",
            "|    critic_loss      | 3.68      |\n",
            "|    learning_rate    | 0.0003    |\n",
            "|    n_updates        | 465287    |\n",
            "-----------------------------------\n"
          ]
        },
        {
          "name": "stdout",
          "output_type": "stream",
          "text": [
            "-----------------------------------\n",
            "| custom/             |           |\n",
            "|    avg_reward_100ep | 27.790648 |\n",
            "| rollout/            |           |\n",
            "|    ep_len_mean      | 850       |\n",
            "|    ep_rew_mean      | 27.8      |\n",
            "| time/               |           |\n",
            "|    episodes         | 1116      |\n",
            "|    fps              | 571       |\n",
            "|    time_elapsed     | 1428      |\n",
            "|    total_timesteps  | 815928    |\n",
            "| train/              |           |\n",
            "|    actor_loss       | 6.2       |\n",
            "|    critic_loss      | 3.07      |\n",
            "|    learning_rate    | 0.0003    |\n",
            "|    n_updates        | 465989    |\n",
            "-----------------------------------\n"
          ]
        },
        {
          "name": "stdout",
          "output_type": "stream",
          "text": [
            "----------------------------------\n",
            "| custom/             |          |\n",
            "|    avg_reward_100ep | 28.09237 |\n",
            "| rollout/            |          |\n",
            "|    ep_len_mean      | 860      |\n",
            "|    ep_rew_mean      | 28.1     |\n",
            "| time/               |          |\n",
            "|    episodes         | 1120     |\n",
            "|    fps              | 571      |\n",
            "|    time_elapsed     | 1435     |\n",
            "|    total_timesteps  | 820062   |\n",
            "| train/              |          |\n",
            "|    actor_loss       | 10.1     |\n",
            "|    critic_loss      | 4.31     |\n",
            "|    learning_rate    | 0.0003   |\n",
            "|    n_updates        | 466678   |\n",
            "----------------------------------\n"
          ]
        },
        {
          "name": "stdout",
          "output_type": "stream",
          "text": [
            "----------------------------------\n",
            "| custom/             |          |\n",
            "|    avg_reward_100ep | 31.26199 |\n",
            "| rollout/            |          |\n",
            "|    ep_len_mean      | 864      |\n",
            "|    ep_rew_mean      | 31.3     |\n",
            "| time/               |          |\n",
            "|    episodes         | 1124     |\n",
            "|    fps              | 571      |\n",
            "|    time_elapsed     | 1440     |\n",
            "|    total_timesteps  | 823374   |\n",
            "| train/              |          |\n",
            "|    actor_loss       | 6.39     |\n",
            "|    critic_loss      | 5.19     |\n",
            "|    learning_rate    | 0.0003   |\n",
            "|    n_updates        | 467230   |\n",
            "----------------------------------\n"
          ]
        },
        {
          "name": "stdout",
          "output_type": "stream",
          "text": [
            "-----------------------------------\n",
            "| custom/             |           |\n",
            "|    avg_reward_100ep | 28.333374 |\n",
            "| rollout/            |           |\n",
            "|    ep_len_mean      | 855       |\n",
            "|    ep_rew_mean      | 28.3      |\n",
            "| time/               |           |\n",
            "|    episodes         | 1128      |\n",
            "|    fps              | 571       |\n",
            "|    time_elapsed     | 1445      |\n",
            "|    total_timesteps  | 826302    |\n",
            "| train/              |           |\n",
            "|    actor_loss       | 6.06      |\n",
            "|    critic_loss      | 1.49      |\n",
            "|    learning_rate    | 0.0003    |\n",
            "|    n_updates        | 467718    |\n",
            "-----------------------------------\n"
          ]
        },
        {
          "name": "stdout",
          "output_type": "stream",
          "text": [
            "-----------------------------------\n",
            "| custom/             |           |\n",
            "|    avg_reward_100ep | 27.200031 |\n",
            "| rollout/            |           |\n",
            "|    ep_len_mean      | 854       |\n",
            "|    ep_rew_mean      | 27.2      |\n",
            "| time/               |           |\n",
            "|    episodes         | 1132      |\n",
            "|    fps              | 571       |\n",
            "|    time_elapsed     | 1450      |\n",
            "|    total_timesteps  | 829374    |\n",
            "| train/              |           |\n",
            "|    actor_loss       | 6.36      |\n",
            "|    critic_loss      | 1.46      |\n",
            "|    learning_rate    | 0.0003    |\n",
            "|    n_updates        | 468230    |\n",
            "-----------------------------------\n"
          ]
        },
        {
          "name": "stdout",
          "output_type": "stream",
          "text": [
            "-----------------------------------\n",
            "| custom/             |           |\n",
            "|    avg_reward_100ep | 25.715425 |\n",
            "| rollout/            |           |\n",
            "|    ep_len_mean      | 850       |\n",
            "|    ep_rew_mean      | 25.7      |\n",
            "| time/               |           |\n",
            "|    episodes         | 1136      |\n",
            "|    fps              | 572       |\n",
            "|    time_elapsed     | 1455      |\n",
            "|    total_timesteps  | 832758    |\n",
            "| train/              |           |\n",
            "|    actor_loss       | 6.39      |\n",
            "|    critic_loss      | 4.81      |\n",
            "|    learning_rate    | 0.0003    |\n",
            "|    n_updates        | 468794    |\n",
            "-----------------------------------\n"
          ]
        },
        {
          "name": "stdout",
          "output_type": "stream",
          "text": [
            "-----------------------------------\n",
            "| custom/             |           |\n",
            "|    avg_reward_100ep | 25.026627 |\n",
            "| rollout/            |           |\n",
            "|    ep_len_mean      | 848       |\n",
            "|    ep_rew_mean      | 25        |\n",
            "| time/               |           |\n",
            "|    episodes         | 1140      |\n",
            "|    fps              | 572       |\n",
            "|    time_elapsed     | 1464      |\n",
            "|    total_timesteps  | 837870    |\n",
            "| train/              |           |\n",
            "|    actor_loss       | 6.73      |\n",
            "|    critic_loss      | 3.69      |\n",
            "|    learning_rate    | 0.0003    |\n",
            "|    n_updates        | 469646    |\n",
            "-----------------------------------\n"
          ]
        },
        {
          "data": {
            "text/html": [
              "<pre style=\"white-space:pre;overflow-x:auto;line-height:normal;font-family:Menlo,'DejaVu Sans Mono',consolas,'Courier New',monospace\">Eval num_timesteps=840000, episode_reward=82.21 +/- 55.06\n",
              "</pre>\n"
            ],
            "text/plain": [
              "Eval num_timesteps=840000, episode_reward=82.21 +/- 55.06\n"
            ]
          },
          "metadata": {},
          "output_type": "display_data"
        },
        {
          "data": {
            "text/html": [
              "<pre style=\"white-space:pre;overflow-x:auto;line-height:normal;font-family:Menlo,'DejaVu Sans Mono',consolas,'Courier New',monospace\">Episode length: 1000.00 +/- 0.00\n",
              "</pre>\n"
            ],
            "text/plain": [
              "Episode length: 1000.00 +/- 0.00\n"
            ]
          },
          "metadata": {},
          "output_type": "display_data"
        },
        {
          "name": "stdout",
          "output_type": "stream",
          "text": [
            "-----------------------------------\n",
            "| custom/             |           |\n",
            "|    avg_reward_100ep | 25.507708 |\n",
            "| eval/               |           |\n",
            "|    mean_ep_length   | 1e+03     |\n",
            "|    mean_reward      | 82.2      |\n",
            "| time/               |           |\n",
            "|    total_timesteps  | 840000    |\n",
            "| train/              |           |\n",
            "|    actor_loss       | 8.66      |\n",
            "|    critic_loss      | 1.79      |\n",
            "|    learning_rate    | 0.0003    |\n",
            "|    n_updates        | 470001    |\n",
            "-----------------------------------\n"
          ]
        },
        {
          "data": {
            "text/html": [
              "<pre style=\"white-space:pre;overflow-x:auto;line-height:normal;font-family:Menlo,'DejaVu Sans Mono',consolas,'Courier New',monospace\">New best mean reward!\n",
              "</pre>\n"
            ],
            "text/plain": [
              "New best mean reward!\n"
            ]
          },
          "metadata": {},
          "output_type": "display_data"
        },
        {
          "name": "stdout",
          "output_type": "stream",
          "text": [
            "-----------------------------------\n",
            "| custom/             |           |\n",
            "|    avg_reward_100ep | 28.009043 |\n",
            "| rollout/            |           |\n",
            "|    ep_len_mean      | 859       |\n",
            "|    ep_rew_mean      | 28        |\n",
            "| time/               |           |\n",
            "|    episodes         | 1144      |\n",
            "|    fps              | 570       |\n",
            "|    time_elapsed     | 1473      |\n",
            "|    total_timesteps  | 841374    |\n",
            "| train/              |           |\n",
            "|    actor_loss       | 8.11      |\n",
            "|    critic_loss      | 1.62      |\n",
            "|    learning_rate    | 0.0003    |\n",
            "|    n_updates        | 470230    |\n",
            "-----------------------------------\n"
          ]
        },
        {
          "name": "stdout",
          "output_type": "stream",
          "text": [
            "-----------------------------------\n",
            "| custom/             |           |\n",
            "|    avg_reward_100ep | 29.997936 |\n",
            "| rollout/            |           |\n",
            "|    ep_len_mean      | 861       |\n",
            "|    ep_rew_mean      | 30        |\n",
            "| time/               |           |\n",
            "|    episodes         | 1148      |\n",
            "|    fps              | 571       |\n",
            "|    time_elapsed     | 1479      |\n",
            "|    total_timesteps  | 844758    |\n",
            "| train/              |           |\n",
            "|    actor_loss       | 7.21      |\n",
            "|    critic_loss      | 2.65      |\n",
            "|    learning_rate    | 0.0003    |\n",
            "|    n_updates        | 470794    |\n",
            "-----------------------------------\n"
          ]
        },
        {
          "name": "stdout",
          "output_type": "stream",
          "text": [
            "-----------------------------------\n",
            "| custom/             |           |\n",
            "|    avg_reward_100ep | 30.240707 |\n",
            "| rollout/            |           |\n",
            "|    ep_len_mean      | 866       |\n",
            "|    ep_rew_mean      | 30.2      |\n",
            "| time/               |           |\n",
            "|    episodes         | 1152      |\n",
            "|    fps              | 571       |\n",
            "|    time_elapsed     | 1487      |\n",
            "|    total_timesteps  | 849546    |\n",
            "| train/              |           |\n",
            "|    actor_loss       | 7.72      |\n",
            "|    critic_loss      | 2.41      |\n",
            "|    learning_rate    | 0.0003    |\n",
            "|    n_updates        | 471592    |\n",
            "-----------------------------------\n"
          ]
        },
        {
          "name": "stdout",
          "output_type": "stream",
          "text": [
            "-----------------------------------\n",
            "| custom/             |           |\n",
            "|    avg_reward_100ep | 32.524002 |\n",
            "| rollout/            |           |\n",
            "|    ep_len_mean      | 871       |\n",
            "|    ep_rew_mean      | 32.5      |\n",
            "| time/               |           |\n",
            "|    episodes         | 1156      |\n",
            "|    fps              | 571       |\n",
            "|    time_elapsed     | 1490      |\n",
            "|    total_timesteps  | 851760    |\n",
            "| train/              |           |\n",
            "|    actor_loss       | 7.85      |\n",
            "|    critic_loss      | 2.43      |\n",
            "|    learning_rate    | 0.0003    |\n",
            "|    n_updates        | 471961    |\n",
            "-----------------------------------\n"
          ]
        },
        {
          "name": "stdout",
          "output_type": "stream",
          "text": [
            "----------------------------------\n",
            "| custom/             |          |\n",
            "|    avg_reward_100ep | 35.51671 |\n",
            "| rollout/            |          |\n",
            "|    ep_len_mean      | 875      |\n",
            "|    ep_rew_mean      | 35.5     |\n",
            "| time/               |          |\n",
            "|    episodes         | 1160     |\n",
            "|    fps              | 571      |\n",
            "|    time_elapsed     | 1497     |\n",
            "|    total_timesteps  | 856062   |\n",
            "| train/              |          |\n",
            "|    actor_loss       | 6.15     |\n",
            "|    critic_loss      | 3.6      |\n",
            "|    learning_rate    | 0.0003   |\n",
            "|    n_updates        | 472678   |\n",
            "----------------------------------\n"
          ]
        },
        {
          "name": "stdout",
          "output_type": "stream",
          "text": [
            "----------------------------------\n",
            "| custom/             |          |\n",
            "|    avg_reward_100ep | 38.93302 |\n",
            "| rollout/            |          |\n",
            "|    ep_len_mean      | 882      |\n",
            "|    ep_rew_mean      | 38.9     |\n",
            "| time/               |          |\n",
            "|    episodes         | 1164     |\n",
            "|    fps              | 571      |\n",
            "|    time_elapsed     | 1500     |\n",
            "|    total_timesteps  | 857964   |\n",
            "| train/              |          |\n",
            "|    actor_loss       | 7.64     |\n",
            "|    critic_loss      | 3.49     |\n",
            "|    learning_rate    | 0.0003   |\n",
            "|    n_updates        | 472995   |\n",
            "----------------------------------\n"
          ]
        },
        {
          "name": "stdout",
          "output_type": "stream",
          "text": [
            "----------------------------------\n",
            "| custom/             |          |\n",
            "|    avg_reward_100ep | 38.4854  |\n",
            "| rollout/            |          |\n",
            "|    ep_len_mean      | 885      |\n",
            "|    ep_rew_mean      | 38.5     |\n",
            "| time/               |          |\n",
            "|    episodes         | 1168     |\n",
            "|    fps              | 571      |\n",
            "|    time_elapsed     | 1509     |\n",
            "|    total_timesteps  | 863244   |\n",
            "| train/              |          |\n",
            "|    actor_loss       | 5.63     |\n",
            "|    critic_loss      | 3.11     |\n",
            "|    learning_rate    | 0.0003   |\n",
            "|    n_updates        | 473875   |\n",
            "----------------------------------\n"
          ]
        },
        {
          "name": "stdout",
          "output_type": "stream",
          "text": [
            "-----------------------------------\n",
            "| custom/             |           |\n",
            "|    avg_reward_100ep | 41.123898 |\n",
            "| rollout/            |           |\n",
            "|    ep_len_mean      | 892       |\n",
            "|    ep_rew_mean      | 41.1      |\n",
            "| time/               |           |\n",
            "|    episodes         | 1172      |\n",
            "|    fps              | 572       |\n",
            "|    time_elapsed     | 1516      |\n",
            "|    total_timesteps  | 868062    |\n",
            "| train/              |           |\n",
            "|    actor_loss       | 7.52      |\n",
            "|    critic_loss      | 2.27      |\n",
            "|    learning_rate    | 0.0003    |\n",
            "|    n_updates        | 474678    |\n",
            "-----------------------------------\n"
          ]
        },
        {
          "name": "stdout",
          "output_type": "stream",
          "text": [
            "-----------------------------------\n",
            "| custom/             |           |\n",
            "|    avg_reward_100ep | 42.218178 |\n",
            "| rollout/            |           |\n",
            "|    ep_len_mean      | 892       |\n",
            "|    ep_rew_mean      | 42.2      |\n",
            "| time/               |           |\n",
            "|    episodes         | 1176      |\n",
            "|    fps              | 572       |\n",
            "|    time_elapsed     | 1519      |\n",
            "|    total_timesteps  | 869760    |\n",
            "| train/              |           |\n",
            "|    actor_loss       | 6.43      |\n",
            "|    critic_loss      | 3.55      |\n",
            "|    learning_rate    | 0.0003    |\n",
            "|    n_updates        | 474961    |\n",
            "-----------------------------------\n"
          ]
        },
        {
          "data": {
            "text/html": [
              "<pre style=\"white-space:pre;overflow-x:auto;line-height:normal;font-family:Menlo,'DejaVu Sans Mono',consolas,'Courier New',monospace\">Eval num_timesteps=870000, episode_reward=27.12 +/- 40.58\n",
              "</pre>\n"
            ],
            "text/plain": [
              "Eval num_timesteps=870000, episode_reward=27.12 +/- 40.58\n"
            ]
          },
          "metadata": {},
          "output_type": "display_data"
        },
        {
          "data": {
            "text/html": [
              "<pre style=\"white-space:pre;overflow-x:auto;line-height:normal;font-family:Menlo,'DejaVu Sans Mono',consolas,'Courier New',monospace\">Episode length: 1000.00 +/- 0.00\n",
              "</pre>\n"
            ],
            "text/plain": [
              "Episode length: 1000.00 +/- 0.00\n"
            ]
          },
          "metadata": {},
          "output_type": "display_data"
        },
        {
          "name": "stdout",
          "output_type": "stream",
          "text": [
            "-----------------------------------\n",
            "| custom/             |           |\n",
            "|    avg_reward_100ep | 43.541103 |\n",
            "| eval/               |           |\n",
            "|    mean_ep_length   | 1e+03     |\n",
            "|    mean_reward      | 27.1      |\n",
            "| time/               |           |\n",
            "|    total_timesteps  | 870000    |\n",
            "| train/              |           |\n",
            "|    actor_loss       | 7.32      |\n",
            "|    critic_loss      | 2.76      |\n",
            "|    learning_rate    | 0.0003    |\n",
            "|    n_updates        | 475001    |\n",
            "-----------------------------------\n"
          ]
        },
        {
          "name": "stdout",
          "output_type": "stream",
          "text": [
            "-----------------------------------\n",
            "| custom/             |           |\n",
            "|    avg_reward_100ep | 40.746895 |\n",
            "| rollout/            |           |\n",
            "|    ep_len_mean      | 897       |\n",
            "|    ep_rew_mean      | 40.7      |\n",
            "| time/               |           |\n",
            "|    episodes         | 1180      |\n",
            "|    fps              | 571       |\n",
            "|    time_elapsed     | 1532      |\n",
            "|    total_timesteps  | 875244    |\n",
            "| train/              |           |\n",
            "|    actor_loss       | 7.57      |\n",
            "|    critic_loss      | 2.58      |\n",
            "|    learning_rate    | 0.0003    |\n",
            "|    n_updates        | 475875    |\n",
            "-----------------------------------\n"
          ]
        },
        {
          "name": "stdout",
          "output_type": "stream",
          "text": [
            "-----------------------------------\n",
            "| custom/             |           |\n",
            "|    avg_reward_100ep | 43.314453 |\n",
            "| rollout/            |           |\n",
            "|    ep_len_mean      | 897       |\n",
            "|    ep_rew_mean      | 43.3      |\n",
            "| time/               |           |\n",
            "|    episodes         | 1184      |\n",
            "|    fps              | 571       |\n",
            "|    time_elapsed     | 1540      |\n",
            "|    total_timesteps  | 880062    |\n",
            "| train/              |           |\n",
            "|    actor_loss       | 7.18      |\n",
            "|    critic_loss      | 2.3       |\n",
            "|    learning_rate    | 0.0003    |\n",
            "|    n_updates        | 476678    |\n",
            "-----------------------------------\n"
          ]
        },
        {
          "name": "stdout",
          "output_type": "stream",
          "text": [
            "-----------------------------------\n",
            "| custom/             |           |\n",
            "|    avg_reward_100ep | 46.888718 |\n",
            "| rollout/            |           |\n",
            "|    ep_len_mean      | 905       |\n",
            "|    ep_rew_mean      | 46.9      |\n",
            "| time/               |           |\n",
            "|    episodes         | 1188      |\n",
            "|    fps              | 571       |\n",
            "|    time_elapsed     | 1543      |\n",
            "|    total_timesteps  | 881760    |\n",
            "| train/              |           |\n",
            "|    actor_loss       | 7.49      |\n",
            "|    critic_loss      | 3.95      |\n",
            "|    learning_rate    | 0.0003    |\n",
            "|    n_updates        | 476961    |\n",
            "-----------------------------------\n"
          ]
        },
        {
          "name": "stdout",
          "output_type": "stream",
          "text": [
            "-----------------------------------\n",
            "| custom/             |           |\n",
            "|    avg_reward_100ep | 52.658833 |\n",
            "| rollout/            |           |\n",
            "|    ep_len_mean      | 915       |\n",
            "|    ep_rew_mean      | 52.7      |\n",
            "| time/               |           |\n",
            "|    episodes         | 1192      |\n",
            "|    fps              | 571       |\n",
            "|    time_elapsed     | 1552      |\n",
            "|    total_timesteps  | 887244    |\n",
            "| train/              |           |\n",
            "|    actor_loss       | 7.4       |\n",
            "|    critic_loss      | 2.39      |\n",
            "|    learning_rate    | 0.0003    |\n",
            "|    n_updates        | 477875    |\n",
            "-----------------------------------\n"
          ]
        },
        {
          "name": "stdout",
          "output_type": "stream",
          "text": [
            "-----------------------------------\n",
            "| custom/             |           |\n",
            "|    avg_reward_100ep | 56.228424 |\n",
            "| rollout/            |           |\n",
            "|    ep_len_mean      | 924       |\n",
            "|    ep_rew_mean      | 56.2      |\n",
            "| time/               |           |\n",
            "|    episodes         | 1196      |\n",
            "|    fps              | 571       |\n",
            "|    time_elapsed     | 1559      |\n",
            "|    total_timesteps  | 892062    |\n",
            "| train/              |           |\n",
            "|    actor_loss       | 7.72      |\n",
            "|    critic_loss      | 4.76      |\n",
            "|    learning_rate    | 0.0003    |\n",
            "|    n_updates        | 478678    |\n",
            "-----------------------------------\n"
          ]
        },
        {
          "name": "stdout",
          "output_type": "stream",
          "text": [
            "-----------------------------------\n",
            "| custom/             |           |\n",
            "|    avg_reward_100ep | 56.797543 |\n",
            "| rollout/            |           |\n",
            "|    ep_len_mean      | 926       |\n",
            "|    ep_rew_mean      | 56.8      |\n",
            "| time/               |           |\n",
            "|    episodes         | 1200      |\n",
            "|    fps              | 571       |\n",
            "|    time_elapsed     | 1562      |\n",
            "|    total_timesteps  | 893760    |\n",
            "| train/              |           |\n",
            "|    actor_loss       | 6.57      |\n",
            "|    critic_loss      | 3.95      |\n",
            "|    learning_rate    | 0.0003    |\n",
            "|    n_updates        | 478961    |\n",
            "-----------------------------------\n"
          ]
        },
        {
          "name": "stdout",
          "output_type": "stream",
          "text": [
            "-----------------------------------\n",
            "| custom/             |           |\n",
            "|    avg_reward_100ep | 56.475258 |\n",
            "| rollout/            |           |\n",
            "|    ep_len_mean      | 929       |\n",
            "|    ep_rew_mean      | 56.5      |\n",
            "| time/               |           |\n",
            "|    episodes         | 1204      |\n",
            "|    fps              | 572       |\n",
            "|    time_elapsed     | 1571      |\n",
            "|    total_timesteps  | 899244    |\n",
            "| train/              |           |\n",
            "|    actor_loss       | 8.17      |\n",
            "|    critic_loss      | 3.9       |\n",
            "|    learning_rate    | 0.0003    |\n",
            "|    n_updates        | 479875    |\n",
            "-----------------------------------\n"
          ]
        },
        {
          "data": {
            "text/html": [
              "<pre style=\"white-space:pre;overflow-x:auto;line-height:normal;font-family:Menlo,'DejaVu Sans Mono',consolas,'Courier New',monospace\">Eval num_timesteps=900000, episode_reward=20.27 +/- 31.77\n",
              "</pre>\n"
            ],
            "text/plain": [
              "Eval num_timesteps=900000, episode_reward=20.27 +/- 31.77\n"
            ]
          },
          "metadata": {},
          "output_type": "display_data"
        },
        {
          "data": {
            "text/html": [
              "<pre style=\"white-space:pre;overflow-x:auto;line-height:normal;font-family:Menlo,'DejaVu Sans Mono',consolas,'Courier New',monospace\">Episode length: 1000.00 +/- 0.00\n",
              "</pre>\n"
            ],
            "text/plain": [
              "Episode length: 1000.00 +/- 0.00\n"
            ]
          },
          "metadata": {},
          "output_type": "display_data"
        },
        {
          "name": "stdout",
          "output_type": "stream",
          "text": [
            "----------------------------------\n",
            "| custom/             |          |\n",
            "|    avg_reward_100ep | 58.75375 |\n",
            "| eval/               |          |\n",
            "|    mean_ep_length   | 1e+03    |\n",
            "|    mean_reward      | 20.3     |\n",
            "| time/               |          |\n",
            "|    total_timesteps  | 900000   |\n",
            "| train/              |          |\n",
            "|    actor_loss       | 7.06     |\n",
            "|    critic_loss      | 2.8      |\n",
            "|    learning_rate    | 0.0003   |\n",
            "|    n_updates        | 480001   |\n",
            "----------------------------------\n"
          ]
        },
        {
          "name": "stdout",
          "output_type": "stream",
          "text": [
            "----------------------------------\n",
            "| custom/             |          |\n",
            "|    avg_reward_100ep | 57.60541 |\n",
            "| rollout/            |          |\n",
            "|    ep_len_mean      | 935      |\n",
            "|    ep_rew_mean      | 57.6     |\n",
            "| time/               |          |\n",
            "|    episodes         | 1208     |\n",
            "|    fps              | 571      |\n",
            "|    time_elapsed     | 1582     |\n",
            "|    total_timesteps  | 903432   |\n",
            "| train/              |          |\n",
            "|    actor_loss       | 7.3      |\n",
            "|    critic_loss      | 4.98     |\n",
            "|    learning_rate    | 0.0003   |\n",
            "|    n_updates        | 480573   |\n",
            "----------------------------------\n"
          ]
        },
        {
          "name": "stdout",
          "output_type": "stream",
          "text": [
            "----------------------------------\n",
            "| custom/             |          |\n",
            "|    avg_reward_100ep | 59.72763 |\n",
            "| rollout/            |          |\n",
            "|    ep_len_mean      | 942      |\n",
            "|    ep_rew_mean      | 59.7     |\n",
            "| time/               |          |\n",
            "|    episodes         | 1212     |\n",
            "|    fps              | 571      |\n",
            "|    time_elapsed     | 1585     |\n",
            "|    total_timesteps  | 905550   |\n",
            "| train/              |          |\n",
            "|    actor_loss       | 8.74     |\n",
            "|    critic_loss      | 3.56     |\n",
            "|    learning_rate    | 0.0003   |\n",
            "|    n_updates        | 480926   |\n",
            "----------------------------------\n"
          ]
        },
        {
          "name": "stdout",
          "output_type": "stream",
          "text": [
            "----------------------------------\n",
            "| custom/             |          |\n",
            "|    avg_reward_100ep | 58.83327 |\n",
            "| rollout/            |          |\n",
            "|    ep_len_mean      | 942      |\n",
            "|    ep_rew_mean      | 58.8     |\n",
            "| time/               |          |\n",
            "|    episodes         | 1216     |\n",
            "|    fps              | 571      |\n",
            "|    time_elapsed     | 1594     |\n",
            "|    total_timesteps  | 910986   |\n",
            "| train/              |          |\n",
            "|    actor_loss       | 6.91     |\n",
            "|    critic_loss      | 2.72     |\n",
            "|    learning_rate    | 0.0003   |\n",
            "|    n_updates        | 481832   |\n",
            "----------------------------------\n"
          ]
        },
        {
          "name": "stdout",
          "output_type": "stream",
          "text": [
            "----------------------------------\n",
            "| custom/             |          |\n",
            "|    avg_reward_100ep | 55.46868 |\n",
            "| rollout/            |          |\n",
            "|    ep_len_mean      | 934      |\n",
            "|    ep_rew_mean      | 55.5     |\n",
            "| time/               |          |\n",
            "|    episodes         | 1220     |\n",
            "|    fps              | 571      |\n",
            "|    time_elapsed     | 1596     |\n",
            "|    total_timesteps  | 912018   |\n",
            "| train/              |          |\n",
            "|    actor_loss       | 6.44     |\n",
            "|    critic_loss      | 1.5      |\n",
            "|    learning_rate    | 0.0003   |\n",
            "|    n_updates        | 482004   |\n",
            "----------------------------------\n"
          ]
        },
        {
          "name": "stdout",
          "output_type": "stream",
          "text": [
            "-----------------------------------\n",
            "| custom/             |           |\n",
            "|    avg_reward_100ep | 55.033924 |\n",
            "| rollout/            |           |\n",
            "|    ep_len_mean      | 937       |\n",
            "|    ep_rew_mean      | 55        |\n",
            "| time/               |           |\n",
            "|    episodes         | 1224      |\n",
            "|    fps              | 571       |\n",
            "|    time_elapsed     | 1606      |\n",
            "|    total_timesteps  | 917550    |\n",
            "| train/              |           |\n",
            "|    actor_loss       | 6.02      |\n",
            "|    critic_loss      | 3.84      |\n",
            "|    learning_rate    | 0.0003    |\n",
            "|    n_updates        | 482926    |\n",
            "-----------------------------------\n"
          ]
        },
        {
          "name": "stdout",
          "output_type": "stream",
          "text": [
            "----------------------------------\n",
            "| custom/             |          |\n",
            "|    avg_reward_100ep | 58.50438 |\n",
            "| rollout/            |          |\n",
            "|    ep_len_mean      | 941      |\n",
            "|    ep_rew_mean      | 58.5     |\n",
            "| time/               |          |\n",
            "|    episodes         | 1228     |\n",
            "|    fps              | 571      |\n",
            "|    time_elapsed     | 1612     |\n",
            "|    total_timesteps  | 921126   |\n",
            "| train/              |          |\n",
            "|    actor_loss       | 7.19     |\n",
            "|    critic_loss      | 6.06     |\n",
            "|    learning_rate    | 0.0003   |\n",
            "|    n_updates        | 483522   |\n",
            "----------------------------------\n"
          ]
        },
        {
          "name": "stdout",
          "output_type": "stream",
          "text": [
            "----------------------------------\n",
            "| custom/             |          |\n",
            "|    avg_reward_100ep | 62.53897 |\n",
            "| rollout/            |          |\n",
            "|    ep_len_mean      | 943      |\n",
            "|    ep_rew_mean      | 62.5     |\n",
            "| time/               |          |\n",
            "|    episodes         | 1232     |\n",
            "|    fps              | 571      |\n",
            "|    time_elapsed     | 1617     |\n",
            "|    total_timesteps  | 923988   |\n",
            "| train/              |          |\n",
            "|    actor_loss       | 6.7      |\n",
            "|    critic_loss      | 8.81     |\n",
            "|    learning_rate    | 0.0003   |\n",
            "|    n_updates        | 483999   |\n",
            "----------------------------------\n"
          ]
        },
        {
          "name": "stdout",
          "output_type": "stream",
          "text": [
            "----------------------------------\n",
            "| custom/             |          |\n",
            "|    avg_reward_100ep | 63.05833 |\n",
            "| rollout/            |          |\n",
            "|    ep_len_mean      | 949      |\n",
            "|    ep_rew_mean      | 63.1     |\n",
            "| time/               |          |\n",
            "|    episodes         | 1236     |\n",
            "|    fps              | 571      |\n",
            "|    time_elapsed     | 1625     |\n",
            "|    total_timesteps  | 928782   |\n",
            "| train/              |          |\n",
            "|    actor_loss       | 5.96     |\n",
            "|    critic_loss      | 2.86     |\n",
            "|    learning_rate    | 0.0003   |\n",
            "|    n_updates        | 484798   |\n",
            "----------------------------------\n"
          ]
        },
        {
          "data": {
            "text/html": [
              "<pre style=\"white-space:pre;overflow-x:auto;line-height:normal;font-family:Menlo,'DejaVu Sans Mono',consolas,'Courier New',monospace\">Eval num_timesteps=930000, episode_reward=78.80 +/- 51.87\n",
              "</pre>\n"
            ],
            "text/plain": [
              "Eval num_timesteps=930000, episode_reward=78.80 +/- 51.87\n"
            ]
          },
          "metadata": {},
          "output_type": "display_data"
        },
        {
          "data": {
            "text/html": [
              "<pre style=\"white-space:pre;overflow-x:auto;line-height:normal;font-family:Menlo,'DejaVu Sans Mono',consolas,'Courier New',monospace\">Episode length: 1000.00 +/- 0.00\n",
              "</pre>\n"
            ],
            "text/plain": [
              "Episode length: 1000.00 +/- 0.00\n"
            ]
          },
          "metadata": {},
          "output_type": "display_data"
        },
        {
          "name": "stdout",
          "output_type": "stream",
          "text": [
            "-----------------------------------\n",
            "| custom/             |           |\n",
            "|    avg_reward_100ep | 62.113914 |\n",
            "| eval/               |           |\n",
            "|    mean_ep_length   | 1e+03     |\n",
            "|    mean_reward      | 78.8      |\n",
            "| time/               |           |\n",
            "|    total_timesteps  | 930000    |\n",
            "| train/              |           |\n",
            "|    actor_loss       | 6.66      |\n",
            "|    critic_loss      | 2.07      |\n",
            "|    learning_rate    | 0.0003    |\n",
            "|    n_updates        | 485001    |\n",
            "-----------------------------------\n"
          ]
        },
        {
          "name": "stdout",
          "output_type": "stream",
          "text": [
            "-----------------------------------\n",
            "| custom/             |           |\n",
            "|    avg_reward_100ep | 62.574097 |\n",
            "| rollout/            |           |\n",
            "|    ep_len_mean      | 946       |\n",
            "|    ep_rew_mean      | 62.6      |\n",
            "| time/               |           |\n",
            "|    episodes         | 1240      |\n",
            "|    fps              | 569       |\n",
            "|    time_elapsed     | 1636      |\n",
            "|    total_timesteps  | 932442    |\n",
            "| train/              |           |\n",
            "|    actor_loss       | 7.2       |\n",
            "|    critic_loss      | 2.54      |\n",
            "|    learning_rate    | 0.0003    |\n",
            "|    n_updates        | 485408    |\n",
            "-----------------------------------\n"
          ]
        },
        {
          "name": "stdout",
          "output_type": "stream",
          "text": [
            "-----------------------------------\n",
            "| custom/             |           |\n",
            "|    avg_reward_100ep | 60.883556 |\n",
            "| rollout/            |           |\n",
            "|    ep_len_mean      | 946       |\n",
            "|    ep_rew_mean      | 60.9      |\n",
            "| time/               |           |\n",
            "|    episodes         | 1244      |\n",
            "|    fps              | 569       |\n",
            "|    time_elapsed     | 1642      |\n",
            "|    total_timesteps  | 935988    |\n",
            "| train/              |           |\n",
            "|    actor_loss       | 7.01      |\n",
            "|    critic_loss      | 2.69      |\n",
            "|    learning_rate    | 0.0003    |\n",
            "|    n_updates        | 485999    |\n",
            "-----------------------------------\n"
          ]
        },
        {
          "name": "stdout",
          "output_type": "stream",
          "text": [
            "----------------------------------\n",
            "| custom/             |          |\n",
            "|    avg_reward_100ep | 59.66818 |\n",
            "| rollout/            |          |\n",
            "|    ep_len_mean      | 946      |\n",
            "|    ep_rew_mean      | 59.7     |\n",
            "| time/               |          |\n",
            "|    episodes         | 1248     |\n",
            "|    fps              | 569      |\n",
            "|    time_elapsed     | 1649     |\n",
            "|    total_timesteps  | 940062   |\n",
            "| train/              |          |\n",
            "|    actor_loss       | 6.23     |\n",
            "|    critic_loss      | 2.77     |\n",
            "|    learning_rate    | 0.0003   |\n",
            "|    n_updates        | 486678   |\n",
            "----------------------------------\n"
          ]
        },
        {
          "name": "stdout",
          "output_type": "stream",
          "text": [
            "----------------------------------\n",
            "| custom/             |          |\n",
            "|    avg_reward_100ep | 61.26913 |\n",
            "| rollout/            |          |\n",
            "|    ep_len_mean      | 940      |\n",
            "|    ep_rew_mean      | 61.3     |\n",
            "| time/               |          |\n",
            "|    episodes         | 1252     |\n",
            "|    fps              | 569      |\n",
            "|    time_elapsed     | 1655     |\n",
            "|    total_timesteps  | 943380   |\n",
            "| train/              |          |\n",
            "|    actor_loss       | 6        |\n",
            "|    critic_loss      | 3.79     |\n",
            "|    learning_rate    | 0.0003   |\n",
            "|    n_updates        | 487231   |\n",
            "----------------------------------\n"
          ]
        },
        {
          "name": "stdout",
          "output_type": "stream",
          "text": [
            "----------------------------------\n",
            "| custom/             |          |\n",
            "|    avg_reward_100ep | 65.28395 |\n",
            "| rollout/            |          |\n",
            "|    ep_len_mean      | 947      |\n",
            "|    ep_rew_mean      | 65.3     |\n",
            "| time/               |          |\n",
            "|    episodes         | 1256     |\n",
            "|    fps              | 570      |\n",
            "|    time_elapsed     | 1660     |\n",
            "|    total_timesteps  | 946782   |\n",
            "| train/              |          |\n",
            "|    actor_loss       | 6.79     |\n",
            "|    critic_loss      | 4.37     |\n",
            "|    learning_rate    | 0.0003   |\n",
            "|    n_updates        | 487798   |\n",
            "----------------------------------\n"
          ]
        },
        {
          "name": "stdout",
          "output_type": "stream",
          "text": [
            "-----------------------------------\n",
            "| custom/             |           |\n",
            "|    avg_reward_100ep | 68.071304 |\n",
            "| rollout/            |           |\n",
            "|    ep_len_mean      | 953       |\n",
            "|    ep_rew_mean      | 68.1      |\n",
            "| time/               |           |\n",
            "|    episodes         | 1260      |\n",
            "|    fps              | 570       |\n",
            "|    time_elapsed     | 1668      |\n",
            "|    total_timesteps  | 951126    |\n",
            "| train/              |           |\n",
            "|    actor_loss       | 6.63      |\n",
            "|    critic_loss      | 9.49      |\n",
            "|    learning_rate    | 0.0003    |\n",
            "|    n_updates        | 488522    |\n",
            "-----------------------------------\n"
          ]
        },
        {
          "name": "stdout",
          "output_type": "stream",
          "text": [
            "----------------------------------\n",
            "| custom/             |          |\n",
            "|    avg_reward_100ep | 66.90088 |\n",
            "| rollout/            |          |\n",
            "|    ep_len_mean      | 952      |\n",
            "|    ep_rew_mean      | 66.9     |\n",
            "| time/               |          |\n",
            "|    episodes         | 1264     |\n",
            "|    fps              | 570      |\n",
            "|    time_elapsed     | 1673     |\n",
            "|    total_timesteps  | 954018   |\n",
            "| train/              |          |\n",
            "|    actor_loss       | 5.53     |\n",
            "|    critic_loss      | 1.73     |\n",
            "|    learning_rate    | 0.0003   |\n",
            "|    n_updates        | 489004   |\n",
            "----------------------------------\n"
          ]
        },
        {
          "name": "stdout",
          "output_type": "stream",
          "text": [
            "----------------------------------\n",
            "| custom/             |          |\n",
            "|    avg_reward_100ep | 66.682   |\n",
            "| rollout/            |          |\n",
            "|    ep_len_mean      | 945      |\n",
            "|    ep_rew_mean      | 66.7     |\n",
            "| time/               |          |\n",
            "|    episodes         | 1268     |\n",
            "|    fps              | 570      |\n",
            "|    time_elapsed     | 1677     |\n",
            "|    total_timesteps  | 956442   |\n",
            "| train/              |          |\n",
            "|    actor_loss       | 6.41     |\n",
            "|    critic_loss      | 5.66     |\n",
            "|    learning_rate    | 0.0003   |\n",
            "|    n_updates        | 489408   |\n",
            "----------------------------------\n"
          ]
        },
        {
          "data": {
            "text/html": [
              "<pre style=\"white-space:pre;overflow-x:auto;line-height:normal;font-family:Menlo,'DejaVu Sans Mono',consolas,'Courier New',monospace\">Eval num_timesteps=960000, episode_reward=60.46 +/- 72.35\n",
              "</pre>\n"
            ],
            "text/plain": [
              "Eval num_timesteps=960000, episode_reward=60.46 +/- 72.35\n"
            ]
          },
          "metadata": {},
          "output_type": "display_data"
        },
        {
          "data": {
            "text/html": [
              "<pre style=\"white-space:pre;overflow-x:auto;line-height:normal;font-family:Menlo,'DejaVu Sans Mono',consolas,'Courier New',monospace\">Episode length: 942.20 +/- 115.60\n",
              "</pre>\n"
            ],
            "text/plain": [
              "Episode length: 942.20 +/- 115.60\n"
            ]
          },
          "metadata": {},
          "output_type": "display_data"
        },
        {
          "name": "stdout",
          "output_type": "stream",
          "text": [
            "-----------------------------------\n",
            "| custom/             |           |\n",
            "|    avg_reward_100ep | 63.359997 |\n",
            "| eval/               |           |\n",
            "|    mean_ep_length   | 942       |\n",
            "|    mean_reward      | 60.5      |\n",
            "| time/               |           |\n",
            "|    total_timesteps  | 960000    |\n",
            "| train/              |           |\n",
            "|    actor_loss       | 6.83      |\n",
            "|    critic_loss      | 3.16      |\n",
            "|    learning_rate    | 0.0003    |\n",
            "|    n_updates        | 490001    |\n",
            "-----------------------------------\n"
          ]
        },
        {
          "name": "stdout",
          "output_type": "stream",
          "text": [
            "-----------------------------------\n",
            "| custom/             |           |\n",
            "|    avg_reward_100ep | 62.513443 |\n",
            "| rollout/            |           |\n",
            "|    ep_len_mean      | 937       |\n",
            "|    ep_rew_mean      | 62.5      |\n",
            "| time/               |           |\n",
            "|    episodes         | 1272      |\n",
            "|    fps              | 568       |\n",
            "|    time_elapsed     | 1689      |\n",
            "|    total_timesteps  | 960990    |\n",
            "| train/              |           |\n",
            "|    actor_loss       | 5.4       |\n",
            "|    critic_loss      | 2.59      |\n",
            "|    learning_rate    | 0.0003    |\n",
            "|    n_updates        | 490166    |\n",
            "-----------------------------------\n"
          ]
        },
        {
          "name": "stdout",
          "output_type": "stream",
          "text": [
            "-----------------------------------\n",
            "| custom/             |           |\n",
            "|    avg_reward_100ep | 62.807518 |\n",
            "| rollout/            |           |\n",
            "|    ep_len_mean      | 937       |\n",
            "|    ep_rew_mean      | 62.8      |\n",
            "| time/               |           |\n",
            "|    episodes         | 1276      |\n",
            "|    fps              | 568       |\n",
            "|    time_elapsed     | 1695      |\n",
            "|    total_timesteps  | 964404    |\n",
            "| train/              |           |\n",
            "|    actor_loss       | 5.51      |\n",
            "|    critic_loss      | 12.8      |\n",
            "|    learning_rate    | 0.0003    |\n",
            "|    n_updates        | 490735    |\n",
            "-----------------------------------\n"
          ]
        },
        {
          "name": "stdout",
          "output_type": "stream",
          "text": [
            "----------------------------------\n",
            "| custom/             |          |\n",
            "|    avg_reward_100ep | 64.46354 |\n",
            "| rollout/            |          |\n",
            "|    ep_len_mean      | 937      |\n",
            "|    ep_rew_mean      | 64.5     |\n",
            "| time/               |          |\n",
            "|    episodes         | 1280     |\n",
            "|    fps              | 568      |\n",
            "|    time_elapsed     | 1702     |\n",
            "|    total_timesteps  | 968328   |\n",
            "| train/              |          |\n",
            "|    actor_loss       | 5.46     |\n",
            "|    critic_loss      | 3.56     |\n",
            "|    learning_rate    | 0.0003   |\n",
            "|    n_updates        | 491389   |\n",
            "----------------------------------\n"
          ]
        },
        {
          "name": "stdout",
          "output_type": "stream",
          "text": [
            "----------------------------------\n",
            "| custom/             |          |\n",
            "|    avg_reward_100ep | 65.45189 |\n",
            "| rollout/            |          |\n",
            "|    ep_len_mean      | 937      |\n",
            "|    ep_rew_mean      | 65.5     |\n",
            "| time/               |          |\n",
            "|    episodes         | 1284     |\n",
            "|    fps              | 569      |\n",
            "|    time_elapsed     | 1709     |\n",
            "|    total_timesteps  | 972990   |\n",
            "| train/              |          |\n",
            "|    actor_loss       | 7.12     |\n",
            "|    critic_loss      | 1.57     |\n",
            "|    learning_rate    | 0.0003   |\n",
            "|    n_updates        | 492166   |\n",
            "----------------------------------\n"
          ]
        },
        {
          "name": "stdout",
          "output_type": "stream",
          "text": [
            "-----------------------------------\n",
            "| custom/             |           |\n",
            "|    avg_reward_100ep | 62.992115 |\n",
            "| rollout/            |           |\n",
            "|    ep_len_mean      | 937       |\n",
            "|    ep_rew_mean      | 63        |\n",
            "| time/               |           |\n",
            "|    episodes         | 1288      |\n",
            "|    fps              | 569       |\n",
            "|    time_elapsed     | 1715      |\n",
            "|    total_timesteps  | 976404    |\n",
            "| train/              |           |\n",
            "|    actor_loss       | 6.53      |\n",
            "|    critic_loss      | 2.19      |\n",
            "|    learning_rate    | 0.0003    |\n",
            "|    n_updates        | 492735    |\n",
            "-----------------------------------\n"
          ]
        },
        {
          "name": "stdout",
          "output_type": "stream",
          "text": [
            "----------------------------------\n",
            "| custom/             |          |\n",
            "|    avg_reward_100ep | 60.51059 |\n",
            "| rollout/            |          |\n",
            "|    ep_len_mean      | 937      |\n",
            "|    ep_rew_mean      | 60.5     |\n",
            "| time/               |          |\n",
            "|    episodes         | 1292     |\n",
            "|    fps              | 569      |\n",
            "|    time_elapsed     | 1722     |\n",
            "|    total_timesteps  | 980328   |\n",
            "| train/              |          |\n",
            "|    actor_loss       | 8.39     |\n",
            "|    critic_loss      | 2.25     |\n",
            "|    learning_rate    | 0.0003   |\n",
            "|    n_updates        | 493389   |\n",
            "----------------------------------\n"
          ]
        },
        {
          "name": "stdout",
          "output_type": "stream",
          "text": [
            "-----------------------------------\n",
            "| custom/             |           |\n",
            "|    avg_reward_100ep | 59.187096 |\n",
            "| rollout/            |           |\n",
            "|    ep_len_mean      | 937       |\n",
            "|    ep_rew_mean      | 59.2      |\n",
            "| time/               |           |\n",
            "|    episodes         | 1296      |\n",
            "|    fps              | 569       |\n",
            "|    time_elapsed     | 1730      |\n",
            "|    total_timesteps  | 984990    |\n",
            "| train/              |           |\n",
            "|    actor_loss       | 5.49      |\n",
            "|    critic_loss      | 1.87      |\n",
            "|    learning_rate    | 0.0003    |\n",
            "|    n_updates        | 494166    |\n",
            "-----------------------------------\n"
          ]
        },
        {
          "name": "stdout",
          "output_type": "stream",
          "text": [
            "----------------------------------\n",
            "| custom/             |          |\n",
            "|    avg_reward_100ep | 57.6744  |\n",
            "| rollout/            |          |\n",
            "|    ep_len_mean      | 933      |\n",
            "|    ep_rew_mean      | 57.7     |\n",
            "| time/               |          |\n",
            "|    episodes         | 1300     |\n",
            "|    fps              | 569      |\n",
            "|    time_elapsed     | 1732     |\n",
            "|    total_timesteps  | 986442   |\n",
            "| train/              |          |\n",
            "|    actor_loss       | 7.23     |\n",
            "|    critic_loss      | 4.79     |\n",
            "|    learning_rate    | 0.0003   |\n",
            "|    n_updates        | 494408   |\n",
            "----------------------------------\n"
          ]
        },
        {
          "data": {
            "text/html": [
              "<pre style=\"white-space:pre;overflow-x:auto;line-height:normal;font-family:Menlo,'DejaVu Sans Mono',consolas,'Courier New',monospace\">Eval num_timesteps=990000, episode_reward=-45.65 +/- 29.79\n",
              "</pre>\n"
            ],
            "text/plain": [
              "Eval num_timesteps=990000, episode_reward=-45.65 +/- 29.79\n"
            ]
          },
          "metadata": {},
          "output_type": "display_data"
        },
        {
          "data": {
            "text/html": [
              "<pre style=\"white-space:pre;overflow-x:auto;line-height:normal;font-family:Menlo,'DejaVu Sans Mono',consolas,'Courier New',monospace\">Episode length: 502.40 +/- 267.25\n",
              "</pre>\n"
            ],
            "text/plain": [
              "Episode length: 502.40 +/- 267.25\n"
            ]
          },
          "metadata": {},
          "output_type": "display_data"
        },
        {
          "name": "stdout",
          "output_type": "stream",
          "text": [
            "---------------------------------\n",
            "| eval/              |          |\n",
            "|    mean_ep_length  | 502      |\n",
            "|    mean_reward     | -45.7    |\n",
            "| time/              |          |\n",
            "|    total_timesteps | 990000   |\n",
            "| train/             |          |\n",
            "|    actor_loss      | 6.42     |\n",
            "|    critic_loss     | 4.48     |\n",
            "|    learning_rate   | 0.0003   |\n",
            "|    n_updates       | 495001   |\n",
            "---------------------------------\n"
          ]
        },
        {
          "name": "stdout",
          "output_type": "stream",
          "text": [
            "-----------------------------------\n",
            "| custom/             |           |\n",
            "|    avg_reward_100ep | 57.091103 |\n",
            "| rollout/            |           |\n",
            "|    ep_len_mean      | 931       |\n",
            "|    ep_rew_mean      | 57.1      |\n",
            "| time/               |           |\n",
            "|    episodes         | 1304      |\n",
            "|    fps              | 568       |\n",
            "|    time_elapsed     | 1743      |\n",
            "|    total_timesteps  | 991380    |\n",
            "| train/              |           |\n",
            "|    actor_loss       | 6.01      |\n",
            "|    critic_loss      | 1.51      |\n",
            "|    learning_rate    | 0.0003    |\n",
            "|    n_updates        | 495231    |\n",
            "-----------------------------------\n"
          ]
        },
        {
          "name": "stdout",
          "output_type": "stream",
          "text": [
            "----------------------------------\n",
            "| custom/             |          |\n",
            "|    avg_reward_100ep | 56.10718 |\n",
            "| rollout/            |          |\n",
            "|    ep_len_mean      | 933      |\n",
            "|    ep_rew_mean      | 56.1     |\n",
            "| time/               |          |\n",
            "|    episodes         | 1308     |\n",
            "|    fps              | 568      |\n",
            "|    time_elapsed     | 1752     |\n",
            "|    total_timesteps  | 996414   |\n",
            "| train/              |          |\n",
            "|    actor_loss       | 7.1      |\n",
            "|    critic_loss      | 7.07     |\n",
            "|    learning_rate    | 0.0003   |\n",
            "|    n_updates        | 496070   |\n",
            "----------------------------------\n"
          ]
        },
        {
          "name": "stdout",
          "output_type": "stream",
          "text": [
            "-----------------------------------\n",
            "| custom/             |           |\n",
            "|    avg_reward_100ep | 57.006214 |\n",
            "| rollout/            |           |\n",
            "|    ep_len_mean      | 933       |\n",
            "|    ep_rew_mean      | 57        |\n",
            "| time/               |           |\n",
            "|    episodes         | 1312      |\n",
            "|    fps              | 568       |\n",
            "|    time_elapsed     | 1755      |\n",
            "|    total_timesteps  | 998442    |\n",
            "| train/              |           |\n",
            "|    actor_loss       | 6.61      |\n",
            "|    critic_loss      | 2.71      |\n",
            "|    learning_rate    | 0.0003    |\n",
            "|    n_updates        | 496408    |\n",
            "-----------------------------------\n"
          ]
        },
        {
          "name": "stdout",
          "output_type": "stream",
          "text": [
            "-----------------------------------\n",
            "| custom/             |           |\n",
            "|    avg_reward_100ep | 60.480644 |\n",
            "| rollout/            |           |\n",
            "|    ep_len_mean      | 932       |\n",
            "|    ep_rew_mean      | 60.5      |\n",
            "| time/               |           |\n",
            "|    episodes         | 1316      |\n",
            "|    fps              | 568       |\n",
            "|    time_elapsed     | 1763      |\n",
            "|    total_timesteps  | 1002990   |\n",
            "| train/              |           |\n",
            "|    actor_loss       | 5.12      |\n",
            "|    critic_loss      | 2.15      |\n",
            "|    learning_rate    | 0.0003    |\n",
            "|    n_updates        | 497166    |\n",
            "-----------------------------------\n"
          ]
        },
        {
          "name": "stdout",
          "output_type": "stream",
          "text": [
            "-----------------------------------\n",
            "| custom/             |           |\n",
            "|    avg_reward_100ep | 68.035164 |\n",
            "| rollout/            |           |\n",
            "|    ep_len_mean      | 940       |\n",
            "|    ep_rew_mean      | 68        |\n",
            "| time/               |           |\n",
            "|    episodes         | 1320      |\n",
            "|    fps              | 568       |\n",
            "|    time_elapsed     | 1772      |\n",
            "|    total_timesteps  | 1008150   |\n",
            "| train/              |           |\n",
            "|    actor_loss       | 6.61      |\n",
            "|    critic_loss      | 2.88      |\n",
            "|    learning_rate    | 0.0003    |\n",
            "|    n_updates        | 498026    |\n",
            "-----------------------------------\n"
          ]
        },
        {
          "name": "stdout",
          "output_type": "stream",
          "text": [
            "----------------------------------\n",
            "| custom/             |          |\n",
            "|    avg_reward_100ep | 70.20664 |\n",
            "| rollout/            |          |\n",
            "|    ep_len_mean      | 945      |\n",
            "|    ep_rew_mean      | 70.2     |\n",
            "| time/               |          |\n",
            "|    episodes         | 1324     |\n",
            "|    fps              | 568      |\n",
            "|    time_elapsed     | 1776     |\n",
            "|    total_timesteps  | 1010442  |\n",
            "| train/              |          |\n",
            "|    actor_loss       | 5.27     |\n",
            "|    critic_loss      | 3.9      |\n",
            "|    learning_rate    | 0.0003   |\n",
            "|    n_updates        | 498408   |\n",
            "----------------------------------\n"
          ]
        },
        {
          "name": "stdout",
          "output_type": "stream",
          "text": [
            "----------------------------------\n",
            "| custom/             |          |\n",
            "|    avg_reward_100ep | 67.71637 |\n",
            "| rollout/            |          |\n",
            "|    ep_len_mean      | 950      |\n",
            "|    ep_rew_mean      | 67.7     |\n",
            "| time/               |          |\n",
            "|    episodes         | 1328     |\n",
            "|    fps              | 569      |\n",
            "|    time_elapsed     | 1783     |\n",
            "|    total_timesteps  | 1014990  |\n",
            "| train/              |          |\n",
            "|    actor_loss       | 5.77     |\n",
            "|    critic_loss      | 1.57     |\n",
            "|    learning_rate    | 0.0003   |\n",
            "|    n_updates        | 499166   |\n",
            "----------------------------------\n"
          ]
        },
        {
          "data": {
            "text/html": [
              "<pre style=\"white-space:pre;overflow-x:auto;line-height:normal;font-family:Menlo,'DejaVu Sans Mono',consolas,'Courier New',monospace\">Eval num_timesteps=1020000, episode_reward=44.75 +/- 92.37\n",
              "</pre>\n"
            ],
            "text/plain": [
              "Eval num_timesteps=1020000, episode_reward=44.75 +/- 92.37\n"
            ]
          },
          "metadata": {},
          "output_type": "display_data"
        },
        {
          "data": {
            "text/html": [
              "<pre style=\"white-space:pre;overflow-x:auto;line-height:normal;font-family:Menlo,'DejaVu Sans Mono',consolas,'Courier New',monospace\">Episode length: 884.00 +/- 149.78\n",
              "</pre>\n"
            ],
            "text/plain": [
              "Episode length: 884.00 +/- 149.78\n"
            ]
          },
          "metadata": {},
          "output_type": "display_data"
        },
        {
          "name": "stdout",
          "output_type": "stream",
          "text": [
            "-----------------------------------\n",
            "| custom/             |           |\n",
            "|    avg_reward_100ep | 67.225365 |\n",
            "| eval/               |           |\n",
            "|    mean_ep_length   | 884       |\n",
            "|    mean_reward      | 44.7      |\n",
            "| time/               |           |\n",
            "|    total_timesteps  | 1020000   |\n",
            "| train/              |           |\n",
            "|    actor_loss       | 5.56      |\n",
            "|    critic_loss      | 1.98      |\n",
            "|    learning_rate    | 0.0003    |\n",
            "|    n_updates        | 500001    |\n",
            "-----------------------------------\n"
          ]
        },
        {
          "name": "stdout",
          "output_type": "stream",
          "text": [
            "----------------------------------\n",
            "| custom/             |          |\n",
            "|    avg_reward_100ep | 67.39973 |\n",
            "| rollout/            |          |\n",
            "|    ep_len_mean      | 950      |\n",
            "|    ep_rew_mean      | 67.4     |\n",
            "| time/               |          |\n",
            "|    episodes         | 1332     |\n",
            "|    fps              | 567      |\n",
            "|    time_elapsed     | 1796     |\n",
            "|    total_timesteps  | 1020150  |\n",
            "| train/              |          |\n",
            "|    actor_loss       | 5.26     |\n",
            "|    critic_loss      | 1.69     |\n",
            "|    learning_rate    | 0.0003   |\n",
            "|    n_updates        | 500026   |\n",
            "----------------------------------\n"
          ]
        },
        {
          "name": "stdout",
          "output_type": "stream",
          "text": [
            "----------------------------------\n",
            "| custom/             |          |\n",
            "|    avg_reward_100ep | 68.48686 |\n",
            "| rollout/            |          |\n",
            "|    ep_len_mean      | 951      |\n",
            "|    ep_rew_mean      | 68.5     |\n",
            "| time/               |          |\n",
            "|    episodes         | 1336     |\n",
            "|    fps              | 567      |\n",
            "|    time_elapsed     | 1800     |\n",
            "|    total_timesteps  | 1022442  |\n",
            "| train/              |          |\n",
            "|    actor_loss       | 5.79     |\n",
            "|    critic_loss      | 3.02     |\n",
            "|    learning_rate    | 0.0003   |\n",
            "|    n_updates        | 500408   |\n",
            "----------------------------------\n"
          ]
        },
        {
          "name": "stdout",
          "output_type": "stream",
          "text": [
            "----------------------------------\n",
            "| custom/             |          |\n",
            "|    avg_reward_100ep | 68.0705  |\n",
            "| rollout/            |          |\n",
            "|    ep_len_mean      | 951      |\n",
            "|    ep_rew_mean      | 68.1     |\n",
            "| time/               |          |\n",
            "|    episodes         | 1340     |\n",
            "|    fps              | 567      |\n",
            "|    time_elapsed     | 1808     |\n",
            "|    total_timesteps  | 1026990  |\n",
            "| train/              |          |\n",
            "|    actor_loss       | 4.7      |\n",
            "|    critic_loss      | 3.5      |\n",
            "|    learning_rate    | 0.0003   |\n",
            "|    n_updates        | 501166   |\n",
            "----------------------------------\n"
          ]
        },
        {
          "name": "stdout",
          "output_type": "stream",
          "text": [
            "-----------------------------------\n",
            "| custom/             |           |\n",
            "|    avg_reward_100ep | 69.727585 |\n",
            "| rollout/            |           |\n",
            "|    ep_len_mean      | 951       |\n",
            "|    ep_rew_mean      | 69.7      |\n",
            "| time/               |           |\n",
            "|    episodes         | 1344      |\n",
            "|    fps              | 568       |\n",
            "|    time_elapsed     | 1816      |\n",
            "|    total_timesteps  | 1032150   |\n",
            "| train/              |           |\n",
            "|    actor_loss       | 7.06      |\n",
            "|    critic_loss      | 5.77      |\n",
            "|    learning_rate    | 0.0003    |\n",
            "|    n_updates        | 502026    |\n",
            "-----------------------------------\n"
          ]
        },
        {
          "name": "stdout",
          "output_type": "stream",
          "text": [
            "----------------------------------\n",
            "| custom/             |          |\n",
            "|    avg_reward_100ep | 71.10313 |\n",
            "| rollout/            |          |\n",
            "|    ep_len_mean      | 951      |\n",
            "|    ep_rew_mean      | 71.1     |\n",
            "| time/               |          |\n",
            "|    episodes         | 1348     |\n",
            "|    fps              | 568      |\n",
            "|    time_elapsed     | 1820     |\n",
            "|    total_timesteps  | 1034442  |\n",
            "| train/              |          |\n",
            "|    actor_loss       | 6.37     |\n",
            "|    critic_loss      | 2.92     |\n",
            "|    learning_rate    | 0.0003   |\n",
            "|    n_updates        | 502408   |\n",
            "----------------------------------\n"
          ]
        },
        {
          "name": "stdout",
          "output_type": "stream",
          "text": [
            "----------------------------------\n",
            "| custom/             |          |\n",
            "|    avg_reward_100ep | 72.32848 |\n",
            "| rollout/            |          |\n",
            "|    ep_len_mean      | 959      |\n",
            "|    ep_rew_mean      | 72.3     |\n",
            "| time/               |          |\n",
            "|    episodes         | 1352     |\n",
            "|    fps              | 568      |\n",
            "|    time_elapsed     | 1828     |\n",
            "|    total_timesteps  | 1038990  |\n",
            "| train/              |          |\n",
            "|    actor_loss       | 6.65     |\n",
            "|    critic_loss      | 1.8      |\n",
            "|    learning_rate    | 0.0003   |\n",
            "|    n_updates        | 503166   |\n",
            "----------------------------------\n"
          ]
        },
        {
          "name": "stdout",
          "output_type": "stream",
          "text": [
            "----------------------------------\n",
            "| custom/             |          |\n",
            "|    avg_reward_100ep | 68.66055 |\n",
            "| rollout/            |          |\n",
            "|    ep_len_mean      | 952      |\n",
            "|    ep_rew_mean      | 68.7     |\n",
            "| time/               |          |\n",
            "|    episodes         | 1356     |\n",
            "|    fps              | 568      |\n",
            "|    time_elapsed     | 1834     |\n",
            "|    total_timesteps  | 1042500  |\n",
            "| train/              |          |\n",
            "|    actor_loss       | 6.12     |\n",
            "|    critic_loss      | 1.97     |\n",
            "|    learning_rate    | 0.0003   |\n",
            "|    n_updates        | 503751   |\n",
            "----------------------------------\n"
          ]
        },
        {
          "name": "stdout",
          "output_type": "stream",
          "text": [
            "----------------------------------\n",
            "| custom/             |          |\n",
            "|    avg_reward_100ep | 65.61801 |\n",
            "| rollout/            |          |\n",
            "|    ep_len_mean      | 952      |\n",
            "|    ep_rew_mean      | 65.6     |\n",
            "| time/               |          |\n",
            "|    episodes         | 1360     |\n",
            "|    fps              | 568      |\n",
            "|    time_elapsed     | 1841     |\n",
            "|    total_timesteps  | 1046328  |\n",
            "| train/              |          |\n",
            "|    actor_loss       | 6.79     |\n",
            "|    critic_loss      | 1.46     |\n",
            "|    learning_rate    | 0.0003   |\n",
            "|    n_updates        | 504389   |\n",
            "----------------------------------\n"
          ]
        },
        {
          "data": {
            "text/html": [
              "<pre style=\"white-space:pre;overflow-x:auto;line-height:normal;font-family:Menlo,'DejaVu Sans Mono',consolas,'Courier New',monospace\">Eval num_timesteps=1050000, episode_reward=85.08 +/- 95.45\n",
              "</pre>\n"
            ],
            "text/plain": [
              "Eval num_timesteps=1050000, episode_reward=85.08 +/- 95.45\n"
            ]
          },
          "metadata": {},
          "output_type": "display_data"
        },
        {
          "data": {
            "text/html": [
              "<pre style=\"white-space:pre;overflow-x:auto;line-height:normal;font-family:Menlo,'DejaVu Sans Mono',consolas,'Courier New',monospace\">Episode length: 1000.00 +/- 0.00\n",
              "</pre>\n"
            ],
            "text/plain": [
              "Episode length: 1000.00 +/- 0.00\n"
            ]
          },
          "metadata": {},
          "output_type": "display_data"
        },
        {
          "name": "stdout",
          "output_type": "stream",
          "text": [
            "----------------------------------\n",
            "| custom/             |          |\n",
            "|    avg_reward_100ep | 66.19883 |\n",
            "| eval/               |          |\n",
            "|    mean_ep_length   | 1e+03    |\n",
            "|    mean_reward      | 85.1     |\n",
            "| time/               |          |\n",
            "|    total_timesteps  | 1050000  |\n",
            "| train/              |          |\n",
            "|    actor_loss       | 5.22     |\n",
            "|    critic_loss      | 3.48     |\n",
            "|    learning_rate    | 0.0003   |\n",
            "|    n_updates        | 505001   |\n",
            "----------------------------------\n"
          ]
        },
        {
          "data": {
            "text/html": [
              "<pre style=\"white-space:pre;overflow-x:auto;line-height:normal;font-family:Menlo,'DejaVu Sans Mono',consolas,'Courier New',monospace\">New best mean reward!\n",
              "</pre>\n"
            ],
            "text/plain": [
              "New best mean reward!\n"
            ]
          },
          "metadata": {},
          "output_type": "display_data"
        },
        {
          "name": "stdout",
          "output_type": "stream",
          "text": [
            "----------------------------------\n",
            "| custom/             |          |\n",
            "|    avg_reward_100ep | 67.57186 |\n",
            "| rollout/            |          |\n",
            "|    ep_len_mean      | 957      |\n",
            "|    ep_rew_mean      | 67.6     |\n",
            "| time/               |          |\n",
            "|    episodes         | 1364     |\n",
            "|    fps              | 566      |\n",
            "|    time_elapsed     | 1852     |\n",
            "|    total_timesteps  | 1050414  |\n",
            "| train/              |          |\n",
            "|    actor_loss       | 5.78     |\n",
            "|    critic_loss      | 2.33     |\n",
            "|    learning_rate    | 0.0003   |\n",
            "|    n_updates        | 505070   |\n",
            "----------------------------------\n"
          ]
        },
        {
          "name": "stdout",
          "output_type": "stream",
          "text": [
            "----------------------------------\n",
            "| custom/             |          |\n",
            "|    avg_reward_100ep | 68.1168  |\n",
            "| rollout/            |          |\n",
            "|    ep_len_mean      | 966      |\n",
            "|    ep_rew_mean      | 68.1     |\n",
            "| time/               |          |\n",
            "|    episodes         | 1368     |\n",
            "|    fps              | 566      |\n",
            "|    time_elapsed     | 1856     |\n",
            "|    total_timesteps  | 1052634  |\n",
            "| train/              |          |\n",
            "|    actor_loss       | 6.33     |\n",
            "|    critic_loss      | 2.74     |\n",
            "|    learning_rate    | 0.0003   |\n",
            "|    n_updates        | 505440   |\n",
            "----------------------------------\n"
          ]
        },
        {
          "name": "stdout",
          "output_type": "stream",
          "text": [
            "----------------------------------\n",
            "| custom/             |          |\n",
            "|    avg_reward_100ep | 70.05775 |\n",
            "| rollout/            |          |\n",
            "|    ep_len_mean      | 974      |\n",
            "|    ep_rew_mean      | 70.1     |\n",
            "| time/               |          |\n",
            "|    episodes         | 1372     |\n",
            "|    fps              | 567      |\n",
            "|    time_elapsed     | 1866     |\n",
            "|    total_timesteps  | 1058328  |\n",
            "| train/              |          |\n",
            "|    actor_loss       | 6.14     |\n",
            "|    critic_loss      | 1.73     |\n",
            "|    learning_rate    | 0.0003   |\n",
            "|    n_updates        | 506389   |\n",
            "----------------------------------\n"
          ]
        },
        {
          "name": "stdout",
          "output_type": "stream",
          "text": [
            "-----------------------------------\n",
            "| custom/             |           |\n",
            "|    avg_reward_100ep | 69.355606 |\n",
            "| rollout/            |           |\n",
            "|    ep_len_mean      | 974       |\n",
            "|    ep_rew_mean      | 69.4      |\n",
            "| time/               |           |\n",
            "|    episodes         | 1376      |\n",
            "|    fps              | 567       |\n",
            "|    time_elapsed     | 1873      |\n",
            "|    total_timesteps  | 1062414   |\n",
            "| train/              |           |\n",
            "|    actor_loss       | 5.36      |\n",
            "|    critic_loss      | 2.07      |\n",
            "|    learning_rate    | 0.0003    |\n",
            "|    n_updates        | 507070    |\n",
            "-----------------------------------\n"
          ]
        },
        {
          "name": "stdout",
          "output_type": "stream",
          "text": [
            "-----------------------------------\n",
            "| custom/             |           |\n",
            "|    avg_reward_100ep | 71.040596 |\n",
            "| rollout/            |           |\n",
            "|    ep_len_mean      | 974       |\n",
            "|    ep_rew_mean      | 71        |\n",
            "| time/               |           |\n",
            "|    episodes         | 1380      |\n",
            "|    fps              | 567       |\n",
            "|    time_elapsed     | 1876      |\n",
            "|    total_timesteps  | 1064634   |\n",
            "| train/              |           |\n",
            "|    actor_loss       | 6.56      |\n",
            "|    critic_loss      | 2.8       |\n",
            "|    learning_rate    | 0.0003    |\n",
            "|    n_updates        | 507440    |\n",
            "-----------------------------------\n"
          ]
        },
        {
          "name": "stdout",
          "output_type": "stream",
          "text": [
            "----------------------------------\n",
            "| custom/             |          |\n",
            "|    avg_reward_100ep | 72.93096 |\n",
            "| rollout/            |          |\n",
            "|    ep_len_mean      | 974      |\n",
            "|    ep_rew_mean      | 72.9     |\n",
            "| time/               |          |\n",
            "|    episodes         | 1384     |\n",
            "|    fps              | 567      |\n",
            "|    time_elapsed     | 1886     |\n",
            "|    total_timesteps  | 1070328  |\n",
            "| train/              |          |\n",
            "|    actor_loss       | 4.9      |\n",
            "|    critic_loss      | 4.66     |\n",
            "|    learning_rate    | 0.0003   |\n",
            "|    n_updates        | 508389   |\n",
            "----------------------------------\n"
          ]
        },
        {
          "name": "stdout",
          "output_type": "stream",
          "text": [
            "----------------------------------\n",
            "| custom/             |          |\n",
            "|    avg_reward_100ep | 73.94394 |\n",
            "| rollout/            |          |\n",
            "|    ep_len_mean      | 970      |\n",
            "|    ep_rew_mean      | 73.9     |\n",
            "| time/               |          |\n",
            "|    episodes         | 1388     |\n",
            "|    fps              | 567      |\n",
            "|    time_elapsed     | 1892     |\n",
            "|    total_timesteps  | 1073994  |\n",
            "| train/              |          |\n",
            "|    actor_loss       | 5.64     |\n",
            "|    critic_loss      | 4.44     |\n",
            "|    learning_rate    | 0.0003   |\n",
            "|    n_updates        | 509000   |\n",
            "----------------------------------\n"
          ]
        },
        {
          "name": "stdout",
          "output_type": "stream",
          "text": [
            "----------------------------------\n",
            "| custom/             |          |\n",
            "|    avg_reward_100ep | 74.80418 |\n",
            "| rollout/            |          |\n",
            "|    ep_len_mean      | 967      |\n",
            "|    ep_rew_mean      | 74.8     |\n",
            "| time/               |          |\n",
            "|    episodes         | 1392     |\n",
            "|    fps              | 567      |\n",
            "|    time_elapsed     | 1897     |\n",
            "|    total_timesteps  | 1076442  |\n",
            "| train/              |          |\n",
            "|    actor_loss       | 5.1      |\n",
            "|    critic_loss      | 1.4      |\n",
            "|    learning_rate    | 0.0003   |\n",
            "|    n_updates        | 509408   |\n",
            "----------------------------------\n"
          ]
        },
        {
          "data": {
            "text/html": [
              "<pre style=\"white-space:pre;overflow-x:auto;line-height:normal;font-family:Menlo,'DejaVu Sans Mono',consolas,'Courier New',monospace\">Eval num_timesteps=1080000, episode_reward=38.98 +/- 61.31\n",
              "</pre>\n"
            ],
            "text/plain": [
              "Eval num_timesteps=1080000, episode_reward=38.98 +/- 61.31\n"
            ]
          },
          "metadata": {},
          "output_type": "display_data"
        },
        {
          "data": {
            "text/html": [
              "<pre style=\"white-space:pre;overflow-x:auto;line-height:normal;font-family:Menlo,'DejaVu Sans Mono',consolas,'Courier New',monospace\">Episode length: 913.20 +/- 173.60\n",
              "</pre>\n"
            ],
            "text/plain": [
              "Episode length: 913.20 +/- 173.60\n"
            ]
          },
          "metadata": {},
          "output_type": "display_data"
        },
        {
          "name": "stdout",
          "output_type": "stream",
          "text": [
            "----------------------------------\n",
            "| custom/             |          |\n",
            "|    avg_reward_100ep | 72.65457 |\n",
            "| eval/               |          |\n",
            "|    mean_ep_length   | 913      |\n",
            "|    mean_reward      | 39       |\n",
            "| time/               |          |\n",
            "|    total_timesteps  | 1080000  |\n",
            "| train/              |          |\n",
            "|    actor_loss       | 5.59     |\n",
            "|    critic_loss      | 1.92     |\n",
            "|    learning_rate    | 0.0003   |\n",
            "|    n_updates        | 510001   |\n",
            "----------------------------------\n"
          ]
        },
        {
          "name": "stdout",
          "output_type": "stream",
          "text": [
            "----------------------------------\n",
            "| custom/             |          |\n",
            "|    avg_reward_100ep | 72.81156 |\n",
            "| rollout/            |          |\n",
            "|    ep_len_mean      | 961      |\n",
            "|    ep_rew_mean      | 72.8     |\n",
            "| time/               |          |\n",
            "|    episodes         | 1396     |\n",
            "|    fps              | 566      |\n",
            "|    time_elapsed     | 1908     |\n",
            "|    total_timesteps  | 1080864  |\n",
            "| train/              |          |\n",
            "|    actor_loss       | 4.76     |\n",
            "|    critic_loss      | 6.14     |\n",
            "|    learning_rate    | 0.0003   |\n",
            "|    n_updates        | 510145   |\n",
            "----------------------------------\n"
          ]
        },
        {
          "name": "stdout",
          "output_type": "stream",
          "text": [
            "----------------------------------\n",
            "| custom/             |          |\n",
            "|    avg_reward_100ep | 74.58011 |\n",
            "| rollout/            |          |\n",
            "|    ep_len_mean      | 965      |\n",
            "|    ep_rew_mean      | 74.6     |\n",
            "| time/               |          |\n",
            "|    episodes         | 1400     |\n",
            "|    fps              | 566      |\n",
            "|    time_elapsed     | 1915     |\n",
            "|    total_timesteps  | 1084950  |\n",
            "| train/              |          |\n",
            "|    actor_loss       | 4.38     |\n",
            "|    critic_loss      | 3.79     |\n",
            "|    learning_rate    | 0.0003   |\n",
            "|    n_updates        | 510826   |\n",
            "----------------------------------\n"
          ]
        },
        {
          "name": "stdout",
          "output_type": "stream",
          "text": [
            "-----------------------------------\n",
            "| custom/             |           |\n",
            "|    avg_reward_100ep | 75.723976 |\n",
            "| rollout/            |           |\n",
            "|    ep_len_mean      | 967       |\n",
            "|    ep_rew_mean      | 75.7      |\n",
            "| time/               |           |\n",
            "|    episodes         | 1404      |\n",
            "|    fps              | 566       |\n",
            "|    time_elapsed     | 1921      |\n",
            "|    total_timesteps  | 1088442   |\n",
            "| train/              |           |\n",
            "|    actor_loss       | 4.99      |\n",
            "|    critic_loss      | 1.58      |\n",
            "|    learning_rate    | 0.0003    |\n",
            "|    n_updates        | 511408    |\n",
            "-----------------------------------\n"
          ]
        },
        {
          "name": "stdout",
          "output_type": "stream",
          "text": [
            "----------------------------------\n",
            "| custom/             |          |\n",
            "|    avg_reward_100ep | 76.86206 |\n",
            "| rollout/            |          |\n",
            "|    ep_len_mean      | 966      |\n",
            "|    ep_rew_mean      | 76.9     |\n",
            "| time/               |          |\n",
            "|    episodes         | 1408     |\n",
            "|    fps              | 566      |\n",
            "|    time_elapsed     | 1929     |\n",
            "|    total_timesteps  | 1092864  |\n",
            "| train/              |          |\n",
            "|    actor_loss       | 4.97     |\n",
            "|    critic_loss      | 2.1      |\n",
            "|    learning_rate    | 0.0003   |\n",
            "|    n_updates        | 512145   |\n",
            "----------------------------------\n"
          ]
        },
        {
          "name": "stdout",
          "output_type": "stream",
          "text": [
            "----------------------------------\n",
            "| custom/             |          |\n",
            "|    avg_reward_100ep | 78.99983 |\n",
            "| rollout/            |          |\n",
            "|    ep_len_mean      | 966      |\n",
            "|    ep_rew_mean      | 79       |\n",
            "| time/               |          |\n",
            "|    episodes         | 1412     |\n",
            "|    fps              | 566      |\n",
            "|    time_elapsed     | 1935     |\n",
            "|    total_timesteps  | 1096188  |\n",
            "| train/              |          |\n",
            "|    actor_loss       | 5.85     |\n",
            "|    critic_loss      | 3.34     |\n",
            "|    learning_rate    | 0.0003   |\n",
            "|    n_updates        | 512699   |\n",
            "----------------------------------\n"
          ]
        },
        {
          "name": "stdout",
          "output_type": "stream",
          "text": [
            "----------------------------------\n",
            "| custom/             |          |\n",
            "|    avg_reward_100ep | 76.72839 |\n",
            "| rollout/            |          |\n",
            "|    ep_len_mean      | 967      |\n",
            "|    ep_rew_mean      | 76.7     |\n",
            "| time/               |          |\n",
            "|    episodes         | 1416     |\n",
            "|    fps              | 566      |\n",
            "|    time_elapsed     | 1942     |\n",
            "|    total_timesteps  | 1100442  |\n",
            "| train/              |          |\n",
            "|    actor_loss       | 4.78     |\n",
            "|    critic_loss      | 2.98     |\n",
            "|    learning_rate    | 0.0003   |\n",
            "|    n_updates        | 513408   |\n",
            "----------------------------------\n"
          ]
        },
        {
          "name": "stdout",
          "output_type": "stream",
          "text": [
            "----------------------------------\n",
            "| custom/             |          |\n",
            "|    avg_reward_100ep | 75.33204 |\n",
            "| rollout/            |          |\n",
            "|    ep_len_mean      | 967      |\n",
            "|    ep_rew_mean      | 75.3     |\n",
            "| time/               |          |\n",
            "|    episodes         | 1420     |\n",
            "|    fps              | 566      |\n",
            "|    time_elapsed     | 1950     |\n",
            "|    total_timesteps  | 1104864  |\n",
            "| train/              |          |\n",
            "|    actor_loss       | 4.55     |\n",
            "|    critic_loss      | 3.17     |\n",
            "|    learning_rate    | 0.0003   |\n",
            "|    n_updates        | 514145   |\n",
            "----------------------------------\n"
          ]
        },
        {
          "name": "stdout",
          "output_type": "stream",
          "text": [
            "----------------------------------\n",
            "| custom/             |          |\n",
            "|    avg_reward_100ep | 71.05329 |\n",
            "| rollout/            |          |\n",
            "|    ep_len_mean      | 962      |\n",
            "|    ep_rew_mean      | 71.1     |\n",
            "| time/               |          |\n",
            "|    episodes         | 1424     |\n",
            "|    fps              | 566      |\n",
            "|    time_elapsed     | 1953     |\n",
            "|    total_timesteps  | 1106838  |\n",
            "| train/              |          |\n",
            "|    actor_loss       | 4.55     |\n",
            "|    critic_loss      | 1.94     |\n",
            "|    learning_rate    | 0.0003   |\n",
            "|    n_updates        | 514474   |\n",
            "----------------------------------\n"
          ]
        },
        {
          "data": {
            "text/html": [
              "<pre style=\"white-space:pre;overflow-x:auto;line-height:normal;font-family:Menlo,'DejaVu Sans Mono',consolas,'Courier New',monospace\">Eval num_timesteps=1110000, episode_reward=77.62 +/- 82.58\n",
              "</pre>\n"
            ],
            "text/plain": [
              "Eval num_timesteps=1110000, episode_reward=77.62 +/- 82.58\n"
            ]
          },
          "metadata": {},
          "output_type": "display_data"
        },
        {
          "data": {
            "text/html": [
              "<pre style=\"white-space:pre;overflow-x:auto;line-height:normal;font-family:Menlo,'DejaVu Sans Mono',consolas,'Courier New',monospace\">Episode length: 1000.00 +/- 0.00\n",
              "</pre>\n"
            ],
            "text/plain": [
              "Episode length: 1000.00 +/- 0.00\n"
            ]
          },
          "metadata": {},
          "output_type": "display_data"
        },
        {
          "name": "stdout",
          "output_type": "stream",
          "text": [
            "----------------------------------\n",
            "| custom/             |          |\n",
            "|    avg_reward_100ep | 71.15498 |\n",
            "| eval/               |          |\n",
            "|    mean_ep_length   | 1e+03    |\n",
            "|    mean_reward      | 77.6     |\n",
            "| time/               |          |\n",
            "|    total_timesteps  | 1110000  |\n",
            "| train/              |          |\n",
            "|    actor_loss       | 4.99     |\n",
            "|    critic_loss      | 2.01     |\n",
            "|    learning_rate    | 0.0003   |\n",
            "|    n_updates        | 515001   |\n",
            "----------------------------------\n"
          ]
        },
        {
          "name": "stdout",
          "output_type": "stream",
          "text": [
            "----------------------------------\n",
            "| custom/             |          |\n",
            "|    avg_reward_100ep | 73.40414 |\n",
            "| rollout/            |          |\n",
            "|    ep_len_mean      | 962      |\n",
            "|    ep_rew_mean      | 73.4     |\n",
            "| time/               |          |\n",
            "|    episodes         | 1428     |\n",
            "|    fps              | 565      |\n",
            "|    time_elapsed     | 1966     |\n",
            "|    total_timesteps  | 1111680  |\n",
            "| train/              |          |\n",
            "|    actor_loss       | 3.52     |\n",
            "|    critic_loss      | 4.08     |\n",
            "|    learning_rate    | 0.0003   |\n",
            "|    n_updates        | 515281   |\n",
            "----------------------------------\n"
          ]
        },
        {
          "name": "stdout",
          "output_type": "stream",
          "text": [
            "----------------------------------\n",
            "| custom/             |          |\n",
            "|    avg_reward_100ep | 70.87945 |\n",
            "| rollout/            |          |\n",
            "|    ep_len_mean      | 955      |\n",
            "|    ep_rew_mean      | 70.9     |\n",
            "| time/               |          |\n",
            "|    episodes         | 1432     |\n",
            "|    fps              | 565      |\n",
            "|    time_elapsed     | 1974     |\n",
            "|    total_timesteps  | 1116528  |\n",
            "| train/              |          |\n",
            "|    actor_loss       | 5.7      |\n",
            "|    critic_loss      | 1.48     |\n",
            "|    learning_rate    | 0.0003   |\n",
            "|    n_updates        | 516089   |\n",
            "----------------------------------\n"
          ]
        },
        {
          "name": "stdout",
          "output_type": "stream",
          "text": [
            "----------------------------------\n",
            "| custom/             |          |\n",
            "|    avg_reward_100ep | 69.89949 |\n",
            "| rollout/            |          |\n",
            "|    ep_len_mean      | 955      |\n",
            "|    ep_rew_mean      | 69.9     |\n",
            "| time/               |          |\n",
            "|    episodes         | 1436     |\n",
            "|    fps              | 565      |\n",
            "|    time_elapsed     | 1978     |\n",
            "|    total_timesteps  | 1118442  |\n",
            "| train/              |          |\n",
            "|    actor_loss       | 4.7      |\n",
            "|    critic_loss      | 2.46     |\n",
            "|    learning_rate    | 0.0003   |\n",
            "|    n_updates        | 516408   |\n",
            "----------------------------------\n"
          ]
        },
        {
          "name": "stdout",
          "output_type": "stream",
          "text": [
            "-----------------------------------\n",
            "| custom/             |           |\n",
            "|    avg_reward_100ep | 71.295715 |\n",
            "| rollout/            |           |\n",
            "|    ep_len_mean      | 961       |\n",
            "|    ep_rew_mean      | 71.3      |\n",
            "| time/               |           |\n",
            "|    episodes         | 1440      |\n",
            "|    fps              | 565       |\n",
            "|    time_elapsed     | 1985      |\n",
            "|    total_timesteps  | 1122990   |\n",
            "| train/              |           |\n",
            "|    actor_loss       | 6.43      |\n",
            "|    critic_loss      | 2.99      |\n",
            "|    learning_rate    | 0.0003    |\n",
            "|    n_updates        | 517166    |\n",
            "-----------------------------------\n"
          ]
        },
        {
          "name": "stdout",
          "output_type": "stream",
          "text": [
            "----------------------------------\n",
            "| custom/             |          |\n",
            "|    avg_reward_100ep | 70.53975 |\n",
            "| rollout/            |          |\n",
            "|    ep_len_mean      | 961      |\n",
            "|    ep_rew_mean      | 70.5     |\n",
            "| time/               |          |\n",
            "|    episodes         | 1444     |\n",
            "|    fps              | 565      |\n",
            "|    time_elapsed     | 1995     |\n",
            "|    total_timesteps  | 1128528  |\n",
            "| train/              |          |\n",
            "|    actor_loss       | 5.06     |\n",
            "|    critic_loss      | 1.63     |\n",
            "|    learning_rate    | 0.0003   |\n",
            "|    n_updates        | 518089   |\n",
            "----------------------------------\n"
          ]
        },
        {
          "name": "stdout",
          "output_type": "stream",
          "text": [
            "----------------------------------\n",
            "| custom/             |          |\n",
            "|    avg_reward_100ep | 73.32067 |\n",
            "| rollout/            |          |\n",
            "|    ep_len_mean      | 961      |\n",
            "|    ep_rew_mean      | 73.3     |\n",
            "| time/               |          |\n",
            "|    episodes         | 1448     |\n",
            "|    fps              | 565      |\n",
            "|    time_elapsed     | 1998     |\n",
            "|    total_timesteps  | 1130442  |\n",
            "| train/              |          |\n",
            "|    actor_loss       | 5.72     |\n",
            "|    critic_loss      | 6.97     |\n",
            "|    learning_rate    | 0.0003   |\n",
            "|    n_updates        | 518408   |\n",
            "----------------------------------\n"
          ]
        },
        {
          "name": "stdout",
          "output_type": "stream",
          "text": [
            "----------------------------------\n",
            "| custom/             |          |\n",
            "|    avg_reward_100ep | 73.25885 |\n",
            "| rollout/            |          |\n",
            "|    ep_len_mean      | 961      |\n",
            "|    ep_rew_mean      | 73.3     |\n",
            "| time/               |          |\n",
            "|    episodes         | 1452     |\n",
            "|    fps              | 565      |\n",
            "|    time_elapsed     | 2006     |\n",
            "|    total_timesteps  | 1134990  |\n",
            "| train/              |          |\n",
            "|    actor_loss       | 5.19     |\n",
            "|    critic_loss      | 3.08     |\n",
            "|    learning_rate    | 0.0003   |\n",
            "|    n_updates        | 519166   |\n",
            "----------------------------------\n"
          ]
        },
        {
          "data": {
            "text/html": [
              "<pre style=\"white-space:pre;overflow-x:auto;line-height:normal;font-family:Menlo,'DejaVu Sans Mono',consolas,'Courier New',monospace\">Eval num_timesteps=1140000, episode_reward=99.76 +/- 28.00\n",
              "</pre>\n"
            ],
            "text/plain": [
              "Eval num_timesteps=1140000, episode_reward=99.76 +/- 28.00\n"
            ]
          },
          "metadata": {},
          "output_type": "display_data"
        },
        {
          "data": {
            "text/html": [
              "<pre style=\"white-space:pre;overflow-x:auto;line-height:normal;font-family:Menlo,'DejaVu Sans Mono',consolas,'Courier New',monospace\">Episode length: 1000.00 +/- 0.00\n",
              "</pre>\n"
            ],
            "text/plain": [
              "Episode length: 1000.00 +/- 0.00\n"
            ]
          },
          "metadata": {},
          "output_type": "display_data"
        },
        {
          "name": "stdout",
          "output_type": "stream",
          "text": [
            "----------------------------------\n",
            "| custom/             |          |\n",
            "|    avg_reward_100ep | 73.66572 |\n",
            "| eval/               |          |\n",
            "|    mean_ep_length   | 1e+03    |\n",
            "|    mean_reward      | 99.8     |\n",
            "| time/               |          |\n",
            "|    total_timesteps  | 1140000  |\n",
            "| train/              |          |\n",
            "|    actor_loss       | 4.59     |\n",
            "|    critic_loss      | 3.62     |\n",
            "|    learning_rate    | 0.0003   |\n",
            "|    n_updates        | 520001   |\n",
            "----------------------------------\n"
          ]
        },
        {
          "data": {
            "text/html": [
              "<pre style=\"white-space:pre;overflow-x:auto;line-height:normal;font-family:Menlo,'DejaVu Sans Mono',consolas,'Courier New',monospace\">New best mean reward!\n",
              "</pre>\n"
            ],
            "text/plain": [
              "New best mean reward!\n"
            ]
          },
          "metadata": {},
          "output_type": "display_data"
        },
        {
          "name": "stdout",
          "output_type": "stream",
          "text": [
            "----------------------------------\n",
            "| custom/             |          |\n",
            "|    avg_reward_100ep | 75.66833 |\n",
            "| rollout/            |          |\n",
            "|    ep_len_mean      | 967      |\n",
            "|    ep_rew_mean      | 75.7     |\n",
            "| time/               |          |\n",
            "|    episodes         | 1456     |\n",
            "|    fps              | 564      |\n",
            "|    time_elapsed     | 2020     |\n",
            "|    total_timesteps  | 1140528  |\n",
            "| train/              |          |\n",
            "|    actor_loss       | 3.51     |\n",
            "|    critic_loss      | 1.68     |\n",
            "|    learning_rate    | 0.0003   |\n",
            "|    n_updates        | 520089   |\n",
            "----------------------------------\n"
          ]
        },
        {
          "name": "stdout",
          "output_type": "stream",
          "text": [
            "----------------------------------\n",
            "| custom/             |          |\n",
            "|    avg_reward_100ep | 76.81614 |\n",
            "| rollout/            |          |\n",
            "|    ep_len_mean      | 967      |\n",
            "|    ep_rew_mean      | 76.8     |\n",
            "| time/               |          |\n",
            "|    episodes         | 1460     |\n",
            "|    fps              | 564      |\n",
            "|    time_elapsed     | 2023     |\n",
            "|    total_timesteps  | 1142442  |\n",
            "| train/              |          |\n",
            "|    actor_loss       | 4.76     |\n",
            "|    critic_loss      | 5.14     |\n",
            "|    learning_rate    | 0.0003   |\n",
            "|    n_updates        | 520408   |\n",
            "----------------------------------\n"
          ]
        },
        {
          "name": "stdout",
          "output_type": "stream",
          "text": [
            "----------------------------------\n",
            "| custom/             |          |\n",
            "|    avg_reward_100ep | 77.68397 |\n",
            "| rollout/            |          |\n",
            "|    ep_len_mean      | 966      |\n",
            "|    ep_rew_mean      | 77.7     |\n",
            "| time/               |          |\n",
            "|    episodes         | 1464     |\n",
            "|    fps              | 564      |\n",
            "|    time_elapsed     | 2031     |\n",
            "|    total_timesteps  | 1146864  |\n",
            "| train/              |          |\n",
            "|    actor_loss       | 4.5      |\n",
            "|    critic_loss      | 1.11     |\n",
            "|    learning_rate    | 0.0003   |\n",
            "|    n_updates        | 521145   |\n",
            "----------------------------------\n"
          ]
        },
        {
          "name": "stdout",
          "output_type": "stream",
          "text": [
            "----------------------------------\n",
            "| custom/             |          |\n",
            "|    avg_reward_100ep | 81.58472 |\n",
            "| rollout/            |          |\n",
            "|    ep_len_mean      | 970      |\n",
            "|    ep_rew_mean      | 81.6     |\n",
            "| time/               |          |\n",
            "|    episodes         | 1468     |\n",
            "|    fps              | 564      |\n",
            "|    time_elapsed     | 2040     |\n",
            "|    total_timesteps  | 1152528  |\n",
            "| train/              |          |\n",
            "|    actor_loss       | 4.01     |\n",
            "|    critic_loss      | 2.59     |\n",
            "|    learning_rate    | 0.0003   |\n",
            "|    n_updates        | 522089   |\n",
            "----------------------------------\n"
          ]
        },
        {
          "name": "stdout",
          "output_type": "stream",
          "text": [
            "----------------------------------\n",
            "| custom/             |          |\n",
            "|    avg_reward_100ep | 81.0281  |\n",
            "| rollout/            |          |\n",
            "|    ep_len_mean      | 970      |\n",
            "|    ep_rew_mean      | 81       |\n",
            "| time/               |          |\n",
            "|    episodes         | 1472     |\n",
            "|    fps              | 564      |\n",
            "|    time_elapsed     | 2042     |\n",
            "|    total_timesteps  | 1153680  |\n",
            "| train/              |          |\n",
            "|    actor_loss       | 3.25     |\n",
            "|    critic_loss      | 2.14     |\n",
            "|    learning_rate    | 0.0003   |\n",
            "|    n_updates        | 522281   |\n",
            "----------------------------------\n"
          ]
        },
        {
          "name": "stdout",
          "output_type": "stream",
          "text": [
            "----------------------------------\n",
            "| custom/             |          |\n",
            "|    avg_reward_100ep | 80.95296 |\n",
            "| rollout/            |          |\n",
            "|    ep_len_mean      | 963      |\n",
            "|    ep_rew_mean      | 81       |\n",
            "| time/               |          |\n",
            "|    episodes         | 1476     |\n",
            "|    fps              | 564      |\n",
            "|    time_elapsed     | 2051     |\n",
            "|    total_timesteps  | 1158582  |\n",
            "| train/              |          |\n",
            "|    actor_loss       | 4.35     |\n",
            "|    critic_loss      | 2.45     |\n",
            "|    learning_rate    | 0.0003   |\n",
            "|    n_updates        | 523098   |\n",
            "----------------------------------\n"
          ]
        },
        {
          "name": "stdout",
          "output_type": "stream",
          "text": [
            "----------------------------------\n",
            "| custom/             |          |\n",
            "|    avg_reward_100ep | 77.29852 |\n",
            "| rollout/            |          |\n",
            "|    ep_len_mean      | 963      |\n",
            "|    ep_rew_mean      | 77.3     |\n",
            "| time/               |          |\n",
            "|    episodes         | 1480     |\n",
            "|    fps              | 564      |\n",
            "|    time_elapsed     | 2057     |\n",
            "|    total_timesteps  | 1161900  |\n",
            "| train/              |          |\n",
            "|    actor_loss       | 3.77     |\n",
            "|    critic_loss      | 2.97     |\n",
            "|    learning_rate    | 0.0003   |\n",
            "|    n_updates        | 523651   |\n",
            "----------------------------------\n"
          ]
        },
        {
          "name": "stdout",
          "output_type": "stream",
          "text": [
            "----------------------------------\n",
            "| custom/             |          |\n",
            "|    avg_reward_100ep | 78.69551 |\n",
            "| rollout/            |          |\n",
            "|    ep_len_mean      | 963      |\n",
            "|    ep_rew_mean      | 78.7     |\n",
            "| time/               |          |\n",
            "|    episodes         | 1484     |\n",
            "|    fps              | 564      |\n",
            "|    time_elapsed     | 2062     |\n",
            "|    total_timesteps  | 1164990  |\n",
            "| train/              |          |\n",
            "|    actor_loss       | 6.16     |\n",
            "|    critic_loss      | 4.51     |\n",
            "|    learning_rate    | 0.0003   |\n",
            "|    n_updates        | 524166   |\n",
            "----------------------------------\n"
          ]
        },
        {
          "data": {
            "text/html": [
              "<pre style=\"white-space:pre;overflow-x:auto;line-height:normal;font-family:Menlo,'DejaVu Sans Mono',consolas,'Courier New',monospace\">Eval num_timesteps=1170000, episode_reward=116.86 +/- 63.72\n",
              "</pre>\n"
            ],
            "text/plain": [
              "Eval num_timesteps=1170000, episode_reward=116.86 +/- 63.72\n"
            ]
          },
          "metadata": {},
          "output_type": "display_data"
        },
        {
          "data": {
            "text/html": [
              "<pre style=\"white-space:pre;overflow-x:auto;line-height:normal;font-family:Menlo,'DejaVu Sans Mono',consolas,'Courier New',monospace\">Episode length: 964.20 +/- 71.60\n",
              "</pre>\n"
            ],
            "text/plain": [
              "Episode length: 964.20 +/- 71.60\n"
            ]
          },
          "metadata": {},
          "output_type": "display_data"
        },
        {
          "name": "stdout",
          "output_type": "stream",
          "text": [
            "----------------------------------\n",
            "| custom/             |          |\n",
            "|    avg_reward_100ep | 77.82492 |\n",
            "| eval/               |          |\n",
            "|    mean_ep_length   | 964      |\n",
            "|    mean_reward      | 117      |\n",
            "| time/               |          |\n",
            "|    total_timesteps  | 1170000  |\n",
            "| train/              |          |\n",
            "|    actor_loss       | 4.49     |\n",
            "|    critic_loss      | 3.81     |\n",
            "|    learning_rate    | 0.0003   |\n",
            "|    n_updates        | 525001   |\n",
            "----------------------------------\n"
          ]
        },
        {
          "data": {
            "text/html": [
              "<pre style=\"white-space:pre;overflow-x:auto;line-height:normal;font-family:Menlo,'DejaVu Sans Mono',consolas,'Courier New',monospace\">New best mean reward!\n",
              "</pre>\n"
            ],
            "text/plain": [
              "New best mean reward!\n"
            ]
          },
          "metadata": {},
          "output_type": "display_data"
        },
        {
          "name": "stdout",
          "output_type": "stream",
          "text": [
            "----------------------------------\n",
            "| custom/             |          |\n",
            "|    avg_reward_100ep | 79.64969 |\n",
            "| rollout/            |          |\n",
            "|    ep_len_mean      | 965      |\n",
            "|    ep_rew_mean      | 79.6     |\n",
            "| time/               |          |\n",
            "|    episodes         | 1488     |\n",
            "|    fps              | 563      |\n",
            "|    time_elapsed     | 2076     |\n",
            "|    total_timesteps  | 1170582  |\n",
            "| train/              |          |\n",
            "|    actor_loss       | 3.96     |\n",
            "|    critic_loss      | 2.53     |\n",
            "|    learning_rate    | 0.0003   |\n",
            "|    n_updates        | 525098   |\n",
            "----------------------------------\n"
          ]
        },
        {
          "name": "stdout",
          "output_type": "stream",
          "text": [
            "----------------------------------\n",
            "| custom/             |          |\n",
            "|    avg_reward_100ep | 79.638   |\n",
            "| rollout/            |          |\n",
            "|    ep_len_mean      | 964      |\n",
            "|    ep_rew_mean      | 79.6     |\n",
            "| time/               |          |\n",
            "|    episodes         | 1492     |\n",
            "|    fps              | 563      |\n",
            "|    time_elapsed     | 2081     |\n",
            "|    total_timesteps  | 1173612  |\n",
            "| train/              |          |\n",
            "|    actor_loss       | 3.75     |\n",
            "|    critic_loss      | 2.12     |\n",
            "|    learning_rate    | 0.0003   |\n",
            "|    n_updates        | 525603   |\n",
            "----------------------------------\n"
          ]
        },
        {
          "name": "stdout",
          "output_type": "stream",
          "text": [
            "----------------------------------\n",
            "| custom/             |          |\n",
            "|    avg_reward_100ep | 81.21696 |\n",
            "| rollout/            |          |\n",
            "|    ep_len_mean      | 963      |\n",
            "|    ep_rew_mean      | 81.2     |\n",
            "| time/               |          |\n",
            "|    episodes         | 1496     |\n",
            "|    fps              | 563      |\n",
            "|    time_elapsed     | 2087     |\n",
            "|    total_timesteps  | 1176864  |\n",
            "| train/              |          |\n",
            "|    actor_loss       | 5.37     |\n",
            "|    critic_loss      | 1.44     |\n",
            "|    learning_rate    | 0.0003   |\n",
            "|    n_updates        | 526145   |\n",
            "----------------------------------\n"
          ]
        },
        {
          "name": "stdout",
          "output_type": "stream",
          "text": [
            "----------------------------------\n",
            "| custom/             |          |\n",
            "|    avg_reward_100ep | 81.77634 |\n",
            "| rollout/            |          |\n",
            "|    ep_len_mean      | 963      |\n",
            "|    ep_rew_mean      | 81.8     |\n",
            "| time/               |          |\n",
            "|    episodes         | 1500     |\n",
            "|    fps              | 563      |\n",
            "|    time_elapsed     | 2092     |\n",
            "|    total_timesteps  | 1180068  |\n",
            "| train/              |          |\n",
            "|    actor_loss       | 3.63     |\n",
            "|    critic_loss      | 2.25     |\n",
            "|    learning_rate    | 0.0003   |\n",
            "|    n_updates        | 526679   |\n",
            "----------------------------------\n"
          ]
        },
        {
          "name": "stdout",
          "output_type": "stream",
          "text": [
            "----------------------------------\n",
            "| custom/             |          |\n",
            "|    avg_reward_100ep | 76.78466 |\n",
            "| rollout/            |          |\n",
            "|    ep_len_mean      | 948      |\n",
            "|    ep_rew_mean      | 76.8     |\n",
            "| time/               |          |\n",
            "|    episodes         | 1504     |\n",
            "|    fps              | 563      |\n",
            "|    time_elapsed     | 2097     |\n",
            "|    total_timesteps  | 1182912  |\n",
            "| train/              |          |\n",
            "|    actor_loss       | 4.19     |\n",
            "|    critic_loss      | 2.78     |\n",
            "|    learning_rate    | 0.0003   |\n",
            "|    n_updates        | 527153   |\n",
            "----------------------------------\n"
          ]
        },
        {
          "name": "stdout",
          "output_type": "stream",
          "text": [
            "----------------------------------\n",
            "| custom/             |          |\n",
            "|    avg_reward_100ep | 78.66899 |\n",
            "| rollout/            |          |\n",
            "|    ep_len_mean      | 950      |\n",
            "|    ep_rew_mean      | 78.7     |\n",
            "| time/               |          |\n",
            "|    episodes         | 1508     |\n",
            "|    fps              | 564      |\n",
            "|    time_elapsed     | 2106     |\n",
            "|    total_timesteps  | 1188330  |\n",
            "| train/              |          |\n",
            "|    actor_loss       | 5.34     |\n",
            "|    critic_loss      | 2.7      |\n",
            "|    learning_rate    | 0.0003   |\n",
            "|    n_updates        | 528056   |\n",
            "----------------------------------\n"
          ]
        },
        {
          "name": "stdout",
          "output_type": "stream",
          "text": [
            "----------------------------------\n",
            "| custom/             |          |\n",
            "|    avg_reward_100ep | 78.52338 |\n",
            "| rollout/            |          |\n",
            "|    ep_len_mean      | 950      |\n",
            "|    ep_rew_mean      | 78.5     |\n",
            "| time/               |          |\n",
            "|    episodes         | 1512     |\n",
            "|    fps              | 564      |\n",
            "|    time_elapsed     | 2112     |\n",
            "|    total_timesteps  | 1191474  |\n",
            "| train/              |          |\n",
            "|    actor_loss       | 4.1      |\n",
            "|    critic_loss      | 1.3      |\n",
            "|    learning_rate    | 0.0003   |\n",
            "|    n_updates        | 528580   |\n",
            "----------------------------------\n"
          ]
        },
        {
          "name": "stdout",
          "output_type": "stream",
          "text": [
            "-----------------------------------\n",
            "| custom/             |           |\n",
            "|    avg_reward_100ep | 80.413826 |\n",
            "| rollout/            |           |\n",
            "|    ep_len_mean      | 946       |\n",
            "|    ep_rew_mean      | 80.4      |\n",
            "| time/               |           |\n",
            "|    episodes         | 1516      |\n",
            "|    fps              | 564       |\n",
            "|    time_elapsed     | 2117      |\n",
            "|    total_timesteps  | 1194582   |\n",
            "| train/              |           |\n",
            "|    actor_loss       | 4.46      |\n",
            "|    critic_loss      | 1.08      |\n",
            "|    learning_rate    | 0.0003    |\n",
            "|    n_updates        | 529098    |\n",
            "-----------------------------------\n"
          ]
        },
        {
          "name": "stdout",
          "output_type": "stream",
          "text": [
            "----------------------------------\n",
            "| custom/             |          |\n",
            "|    avg_reward_100ep | 77.58968 |\n",
            "| rollout/            |          |\n",
            "|    ep_len_mean      | 946      |\n",
            "|    ep_rew_mean      | 77.6     |\n",
            "| time/               |          |\n",
            "|    episodes         | 1520     |\n",
            "|    fps              | 564      |\n",
            "|    time_elapsed     | 2124     |\n",
            "|    total_timesteps  | 1198698  |\n",
            "| train/              |          |\n",
            "|    actor_loss       | 4.24     |\n",
            "|    critic_loss      | 3.49     |\n",
            "|    learning_rate    | 0.0003   |\n",
            "|    n_updates        | 529784   |\n",
            "----------------------------------\n"
          ]
        },
        {
          "data": {
            "text/html": [
              "<pre style=\"white-space:pre;overflow-x:auto;line-height:normal;font-family:Menlo,'DejaVu Sans Mono',consolas,'Courier New',monospace\">Eval num_timesteps=1200000, episode_reward=119.62 +/- 78.87\n",
              "</pre>\n"
            ],
            "text/plain": [
              "Eval num_timesteps=1200000, episode_reward=119.62 +/- 78.87\n"
            ]
          },
          "metadata": {},
          "output_type": "display_data"
        },
        {
          "data": {
            "text/html": [
              "<pre style=\"white-space:pre;overflow-x:auto;line-height:normal;font-family:Menlo,'DejaVu Sans Mono',consolas,'Courier New',monospace\">Episode length: 1000.00 +/- 0.00\n",
              "</pre>\n"
            ],
            "text/plain": [
              "Episode length: 1000.00 +/- 0.00\n"
            ]
          },
          "metadata": {},
          "output_type": "display_data"
        },
        {
          "name": "stdout",
          "output_type": "stream",
          "text": [
            "---------------------------------\n",
            "| eval/              |          |\n",
            "|    mean_ep_length  | 1e+03    |\n",
            "|    mean_reward     | 120      |\n",
            "| time/              |          |\n",
            "|    total_timesteps | 1200000  |\n",
            "| train/             |          |\n",
            "|    actor_loss      | 4.54     |\n",
            "|    critic_loss     | 1.63     |\n",
            "|    learning_rate   | 0.0003   |\n",
            "|    n_updates       | 530001   |\n",
            "---------------------------------\n"
          ]
        },
        {
          "data": {
            "text/html": [
              "<pre style=\"white-space:pre;overflow-x:auto;line-height:normal;font-family:Menlo,'DejaVu Sans Mono',consolas,'Courier New',monospace\">New best mean reward!\n",
              "</pre>\n"
            ],
            "text/plain": [
              "New best mean reward!\n"
            ]
          },
          "metadata": {},
          "output_type": "display_data"
        },
        {
          "name": "stdout",
          "output_type": "stream",
          "text": [
            "----------------------------------\n",
            "| custom/             |          |\n",
            "|    avg_reward_100ep | 81.70752 |\n",
            "| rollout/            |          |\n",
            "|    ep_len_mean      | 949      |\n",
            "|    ep_rew_mean      | 81.7     |\n",
            "| time/               |          |\n",
            "|    episodes         | 1524     |\n",
            "|    fps              | 563      |\n",
            "|    time_elapsed     | 2136     |\n",
            "|    total_timesteps  | 1203264  |\n",
            "| train/              |          |\n",
            "|    actor_loss       | 3.51     |\n",
            "|    critic_loss      | 1.31     |\n",
            "|    learning_rate    | 0.0003   |\n",
            "|    n_updates        | 530545   |\n",
            "----------------------------------\n"
          ]
        },
        {
          "name": "stdout",
          "output_type": "stream",
          "text": [
            "----------------------------------\n",
            "| custom/             |          |\n",
            "|    avg_reward_100ep | 82.18052 |\n",
            "| rollout/            |          |\n",
            "|    ep_len_mean      | 949      |\n",
            "|    ep_rew_mean      | 82.2     |\n",
            "| time/               |          |\n",
            "|    episodes         | 1528     |\n",
            "|    fps              | 563      |\n",
            "|    time_elapsed     | 2142     |\n",
            "|    total_timesteps  | 1206582  |\n",
            "| train/              |          |\n",
            "|    actor_loss       | 7.05     |\n",
            "|    critic_loss      | 2.69     |\n",
            "|    learning_rate    | 0.0003   |\n",
            "|    n_updates        | 531098   |\n",
            "----------------------------------\n"
          ]
        },
        {
          "name": "stdout",
          "output_type": "stream",
          "text": [
            "----------------------------------\n",
            "| custom/             |          |\n",
            "|    avg_reward_100ep | 83.41357 |\n",
            "| rollout/            |          |\n",
            "|    ep_len_mean      | 949      |\n",
            "|    ep_rew_mean      | 83.4     |\n",
            "| time/               |          |\n",
            "|    episodes         | 1532     |\n",
            "|    fps              | 563      |\n",
            "|    time_elapsed     | 2149     |\n",
            "|    total_timesteps  | 1210494  |\n",
            "| train/              |          |\n",
            "|    actor_loss       | 3.92     |\n",
            "|    critic_loss      | 1.66     |\n",
            "|    learning_rate    | 0.0003   |\n",
            "|    n_updates        | 531750   |\n",
            "----------------------------------\n"
          ]
        },
        {
          "name": "stdout",
          "output_type": "stream",
          "text": [
            "----------------------------------\n",
            "| custom/             |          |\n",
            "|    avg_reward_100ep | 84.01399 |\n",
            "| rollout/            |          |\n",
            "|    ep_len_mean      | 947      |\n",
            "|    ep_rew_mean      | 84       |\n",
            "| time/               |          |\n",
            "|    episodes         | 1536     |\n",
            "|    fps              | 563      |\n",
            "|    time_elapsed     | 2153     |\n",
            "|    total_timesteps  | 1212912  |\n",
            "| train/              |          |\n",
            "|    actor_loss       | 4.71     |\n",
            "|    critic_loss      | 7.77     |\n",
            "|    learning_rate    | 0.0003   |\n",
            "|    n_updates        | 532153   |\n",
            "----------------------------------\n"
          ]
        },
        {
          "name": "stdout",
          "output_type": "stream",
          "text": [
            "-----------------------------------\n",
            "| custom/             |           |\n",
            "|    avg_reward_100ep | 83.010475 |\n",
            "| rollout/            |           |\n",
            "|    ep_len_mean      | 947       |\n",
            "|    ep_rew_mean      | 83        |\n",
            "| time/               |           |\n",
            "|    episodes         | 1540      |\n",
            "|    fps              | 563       |\n",
            "|    time_elapsed     | 2161      |\n",
            "|    total_timesteps  | 1217160   |\n",
            "| train/              |           |\n",
            "|    actor_loss       | 3.14      |\n",
            "|    critic_loss      | 5.32      |\n",
            "|    learning_rate    | 0.0003    |\n",
            "|    n_updates        | 532861    |\n",
            "-----------------------------------\n"
          ]
        },
        {
          "name": "stdout",
          "output_type": "stream",
          "text": [
            "----------------------------------\n",
            "| custom/             |          |\n",
            "|    avg_reward_100ep | 85.67139 |\n",
            "| rollout/            |          |\n",
            "|    ep_len_mean      | 947      |\n",
            "|    ep_rew_mean      | 85.7     |\n",
            "| time/               |          |\n",
            "|    episodes         | 1544     |\n",
            "|    fps              | 563      |\n",
            "|    time_elapsed     | 2170     |\n",
            "|    total_timesteps  | 1222494  |\n",
            "| train/              |          |\n",
            "|    actor_loss       | 3.79     |\n",
            "|    critic_loss      | 2.16     |\n",
            "|    learning_rate    | 0.0003   |\n",
            "|    n_updates        | 533750   |\n",
            "----------------------------------\n"
          ]
        },
        {
          "name": "stdout",
          "output_type": "stream",
          "text": [
            "----------------------------------\n",
            "| custom/             |          |\n",
            "|    avg_reward_100ep | 79.29475 |\n",
            "| rollout/            |          |\n",
            "|    ep_len_mean      | 936      |\n",
            "|    ep_rew_mean      | 79.3     |\n",
            "| time/               |          |\n",
            "|    episodes         | 1548     |\n",
            "|    fps              | 563      |\n",
            "|    time_elapsed     | 2174     |\n",
            "|    total_timesteps  | 1224642  |\n",
            "| train/              |          |\n",
            "|    actor_loss       | 3.86     |\n",
            "|    critic_loss      | 1.5      |\n",
            "|    learning_rate    | 0.0003   |\n",
            "|    n_updates        | 534108   |\n",
            "----------------------------------\n"
          ]
        },
        {
          "name": "stdout",
          "output_type": "stream",
          "text": [
            "-----------------------------------\n",
            "| custom/             |           |\n",
            "|    avg_reward_100ep | 81.208046 |\n",
            "| rollout/            |           |\n",
            "|    ep_len_mean      | 936       |\n",
            "|    ep_rew_mean      | 81.2      |\n",
            "| time/               |           |\n",
            "|    episodes         | 1552      |\n",
            "|    fps              | 563       |\n",
            "|    time_elapsed     | 2181      |\n",
            "|    total_timesteps  | 1228698   |\n",
            "| train/              |           |\n",
            "|    actor_loss       | 4.27      |\n",
            "|    critic_loss      | 2.45      |\n",
            "|    learning_rate    | 0.0003    |\n",
            "|    n_updates        | 534784    |\n",
            "-----------------------------------\n"
          ]
        },
        {
          "data": {
            "text/html": [
              "<pre style=\"white-space:pre;overflow-x:auto;line-height:normal;font-family:Menlo,'DejaVu Sans Mono',consolas,'Courier New',monospace\">Eval num_timesteps=1230000, episode_reward=73.66 +/- 86.64\n",
              "</pre>\n"
            ],
            "text/plain": [
              "Eval num_timesteps=1230000, episode_reward=73.66 +/- 86.64\n"
            ]
          },
          "metadata": {},
          "output_type": "display_data"
        },
        {
          "data": {
            "text/html": [
              "<pre style=\"white-space:pre;overflow-x:auto;line-height:normal;font-family:Menlo,'DejaVu Sans Mono',consolas,'Courier New',monospace\">Episode length: 1000.00 +/- 0.00\n",
              "</pre>\n"
            ],
            "text/plain": [
              "Episode length: 1000.00 +/- 0.00\n"
            ]
          },
          "metadata": {},
          "output_type": "display_data"
        },
        {
          "name": "stdout",
          "output_type": "stream",
          "text": [
            "----------------------------------\n",
            "| custom/             |          |\n",
            "|    avg_reward_100ep | 82.625   |\n",
            "| eval/               |          |\n",
            "|    mean_ep_length   | 1e+03    |\n",
            "|    mean_reward      | 73.7     |\n",
            "| time/               |          |\n",
            "|    total_timesteps  | 1230000  |\n",
            "| train/              |          |\n",
            "|    actor_loss       | 4.87     |\n",
            "|    critic_loss      | 2.15     |\n",
            "|    learning_rate    | 0.0003   |\n",
            "|    n_updates        | 535001   |\n",
            "----------------------------------\n"
          ]
        },
        {
          "name": "stdout",
          "output_type": "stream",
          "text": [
            "----------------------------------\n",
            "| custom/             |          |\n",
            "|    avg_reward_100ep | 80.74592 |\n",
            "| rollout/            |          |\n",
            "|    ep_len_mean      | 936      |\n",
            "|    ep_rew_mean      | 80.7     |\n",
            "| time/               |          |\n",
            "|    episodes         | 1556     |\n",
            "|    fps              | 561      |\n",
            "|    time_elapsed     | 2195     |\n",
            "|    total_timesteps  | 1233474  |\n",
            "| train/              |          |\n",
            "|    actor_loss       | 3.99     |\n",
            "|    critic_loss      | 2.37     |\n",
            "|    learning_rate    | 0.0003   |\n",
            "|    n_updates        | 535580   |\n",
            "----------------------------------\n"
          ]
        },
        {
          "name": "stdout",
          "output_type": "stream",
          "text": [
            "----------------------------------\n",
            "| custom/             |          |\n",
            "|    avg_reward_100ep | 83.39238 |\n",
            "| rollout/            |          |\n",
            "|    ep_len_mean      | 936      |\n",
            "|    ep_rew_mean      | 83.4     |\n",
            "| time/               |          |\n",
            "|    episodes         | 1560     |\n",
            "|    fps              | 561      |\n",
            "|    time_elapsed     | 2200     |\n",
            "|    total_timesteps  | 1236642  |\n",
            "| train/              |          |\n",
            "|    actor_loss       | 4.6      |\n",
            "|    critic_loss      | 2.85     |\n",
            "|    learning_rate    | 0.0003   |\n",
            "|    n_updates        | 536108   |\n",
            "----------------------------------\n"
          ]
        },
        {
          "name": "stdout",
          "output_type": "stream",
          "text": [
            "----------------------------------\n",
            "| custom/             |          |\n",
            "|    avg_reward_100ep | 81.14786 |\n",
            "| rollout/            |          |\n",
            "|    ep_len_mean      | 933      |\n",
            "|    ep_rew_mean      | 81.1     |\n",
            "| time/               |          |\n",
            "|    episodes         | 1564     |\n",
            "|    fps              | 561      |\n",
            "|    time_elapsed     | 2207     |\n",
            "|    total_timesteps  | 1240494  |\n",
            "| train/              |          |\n",
            "|    actor_loss       | 3.21     |\n",
            "|    critic_loss      | 2.34     |\n",
            "|    learning_rate    | 0.0003   |\n",
            "|    n_updates        | 536750   |\n",
            "----------------------------------\n"
          ]
        },
        {
          "name": "stdout",
          "output_type": "stream",
          "text": [
            "-----------------------------------\n",
            "| custom/             |           |\n",
            "|    avg_reward_100ep | 82.078705 |\n",
            "| rollout/            |           |\n",
            "|    ep_len_mean      | 933       |\n",
            "|    ep_rew_mean      | 82.1      |\n",
            "| time/               |           |\n",
            "|    episodes         | 1568      |\n",
            "|    fps              | 561       |\n",
            "|    time_elapsed     | 2215      |\n",
            "|    total_timesteps  | 1245054   |\n",
            "| train/              |           |\n",
            "|    actor_loss       | 5.67      |\n",
            "|    critic_loss      | 3.41      |\n",
            "|    learning_rate    | 0.0003    |\n",
            "|    n_updates        | 537510    |\n",
            "-----------------------------------\n"
          ]
        },
        {
          "name": "stdout",
          "output_type": "stream",
          "text": [
            "----------------------------------\n",
            "| custom/             |          |\n",
            "|    avg_reward_100ep | 80.49848 |\n",
            "| rollout/            |          |\n",
            "|    ep_len_mean      | 933      |\n",
            "|    ep_rew_mean      | 80.5     |\n",
            "| time/               |          |\n",
            "|    episodes         | 1572     |\n",
            "|    fps              | 561      |\n",
            "|    time_elapsed     | 2218     |\n",
            "|    total_timesteps  | 1246812  |\n",
            "| train/              |          |\n",
            "|    actor_loss       | 3.94     |\n",
            "|    critic_loss      | 2.1      |\n",
            "|    learning_rate    | 0.0003   |\n",
            "|    n_updates        | 537803   |\n",
            "----------------------------------\n"
          ]
        },
        {
          "name": "stdout",
          "output_type": "stream",
          "text": [
            "----------------------------------\n",
            "| custom/             |          |\n",
            "|    avg_reward_100ep | 80.84411 |\n",
            "| rollout/            |          |\n",
            "|    ep_len_mean      | 929      |\n",
            "|    ep_rew_mean      | 80.8     |\n",
            "| time/               |          |\n",
            "|    episodes         | 1576     |\n",
            "|    fps              | 561      |\n",
            "|    time_elapsed     | 2226     |\n",
            "|    total_timesteps  | 1251054  |\n",
            "| train/              |          |\n",
            "|    actor_loss       | 2.78     |\n",
            "|    critic_loss      | 1.82     |\n",
            "|    learning_rate    | 0.0003   |\n",
            "|    n_updates        | 538510   |\n",
            "----------------------------------\n"
          ]
        },
        {
          "name": "stdout",
          "output_type": "stream",
          "text": [
            "----------------------------------\n",
            "| custom/             |          |\n",
            "|    avg_reward_100ep | 82.95925 |\n",
            "| rollout/            |          |\n",
            "|    ep_len_mean      | 929      |\n",
            "|    ep_rew_mean      | 83       |\n",
            "| time/               |          |\n",
            "|    episodes         | 1580     |\n",
            "|    fps              | 561      |\n",
            "|    time_elapsed     | 2235     |\n",
            "|    total_timesteps  | 1255968  |\n",
            "| train/              |          |\n",
            "|    actor_loss       | 5.11     |\n",
            "|    critic_loss      | 3.78     |\n",
            "|    learning_rate    | 0.0003   |\n",
            "|    n_updates        | 539329   |\n",
            "----------------------------------\n"
          ]
        },
        {
          "name": "stdout",
          "output_type": "stream",
          "text": [
            "----------------------------------\n",
            "| custom/             |          |\n",
            "|    avg_reward_100ep | 79.11566 |\n",
            "| rollout/            |          |\n",
            "|    ep_len_mean      | 927      |\n",
            "|    ep_rew_mean      | 79.1     |\n",
            "| time/               |          |\n",
            "|    episodes         | 1584     |\n",
            "|    fps              | 561      |\n",
            "|    time_elapsed     | 2239     |\n",
            "|    total_timesteps  | 1258698  |\n",
            "| train/              |          |\n",
            "|    actor_loss       | 2.57     |\n",
            "|    critic_loss      | 1.15     |\n",
            "|    learning_rate    | 0.0003   |\n",
            "|    n_updates        | 539784   |\n",
            "----------------------------------\n"
          ]
        },
        {
          "data": {
            "text/html": [
              "<pre style=\"white-space:pre;overflow-x:auto;line-height:normal;font-family:Menlo,'DejaVu Sans Mono',consolas,'Courier New',monospace\">Eval num_timesteps=1260000, episode_reward=94.64 +/- 71.06\n",
              "</pre>\n"
            ],
            "text/plain": [
              "Eval num_timesteps=1260000, episode_reward=94.64 +/- 71.06\n"
            ]
          },
          "metadata": {},
          "output_type": "display_data"
        },
        {
          "data": {
            "text/html": [
              "<pre style=\"white-space:pre;overflow-x:auto;line-height:normal;font-family:Menlo,'DejaVu Sans Mono',consolas,'Courier New',monospace\">Episode length: 1000.00 +/- 0.00\n",
              "</pre>\n"
            ],
            "text/plain": [
              "Episode length: 1000.00 +/- 0.00\n"
            ]
          },
          "metadata": {},
          "output_type": "display_data"
        },
        {
          "name": "stdout",
          "output_type": "stream",
          "text": [
            "----------------------------------\n",
            "| custom/             |          |\n",
            "|    avg_reward_100ep | 81.2699  |\n",
            "| eval/               |          |\n",
            "|    mean_ep_length   | 1e+03    |\n",
            "|    mean_reward      | 94.6     |\n",
            "| time/               |          |\n",
            "|    total_timesteps  | 1260000  |\n",
            "| train/              |          |\n",
            "|    actor_loss       | 3.28     |\n",
            "|    critic_loss      | 3.95     |\n",
            "|    learning_rate    | 0.0003   |\n",
            "|    n_updates        | 540001   |\n",
            "----------------------------------\n"
          ]
        },
        {
          "name": "stdout",
          "output_type": "stream",
          "text": [
            "----------------------------------\n",
            "| custom/             |          |\n",
            "|    avg_reward_100ep | 81.2875  |\n",
            "| rollout/            |          |\n",
            "|    ep_len_mean      | 929      |\n",
            "|    ep_rew_mean      | 81.3     |\n",
            "| time/               |          |\n",
            "|    episodes         | 1588     |\n",
            "|    fps              | 560      |\n",
            "|    time_elapsed     | 2252     |\n",
            "|    total_timesteps  | 1262844  |\n",
            "| train/              |          |\n",
            "|    actor_loss       | 4        |\n",
            "|    critic_loss      | 1.08     |\n",
            "|    learning_rate    | 0.0003   |\n",
            "|    n_updates        | 540475   |\n",
            "----------------------------------\n"
          ]
        },
        {
          "name": "stdout",
          "output_type": "stream",
          "text": [
            "----------------------------------\n",
            "| custom/             |          |\n",
            "|    avg_reward_100ep | 84.34251 |\n",
            "| rollout/            |          |\n",
            "|    ep_len_mean      | 933      |\n",
            "|    ep_rew_mean      | 84.3     |\n",
            "| time/               |          |\n",
            "|    episodes         | 1592     |\n",
            "|    fps              | 560      |\n",
            "|    time_elapsed     | 2260     |\n",
            "|    total_timesteps  | 1267968  |\n",
            "| train/              |          |\n",
            "|    actor_loss       | 3.04     |\n",
            "|    critic_loss      | 3.15     |\n",
            "|    learning_rate    | 0.0003   |\n",
            "|    n_updates        | 541329   |\n",
            "----------------------------------\n"
          ]
        },
        {
          "name": "stdout",
          "output_type": "stream",
          "text": [
            "-----------------------------------\n",
            "| custom/             |           |\n",
            "|    avg_reward_100ep | 83.338936 |\n",
            "| rollout/            |           |\n",
            "|    ep_len_mean      | 939       |\n",
            "|    ep_rew_mean      | 83.3      |\n",
            "| time/               |           |\n",
            "|    episodes         | 1596      |\n",
            "|    fps              | 560       |\n",
            "|    time_elapsed     | 2265      |\n",
            "|    total_timesteps  | 1270698   |\n",
            "| train/              |           |\n",
            "|    actor_loss       | 4.62      |\n",
            "|    critic_loss      | 3.84      |\n",
            "|    learning_rate    | 0.0003    |\n",
            "|    n_updates        | 541784    |\n",
            "-----------------------------------\n"
          ]
        },
        {
          "name": "stdout",
          "output_type": "stream",
          "text": [
            "-----------------------------------\n",
            "| custom/             |           |\n",
            "|    avg_reward_100ep | 84.589035 |\n",
            "| rollout/            |           |\n",
            "|    ep_len_mean      | 939       |\n",
            "|    ep_rew_mean      | 84.6      |\n",
            "| time/               |           |\n",
            "|    episodes         | 1600      |\n",
            "|    fps              | 560       |\n",
            "|    time_elapsed     | 2272      |\n",
            "|    total_timesteps  | 1274844   |\n",
            "| train/              |           |\n",
            "|    actor_loss       | 3.06      |\n",
            "|    critic_loss      | 1.59      |\n",
            "|    learning_rate    | 0.0003    |\n",
            "|    n_updates        | 542475    |\n",
            "-----------------------------------\n"
          ]
        },
        {
          "name": "stdout",
          "output_type": "stream",
          "text": [
            "----------------------------------\n",
            "| custom/             |          |\n",
            "|    avg_reward_100ep | 89.95281 |\n",
            "| rollout/            |          |\n",
            "|    ep_len_mean      | 955      |\n",
            "|    ep_rew_mean      | 90       |\n",
            "| time/               |          |\n",
            "|    episodes         | 1604     |\n",
            "|    fps              | 561      |\n",
            "|    time_elapsed     | 2281     |\n",
            "|    total_timesteps  | 1279968  |\n",
            "| train/              |          |\n",
            "|    actor_loss       | 3.02     |\n",
            "|    critic_loss      | 3.67     |\n",
            "|    learning_rate    | 0.0003   |\n",
            "|    n_updates        | 543329   |\n",
            "----------------------------------\n"
          ]
        },
        {
          "name": "stdout",
          "output_type": "stream",
          "text": [
            "----------------------------------\n",
            "| custom/             |          |\n",
            "|    avg_reward_100ep | 89.32156 |\n",
            "| rollout/            |          |\n",
            "|    ep_len_mean      | 956      |\n",
            "|    ep_rew_mean      | 89.3     |\n",
            "| time/               |          |\n",
            "|    episodes         | 1608     |\n",
            "|    fps              | 561      |\n",
            "|    time_elapsed     | 2285     |\n",
            "|    total_timesteps  | 1282698  |\n",
            "| train/              |          |\n",
            "|    actor_loss       | 3.41     |\n",
            "|    critic_loss      | 1.22     |\n",
            "|    learning_rate    | 0.0003   |\n",
            "|    n_updates        | 543784   |\n",
            "----------------------------------\n"
          ]
        },
        {
          "name": "stdout",
          "output_type": "stream",
          "text": [
            "----------------------------------\n",
            "| custom/             |          |\n",
            "|    avg_reward_100ep | 87.86345 |\n",
            "| rollout/            |          |\n",
            "|    ep_len_mean      | 956      |\n",
            "|    ep_rew_mean      | 87.9     |\n",
            "| time/               |          |\n",
            "|    episodes         | 1612     |\n",
            "|    fps              | 561      |\n",
            "|    time_elapsed     | 2292     |\n",
            "|    total_timesteps  | 1286844  |\n",
            "| train/              |          |\n",
            "|    actor_loss       | 3.43     |\n",
            "|    critic_loss      | 2.23     |\n",
            "|    learning_rate    | 0.0003   |\n",
            "|    n_updates        | 544475   |\n",
            "----------------------------------\n"
          ]
        },
        {
          "data": {
            "text/html": [
              "<pre style=\"white-space:pre;overflow-x:auto;line-height:normal;font-family:Menlo,'DejaVu Sans Mono',consolas,'Courier New',monospace\">Eval num_timesteps=1290000, episode_reward=17.06 +/- 83.66\n",
              "</pre>\n"
            ],
            "text/plain": [
              "Eval num_timesteps=1290000, episode_reward=17.06 +/- 83.66\n"
            ]
          },
          "metadata": {},
          "output_type": "display_data"
        },
        {
          "data": {
            "text/html": [
              "<pre style=\"white-space:pre;overflow-x:auto;line-height:normal;font-family:Menlo,'DejaVu Sans Mono',consolas,'Courier New',monospace\">Episode length: 852.00 +/- 296.00\n",
              "</pre>\n"
            ],
            "text/plain": [
              "Episode length: 852.00 +/- 296.00\n"
            ]
          },
          "metadata": {},
          "output_type": "display_data"
        },
        {
          "name": "stdout",
          "output_type": "stream",
          "text": [
            "----------------------------------\n",
            "| custom/             |          |\n",
            "|    avg_reward_100ep | 88.30803 |\n",
            "| eval/               |          |\n",
            "|    mean_ep_length   | 852      |\n",
            "|    mean_reward      | 17.1     |\n",
            "| time/               |          |\n",
            "|    total_timesteps  | 1290000  |\n",
            "| train/              |          |\n",
            "|    actor_loss       | 3.09     |\n",
            "|    critic_loss      | 2.85     |\n",
            "|    learning_rate    | 0.0003   |\n",
            "|    n_updates        | 545001   |\n",
            "----------------------------------\n"
          ]
        },
        {
          "name": "stdout",
          "output_type": "stream",
          "text": [
            "-----------------------------------\n",
            "| custom/             |           |\n",
            "|    avg_reward_100ep | 87.507324 |\n",
            "| rollout/            |           |\n",
            "|    ep_len_mean      | 960       |\n",
            "|    ep_rew_mean      | 87.5      |\n",
            "| time/               |           |\n",
            "|    episodes         | 1616      |\n",
            "|    fps              | 560       |\n",
            "|    time_elapsed     | 2305      |\n",
            "|    total_timesteps  | 1291968   |\n",
            "| train/              |           |\n",
            "|    actor_loss       | 3.94      |\n",
            "|    critic_loss      | 1.24      |\n",
            "|    learning_rate    | 0.0003    |\n",
            "|    n_updates        | 545329    |\n",
            "-----------------------------------\n"
          ]
        },
        {
          "name": "stdout",
          "output_type": "stream",
          "text": [
            "----------------------------------\n",
            "| custom/             |          |\n",
            "|    avg_reward_100ep | 88.75151 |\n",
            "| rollout/            |          |\n",
            "|    ep_len_mean      | 960      |\n",
            "|    ep_rew_mean      | 88.8     |\n",
            "| time/               |          |\n",
            "|    episodes         | 1620     |\n",
            "|    fps              | 560      |\n",
            "|    time_elapsed     | 2310     |\n",
            "|    total_timesteps  | 1294698  |\n",
            "| train/              |          |\n",
            "|    actor_loss       | 3.26     |\n",
            "|    critic_loss      | 1.55     |\n",
            "|    learning_rate    | 0.0003   |\n",
            "|    n_updates        | 545784   |\n",
            "----------------------------------\n"
          ]
        },
        {
          "name": "stdout",
          "output_type": "stream",
          "text": [
            "----------------------------------\n",
            "| custom/             |          |\n",
            "|    avg_reward_100ep | 87.68008 |\n",
            "| rollout/            |          |\n",
            "|    ep_len_mean      | 956      |\n",
            "|    ep_rew_mean      | 87.7     |\n",
            "| time/               |          |\n",
            "|    episodes         | 1624     |\n",
            "|    fps              | 560      |\n",
            "|    time_elapsed     | 2317     |\n",
            "|    total_timesteps  | 1298844  |\n",
            "| train/              |          |\n",
            "|    actor_loss       | 4.89     |\n",
            "|    critic_loss      | 4.05     |\n",
            "|    learning_rate    | 0.0003   |\n",
            "|    n_updates        | 546475   |\n",
            "----------------------------------\n"
          ]
        },
        {
          "name": "stdout",
          "output_type": "stream",
          "text": [
            "----------------------------------\n",
            "| custom/             |          |\n",
            "|    avg_reward_100ep | 86.81138 |\n",
            "| rollout/            |          |\n",
            "|    ep_len_mean      | 956      |\n",
            "|    ep_rew_mean      | 86.8     |\n",
            "| time/               |          |\n",
            "|    episodes         | 1628     |\n",
            "|    fps              | 560      |\n",
            "|    time_elapsed     | 2322     |\n",
            "|    total_timesteps  | 1301760  |\n",
            "| train/              |          |\n",
            "|    actor_loss       | 3.27     |\n",
            "|    critic_loss      | 1.35     |\n",
            "|    learning_rate    | 0.0003   |\n",
            "|    n_updates        | 546961   |\n",
            "----------------------------------\n"
          ]
        },
        {
          "name": "stdout",
          "output_type": "stream",
          "text": [
            "-----------------------------------\n",
            "| custom/             |           |\n",
            "|    avg_reward_100ep | 85.859795 |\n",
            "| rollout/            |           |\n",
            "|    ep_len_mean      | 959       |\n",
            "|    ep_rew_mean      | 85.9      |\n",
            "| time/               |           |\n",
            "|    episodes         | 1632      |\n",
            "|    fps              | 560       |\n",
            "|    time_elapsed     | 2330      |\n",
            "|    total_timesteps  | 1306698   |\n",
            "| train/              |           |\n",
            "|    actor_loss       | 2.63      |\n",
            "|    critic_loss      | 2.4       |\n",
            "|    learning_rate    | 0.0003    |\n",
            "|    n_updates        | 547784    |\n",
            "-----------------------------------\n"
          ]
        },
        {
          "name": "stdout",
          "output_type": "stream",
          "text": [
            "----------------------------------\n",
            "| custom/             |          |\n",
            "|    avg_reward_100ep | 87.35474 |\n",
            "| rollout/            |          |\n",
            "|    ep_len_mean      | 961      |\n",
            "|    ep_rew_mean      | 87.4     |\n",
            "| time/               |          |\n",
            "|    episodes         | 1636     |\n",
            "|    fps              | 560      |\n",
            "|    time_elapsed     | 2336     |\n",
            "|    total_timesteps  | 1309968  |\n",
            "| train/              |          |\n",
            "|    actor_loss       | 2.24     |\n",
            "|    critic_loss      | 3.71     |\n",
            "|    learning_rate    | 0.0003   |\n",
            "|    n_updates        | 548329   |\n",
            "----------------------------------\n"
          ]
        },
        {
          "name": "stdout",
          "output_type": "stream",
          "text": [
            "----------------------------------\n",
            "| custom/             |          |\n",
            "|    avg_reward_100ep | 89.98204 |\n",
            "| rollout/            |          |\n",
            "|    ep_len_mean      | 961      |\n",
            "|    ep_rew_mean      | 90       |\n",
            "| time/               |          |\n",
            "|    episodes         | 1640     |\n",
            "|    fps              | 560      |\n",
            "|    time_elapsed     | 2342     |\n",
            "|    total_timesteps  | 1313760  |\n",
            "| train/              |          |\n",
            "|    actor_loss       | 3.29     |\n",
            "|    critic_loss      | 3.53     |\n",
            "|    learning_rate    | 0.0003   |\n",
            "|    n_updates        | 548961   |\n",
            "----------------------------------\n"
          ]
        },
        {
          "name": "stdout",
          "output_type": "stream",
          "text": [
            "----------------------------------\n",
            "| custom/             |          |\n",
            "|    avg_reward_100ep | 84.74155 |\n",
            "| rollout/            |          |\n",
            "|    ep_len_mean      | 953      |\n",
            "|    ep_rew_mean      | 84.7     |\n",
            "| time/               |          |\n",
            "|    episodes         | 1644     |\n",
            "|    fps              | 560      |\n",
            "|    time_elapsed     | 2348     |\n",
            "|    total_timesteps  | 1317300  |\n",
            "| train/              |          |\n",
            "|    actor_loss       | 2.56     |\n",
            "|    critic_loss      | 4.9      |\n",
            "|    learning_rate    | 0.0003   |\n",
            "|    n_updates        | 549551   |\n",
            "----------------------------------\n"
          ]
        },
        {
          "name": "stdout",
          "output_type": "stream",
          "text": [
            "----------------------------------\n",
            "| custom/             |          |\n",
            "|    avg_reward_100ep | 88.28489 |\n",
            "| rollout/            |          |\n",
            "|    ep_len_mean      | 964      |\n",
            "|    ep_rew_mean      | 88.3     |\n",
            "| time/               |          |\n",
            "|    episodes         | 1648     |\n",
            "|    fps              | 560      |\n",
            "|    time_elapsed     | 2353     |\n",
            "|    total_timesteps  | 1319778  |\n",
            "| train/              |          |\n",
            "|    actor_loss       | 3.6      |\n",
            "|    critic_loss      | 1.95     |\n",
            "|    learning_rate    | 0.0003   |\n",
            "|    n_updates        | 549964   |\n",
            "----------------------------------\n"
          ]
        },
        {
          "data": {
            "text/html": [
              "<pre style=\"white-space:pre;overflow-x:auto;line-height:normal;font-family:Menlo,'DejaVu Sans Mono',consolas,'Courier New',monospace\">Eval num_timesteps=1320000, episode_reward=59.95 +/- 61.88\n",
              "</pre>\n"
            ],
            "text/plain": [
              "Eval num_timesteps=1320000, episode_reward=59.95 +/- 61.88\n"
            ]
          },
          "metadata": {},
          "output_type": "display_data"
        },
        {
          "data": {
            "text/html": [
              "<pre style=\"white-space:pre;overflow-x:auto;line-height:normal;font-family:Menlo,'DejaVu Sans Mono',consolas,'Courier New',monospace\">Episode length: 983.00 +/- 34.00\n",
              "</pre>\n"
            ],
            "text/plain": [
              "Episode length: 983.00 +/- 34.00\n"
            ]
          },
          "metadata": {},
          "output_type": "display_data"
        },
        {
          "name": "stdout",
          "output_type": "stream",
          "text": [
            "---------------------------------\n",
            "| eval/              |          |\n",
            "|    mean_ep_length  | 983      |\n",
            "|    mean_reward     | 60       |\n",
            "| time/              |          |\n",
            "|    total_timesteps | 1320000  |\n",
            "| train/             |          |\n",
            "|    actor_loss      | 1.69     |\n",
            "|    critic_loss     | 1.22     |\n",
            "|    learning_rate   | 0.0003   |\n",
            "|    n_updates       | 550001   |\n",
            "---------------------------------\n"
          ]
        },
        {
          "name": "stdout",
          "output_type": "stream",
          "text": [
            "----------------------------------\n",
            "| custom/             |          |\n",
            "|    avg_reward_100ep | 86.96451 |\n",
            "| rollout/            |          |\n",
            "|    ep_len_mean      | 964      |\n",
            "|    ep_rew_mean      | 87       |\n",
            "| time/               |          |\n",
            "|    episodes         | 1652     |\n",
            "|    fps              | 559      |\n",
            "|    time_elapsed     | 2366     |\n",
            "|    total_timesteps  | 1324812  |\n",
            "| train/              |          |\n",
            "|    actor_loss       | 2.37     |\n",
            "|    critic_loss      | 2.4      |\n",
            "|    learning_rate    | 0.0003   |\n",
            "|    n_updates        | 550803   |\n",
            "----------------------------------\n"
          ]
        },
        {
          "name": "stdout",
          "output_type": "stream",
          "text": [
            "----------------------------------\n",
            "| custom/             |          |\n",
            "|    avg_reward_100ep | 90.0311  |\n",
            "| rollout/            |          |\n",
            "|    ep_len_mean      | 964      |\n",
            "|    ep_rew_mean      | 90       |\n",
            "| time/               |          |\n",
            "|    episodes         | 1656     |\n",
            "|    fps              | 559      |\n",
            "|    time_elapsed     | 2374     |\n",
            "|    total_timesteps  | 1329300  |\n",
            "| train/              |          |\n",
            "|    actor_loss       | 2.38     |\n",
            "|    critic_loss      | 1.1      |\n",
            "|    learning_rate    | 0.0003   |\n",
            "|    n_updates        | 551551   |\n",
            "----------------------------------\n"
          ]
        },
        {
          "name": "stdout",
          "output_type": "stream",
          "text": [
            "-----------------------------------\n",
            "| custom/             |           |\n",
            "|    avg_reward_100ep | 89.494316 |\n",
            "| rollout/            |           |\n",
            "|    ep_len_mean      | 964       |\n",
            "|    ep_rew_mean      | 89.5      |\n",
            "| time/               |           |\n",
            "|    episodes         | 1660      |\n",
            "|    fps              | 559       |\n",
            "|    time_elapsed     | 2378      |\n",
            "|    total_timesteps  | 1331778   |\n",
            "| train/              |           |\n",
            "|    actor_loss       | 2.13      |\n",
            "|    critic_loss      | 4.77      |\n",
            "|    learning_rate    | 0.0003    |\n",
            "|    n_updates        | 551964    |\n",
            "-----------------------------------\n"
          ]
        },
        {
          "name": "stdout",
          "output_type": "stream",
          "text": [
            "----------------------------------\n",
            "| custom/             |          |\n",
            "|    avg_reward_100ep | 95.0475  |\n",
            "| rollout/            |          |\n",
            "|    ep_len_mean      | 970      |\n",
            "|    ep_rew_mean      | 95       |\n",
            "| time/               |          |\n",
            "|    episodes         | 1664     |\n",
            "|    fps              | 560      |\n",
            "|    time_elapsed     | 2386     |\n",
            "|    total_timesteps  | 1336812  |\n",
            "| train/              |          |\n",
            "|    actor_loss       | 1.63     |\n",
            "|    critic_loss      | 1.07     |\n",
            "|    learning_rate    | 0.0003   |\n",
            "|    n_updates        | 552803   |\n",
            "----------------------------------\n"
          ]
        },
        {
          "name": "stdout",
          "output_type": "stream",
          "text": [
            "----------------------------------\n",
            "| custom/             |          |\n",
            "|    avg_reward_100ep | 92.43638 |\n",
            "| rollout/            |          |\n",
            "|    ep_len_mean      | 970      |\n",
            "|    ep_rew_mean      | 92.4     |\n",
            "| time/               |          |\n",
            "|    episodes         | 1668     |\n",
            "|    fps              | 560      |\n",
            "|    time_elapsed     | 2394     |\n",
            "|    total_timesteps  | 1341300  |\n",
            "| train/              |          |\n",
            "|    actor_loss       | 2.68     |\n",
            "|    critic_loss      | 1.8      |\n",
            "|    learning_rate    | 0.0003   |\n",
            "|    n_updates        | 553551   |\n",
            "----------------------------------\n"
          ]
        },
        {
          "name": "stdout",
          "output_type": "stream",
          "text": [
            "----------------------------------\n",
            "| custom/             |          |\n",
            "|    avg_reward_100ep | 96.70828 |\n",
            "| rollout/            |          |\n",
            "|    ep_len_mean      | 970      |\n",
            "|    ep_rew_mean      | 96.7     |\n",
            "| time/               |          |\n",
            "|    episodes         | 1672     |\n",
            "|    fps              | 560      |\n",
            "|    time_elapsed     | 2398     |\n",
            "|    total_timesteps  | 1343778  |\n",
            "| train/              |          |\n",
            "|    actor_loss       | 4.14     |\n",
            "|    critic_loss      | 2.22     |\n",
            "|    learning_rate    | 0.0003   |\n",
            "|    n_updates        | 553964   |\n",
            "----------------------------------\n"
          ]
        },
        {
          "name": "stdout",
          "output_type": "stream",
          "text": [
            "----------------------------------\n",
            "| custom/             |          |\n",
            "|    avg_reward_100ep | 98.15436 |\n",
            "| rollout/            |          |\n",
            "|    ep_len_mean      | 973      |\n",
            "|    ep_rew_mean      | 98.2     |\n",
            "| time/               |          |\n",
            "|    episodes         | 1676     |\n",
            "|    fps              | 560      |\n",
            "|    time_elapsed     | 2407     |\n",
            "|    total_timesteps  | 1348698  |\n",
            "| train/              |          |\n",
            "|    actor_loss       | 1.72     |\n",
            "|    critic_loss      | 1.18     |\n",
            "|    learning_rate    | 0.0003   |\n",
            "|    n_updates        | 554784   |\n",
            "----------------------------------\n"
          ]
        },
        {
          "data": {
            "text/html": [
              "<pre style=\"white-space:pre;overflow-x:auto;line-height:normal;font-family:Menlo,'DejaVu Sans Mono',consolas,'Courier New',monospace\">Eval num_timesteps=1350000, episode_reward=142.98 +/- 78.39\n",
              "</pre>\n"
            ],
            "text/plain": [
              "Eval num_timesteps=1350000, episode_reward=142.98 +/- 78.39\n"
            ]
          },
          "metadata": {},
          "output_type": "display_data"
        },
        {
          "data": {
            "text/html": [
              "<pre style=\"white-space:pre;overflow-x:auto;line-height:normal;font-family:Menlo,'DejaVu Sans Mono',consolas,'Courier New',monospace\">Episode length: 1000.00 +/- 0.00\n",
              "</pre>\n"
            ],
            "text/plain": [
              "Episode length: 1000.00 +/- 0.00\n"
            ]
          },
          "metadata": {},
          "output_type": "display_data"
        },
        {
          "name": "stdout",
          "output_type": "stream",
          "text": [
            "----------------------------------\n",
            "| custom/             |          |\n",
            "|    avg_reward_100ep | 98.98141 |\n",
            "| eval/               |          |\n",
            "|    mean_ep_length   | 1e+03    |\n",
            "|    mean_reward      | 143      |\n",
            "| time/               |          |\n",
            "|    total_timesteps  | 1350000  |\n",
            "| train/              |          |\n",
            "|    actor_loss       | 2.18     |\n",
            "|    critic_loss      | 3.63     |\n",
            "|    learning_rate    | 0.0003   |\n",
            "|    n_updates        | 555001   |\n",
            "----------------------------------\n"
          ]
        },
        {
          "data": {
            "text/html": [
              "<pre style=\"white-space:pre;overflow-x:auto;line-height:normal;font-family:Menlo,'DejaVu Sans Mono',consolas,'Courier New',monospace\">New best mean reward!\n",
              "</pre>\n"
            ],
            "text/plain": [
              "New best mean reward!\n"
            ]
          },
          "metadata": {},
          "output_type": "display_data"
        },
        {
          "name": "stdout",
          "output_type": "stream",
          "text": [
            "------------------------------------\n",
            "| custom/             |            |\n",
            "|    avg_reward_100ep | 100.754196 |\n",
            "| rollout/            |            |\n",
            "|    ep_len_mean      | 973        |\n",
            "|    ep_rew_mean      | 101        |\n",
            "| time/               |            |\n",
            "|    episodes         | 1680       |\n",
            "|    fps              | 559        |\n",
            "|    time_elapsed     | 2419       |\n",
            "|    total_timesteps  | 1353054    |\n",
            "| train/              |            |\n",
            "|    actor_loss       | 2.7        |\n",
            "|    critic_loss      | 1.79       |\n",
            "|    learning_rate    | 0.0003     |\n",
            "|    n_updates        | 555510     |\n",
            "------------------------------------\n"
          ]
        },
        {
          "name": "stdout",
          "output_type": "stream",
          "text": [
            "----------------------------------\n",
            "| custom/             |          |\n",
            "|    avg_reward_100ep | 97.65607 |\n",
            "| rollout/            |          |\n",
            "|    ep_len_mean      | 975      |\n",
            "|    ep_rew_mean      | 97.7     |\n",
            "| time/               |          |\n",
            "|    episodes         | 1684     |\n",
            "|    fps              | 559      |\n",
            "|    time_elapsed     | 2424     |\n",
            "|    total_timesteps  | 1355760  |\n",
            "| train/              |          |\n",
            "|    actor_loss       | 1.82     |\n",
            "|    critic_loss      | 1.7      |\n",
            "|    learning_rate    | 0.0003   |\n",
            "|    n_updates        | 555961   |\n",
            "----------------------------------\n"
          ]
        },
        {
          "name": "stdout",
          "output_type": "stream",
          "text": [
            "----------------------------------\n",
            "| custom/             |          |\n",
            "|    avg_reward_100ep | 96.89014 |\n",
            "| rollout/            |          |\n",
            "|    ep_len_mean      | 975      |\n",
            "|    ep_rew_mean      | 96.9     |\n",
            "| time/               |          |\n",
            "|    episodes         | 1688     |\n",
            "|    fps              | 559      |\n",
            "|    time_elapsed     | 2432     |\n",
            "|    total_timesteps  | 1360698  |\n",
            "| train/              |          |\n",
            "|    actor_loss       | 2.34     |\n",
            "|    critic_loss      | 1.54     |\n",
            "|    learning_rate    | 0.0003   |\n",
            "|    n_updates        | 556784   |\n",
            "----------------------------------\n"
          ]
        },
        {
          "name": "stdout",
          "output_type": "stream",
          "text": [
            "----------------------------------\n",
            "| custom/             |          |\n",
            "|    avg_reward_100ep | 96.81796 |\n",
            "| rollout/            |          |\n",
            "|    ep_len_mean      | 975      |\n",
            "|    ep_rew_mean      | 96.8     |\n",
            "| time/               |          |\n",
            "|    episodes         | 1692     |\n",
            "|    fps              | 559      |\n",
            "|    time_elapsed     | 2439     |\n",
            "|    total_timesteps  | 1365054  |\n",
            "| train/              |          |\n",
            "|    actor_loss       | 2.26     |\n",
            "|    critic_loss      | 1.51     |\n",
            "|    learning_rate    | 0.0003   |\n",
            "|    n_updates        | 557510   |\n",
            "----------------------------------\n"
          ]
        },
        {
          "name": "stdout",
          "output_type": "stream",
          "text": [
            "-----------------------------------\n",
            "| custom/             |           |\n",
            "|    avg_reward_100ep | 100.21501 |\n",
            "| rollout/            |           |\n",
            "|    ep_len_mean      | 975       |\n",
            "|    ep_rew_mean      | 100       |\n",
            "| time/               |           |\n",
            "|    episodes         | 1696      |\n",
            "|    fps              | 559       |\n",
            "|    time_elapsed     | 2444      |\n",
            "|    total_timesteps  | 1367760   |\n",
            "| train/              |           |\n",
            "|    actor_loss       | 1.94      |\n",
            "|    critic_loss      | 1.67      |\n",
            "|    learning_rate    | 0.0003    |\n",
            "|    n_updates        | 557961    |\n",
            "-----------------------------------\n"
          ]
        },
        {
          "name": "stdout",
          "output_type": "stream",
          "text": [
            "------------------------------------\n",
            "| custom/             |            |\n",
            "|    avg_reward_100ep | 101.262245 |\n",
            "| rollout/            |            |\n",
            "|    ep_len_mean      | 973        |\n",
            "|    ep_rew_mean      | 101        |\n",
            "| time/               |            |\n",
            "|    episodes         | 1700       |\n",
            "|    fps              | 559        |\n",
            "|    time_elapsed     | 2452       |\n",
            "|    total_timesteps  | 1372698    |\n",
            "| train/              |            |\n",
            "|    actor_loss       | 1.94       |\n",
            "|    critic_loss      | 1.46       |\n",
            "|    learning_rate    | 0.0003     |\n",
            "|    n_updates        | 558784     |\n",
            "------------------------------------\n"
          ]
        },
        {
          "name": "stdout",
          "output_type": "stream",
          "text": [
            "------------------------------------\n",
            "| custom/             |            |\n",
            "|    avg_reward_100ep | 101.361305 |\n",
            "| rollout/            |            |\n",
            "|    ep_len_mean      | 973        |\n",
            "|    ep_rew_mean      | 101        |\n",
            "| time/               |            |\n",
            "|    episodes         | 1704       |\n",
            "|    fps              | 559        |\n",
            "|    time_elapsed     | 2458       |\n",
            "|    total_timesteps  | 1376100    |\n",
            "| train/              |            |\n",
            "|    actor_loss       | 2.05       |\n",
            "|    critic_loss      | 2.78       |\n",
            "|    learning_rate    | 0.0003     |\n",
            "|    n_updates        | 559351     |\n",
            "------------------------------------\n"
          ]
        },
        {
          "name": "stdout",
          "output_type": "stream",
          "text": [
            "-----------------------------------\n",
            "| custom/             |           |\n",
            "|    avg_reward_100ep | 102.44507 |\n",
            "| rollout/            |           |\n",
            "|    ep_len_mean      | 973       |\n",
            "|    ep_rew_mean      | 102       |\n",
            "| time/               |           |\n",
            "|    episodes         | 1708      |\n",
            "|    fps              | 559       |\n",
            "|    time_elapsed     | 2465      |\n",
            "|    total_timesteps  | 1379760   |\n",
            "| train/              |           |\n",
            "|    actor_loss       | 2.28      |\n",
            "|    critic_loss      | 1.2       |\n",
            "|    learning_rate    | 0.0003    |\n",
            "|    n_updates        | 559961    |\n",
            "-----------------------------------\n"
          ]
        },
        {
          "data": {
            "text/html": [
              "<pre style=\"white-space:pre;overflow-x:auto;line-height:normal;font-family:Menlo,'DejaVu Sans Mono',consolas,'Courier New',monospace\">Eval num_timesteps=1380000, episode_reward=86.10 +/- 84.12\n",
              "</pre>\n"
            ],
            "text/plain": [
              "Eval num_timesteps=1380000, episode_reward=86.10 +/- 84.12\n"
            ]
          },
          "metadata": {},
          "output_type": "display_data"
        },
        {
          "data": {
            "text/html": [
              "<pre style=\"white-space:pre;overflow-x:auto;line-height:normal;font-family:Menlo,'DejaVu Sans Mono',consolas,'Courier New',monospace\">Episode length: 1000.00 +/- 0.00\n",
              "</pre>\n"
            ],
            "text/plain": [
              "Episode length: 1000.00 +/- 0.00\n"
            ]
          },
          "metadata": {},
          "output_type": "display_data"
        },
        {
          "name": "stdout",
          "output_type": "stream",
          "text": [
            "---------------------------------\n",
            "| eval/              |          |\n",
            "|    mean_ep_length  | 1e+03    |\n",
            "|    mean_reward     | 86.1     |\n",
            "| time/              |          |\n",
            "|    total_timesteps | 1380000  |\n",
            "| train/             |          |\n",
            "|    actor_loss      | 2.87     |\n",
            "|    critic_loss     | 1.53     |\n",
            "|    learning_rate   | 0.0003   |\n",
            "|    n_updates       | 560001   |\n",
            "---------------------------------\n"
          ]
        },
        {
          "name": "stdout",
          "output_type": "stream",
          "text": [
            "-----------------------------------\n",
            "| custom/             |           |\n",
            "|    avg_reward_100ep | 100.12738 |\n",
            "| rollout/            |           |\n",
            "|    ep_len_mean      | 962       |\n",
            "|    ep_rew_mean      | 100       |\n",
            "| time/               |           |\n",
            "|    episodes         | 1712      |\n",
            "|    fps              | 558       |\n",
            "|    time_elapsed     | 2477      |\n",
            "|    total_timesteps  | 1383468   |\n",
            "| train/              |           |\n",
            "|    actor_loss       | 1.89      |\n",
            "|    critic_loss      | 7.39      |\n",
            "|    learning_rate    | 0.0003    |\n",
            "|    n_updates        | 560579    |\n",
            "-----------------------------------\n"
          ]
        },
        {
          "name": "stdout",
          "output_type": "stream",
          "text": [
            "-----------------------------------\n",
            "| custom/             |           |\n",
            "|    avg_reward_100ep | 102.17136 |\n",
            "| rollout/            |           |\n",
            "|    ep_len_mean      | 962       |\n",
            "|    ep_rew_mean      | 102       |\n",
            "| time/               |           |\n",
            "|    episodes         | 1716      |\n",
            "|    fps              | 558       |\n",
            "|    time_elapsed     | 2483      |\n",
            "|    total_timesteps  | 1386912   |\n",
            "| train/              |           |\n",
            "|    actor_loss       | 1.96      |\n",
            "|    critic_loss      | 2.04      |\n",
            "|    learning_rate    | 0.0003    |\n",
            "|    n_updates        | 561153    |\n",
            "-----------------------------------\n"
          ]
        },
        {
          "name": "stdout",
          "output_type": "stream",
          "text": [
            "-----------------------------------\n",
            "| custom/             |           |\n",
            "|    avg_reward_100ep | 104.93859 |\n",
            "| rollout/            |           |\n",
            "|    ep_len_mean      | 962       |\n",
            "|    ep_rew_mean      | 105       |\n",
            "| time/               |           |\n",
            "|    episodes         | 1720      |\n",
            "|    fps              | 558       |\n",
            "|    time_elapsed     | 2490      |\n",
            "|    total_timesteps  | 1390812   |\n",
            "| train/              |           |\n",
            "|    actor_loss       | 1.55      |\n",
            "|    critic_loss      | 1.23      |\n",
            "|    learning_rate    | 0.0003    |\n",
            "|    n_updates        | 561803    |\n",
            "-----------------------------------\n"
          ]
        },
        {
          "name": "stdout",
          "output_type": "stream",
          "text": [
            "------------------------------------\n",
            "| custom/             |            |\n",
            "|    avg_reward_100ep | 106.808495 |\n",
            "| rollout/            |            |\n",
            "|    ep_len_mean      | 960        |\n",
            "|    ep_rew_mean      | 107        |\n",
            "| time/               |            |\n",
            "|    episodes         | 1724       |\n",
            "|    fps              | 558        |\n",
            "|    time_elapsed     | 2494       |\n",
            "|    total_timesteps  | 1393032    |\n",
            "| train/              |            |\n",
            "|    actor_loss       | 2.82       |\n",
            "|    critic_loss      | 1.32       |\n",
            "|    learning_rate    | 0.0003     |\n",
            "|    n_updates        | 562173     |\n",
            "------------------------------------\n"
          ]
        },
        {
          "name": "stdout",
          "output_type": "stream",
          "text": [
            "-----------------------------------\n",
            "| custom/             |           |\n",
            "|    avg_reward_100ep | 106.94876 |\n",
            "| rollout/            |           |\n",
            "|    ep_len_mean      | 956       |\n",
            "|    ep_rew_mean      | 107       |\n",
            "| time/               |           |\n",
            "|    episodes         | 1728      |\n",
            "|    fps              | 558       |\n",
            "|    time_elapsed     | 2503      |\n",
            "|    total_timesteps  | 1397760   |\n",
            "| train/              |           |\n",
            "|    actor_loss       | 1.07      |\n",
            "|    critic_loss      | 3.02      |\n",
            "|    learning_rate    | 0.0003    |\n",
            "|    n_updates        | 562961    |\n",
            "-----------------------------------\n"
          ]
        },
        {
          "name": "stdout",
          "output_type": "stream",
          "text": [
            "-----------------------------------\n",
            "| custom/             |           |\n",
            "|    avg_reward_100ep | 108.27085 |\n",
            "| rollout/            |           |\n",
            "|    ep_len_mean      | 960       |\n",
            "|    ep_rew_mean      | 108       |\n",
            "| time/               |           |\n",
            "|    episodes         | 1732      |\n",
            "|    fps              | 558       |\n",
            "|    time_elapsed     | 2512      |\n",
            "|    total_timesteps  | 1402698   |\n",
            "| train/              |           |\n",
            "|    actor_loss       | 0.472     |\n",
            "|    critic_loss      | 1.8       |\n",
            "|    learning_rate    | 0.0003    |\n",
            "|    n_updates        | 563784    |\n",
            "-----------------------------------\n"
          ]
        },
        {
          "name": "stdout",
          "output_type": "stream",
          "text": [
            "-----------------------------------\n",
            "| custom/             |           |\n",
            "|    avg_reward_100ep | 108.50542 |\n",
            "| rollout/            |           |\n",
            "|    ep_len_mean      | 960       |\n",
            "|    ep_rew_mean      | 109       |\n",
            "| time/               |           |\n",
            "|    episodes         | 1736      |\n",
            "|    fps              | 558       |\n",
            "|    time_elapsed     | 2516      |\n",
            "|    total_timesteps  | 1405032   |\n",
            "| train/              |           |\n",
            "|    actor_loss       | 0.741     |\n",
            "|    critic_loss      | 1.59      |\n",
            "|    learning_rate    | 0.0003    |\n",
            "|    n_updates        | 564173    |\n",
            "-----------------------------------\n"
          ]
        },
        {
          "name": "stdout",
          "output_type": "stream",
          "text": [
            "-----------------------------------\n",
            "| custom/             |           |\n",
            "|    avg_reward_100ep | 111.32651 |\n",
            "| rollout/            |           |\n",
            "|    ep_len_mean      | 960       |\n",
            "|    ep_rew_mean      | 111       |\n",
            "| time/               |           |\n",
            "|    episodes         | 1740      |\n",
            "|    fps              | 558       |\n",
            "|    time_elapsed     | 2525      |\n",
            "|    total_timesteps  | 1409760   |\n",
            "| train/              |           |\n",
            "|    actor_loss       | 1.49      |\n",
            "|    critic_loss      | 1.47      |\n",
            "|    learning_rate    | 0.0003    |\n",
            "|    n_updates        | 564961    |\n",
            "-----------------------------------\n"
          ]
        },
        {
          "data": {
            "text/html": [
              "<pre style=\"white-space:pre;overflow-x:auto;line-height:normal;font-family:Menlo,'DejaVu Sans Mono',consolas,'Courier New',monospace\">Eval num_timesteps=1410000, episode_reward=77.01 +/- 80.33\n",
              "</pre>\n"
            ],
            "text/plain": [
              "Eval num_timesteps=1410000, episode_reward=77.01 +/- 80.33\n"
            ]
          },
          "metadata": {},
          "output_type": "display_data"
        },
        {
          "data": {
            "text/html": [
              "<pre style=\"white-space:pre;overflow-x:auto;line-height:normal;font-family:Menlo,'DejaVu Sans Mono',consolas,'Courier New',monospace\">Episode length: 865.60 +/- 268.80\n",
              "</pre>\n"
            ],
            "text/plain": [
              "Episode length: 865.60 +/- 268.80\n"
            ]
          },
          "metadata": {},
          "output_type": "display_data"
        },
        {
          "name": "stdout",
          "output_type": "stream",
          "text": [
            "---------------------------------\n",
            "| eval/              |          |\n",
            "|    mean_ep_length  | 866      |\n",
            "|    mean_reward     | 77       |\n",
            "| time/              |          |\n",
            "|    total_timesteps | 1410000  |\n",
            "| train/             |          |\n",
            "|    actor_loss      | 1.21     |\n",
            "|    critic_loss     | 2.25     |\n",
            "|    learning_rate   | 0.0003   |\n",
            "|    n_updates       | 565001   |\n",
            "---------------------------------\n"
          ]
        },
        {
          "name": "stdout",
          "output_type": "stream",
          "text": [
            "-----------------------------------\n",
            "| custom/             |           |\n",
            "|    avg_reward_100ep | 116.10888 |\n",
            "| rollout/            |           |\n",
            "|    ep_len_mean      | 964       |\n",
            "|    ep_rew_mean      | 116       |\n",
            "| time/               |           |\n",
            "|    episodes         | 1744      |\n",
            "|    fps              | 557       |\n",
            "|    time_elapsed     | 2537      |\n",
            "|    total_timesteps  | 1414482   |\n",
            "| train/              |           |\n",
            "|    actor_loss       | 1.32      |\n",
            "|    critic_loss      | 1.35      |\n",
            "|    learning_rate    | 0.0003    |\n",
            "|    n_updates        | 565748    |\n",
            "-----------------------------------\n"
          ]
        },
        {
          "name": "stdout",
          "output_type": "stream",
          "text": [
            "-----------------------------------\n",
            "| custom/             |           |\n",
            "|    avg_reward_100ep | 120.05374 |\n",
            "| rollout/            |           |\n",
            "|    ep_len_mean      | 964       |\n",
            "|    ep_rew_mean      | 120       |\n",
            "| time/               |           |\n",
            "|    episodes         | 1748      |\n",
            "|    fps              | 557       |\n",
            "|    time_elapsed     | 2542      |\n",
            "|    total_timesteps  | 1417032   |\n",
            "| train/              |           |\n",
            "|    actor_loss       | 0.901     |\n",
            "|    critic_loss      | 2.21      |\n",
            "|    learning_rate    | 0.0003    |\n",
            "|    n_updates        | 566173    |\n",
            "-----------------------------------\n"
          ]
        },
        {
          "name": "stdout",
          "output_type": "stream",
          "text": [
            "-----------------------------------\n",
            "| custom/             |           |\n",
            "|    avg_reward_100ep | 120.45275 |\n",
            "| rollout/            |           |\n",
            "|    ep_len_mean      | 964       |\n",
            "|    ep_rew_mean      | 120       |\n",
            "| time/               |           |\n",
            "|    episodes         | 1752      |\n",
            "|    fps              | 557       |\n",
            "|    time_elapsed     | 2548      |\n",
            "|    total_timesteps  | 1420812   |\n",
            "| train/              |           |\n",
            "|    actor_loss       | 1.18      |\n",
            "|    critic_loss      | 1.45      |\n",
            "|    learning_rate    | 0.0003    |\n",
            "|    n_updates        | 566803    |\n",
            "-----------------------------------\n"
          ]
        },
        {
          "name": "stdout",
          "output_type": "stream",
          "text": [
            "-----------------------------------\n",
            "| custom/             |           |\n",
            "|    avg_reward_100ep | 119.63678 |\n",
            "| rollout/            |           |\n",
            "|    ep_len_mean      | 964       |\n",
            "|    ep_rew_mean      | 120       |\n",
            "| time/               |           |\n",
            "|    episodes         | 1756      |\n",
            "|    fps              | 557       |\n",
            "|    time_elapsed     | 2558      |\n",
            "|    total_timesteps  | 1426482   |\n",
            "| train/              |           |\n",
            "|    actor_loss       | 1.84      |\n",
            "|    critic_loss      | 1.55      |\n",
            "|    learning_rate    | 0.0003    |\n",
            "|    n_updates        | 567748    |\n",
            "-----------------------------------\n"
          ]
        },
        {
          "name": "stdout",
          "output_type": "stream",
          "text": [
            "------------------------------------\n",
            "| custom/             |            |\n",
            "|    avg_reward_100ep | 121.203125 |\n",
            "| rollout/            |            |\n",
            "|    ep_len_mean      | 964        |\n",
            "|    ep_rew_mean      | 121        |\n",
            "| time/               |            |\n",
            "|    episodes         | 1760       |\n",
            "|    fps              | 557        |\n",
            "|    time_elapsed     | 2563       |\n",
            "|    total_timesteps  | 1429032    |\n",
            "| train/              |            |\n",
            "|    actor_loss       | 1.09       |\n",
            "|    critic_loss      | 1.65       |\n",
            "|    learning_rate    | 0.0003     |\n",
            "|    n_updates        | 568173     |\n",
            "------------------------------------\n"
          ]
        },
        {
          "name": "stdout",
          "output_type": "stream",
          "text": [
            "-----------------------------------\n",
            "| custom/             |           |\n",
            "|    avg_reward_100ep | 120.25022 |\n",
            "| rollout/            |           |\n",
            "|    ep_len_mean      | 964       |\n",
            "|    ep_rew_mean      | 120       |\n",
            "| time/               |           |\n",
            "|    episodes         | 1764      |\n",
            "|    fps              | 557       |\n",
            "|    time_elapsed     | 2570      |\n",
            "|    total_timesteps  | 1432812   |\n",
            "| train/              |           |\n",
            "|    actor_loss       | -0.0758   |\n",
            "|    critic_loss      | 2.33      |\n",
            "|    learning_rate    | 0.0003    |\n",
            "|    n_updates        | 568803    |\n",
            "-----------------------------------\n"
          ]
        },
        {
          "name": "stdout",
          "output_type": "stream",
          "text": [
            "-----------------------------------\n",
            "| custom/             |           |\n",
            "|    avg_reward_100ep | 121.58003 |\n",
            "| rollout/            |           |\n",
            "|    ep_len_mean      | 961       |\n",
            "|    ep_rew_mean      | 122       |\n",
            "| time/               |           |\n",
            "|    episodes         | 1768      |\n",
            "|    fps              | 557       |\n",
            "|    time_elapsed     | 2578      |\n",
            "|    total_timesteps  | 1437300   |\n",
            "| train/              |           |\n",
            "|    actor_loss       | 0.317     |\n",
            "|    critic_loss      | 3.64      |\n",
            "|    learning_rate    | 0.0003    |\n",
            "|    n_updates        | 569551    |\n",
            "-----------------------------------\n"
          ]
        },
        {
          "data": {
            "text/html": [
              "<pre style=\"white-space:pre;overflow-x:auto;line-height:normal;font-family:Menlo,'DejaVu Sans Mono',consolas,'Courier New',monospace\">Eval num_timesteps=1440000, episode_reward=22.33 +/- 50.50\n",
              "</pre>\n"
            ],
            "text/plain": [
              "Eval num_timesteps=1440000, episode_reward=22.33 +/- 50.50\n"
            ]
          },
          "metadata": {},
          "output_type": "display_data"
        },
        {
          "data": {
            "text/html": [
              "<pre style=\"white-space:pre;overflow-x:auto;line-height:normal;font-family:Menlo,'DejaVu Sans Mono',consolas,'Courier New',monospace\">Episode length: 798.00 +/- 263.85\n",
              "</pre>\n"
            ],
            "text/plain": [
              "Episode length: 798.00 +/- 263.85\n"
            ]
          },
          "metadata": {},
          "output_type": "display_data"
        },
        {
          "name": "stdout",
          "output_type": "stream",
          "text": [
            "------------------------------------\n",
            "| custom/             |            |\n",
            "|    avg_reward_100ep | 120.843414 |\n",
            "| eval/               |            |\n",
            "|    mean_ep_length   | 798        |\n",
            "|    mean_reward      | 22.3       |\n",
            "| time/               |            |\n",
            "|    total_timesteps  | 1440000    |\n",
            "| train/              |            |\n",
            "|    actor_loss       | 1.56       |\n",
            "|    critic_loss      | 1.7        |\n",
            "|    learning_rate    | 0.0003     |\n",
            "|    n_updates        | 570001     |\n",
            "------------------------------------\n"
          ]
        },
        {
          "name": "stdout",
          "output_type": "stream",
          "text": [
            "-----------------------------------\n",
            "| custom/             |           |\n",
            "|    avg_reward_100ep | 118.54398 |\n",
            "| rollout/            |           |\n",
            "|    ep_len_mean      | 960       |\n",
            "|    ep_rew_mean      | 119       |\n",
            "| time/               |           |\n",
            "|    episodes         | 1772      |\n",
            "|    fps              | 556       |\n",
            "|    time_elapsed     | 2587      |\n",
            "|    total_timesteps  | 1440564   |\n",
            "| train/              |           |\n",
            "|    actor_loss       | 0.709     |\n",
            "|    critic_loss      | 3.1       |\n",
            "|    learning_rate    | 0.0003    |\n",
            "|    n_updates        | 570095    |\n",
            "-----------------------------------\n"
          ]
        },
        {
          "name": "stdout",
          "output_type": "stream",
          "text": [
            "-----------------------------------\n",
            "| custom/             |           |\n",
            "|    avg_reward_100ep | 118.47898 |\n",
            "| rollout/            |           |\n",
            "|    ep_len_mean      | 968       |\n",
            "|    ep_rew_mean      | 118       |\n",
            "| time/               |           |\n",
            "|    episodes         | 1776      |\n",
            "|    fps              | 556       |\n",
            "|    time_elapsed     | 2595      |\n",
            "|    total_timesteps  | 1444698   |\n",
            "| train/              |           |\n",
            "|    actor_loss       | -0.0979   |\n",
            "|    critic_loss      | 3.5       |\n",
            "|    learning_rate    | 0.0003    |\n",
            "|    n_updates        | 570784    |\n",
            "-----------------------------------\n"
          ]
        },
        {
          "data": {
            "text/html": [
              "<pre style=\"white-space:pre;overflow-x:auto;line-height:normal;font-family:Menlo,'DejaVu Sans Mono',consolas,'Courier New',monospace\">Exception in thread Thread-4:\n",
              "</pre>\n"
            ],
            "text/plain": [
              "Exception in thread Thread-4:\n"
            ]
          },
          "metadata": {},
          "output_type": "display_data"
        },
        {
          "data": {
            "text/html": [
              "<pre style=\"white-space:pre;overflow-x:auto;line-height:normal;font-family:Menlo,'DejaVu Sans Mono',consolas,'Courier New',monospace\">Traceback (most recent call last):\n",
              "</pre>\n"
            ],
            "text/plain": [
              "Traceback (most recent call last):\n"
            ]
          },
          "metadata": {},
          "output_type": "display_data"
        },
        {
          "data": {
            "text/html": [
              "<pre style=\"white-space:pre;overflow-x:auto;line-height:normal;font-family:Menlo,'DejaVu Sans Mono',consolas,'Courier New',monospace\">  File <span style=\"color: #800080; text-decoration-color: #800080\">\"d:\\AI\\UI\\Hardcore\\.venv\\Lib\\site-packages\\IPython\\core\\interactiveshell.py\"</span>, line <span style=\"color: #800080; text-decoration-color: #800080\">3549</span>, in <span style=\"color: #800080; text-decoration-color: #800080\">run_code</span>\n",
              "    <span style=\"color: #800000; text-decoration-color: #800000\">exec</span><span style=\"color: #800000; text-decoration-color: #800000; font-weight: bold\">(code_obj, self.user_global_ns, self.user_ns)</span>\n",
              "    <span style=\"color: #800000; text-decoration-color: #800000\">~~~~</span><span style=\"color: #800000; text-decoration-color: #800000; font-weight: bold\">^^^^^^^^^^^^^^^^^^^^^^^^^^^^^^^^^^^^^^^^^^^^^</span>\n",
              "</pre>\n"
            ],
            "text/plain": [
              "  File \u001b[35m\"d:\\AI\\UI\\Hardcore\\.venv\\Lib\\site-packages\\IPython\\core\\interactiveshell.py\"\u001b[0m, line \u001b[35m3549\u001b[0m, in \u001b[35mrun_code\u001b[0m\n",
              "    \u001b[31mexec\u001b[0m\u001b[1;31m(code_obj, self.user_global_ns, self.user_ns)\u001b[0m\n",
              "    \u001b[31m~~~~\u001b[0m\u001b[1;31m^^^^^^^^^^^^^^^^^^^^^^^^^^^^^^^^^^^^^^^^^^^^^\u001b[0m\n"
            ]
          },
          "metadata": {},
          "output_type": "display_data"
        },
        {
          "data": {
            "text/html": [
              "<pre style=\"white-space:pre;overflow-x:auto;line-height:normal;font-family:Menlo,'DejaVu Sans Mono',consolas,'Courier New',monospace\">  File <span style=\"color: #800080; text-decoration-color: #800080\">\"C:\\Users\\007do\\AppData\\Local\\Temp\\ipykernel_18696\\4195537262.py\"</span>, line <span style=\"color: #800080; text-decoration-color: #800080\">74</span>, in <span style=\"color: #800080; text-decoration-color: #800080\">&lt;module&gt;</span>\n",
              "    <span style=\"color: #800000; text-decoration-color: #800000\">model.learn</span><span style=\"color: #800000; text-decoration-color: #800000; font-weight: bold\">(</span>\n",
              "    <span style=\"color: #800000; text-decoration-color: #800000\">~~~~~~~~~~~</span><span style=\"color: #800000; text-decoration-color: #800000; font-weight: bold\">^</span>\n",
              "        <span style=\"color: #800000; text-decoration-color: #800000; font-weight: bold\">total_timesteps=2_000_000,</span>\n",
              "        <span style=\"color: #800000; text-decoration-color: #800000; font-weight: bold\">^^^^^^^^^^^^^^^^^^^^^^^^^^</span>\n",
              "        <span style=\"color: #800000; text-decoration-color: #800000; font-weight: bold\">callback=[eval_callback, AvgRewardCallback()],</span>\n",
              "        <span style=\"color: #800000; text-decoration-color: #800000; font-weight: bold\">^^^^^^^^^^^^^^^^^^^^^^^^^^^^^^^^^^^^^^^^^^^^^^</span>\n",
              "        <span style=\"color: #800000; text-decoration-color: #800000; font-weight: bold\">progress_bar=True,</span>\n",
              "        <span style=\"color: #800000; text-decoration-color: #800000; font-weight: bold\">^^^^^^^^^^^^^^^^^^</span>\n",
              "    <span style=\"color: #800000; text-decoration-color: #800000; font-weight: bold\">)</span>\n",
              "    <span style=\"color: #800000; text-decoration-color: #800000; font-weight: bold\">^</span>\n",
              "</pre>\n"
            ],
            "text/plain": [
              "  File \u001b[35m\"C:\\Users\\007do\\AppData\\Local\\Temp\\ipykernel_18696\\4195537262.py\"\u001b[0m, line \u001b[35m74\u001b[0m, in \u001b[35m<module>\u001b[0m\n",
              "    \u001b[31mmodel.learn\u001b[0m\u001b[1;31m(\u001b[0m\n",
              "    \u001b[31m~~~~~~~~~~~\u001b[0m\u001b[1;31m^\u001b[0m\n",
              "        \u001b[1;31mtotal_timesteps=2_000_000,\u001b[0m\n",
              "        \u001b[1;31m^^^^^^^^^^^^^^^^^^^^^^^^^^\u001b[0m\n",
              "        \u001b[1;31mcallback=[eval_callback, AvgRewardCallback()],\u001b[0m\n",
              "        \u001b[1;31m^^^^^^^^^^^^^^^^^^^^^^^^^^^^^^^^^^^^^^^^^^^^^^\u001b[0m\n",
              "        \u001b[1;31mprogress_bar=True,\u001b[0m\n",
              "        \u001b[1;31m^^^^^^^^^^^^^^^^^^\u001b[0m\n",
              "    \u001b[1;31m)\u001b[0m\n",
              "    \u001b[1;31m^\u001b[0m\n"
            ]
          },
          "metadata": {},
          "output_type": "display_data"
        },
        {
          "data": {
            "text/html": [
              "<pre style=\"white-space:pre;overflow-x:auto;line-height:normal;font-family:Menlo,'DejaVu Sans Mono',consolas,'Courier New',monospace\">  File <span style=\"color: #800080; text-decoration-color: #800080\">\"d:\\AI\\UI\\Hardcore\\.venv\\Lib\\site-packages\\stable_baselines3\\td3\\td3.py\"</span>, line <span style=\"color: #800080; text-decoration-color: #800080\">222</span>, in <span style=\"color: #800080; text-decoration-color: #800080\">learn</span>\n",
              "    return <span style=\"color: #800000; text-decoration-color: #800000\">super().learn</span><span style=\"color: #800000; text-decoration-color: #800000; font-weight: bold\">(</span>\n",
              "           <span style=\"color: #800000; text-decoration-color: #800000\">~~~~~~~~~~~~~</span><span style=\"color: #800000; text-decoration-color: #800000; font-weight: bold\">^</span>\n",
              "        <span style=\"color: #800000; text-decoration-color: #800000; font-weight: bold\">total_timesteps=total_timesteps,</span>\n",
              "        <span style=\"color: #800000; text-decoration-color: #800000; font-weight: bold\">^^^^^^^^^^^^^^^^^^^^^^^^^^^^^^^^</span>\n",
              "    ...&lt;4 lines&gt;...\n",
              "        <span style=\"color: #800000; text-decoration-color: #800000; font-weight: bold\">progress_bar=progress_bar,</span>\n",
              "        <span style=\"color: #800000; text-decoration-color: #800000; font-weight: bold\">^^^^^^^^^^^^^^^^^^^^^^^^^^</span>\n",
              "    <span style=\"color: #800000; text-decoration-color: #800000; font-weight: bold\">)</span>\n",
              "    <span style=\"color: #800000; text-decoration-color: #800000; font-weight: bold\">^</span>\n",
              "</pre>\n"
            ],
            "text/plain": [
              "  File \u001b[35m\"d:\\AI\\UI\\Hardcore\\.venv\\Lib\\site-packages\\stable_baselines3\\td3\\td3.py\"\u001b[0m, line \u001b[35m222\u001b[0m, in \u001b[35mlearn\u001b[0m\n",
              "    return \u001b[31msuper().learn\u001b[0m\u001b[1;31m(\u001b[0m\n",
              "           \u001b[31m~~~~~~~~~~~~~\u001b[0m\u001b[1;31m^\u001b[0m\n",
              "        \u001b[1;31mtotal_timesteps=total_timesteps,\u001b[0m\n",
              "        \u001b[1;31m^^^^^^^^^^^^^^^^^^^^^^^^^^^^^^^^\u001b[0m\n",
              "    ...<4 lines>...\n",
              "        \u001b[1;31mprogress_bar=progress_bar,\u001b[0m\n",
              "        \u001b[1;31m^^^^^^^^^^^^^^^^^^^^^^^^^^\u001b[0m\n",
              "    \u001b[1;31m)\u001b[0m\n",
              "    \u001b[1;31m^\u001b[0m\n"
            ]
          },
          "metadata": {},
          "output_type": "display_data"
        },
        {
          "data": {
            "text/html": [
              "<pre style=\"white-space:pre;overflow-x:auto;line-height:normal;font-family:Menlo,'DejaVu Sans Mono',consolas,'Courier New',monospace\">  File <span style=\"color: #800080; text-decoration-color: #800080\">\"d:\\AI\\UI\\Hardcore\\.venv\\Lib\\site-packages\\stable_baselines3\\common\\off_policy_algorithm.py\"</span>, line <span style=\"color: #800080; text-decoration-color: #800080\">328</span>, in \n",
              "<span style=\"color: #800080; text-decoration-color: #800080\">learn</span>\n",
              "    rollout = self.collect_rollouts(\n",
              "        self.env,\n",
              "    ...&lt;5 lines&gt;...\n",
              "        log_interval=log_interval,\n",
              "    )\n",
              "</pre>\n"
            ],
            "text/plain": [
              "  File \u001b[35m\"d:\\AI\\UI\\Hardcore\\.venv\\Lib\\site-packages\\stable_baselines3\\common\\off_policy_algorithm.py\"\u001b[0m, line \u001b[35m328\u001b[0m, in \n",
              "\u001b[35mlearn\u001b[0m\n",
              "    rollout = self.collect_rollouts(\n",
              "        self.env,\n",
              "    ...<5 lines>...\n",
              "        log_interval=log_interval,\n",
              "    )\n"
            ]
          },
          "metadata": {},
          "output_type": "display_data"
        },
        {
          "data": {
            "text/html": [
              "<pre style=\"white-space:pre;overflow-x:auto;line-height:normal;font-family:Menlo,'DejaVu Sans Mono',consolas,'Courier New',monospace\">  File <span style=\"color: #800080; text-decoration-color: #800080\">\"d:\\AI\\UI\\Hardcore\\.venv\\Lib\\site-packages\\stable_baselines3\\common\\off_policy_algorithm.py\"</span>, line <span style=\"color: #800080; text-decoration-color: #800080\">597</span>, in \n",
              "<span style=\"color: #800080; text-decoration-color: #800080\">collect_rollouts</span>\n",
              "    <span style=\"color: #800000; text-decoration-color: #800000\">self.dump_logs</span><span style=\"color: #800000; text-decoration-color: #800000; font-weight: bold\">()</span>\n",
              "    <span style=\"color: #800000; text-decoration-color: #800000\">~~~~~~~~~~~~~~</span><span style=\"color: #800000; text-decoration-color: #800000; font-weight: bold\">^^</span>\n",
              "</pre>\n"
            ],
            "text/plain": [
              "  File \u001b[35m\"d:\\AI\\UI\\Hardcore\\.venv\\Lib\\site-packages\\stable_baselines3\\common\\off_policy_algorithm.py\"\u001b[0m, line \u001b[35m597\u001b[0m, in \n",
              "\u001b[35mcollect_rollouts\u001b[0m\n",
              "    \u001b[31mself.dump_logs\u001b[0m\u001b[1;31m()\u001b[0m\n",
              "    \u001b[31m~~~~~~~~~~~~~~\u001b[0m\u001b[1;31m^^\u001b[0m\n"
            ]
          },
          "metadata": {},
          "output_type": "display_data"
        },
        {
          "data": {
            "text/html": [
              "<pre style=\"white-space:pre;overflow-x:auto;line-height:normal;font-family:Menlo,'DejaVu Sans Mono',consolas,'Courier New',monospace\">  File <span style=\"color: #800080; text-decoration-color: #800080\">\"d:\\AI\\UI\\Hardcore\\.venv\\Lib\\site-packages\\stable_baselines3\\common\\off_policy_algorithm.py\"</span>, line <span style=\"color: #800080; text-decoration-color: #800080\">431</span>, in \n",
              "<span style=\"color: #800080; text-decoration-color: #800080\">dump_logs</span>\n",
              "    <span style=\"color: #800000; text-decoration-color: #800000\">self.logger.dump</span><span style=\"color: #800000; text-decoration-color: #800000; font-weight: bold\">(step=self.num_timesteps)</span>\n",
              "    <span style=\"color: #800000; text-decoration-color: #800000\">~~~~~~~~~~~~~~~~</span><span style=\"color: #800000; text-decoration-color: #800000; font-weight: bold\">^^^^^^^^^^^^^^^^^^^^^^^^^</span>\n",
              "</pre>\n"
            ],
            "text/plain": [
              "  File \u001b[35m\"d:\\AI\\UI\\Hardcore\\.venv\\Lib\\site-packages\\stable_baselines3\\common\\off_policy_algorithm.py\"\u001b[0m, line \u001b[35m431\u001b[0m, in \n",
              "\u001b[35mdump_logs\u001b[0m\n",
              "    \u001b[31mself.logger.dump\u001b[0m\u001b[1;31m(step=self.num_timesteps)\u001b[0m\n",
              "    \u001b[31m~~~~~~~~~~~~~~~~\u001b[0m\u001b[1;31m^^^^^^^^^^^^^^^^^^^^^^^^^\u001b[0m\n"
            ]
          },
          "metadata": {},
          "output_type": "display_data"
        },
        {
          "data": {
            "text/html": [
              "<pre style=\"white-space:pre;overflow-x:auto;line-height:normal;font-family:Menlo,'DejaVu Sans Mono',consolas,'Courier New',monospace\">  File <span style=\"color: #800080; text-decoration-color: #800080\">\"d:\\AI\\UI\\Hardcore\\.venv\\Lib\\site-packages\\stable_baselines3\\common\\logger.py\"</span>, line <span style=\"color: #800080; text-decoration-color: #800080\">540</span>, in <span style=\"color: #800080; text-decoration-color: #800080\">dump</span>\n",
              "    <span style=\"color: #800000; text-decoration-color: #800000\">_format.write</span><span style=\"color: #800000; text-decoration-color: #800000; font-weight: bold\">(self.name_to_value, self.name_to_excluded, step)</span>\n",
              "    <span style=\"color: #800000; text-decoration-color: #800000\">~~~~~~~~~~~~~</span><span style=\"color: #800000; text-decoration-color: #800000; font-weight: bold\">^^^^^^^^^^^^^^^^^^^^^^^^^^^^^^^^^^^^^^^^^^^^^^^^^</span>\n",
              "</pre>\n"
            ],
            "text/plain": [
              "  File \u001b[35m\"d:\\AI\\UI\\Hardcore\\.venv\\Lib\\site-packages\\stable_baselines3\\common\\logger.py\"\u001b[0m, line \u001b[35m540\u001b[0m, in \u001b[35mdump\u001b[0m\n",
              "    \u001b[31m_format.write\u001b[0m\u001b[1;31m(self.name_to_value, self.name_to_excluded, step)\u001b[0m\n",
              "    \u001b[31m~~~~~~~~~~~~~\u001b[0m\u001b[1;31m^^^^^^^^^^^^^^^^^^^^^^^^^^^^^^^^^^^^^^^^^^^^^^^^^\u001b[0m\n"
            ]
          },
          "metadata": {},
          "output_type": "display_data"
        },
        {
          "data": {
            "text/html": [
              "<pre style=\"white-space:pre;overflow-x:auto;line-height:normal;font-family:Menlo,'DejaVu Sans Mono',consolas,'Courier New',monospace\">  File <span style=\"color: #800080; text-decoration-color: #800080\">\"d:\\AI\\UI\\Hardcore\\.venv\\Lib\\site-packages\\stable_baselines3\\common\\logger.py\"</span>, line <span style=\"color: #800080; text-decoration-color: #800080\">437</span>, in <span style=\"color: #800080; text-decoration-color: #800080\">write</span>\n",
              "    <span style=\"color: #800000; text-decoration-color: #800000\">self.writer.flush</span><span style=\"color: #800000; text-decoration-color: #800000; font-weight: bold\">()</span>\n",
              "    <span style=\"color: #800000; text-decoration-color: #800000\">~~~~~~~~~~~~~~~~~</span><span style=\"color: #800000; text-decoration-color: #800000; font-weight: bold\">^^</span>\n",
              "</pre>\n"
            ],
            "text/plain": [
              "  File \u001b[35m\"d:\\AI\\UI\\Hardcore\\.venv\\Lib\\site-packages\\stable_baselines3\\common\\logger.py\"\u001b[0m, line \u001b[35m437\u001b[0m, in \u001b[35mwrite\u001b[0m\n",
              "    \u001b[31mself.writer.flush\u001b[0m\u001b[1;31m()\u001b[0m\n",
              "    \u001b[31m~~~~~~~~~~~~~~~~~\u001b[0m\u001b[1;31m^^\u001b[0m\n"
            ]
          },
          "metadata": {},
          "output_type": "display_data"
        },
        {
          "data": {
            "text/html": [
              "<pre style=\"white-space:pre;overflow-x:auto;line-height:normal;font-family:Menlo,'DejaVu Sans Mono',consolas,'Courier New',monospace\">  File <span style=\"color: #800080; text-decoration-color: #800080\">\"d:\\AI\\UI\\Hardcore\\.venv\\Lib\\site-packages\\torch\\utils\\tensorboard\\writer.py\"</span>, line <span style=\"color: #800080; text-decoration-color: #800080\">1194</span>, in <span style=\"color: #800080; text-decoration-color: #800080\">flush</span>\n",
              "    <span style=\"color: #800000; text-decoration-color: #800000\">writer.flush</span><span style=\"color: #800000; text-decoration-color: #800000; font-weight: bold\">()</span>\n",
              "    <span style=\"color: #800000; text-decoration-color: #800000\">~~~~~~~~~~~~</span><span style=\"color: #800000; text-decoration-color: #800000; font-weight: bold\">^^</span>\n",
              "</pre>\n"
            ],
            "text/plain": [
              "  File \u001b[35m\"d:\\AI\\UI\\Hardcore\\.venv\\Lib\\site-packages\\torch\\utils\\tensorboard\\writer.py\"\u001b[0m, line \u001b[35m1194\u001b[0m, in \u001b[35mflush\u001b[0m\n",
              "    \u001b[31mwriter.flush\u001b[0m\u001b[1;31m()\u001b[0m\n",
              "    \u001b[31m~~~~~~~~~~~~\u001b[0m\u001b[1;31m^^\u001b[0m\n"
            ]
          },
          "metadata": {},
          "output_type": "display_data"
        },
        {
          "data": {
            "text/html": [
              "<pre style=\"white-space:pre;overflow-x:auto;line-height:normal;font-family:Menlo,'DejaVu Sans Mono',consolas,'Courier New',monospace\">  File <span style=\"color: #800080; text-decoration-color: #800080\">\"d:\\AI\\UI\\Hardcore\\.venv\\Lib\\site-packages\\torch\\utils\\tensorboard\\writer.py\"</span>, line <span style=\"color: #800080; text-decoration-color: #800080\">153</span>, in <span style=\"color: #800080; text-decoration-color: #800080\">flush</span>\n",
              "    <span style=\"color: #800000; text-decoration-color: #800000\">self.event_writer.flush</span><span style=\"color: #800000; text-decoration-color: #800000; font-weight: bold\">()</span>\n",
              "    <span style=\"color: #800000; text-decoration-color: #800000\">~~~~~~~~~~~~~~~~~~~~~~~</span><span style=\"color: #800000; text-decoration-color: #800000; font-weight: bold\">^^</span>\n",
              "</pre>\n"
            ],
            "text/plain": [
              "  File \u001b[35m\"d:\\AI\\UI\\Hardcore\\.venv\\Lib\\site-packages\\torch\\utils\\tensorboard\\writer.py\"\u001b[0m, line \u001b[35m153\u001b[0m, in \u001b[35mflush\u001b[0m\n",
              "    \u001b[31mself.event_writer.flush\u001b[0m\u001b[1;31m()\u001b[0m\n",
              "    \u001b[31m~~~~~~~~~~~~~~~~~~~~~~~\u001b[0m\u001b[1;31m^^\u001b[0m\n"
            ]
          },
          "metadata": {},
          "output_type": "display_data"
        },
        {
          "data": {
            "text/html": [
              "<pre style=\"white-space:pre;overflow-x:auto;line-height:normal;font-family:Menlo,'DejaVu Sans Mono',consolas,'Courier New',monospace\">  File <span style=\"color: #800080; text-decoration-color: #800080\">\"d:\\AI\\UI\\Hardcore\\.venv\\Lib\\site-packages\\tensorboard\\summary\\writer\\event_file_writer.py\"</span>, line <span style=\"color: #800080; text-decoration-color: #800080\">125</span>, in \n",
              "<span style=\"color: #800080; text-decoration-color: #800080\">flush</span>\n",
              "    <span style=\"color: #800000; text-decoration-color: #800000\">self._async_writer.flush</span><span style=\"color: #800000; text-decoration-color: #800000; font-weight: bold\">()</span>\n",
              "    <span style=\"color: #800000; text-decoration-color: #800000\">~~~~~~~~~~~~~~~~~~~~~~~~</span><span style=\"color: #800000; text-decoration-color: #800000; font-weight: bold\">^^</span>\n",
              "</pre>\n"
            ],
            "text/plain": [
              "  File \u001b[35m\"d:\\AI\\UI\\Hardcore\\.venv\\Lib\\site-packages\\tensorboard\\summary\\writer\\event_file_writer.py\"\u001b[0m, line \u001b[35m125\u001b[0m, in \n",
              "\u001b[35mflush\u001b[0m\n",
              "    \u001b[31mself._async_writer.flush\u001b[0m\u001b[1;31m()\u001b[0m\n",
              "    \u001b[31m~~~~~~~~~~~~~~~~~~~~~~~~\u001b[0m\u001b[1;31m^^\u001b[0m\n"
            ]
          },
          "metadata": {},
          "output_type": "display_data"
        },
        {
          "data": {
            "text/html": [
              "<pre style=\"white-space:pre;overflow-x:auto;line-height:normal;font-family:Menlo,'DejaVu Sans Mono',consolas,'Courier New',monospace\">  File <span style=\"color: #800080; text-decoration-color: #800080\">\"d:\\AI\\UI\\Hardcore\\.venv\\Lib\\site-packages\\tensorboard\\summary\\writer\\event_file_writer.py\"</span>, line <span style=\"color: #800080; text-decoration-color: #800080\">194</span>, in \n",
              "<span style=\"color: #800080; text-decoration-color: #800080\">flush</span>\n",
              "    <span style=\"color: #800000; text-decoration-color: #800000\">self._check_worker_status</span><span style=\"color: #800000; text-decoration-color: #800000; font-weight: bold\">()</span>\n",
              "    <span style=\"color: #800000; text-decoration-color: #800000\">~~~~~~~~~~~~~~~~~~~~~~~~~</span><span style=\"color: #800000; text-decoration-color: #800000; font-weight: bold\">^^</span>\n",
              "</pre>\n"
            ],
            "text/plain": [
              "  File \u001b[35m\"d:\\AI\\UI\\Hardcore\\.venv\\Lib\\site-packages\\tensorboard\\summary\\writer\\event_file_writer.py\"\u001b[0m, line \u001b[35m194\u001b[0m, in \n",
              "\u001b[35mflush\u001b[0m\n",
              "    \u001b[31mself._check_worker_status\u001b[0m\u001b[1;31m()\u001b[0m\n",
              "    \u001b[31m~~~~~~~~~~~~~~~~~~~~~~~~~\u001b[0m\u001b[1;31m^^\u001b[0m\n"
            ]
          },
          "metadata": {},
          "output_type": "display_data"
        },
        {
          "data": {
            "text/html": [
              "<pre style=\"white-space:pre;overflow-x:auto;line-height:normal;font-family:Menlo,'DejaVu Sans Mono',consolas,'Courier New',monospace\">  File <span style=\"color: #800080; text-decoration-color: #800080\">\"d:\\AI\\UI\\Hardcore\\.venv\\Lib\\site-packages\\tensorboard\\summary\\writer\\event_file_writer.py\"</span>, line <span style=\"color: #800080; text-decoration-color: #800080\">212</span>, in \n",
              "<span style=\"color: #800080; text-decoration-color: #800080\">_check_worker_status</span>\n",
              "    raise exception\n",
              "</pre>\n"
            ],
            "text/plain": [
              "  File \u001b[35m\"d:\\AI\\UI\\Hardcore\\.venv\\Lib\\site-packages\\tensorboard\\summary\\writer\\event_file_writer.py\"\u001b[0m, line \u001b[35m212\u001b[0m, in \n",
              "\u001b[35m_check_worker_status\u001b[0m\n",
              "    raise exception\n"
            ]
          },
          "metadata": {},
          "output_type": "display_data"
        },
        {
          "data": {
            "text/html": [
              "<pre style=\"white-space:pre;overflow-x:auto;line-height:normal;font-family:Menlo,'DejaVu Sans Mono',consolas,'Courier New',monospace\">  File <span style=\"color: #800080; text-decoration-color: #800080\">\"C:\\Program </span>\n",
              "<span style=\"color: #800080; text-decoration-color: #800080\">Files\\WindowsApps\\PythonSoftwareFoundation.Python.3.13_3.13.1008.0_x64__qbz5n2kfra8p0\\Lib\\threading.py\"</span>, line <span style=\"color: #800080; text-decoration-color: #800080\">1041</span>,\n",
              "in <span style=\"color: #800080; text-decoration-color: #800080\">_bootstrap_inner</span>\n",
              "    <span style=\"color: #800000; text-decoration-color: #800000\">self.run</span><span style=\"color: #800000; text-decoration-color: #800000; font-weight: bold\">()</span>\n",
              "    <span style=\"color: #800000; text-decoration-color: #800000\">~~~~~~~~</span><span style=\"color: #800000; text-decoration-color: #800000; font-weight: bold\">^^</span>\n",
              "</pre>\n"
            ],
            "text/plain": [
              "  File \u001b[35m\"C:\\Program \u001b[0m\n",
              "\u001b[35mFiles\\WindowsApps\\PythonSoftwareFoundation.Python.3.13_3.13.1008.0_x64__qbz5n2kfra8p0\\Lib\\threading.py\"\u001b[0m, line \u001b[35m1041\u001b[0m,\n",
              "in \u001b[35m_bootstrap_inner\u001b[0m\n",
              "    \u001b[31mself.run\u001b[0m\u001b[1;31m()\u001b[0m\n",
              "    \u001b[31m~~~~~~~~\u001b[0m\u001b[1;31m^^\u001b[0m\n"
            ]
          },
          "metadata": {},
          "output_type": "display_data"
        },
        {
          "data": {
            "text/html": [
              "<pre style=\"white-space:pre;overflow-x:auto;line-height:normal;font-family:Menlo,'DejaVu Sans Mono',consolas,'Courier New',monospace\">  File <span style=\"color: #800080; text-decoration-color: #800080\">\"d:\\AI\\UI\\Hardcore\\.venv\\Lib\\site-packages\\tensorboard\\summary\\writer\\event_file_writer.py\"</span>, line <span style=\"color: #800080; text-decoration-color: #800080\">244</span>, in \n",
              "<span style=\"color: #800080; text-decoration-color: #800080\">run</span>\n",
              "    <span style=\"color: #800000; text-decoration-color: #800000\">self._run</span><span style=\"color: #800000; text-decoration-color: #800000; font-weight: bold\">()</span>\n",
              "    <span style=\"color: #800000; text-decoration-color: #800000\">~~~~~~~~~</span><span style=\"color: #800000; text-decoration-color: #800000; font-weight: bold\">^^</span>\n",
              "</pre>\n"
            ],
            "text/plain": [
              "  File \u001b[35m\"d:\\AI\\UI\\Hardcore\\.venv\\Lib\\site-packages\\tensorboard\\summary\\writer\\event_file_writer.py\"\u001b[0m, line \u001b[35m244\u001b[0m, in \n",
              "\u001b[35mrun\u001b[0m\n",
              "    \u001b[31mself._run\u001b[0m\u001b[1;31m()\u001b[0m\n",
              "    \u001b[31m~~~~~~~~~\u001b[0m\u001b[1;31m^^\u001b[0m\n"
            ]
          },
          "metadata": {},
          "output_type": "display_data"
        },
        {
          "data": {
            "text/html": [
              "<pre style=\"white-space:pre;overflow-x:auto;line-height:normal;font-family:Menlo,'DejaVu Sans Mono',consolas,'Courier New',monospace\">  File <span style=\"color: #800080; text-decoration-color: #800080\">\"d:\\AI\\UI\\Hardcore\\.venv\\Lib\\site-packages\\tensorboard\\summary\\writer\\event_file_writer.py\"</span>, line <span style=\"color: #800080; text-decoration-color: #800080\">275</span>, in \n",
              "<span style=\"color: #800080; text-decoration-color: #800080\">_run</span>\n",
              "    <span style=\"color: #800000; text-decoration-color: #800000\">self._record_writer.write</span><span style=\"color: #800000; text-decoration-color: #800000; font-weight: bold\">(data)</span>\n",
              "    <span style=\"color: #800000; text-decoration-color: #800000\">~~~~~~~~~~~~~~~~~~~~~~~~~</span><span style=\"color: #800000; text-decoration-color: #800000; font-weight: bold\">^^^^^^</span>\n",
              "</pre>\n"
            ],
            "text/plain": [
              "  File \u001b[35m\"d:\\AI\\UI\\Hardcore\\.venv\\Lib\\site-packages\\tensorboard\\summary\\writer\\event_file_writer.py\"\u001b[0m, line \u001b[35m275\u001b[0m, in \n",
              "\u001b[35m_run\u001b[0m\n",
              "    \u001b[31mself._record_writer.write\u001b[0m\u001b[1;31m(data)\u001b[0m\n",
              "    \u001b[31m~~~~~~~~~~~~~~~~~~~~~~~~~\u001b[0m\u001b[1;31m^^^^^^\u001b[0m\n"
            ]
          },
          "metadata": {},
          "output_type": "display_data"
        },
        {
          "data": {
            "text/html": [
              "<pre style=\"white-space:pre;overflow-x:auto;line-height:normal;font-family:Menlo,'DejaVu Sans Mono',consolas,'Courier New',monospace\">  File <span style=\"color: #800080; text-decoration-color: #800080\">\"d:\\AI\\UI\\Hardcore\\.venv\\Lib\\site-packages\\tensorboard\\summary\\writer\\record_writer.py\"</span>, line <span style=\"color: #800080; text-decoration-color: #800080\">40</span>, in <span style=\"color: #800080; text-decoration-color: #800080\">write</span>\n",
              "    <span style=\"color: #800000; text-decoration-color: #800000\">self._writer.write</span><span style=\"color: #800000; text-decoration-color: #800000; font-weight: bold\">(header + header_crc + data + footer_crc)</span>\n",
              "    <span style=\"color: #800000; text-decoration-color: #800000\">~~~~~~~~~~~~~~~~~~</span><span style=\"color: #800000; text-decoration-color: #800000; font-weight: bold\">^^^^^^^^^^^^^^^^^^^^^^^^^^^^^^^^^^^^^^^^^</span>\n",
              "</pre>\n"
            ],
            "text/plain": [
              "  File \u001b[35m\"d:\\AI\\UI\\Hardcore\\.venv\\Lib\\site-packages\\tensorboard\\summary\\writer\\record_writer.py\"\u001b[0m, line \u001b[35m40\u001b[0m, in \u001b[35mwrite\u001b[0m\n",
              "    \u001b[31mself._writer.write\u001b[0m\u001b[1;31m(header + header_crc + data + footer_crc)\u001b[0m\n",
              "    \u001b[31m~~~~~~~~~~~~~~~~~~\u001b[0m\u001b[1;31m^^^^^^^^^^^^^^^^^^^^^^^^^^^^^^^^^^^^^^^^^\u001b[0m\n"
            ]
          },
          "metadata": {},
          "output_type": "display_data"
        },
        {
          "data": {
            "text/html": [
              "<pre style=\"white-space:pre;overflow-x:auto;line-height:normal;font-family:Menlo,'DejaVu Sans Mono',consolas,'Courier New',monospace\">  File <span style=\"color: #800080; text-decoration-color: #800080\">\"d:\\AI\\UI\\Hardcore\\.venv\\Lib\\site-packages\\tensorboard\\compat\\tensorflow_stub\\io\\gfile.py\"</span>, line <span style=\"color: #800080; text-decoration-color: #800080\">775</span>, in \n",
              "<span style=\"color: #800080; text-decoration-color: #800080\">write</span>\n",
              "    <span style=\"color: #800000; text-decoration-color: #800000\">self.fs.append</span><span style=\"color: #800000; text-decoration-color: #800000; font-weight: bold\">(self.filename, file_content, self.binary_mode)</span>\n",
              "    <span style=\"color: #800000; text-decoration-color: #800000\">~~~~~~~~~~~~~~</span><span style=\"color: #800000; text-decoration-color: #800000; font-weight: bold\">^^^^^^^^^^^^^^^^^^^^^^^^^^^^^^^^^^^^^^^^^^^^^^^</span>\n",
              "</pre>\n"
            ],
            "text/plain": [
              "  File \u001b[35m\"d:\\AI\\UI\\Hardcore\\.venv\\Lib\\site-packages\\tensorboard\\compat\\tensorflow_stub\\io\\gfile.py\"\u001b[0m, line \u001b[35m775\u001b[0m, in \n",
              "\u001b[35mwrite\u001b[0m\n",
              "    \u001b[31mself.fs.append\u001b[0m\u001b[1;31m(self.filename, file_content, self.binary_mode)\u001b[0m\n",
              "    \u001b[31m~~~~~~~~~~~~~~\u001b[0m\u001b[1;31m^^^^^^^^^^^^^^^^^^^^^^^^^^^^^^^^^^^^^^^^^^^^^^^\u001b[0m\n"
            ]
          },
          "metadata": {},
          "output_type": "display_data"
        },
        {
          "data": {
            "text/html": [
              "<pre style=\"white-space:pre;overflow-x:auto;line-height:normal;font-family:Menlo,'DejaVu Sans Mono',consolas,'Courier New',monospace\">  File <span style=\"color: #800080; text-decoration-color: #800080\">\"d:\\AI\\UI\\Hardcore\\.venv\\Lib\\site-packages\\tensorboard\\compat\\tensorflow_stub\\io\\gfile.py\"</span>, line <span style=\"color: #800080; text-decoration-color: #800080\">167</span>, in \n",
              "<span style=\"color: #800080; text-decoration-color: #800080\">append</span>\n",
              "    <span style=\"color: #800000; text-decoration-color: #800000\">self._write</span><span style=\"color: #800000; text-decoration-color: #800000; font-weight: bold\">(filename, file_content, \"ab\" if binary_mode else \"a\")</span>\n",
              "    <span style=\"color: #800000; text-decoration-color: #800000\">~~~~~~~~~~~</span><span style=\"color: #800000; text-decoration-color: #800000; font-weight: bold\">^^^^^^^^^^^^^^^^^^^^^^^^^^^^^^^^^^^^^^^^^^^^^^^^^^^^^^</span>\n",
              "</pre>\n"
            ],
            "text/plain": [
              "  File \u001b[35m\"d:\\AI\\UI\\Hardcore\\.venv\\Lib\\site-packages\\tensorboard\\compat\\tensorflow_stub\\io\\gfile.py\"\u001b[0m, line \u001b[35m167\u001b[0m, in \n",
              "\u001b[35mappend\u001b[0m\n",
              "    \u001b[31mself._write\u001b[0m\u001b[1;31m(filename, file_content, \"ab\" if binary_mode else \"a\")\u001b[0m\n",
              "    \u001b[31m~~~~~~~~~~~\u001b[0m\u001b[1;31m^^^^^^^^^^^^^^^^^^^^^^^^^^^^^^^^^^^^^^^^^^^^^^^^^^^^^^\u001b[0m\n"
            ]
          },
          "metadata": {},
          "output_type": "display_data"
        },
        {
          "data": {
            "text/html": [
              "<pre style=\"white-space:pre;overflow-x:auto;line-height:normal;font-family:Menlo,'DejaVu Sans Mono',consolas,'Courier New',monospace\">  File <span style=\"color: #800080; text-decoration-color: #800080\">\"d:\\AI\\UI\\Hardcore\\.venv\\Lib\\site-packages\\tensorboard\\compat\\tensorflow_stub\\io\\gfile.py\"</span>, line <span style=\"color: #800080; text-decoration-color: #800080\">171</span>, in \n",
              "<span style=\"color: #800080; text-decoration-color: #800080\">_write</span>\n",
              "    with <span style=\"color: #800000; text-decoration-color: #800000\">io.open</span><span style=\"color: #800000; text-decoration-color: #800000; font-weight: bold\">(filename, mode, encoding=encoding)</span> as f:\n",
              "         <span style=\"color: #800000; text-decoration-color: #800000\">~~~~~~~</span><span style=\"color: #800000; text-decoration-color: #800000; font-weight: bold\">^^^^^^^^^^^^^^^^^^^^^^^^^^^^^^^^^^^</span>\n",
              "</pre>\n"
            ],
            "text/plain": [
              "  File \u001b[35m\"d:\\AI\\UI\\Hardcore\\.venv\\Lib\\site-packages\\tensorboard\\compat\\tensorflow_stub\\io\\gfile.py\"\u001b[0m, line \u001b[35m171\u001b[0m, in \n",
              "\u001b[35m_write\u001b[0m\n",
              "    with \u001b[31mio.open\u001b[0m\u001b[1;31m(filename, mode, encoding=encoding)\u001b[0m as f:\n",
              "         \u001b[31m~~~~~~~\u001b[0m\u001b[1;31m^^^^^^^^^^^^^^^^^^^^^^^^^^^^^^^^^^^\u001b[0m\n"
            ]
          },
          "metadata": {},
          "output_type": "display_data"
        },
        {
          "data": {
            "text/html": [
              "<pre style=\"white-space:pre;overflow-x:auto;line-height:normal;font-family:Menlo,'DejaVu Sans Mono',consolas,'Courier New',monospace\"><span style=\"color: #800080; text-decoration-color: #800080; font-weight: bold\">FileNotFoundError</span>: <span style=\"color: #800080; text-decoration-color: #800080\">[Errno 2] No such file or directory: </span>\n",
              "<span style=\"color: #800080; text-decoration-color: #800080\">b'./log/TD3_BipedalWalker-v3\\\\TD3_6\\\\events.out.tfevents.1746464115.DESKTOP-V8JHN9B.18696.0'</span>\n",
              "</pre>\n"
            ],
            "text/plain": [
              "\u001b[1;35mFileNotFoundError\u001b[0m: \u001b[35m[Errno 2] No such file or directory: \u001b[0m\n",
              "\u001b[35mb'./log/TD3_BipedalWalker-v3\\\\TD3_6\\\\events.out.tfevents.1746464115.DESKTOP-V8JHN9B.18696.0'\u001b[0m\n"
            ]
          },
          "metadata": {},
          "output_type": "display_data"
        },
        {
          "ename": "FileNotFoundError",
          "evalue": "[Errno 2] No such file or directory: b'./log/TD3_BipedalWalker-v3\\\\TD3_6\\\\events.out.tfevents.1746464115.DESKTOP-V8JHN9B.18696.0'",
          "output_type": "error",
          "traceback": [
            "\u001b[31m---------------------------------------------------------------------------\u001b[39m",
            "\u001b[31mFileNotFoundError\u001b[39m                         Traceback (most recent call last)",
            "\u001b[36mCell\u001b[39m\u001b[36m \u001b[39m\u001b[32mIn[4]\u001b[39m\u001b[32m, line 74\u001b[39m\n\u001b[32m     71\u001b[39m model = TD3.load(\u001b[33m\"\u001b[39m\u001b[33mTD3_BipedalWalker-v3\u001b[39m\u001b[33m\"\u001b[39m, env=vec_env)\n\u001b[32m     73\u001b[39m \u001b[38;5;66;03m# Train with callbacks\u001b[39;00m\n\u001b[32m---> \u001b[39m\u001b[32m74\u001b[39m \u001b[43mmodel\u001b[49m\u001b[43m.\u001b[49m\u001b[43mlearn\u001b[49m\u001b[43m(\u001b[49m\n\u001b[32m     75\u001b[39m \u001b[43m    \u001b[49m\u001b[43mtotal_timesteps\u001b[49m\u001b[43m=\u001b[49m\u001b[32;43m2_000_000\u001b[39;49m\u001b[43m,\u001b[49m\n\u001b[32m     76\u001b[39m \u001b[43m    \u001b[49m\u001b[43mcallback\u001b[49m\u001b[43m=\u001b[49m\u001b[43m[\u001b[49m\u001b[43meval_callback\u001b[49m\u001b[43m,\u001b[49m\u001b[43m \u001b[49m\u001b[43mAvgRewardCallback\u001b[49m\u001b[43m(\u001b[49m\u001b[43m)\u001b[49m\u001b[43m]\u001b[49m\u001b[43m,\u001b[49m\n\u001b[32m     77\u001b[39m \u001b[43m    \u001b[49m\u001b[43mprogress_bar\u001b[49m\u001b[43m=\u001b[49m\u001b[38;5;28;43;01mTrue\u001b[39;49;00m\u001b[43m,\u001b[49m\n\u001b[32m     78\u001b[39m \u001b[43m)\u001b[49m\n",
            "\u001b[36mFile \u001b[39m\u001b[32md:\\AI\\UI\\Hardcore\\.venv\\Lib\\site-packages\\stable_baselines3\\td3\\td3.py:222\u001b[39m, in \u001b[36mTD3.learn\u001b[39m\u001b[34m(self, total_timesteps, callback, log_interval, tb_log_name, reset_num_timesteps, progress_bar)\u001b[39m\n\u001b[32m    213\u001b[39m \u001b[38;5;28;01mdef\u001b[39;00m\u001b[38;5;250m \u001b[39m\u001b[34mlearn\u001b[39m(\n\u001b[32m    214\u001b[39m     \u001b[38;5;28mself\u001b[39m: SelfTD3,\n\u001b[32m    215\u001b[39m     total_timesteps: \u001b[38;5;28mint\u001b[39m,\n\u001b[32m   (...)\u001b[39m\u001b[32m    220\u001b[39m     progress_bar: \u001b[38;5;28mbool\u001b[39m = \u001b[38;5;28;01mFalse\u001b[39;00m,\n\u001b[32m    221\u001b[39m ) -> SelfTD3:\n\u001b[32m--> \u001b[39m\u001b[32m222\u001b[39m     \u001b[38;5;28;01mreturn\u001b[39;00m \u001b[38;5;28;43msuper\u001b[39;49m\u001b[43m(\u001b[49m\u001b[43m)\u001b[49m\u001b[43m.\u001b[49m\u001b[43mlearn\u001b[49m\u001b[43m(\u001b[49m\n\u001b[32m    223\u001b[39m \u001b[43m        \u001b[49m\u001b[43mtotal_timesteps\u001b[49m\u001b[43m=\u001b[49m\u001b[43mtotal_timesteps\u001b[49m\u001b[43m,\u001b[49m\n\u001b[32m    224\u001b[39m \u001b[43m        \u001b[49m\u001b[43mcallback\u001b[49m\u001b[43m=\u001b[49m\u001b[43mcallback\u001b[49m\u001b[43m,\u001b[49m\n\u001b[32m    225\u001b[39m \u001b[43m        \u001b[49m\u001b[43mlog_interval\u001b[49m\u001b[43m=\u001b[49m\u001b[43mlog_interval\u001b[49m\u001b[43m,\u001b[49m\n\u001b[32m    226\u001b[39m \u001b[43m        \u001b[49m\u001b[43mtb_log_name\u001b[49m\u001b[43m=\u001b[49m\u001b[43mtb_log_name\u001b[49m\u001b[43m,\u001b[49m\n\u001b[32m    227\u001b[39m \u001b[43m        \u001b[49m\u001b[43mreset_num_timesteps\u001b[49m\u001b[43m=\u001b[49m\u001b[43mreset_num_timesteps\u001b[49m\u001b[43m,\u001b[49m\n\u001b[32m    228\u001b[39m \u001b[43m        \u001b[49m\u001b[43mprogress_bar\u001b[49m\u001b[43m=\u001b[49m\u001b[43mprogress_bar\u001b[49m\u001b[43m,\u001b[49m\n\u001b[32m    229\u001b[39m \u001b[43m    \u001b[49m\u001b[43m)\u001b[49m\n",
            "\u001b[36mFile \u001b[39m\u001b[32md:\\AI\\UI\\Hardcore\\.venv\\Lib\\site-packages\\stable_baselines3\\common\\off_policy_algorithm.py:328\u001b[39m, in \u001b[36mOffPolicyAlgorithm.learn\u001b[39m\u001b[34m(self, total_timesteps, callback, log_interval, tb_log_name, reset_num_timesteps, progress_bar)\u001b[39m\n\u001b[32m    325\u001b[39m \u001b[38;5;28;01massert\u001b[39;00m \u001b[38;5;28misinstance\u001b[39m(\u001b[38;5;28mself\u001b[39m.train_freq, TrainFreq)  \u001b[38;5;66;03m# check done in _setup_learn()\u001b[39;00m\n\u001b[32m    327\u001b[39m \u001b[38;5;28;01mwhile\u001b[39;00m \u001b[38;5;28mself\u001b[39m.num_timesteps < total_timesteps:\n\u001b[32m--> \u001b[39m\u001b[32m328\u001b[39m     rollout = \u001b[38;5;28;43mself\u001b[39;49m\u001b[43m.\u001b[49m\u001b[43mcollect_rollouts\u001b[49m\u001b[43m(\u001b[49m\n\u001b[32m    329\u001b[39m \u001b[43m        \u001b[49m\u001b[38;5;28;43mself\u001b[39;49m\u001b[43m.\u001b[49m\u001b[43menv\u001b[49m\u001b[43m,\u001b[49m\n\u001b[32m    330\u001b[39m \u001b[43m        \u001b[49m\u001b[43mtrain_freq\u001b[49m\u001b[43m=\u001b[49m\u001b[38;5;28;43mself\u001b[39;49m\u001b[43m.\u001b[49m\u001b[43mtrain_freq\u001b[49m\u001b[43m,\u001b[49m\n\u001b[32m    331\u001b[39m \u001b[43m        \u001b[49m\u001b[43maction_noise\u001b[49m\u001b[43m=\u001b[49m\u001b[38;5;28;43mself\u001b[39;49m\u001b[43m.\u001b[49m\u001b[43maction_noise\u001b[49m\u001b[43m,\u001b[49m\n\u001b[32m    332\u001b[39m \u001b[43m        \u001b[49m\u001b[43mcallback\u001b[49m\u001b[43m=\u001b[49m\u001b[43mcallback\u001b[49m\u001b[43m,\u001b[49m\n\u001b[32m    333\u001b[39m \u001b[43m        \u001b[49m\u001b[43mlearning_starts\u001b[49m\u001b[43m=\u001b[49m\u001b[38;5;28;43mself\u001b[39;49m\u001b[43m.\u001b[49m\u001b[43mlearning_starts\u001b[49m\u001b[43m,\u001b[49m\n\u001b[32m    334\u001b[39m \u001b[43m        \u001b[49m\u001b[43mreplay_buffer\u001b[49m\u001b[43m=\u001b[49m\u001b[38;5;28;43mself\u001b[39;49m\u001b[43m.\u001b[49m\u001b[43mreplay_buffer\u001b[49m\u001b[43m,\u001b[49m\n\u001b[32m    335\u001b[39m \u001b[43m        \u001b[49m\u001b[43mlog_interval\u001b[49m\u001b[43m=\u001b[49m\u001b[43mlog_interval\u001b[49m\u001b[43m,\u001b[49m\n\u001b[32m    336\u001b[39m \u001b[43m    \u001b[49m\u001b[43m)\u001b[49m\n\u001b[32m    338\u001b[39m     \u001b[38;5;28;01mif\u001b[39;00m \u001b[38;5;129;01mnot\u001b[39;00m rollout.continue_training:\n\u001b[32m    339\u001b[39m         \u001b[38;5;28;01mbreak\u001b[39;00m\n",
            "\u001b[36mFile \u001b[39m\u001b[32md:\\AI\\UI\\Hardcore\\.venv\\Lib\\site-packages\\stable_baselines3\\common\\off_policy_algorithm.py:597\u001b[39m, in \u001b[36mOffPolicyAlgorithm.collect_rollouts\u001b[39m\u001b[34m(self, env, callback, train_freq, replay_buffer, action_noise, learning_starts, log_interval)\u001b[39m\n\u001b[32m    595\u001b[39m             \u001b[38;5;66;03m# Log training infos\u001b[39;00m\n\u001b[32m    596\u001b[39m             \u001b[38;5;28;01mif\u001b[39;00m log_interval \u001b[38;5;129;01mis\u001b[39;00m \u001b[38;5;129;01mnot\u001b[39;00m \u001b[38;5;28;01mNone\u001b[39;00m \u001b[38;5;129;01mand\u001b[39;00m \u001b[38;5;28mself\u001b[39m._episode_num % log_interval == \u001b[32m0\u001b[39m:\n\u001b[32m--> \u001b[39m\u001b[32m597\u001b[39m                 \u001b[38;5;28;43mself\u001b[39;49m\u001b[43m.\u001b[49m\u001b[43mdump_logs\u001b[49m\u001b[43m(\u001b[49m\u001b[43m)\u001b[49m\n\u001b[32m    598\u001b[39m callback.on_rollout_end()\n\u001b[32m    600\u001b[39m \u001b[38;5;28;01mreturn\u001b[39;00m RolloutReturn(num_collected_steps * env.num_envs, num_collected_episodes, continue_training)\n",
            "\u001b[36mFile \u001b[39m\u001b[32md:\\AI\\UI\\Hardcore\\.venv\\Lib\\site-packages\\stable_baselines3\\common\\off_policy_algorithm.py:431\u001b[39m, in \u001b[36mOffPolicyAlgorithm.dump_logs\u001b[39m\u001b[34m(self)\u001b[39m\n\u001b[32m    429\u001b[39m     \u001b[38;5;28mself\u001b[39m.logger.record(\u001b[33m\"\u001b[39m\u001b[33mrollout/success_rate\u001b[39m\u001b[33m\"\u001b[39m, safe_mean(\u001b[38;5;28mself\u001b[39m.ep_success_buffer))\n\u001b[32m    430\u001b[39m \u001b[38;5;66;03m# Pass the number of timesteps for tensorboard\u001b[39;00m\n\u001b[32m--> \u001b[39m\u001b[32m431\u001b[39m \u001b[38;5;28;43mself\u001b[39;49m\u001b[43m.\u001b[49m\u001b[43mlogger\u001b[49m\u001b[43m.\u001b[49m\u001b[43mdump\u001b[49m\u001b[43m(\u001b[49m\u001b[43mstep\u001b[49m\u001b[43m=\u001b[49m\u001b[38;5;28;43mself\u001b[39;49m\u001b[43m.\u001b[49m\u001b[43mnum_timesteps\u001b[49m\u001b[43m)\u001b[49m\n",
            "\u001b[36mFile \u001b[39m\u001b[32md:\\AI\\UI\\Hardcore\\.venv\\Lib\\site-packages\\stable_baselines3\\common\\logger.py:540\u001b[39m, in \u001b[36mLogger.dump\u001b[39m\u001b[34m(self, step)\u001b[39m\n\u001b[32m    538\u001b[39m \u001b[38;5;28;01mfor\u001b[39;00m _format \u001b[38;5;129;01min\u001b[39;00m \u001b[38;5;28mself\u001b[39m.output_formats:\n\u001b[32m    539\u001b[39m     \u001b[38;5;28;01mif\u001b[39;00m \u001b[38;5;28misinstance\u001b[39m(_format, KVWriter):\n\u001b[32m--> \u001b[39m\u001b[32m540\u001b[39m         \u001b[43m_format\u001b[49m\u001b[43m.\u001b[49m\u001b[43mwrite\u001b[49m\u001b[43m(\u001b[49m\u001b[38;5;28;43mself\u001b[39;49m\u001b[43m.\u001b[49m\u001b[43mname_to_value\u001b[49m\u001b[43m,\u001b[49m\u001b[43m \u001b[49m\u001b[38;5;28;43mself\u001b[39;49m\u001b[43m.\u001b[49m\u001b[43mname_to_excluded\u001b[49m\u001b[43m,\u001b[49m\u001b[43m \u001b[49m\u001b[43mstep\u001b[49m\u001b[43m)\u001b[49m\n\u001b[32m    542\u001b[39m \u001b[38;5;28mself\u001b[39m.name_to_value.clear()\n\u001b[32m    543\u001b[39m \u001b[38;5;28mself\u001b[39m.name_to_count.clear()\n",
            "\u001b[36mFile \u001b[39m\u001b[32md:\\AI\\UI\\Hardcore\\.venv\\Lib\\site-packages\\stable_baselines3\\common\\logger.py:437\u001b[39m, in \u001b[36mTensorBoardOutputFormat.write\u001b[39m\u001b[34m(self, key_values, key_excluded, step)\u001b[39m\n\u001b[32m    434\u001b[39m         \u001b[38;5;28mself\u001b[39m.writer.file_writer.add_summary(session_end_info)\n\u001b[32m    436\u001b[39m \u001b[38;5;66;03m# Flush the output to the file\u001b[39;00m\n\u001b[32m--> \u001b[39m\u001b[32m437\u001b[39m \u001b[38;5;28;43mself\u001b[39;49m\u001b[43m.\u001b[49m\u001b[43mwriter\u001b[49m\u001b[43m.\u001b[49m\u001b[43mflush\u001b[49m\u001b[43m(\u001b[49m\u001b[43m)\u001b[49m\n",
            "\u001b[36mFile \u001b[39m\u001b[32md:\\AI\\UI\\Hardcore\\.venv\\Lib\\site-packages\\torch\\utils\\tensorboard\\writer.py:1194\u001b[39m, in \u001b[36mSummaryWriter.flush\u001b[39m\u001b[34m(self)\u001b[39m\n\u001b[32m   1192\u001b[39m     \u001b[38;5;28;01mreturn\u001b[39;00m\n\u001b[32m   1193\u001b[39m \u001b[38;5;28;01mfor\u001b[39;00m writer \u001b[38;5;129;01min\u001b[39;00m \u001b[38;5;28mself\u001b[39m.all_writers.values():\n\u001b[32m-> \u001b[39m\u001b[32m1194\u001b[39m     \u001b[43mwriter\u001b[49m\u001b[43m.\u001b[49m\u001b[43mflush\u001b[49m\u001b[43m(\u001b[49m\u001b[43m)\u001b[49m\n",
            "\u001b[36mFile \u001b[39m\u001b[32md:\\AI\\UI\\Hardcore\\.venv\\Lib\\site-packages\\torch\\utils\\tensorboard\\writer.py:153\u001b[39m, in \u001b[36mFileWriter.flush\u001b[39m\u001b[34m(self)\u001b[39m\n\u001b[32m    147\u001b[39m \u001b[38;5;28;01mdef\u001b[39;00m\u001b[38;5;250m \u001b[39m\u001b[34mflush\u001b[39m(\u001b[38;5;28mself\u001b[39m):\n\u001b[32m    148\u001b[39m \u001b[38;5;250m    \u001b[39m\u001b[33;03m\"\"\"Flushes the event file to disk.\u001b[39;00m\n\u001b[32m    149\u001b[39m \n\u001b[32m    150\u001b[39m \u001b[33;03m    Call this method to make sure that all pending events have been written to\u001b[39;00m\n\u001b[32m    151\u001b[39m \u001b[33;03m    disk.\u001b[39;00m\n\u001b[32m    152\u001b[39m \u001b[33;03m    \"\"\"\u001b[39;00m\n\u001b[32m--> \u001b[39m\u001b[32m153\u001b[39m     \u001b[38;5;28;43mself\u001b[39;49m\u001b[43m.\u001b[49m\u001b[43mevent_writer\u001b[49m\u001b[43m.\u001b[49m\u001b[43mflush\u001b[49m\u001b[43m(\u001b[49m\u001b[43m)\u001b[49m\n",
            "\u001b[36mFile \u001b[39m\u001b[32md:\\AI\\UI\\Hardcore\\.venv\\Lib\\site-packages\\tensorboard\\summary\\writer\\event_file_writer.py:125\u001b[39m, in \u001b[36mEventFileWriter.flush\u001b[39m\u001b[34m(self)\u001b[39m\n\u001b[32m    119\u001b[39m \u001b[38;5;28;01mdef\u001b[39;00m\u001b[38;5;250m \u001b[39m\u001b[34mflush\u001b[39m(\u001b[38;5;28mself\u001b[39m):\n\u001b[32m    120\u001b[39m \u001b[38;5;250m    \u001b[39m\u001b[33;03m\"\"\"Flushes the event file to disk.\u001b[39;00m\n\u001b[32m    121\u001b[39m \n\u001b[32m    122\u001b[39m \u001b[33;03m    Call this method to make sure that all pending events have been\u001b[39;00m\n\u001b[32m    123\u001b[39m \u001b[33;03m    written to disk.\u001b[39;00m\n\u001b[32m    124\u001b[39m \u001b[33;03m    \"\"\"\u001b[39;00m\n\u001b[32m--> \u001b[39m\u001b[32m125\u001b[39m     \u001b[38;5;28;43mself\u001b[39;49m\u001b[43m.\u001b[49m\u001b[43m_async_writer\u001b[49m\u001b[43m.\u001b[49m\u001b[43mflush\u001b[49m\u001b[43m(\u001b[49m\u001b[43m)\u001b[49m\n",
            "\u001b[36mFile \u001b[39m\u001b[32md:\\AI\\UI\\Hardcore\\.venv\\Lib\\site-packages\\tensorboard\\summary\\writer\\event_file_writer.py:194\u001b[39m, in \u001b[36m_AsyncWriter.flush\u001b[39m\u001b[34m(self)\u001b[39m\n\u001b[32m    190\u001b[39m \u001b[38;5;28mself\u001b[39m._writer.flush()\n\u001b[32m    191\u001b[39m \u001b[38;5;66;03m# Check the status again in case the background worker thread has\u001b[39;00m\n\u001b[32m    192\u001b[39m \u001b[38;5;66;03m# failed in the meantime to avoid waiting until the next call to\u001b[39;00m\n\u001b[32m    193\u001b[39m \u001b[38;5;66;03m# surface the error.\u001b[39;00m\n\u001b[32m--> \u001b[39m\u001b[32m194\u001b[39m \u001b[38;5;28;43mself\u001b[39;49m\u001b[43m.\u001b[49m\u001b[43m_check_worker_status\u001b[49m\u001b[43m(\u001b[49m\u001b[43m)\u001b[49m\n",
            "\u001b[36mFile \u001b[39m\u001b[32md:\\AI\\UI\\Hardcore\\.venv\\Lib\\site-packages\\tensorboard\\summary\\writer\\event_file_writer.py:212\u001b[39m, in \u001b[36m_AsyncWriter._check_worker_status\u001b[39m\u001b[34m(self)\u001b[39m\n\u001b[32m    210\u001b[39m exception = \u001b[38;5;28mself\u001b[39m._worker.exception\n\u001b[32m    211\u001b[39m \u001b[38;5;28;01mif\u001b[39;00m exception \u001b[38;5;129;01mis\u001b[39;00m \u001b[38;5;129;01mnot\u001b[39;00m \u001b[38;5;28;01mNone\u001b[39;00m:\n\u001b[32m--> \u001b[39m\u001b[32m212\u001b[39m     \u001b[38;5;28;01mraise\u001b[39;00m exception\n",
            "\u001b[36mFile \u001b[39m\u001b[32mC:\\Program Files\\WindowsApps\\PythonSoftwareFoundation.Python.3.13_3.13.1008.0_x64__qbz5n2kfra8p0\\Lib\\threading.py:1041\u001b[39m, in \u001b[36mThread._bootstrap_inner\u001b[39m\u001b[34m(self)\u001b[39m\n\u001b[32m   1038\u001b[39m     _sys.setprofile(_profile_hook)\n\u001b[32m   1040\u001b[39m \u001b[38;5;28;01mtry\u001b[39;00m:\n\u001b[32m-> \u001b[39m\u001b[32m1041\u001b[39m     \u001b[38;5;28;43mself\u001b[39;49m\u001b[43m.\u001b[49m\u001b[43mrun\u001b[49m\u001b[43m(\u001b[49m\u001b[43m)\u001b[49m\n\u001b[32m   1042\u001b[39m \u001b[38;5;28;01mexcept\u001b[39;00m:\n\u001b[32m   1043\u001b[39m     \u001b[38;5;28mself\u001b[39m._invoke_excepthook(\u001b[38;5;28mself\u001b[39m)\n",
            "\u001b[36mFile \u001b[39m\u001b[32md:\\AI\\UI\\Hardcore\\.venv\\Lib\\site-packages\\tensorboard\\summary\\writer\\event_file_writer.py:244\u001b[39m, in \u001b[36m_AsyncWriterThread.run\u001b[39m\u001b[34m(self)\u001b[39m\n\u001b[32m    242\u001b[39m \u001b[38;5;28;01mdef\u001b[39;00m\u001b[38;5;250m \u001b[39m\u001b[34mrun\u001b[39m(\u001b[38;5;28mself\u001b[39m):\n\u001b[32m    243\u001b[39m     \u001b[38;5;28;01mtry\u001b[39;00m:\n\u001b[32m--> \u001b[39m\u001b[32m244\u001b[39m         \u001b[38;5;28;43mself\u001b[39;49m\u001b[43m.\u001b[49m\u001b[43m_run\u001b[49m\u001b[43m(\u001b[49m\u001b[43m)\u001b[49m\n\u001b[32m    245\u001b[39m     \u001b[38;5;28;01mexcept\u001b[39;00m \u001b[38;5;167;01mException\u001b[39;00m \u001b[38;5;28;01mas\u001b[39;00m ex:\n\u001b[32m    246\u001b[39m         \u001b[38;5;28mself\u001b[39m.exception = ex\n",
            "\u001b[36mFile \u001b[39m\u001b[32md:\\AI\\UI\\Hardcore\\.venv\\Lib\\site-packages\\tensorboard\\summary\\writer\\event_file_writer.py:275\u001b[39m, in \u001b[36m_AsyncWriterThread._run\u001b[39m\u001b[34m(self)\u001b[39m\n\u001b[32m    273\u001b[39m     \u001b[38;5;28;01mif\u001b[39;00m data \u001b[38;5;129;01mis\u001b[39;00m \u001b[38;5;28mself\u001b[39m._shutdown_signal:\n\u001b[32m    274\u001b[39m         \u001b[38;5;28;01mreturn\u001b[39;00m\n\u001b[32m--> \u001b[39m\u001b[32m275\u001b[39m     \u001b[38;5;28;43mself\u001b[39;49m\u001b[43m.\u001b[49m\u001b[43m_record_writer\u001b[49m\u001b[43m.\u001b[49m\u001b[43mwrite\u001b[49m\u001b[43m(\u001b[49m\u001b[43mdata\u001b[49m\u001b[43m)\u001b[49m\n\u001b[32m    276\u001b[39m     \u001b[38;5;28mself\u001b[39m._has_pending_data = \u001b[38;5;28;01mTrue\u001b[39;00m\n\u001b[32m    277\u001b[39m \u001b[38;5;28;01mexcept\u001b[39;00m queue.Empty:\n",
            "\u001b[36mFile \u001b[39m\u001b[32md:\\AI\\UI\\Hardcore\\.venv\\Lib\\site-packages\\tensorboard\\summary\\writer\\record_writer.py:40\u001b[39m, in \u001b[36mRecordWriter.write\u001b[39m\u001b[34m(self, data)\u001b[39m\n\u001b[32m     38\u001b[39m header_crc = struct.pack(\u001b[33m\"\u001b[39m\u001b[33m<I\u001b[39m\u001b[33m\"\u001b[39m, masked_crc32c(header))\n\u001b[32m     39\u001b[39m footer_crc = struct.pack(\u001b[33m\"\u001b[39m\u001b[33m<I\u001b[39m\u001b[33m\"\u001b[39m, masked_crc32c(data))\n\u001b[32m---> \u001b[39m\u001b[32m40\u001b[39m \u001b[38;5;28;43mself\u001b[39;49m\u001b[43m.\u001b[49m\u001b[43m_writer\u001b[49m\u001b[43m.\u001b[49m\u001b[43mwrite\u001b[49m\u001b[43m(\u001b[49m\u001b[43mheader\u001b[49m\u001b[43m \u001b[49m\u001b[43m+\u001b[49m\u001b[43m \u001b[49m\u001b[43mheader_crc\u001b[49m\u001b[43m \u001b[49m\u001b[43m+\u001b[49m\u001b[43m \u001b[49m\u001b[43mdata\u001b[49m\u001b[43m \u001b[49m\u001b[43m+\u001b[49m\u001b[43m \u001b[49m\u001b[43mfooter_crc\u001b[49m\u001b[43m)\u001b[49m\n",
            "\u001b[36mFile \u001b[39m\u001b[32md:\\AI\\UI\\Hardcore\\.venv\\Lib\\site-packages\\tensorboard\\compat\\tensorflow_stub\\io\\gfile.py:775\u001b[39m, in \u001b[36mGFile.write\u001b[39m\u001b[34m(self, file_content)\u001b[39m\n\u001b[32m    771\u001b[39m         \u001b[38;5;28mself\u001b[39m.write_started = \u001b[38;5;28;01mTrue\u001b[39;00m\n\u001b[32m    773\u001b[39m     \u001b[38;5;28;01melse\u001b[39;00m:\n\u001b[32m    774\u001b[39m         \u001b[38;5;66;03m# append the later chunks\u001b[39;00m\n\u001b[32m--> \u001b[39m\u001b[32m775\u001b[39m         \u001b[38;5;28;43mself\u001b[39;49m\u001b[43m.\u001b[49m\u001b[43mfs\u001b[49m\u001b[43m.\u001b[49m\u001b[43mappend\u001b[49m\u001b[43m(\u001b[49m\u001b[38;5;28;43mself\u001b[39;49m\u001b[43m.\u001b[49m\u001b[43mfilename\u001b[49m\u001b[43m,\u001b[49m\u001b[43m \u001b[49m\u001b[43mfile_content\u001b[49m\u001b[43m,\u001b[49m\u001b[43m \u001b[49m\u001b[38;5;28;43mself\u001b[39;49m\u001b[43m.\u001b[49m\u001b[43mbinary_mode\u001b[49m\u001b[43m)\u001b[49m\n\u001b[32m    776\u001b[39m \u001b[38;5;28;01melse\u001b[39;00m:\n\u001b[32m    777\u001b[39m     \u001b[38;5;66;03m# add to temp file, but wait for flush to write to final filesystem\u001b[39;00m\n\u001b[32m    778\u001b[39m     \u001b[38;5;28;01mif\u001b[39;00m \u001b[38;5;28mself\u001b[39m.write_temp \u001b[38;5;129;01mis\u001b[39;00m \u001b[38;5;28;01mNone\u001b[39;00m:\n",
            "\u001b[36mFile \u001b[39m\u001b[32md:\\AI\\UI\\Hardcore\\.venv\\Lib\\site-packages\\tensorboard\\compat\\tensorflow_stub\\io\\gfile.py:167\u001b[39m, in \u001b[36mLocalFileSystem.append\u001b[39m\u001b[34m(self, filename, file_content, binary_mode)\u001b[39m\n\u001b[32m    159\u001b[39m \u001b[38;5;28;01mdef\u001b[39;00m\u001b[38;5;250m \u001b[39m\u001b[34mappend\u001b[39m(\u001b[38;5;28mself\u001b[39m, filename, file_content, binary_mode=\u001b[38;5;28;01mFalse\u001b[39;00m):\n\u001b[32m    160\u001b[39m \u001b[38;5;250m    \u001b[39m\u001b[33;03m\"\"\"Append string file contents to a file.\u001b[39;00m\n\u001b[32m    161\u001b[39m \n\u001b[32m    162\u001b[39m \u001b[33;03m    Args:\u001b[39;00m\n\u001b[32m   (...)\u001b[39m\u001b[32m    165\u001b[39m \u001b[33;03m        binary_mode: bool, write as binary if True, otherwise text\u001b[39;00m\n\u001b[32m    166\u001b[39m \u001b[33;03m    \"\"\"\u001b[39;00m\n\u001b[32m--> \u001b[39m\u001b[32m167\u001b[39m     \u001b[38;5;28;43mself\u001b[39;49m\u001b[43m.\u001b[49m\u001b[43m_write\u001b[49m\u001b[43m(\u001b[49m\u001b[43mfilename\u001b[49m\u001b[43m,\u001b[49m\u001b[43m \u001b[49m\u001b[43mfile_content\u001b[49m\u001b[43m,\u001b[49m\u001b[43m \u001b[49m\u001b[33;43m\"\u001b[39;49m\u001b[33;43mab\u001b[39;49m\u001b[33;43m\"\u001b[39;49m\u001b[43m \u001b[49m\u001b[38;5;28;43;01mif\u001b[39;49;00m\u001b[43m \u001b[49m\u001b[43mbinary_mode\u001b[49m\u001b[43m \u001b[49m\u001b[38;5;28;43;01melse\u001b[39;49;00m\u001b[43m \u001b[49m\u001b[33;43m\"\u001b[39;49m\u001b[33;43ma\u001b[39;49m\u001b[33;43m\"\u001b[39;49m\u001b[43m)\u001b[49m\n",
            "\u001b[36mFile \u001b[39m\u001b[32md:\\AI\\UI\\Hardcore\\.venv\\Lib\\site-packages\\tensorboard\\compat\\tensorflow_stub\\io\\gfile.py:171\u001b[39m, in \u001b[36mLocalFileSystem._write\u001b[39m\u001b[34m(self, filename, file_content, mode)\u001b[39m\n\u001b[32m    169\u001b[39m \u001b[38;5;28;01mdef\u001b[39;00m\u001b[38;5;250m \u001b[39m\u001b[34m_write\u001b[39m(\u001b[38;5;28mself\u001b[39m, filename, file_content, mode):\n\u001b[32m    170\u001b[39m     encoding = \u001b[38;5;28;01mNone\u001b[39;00m \u001b[38;5;28;01mif\u001b[39;00m \u001b[33m\"\u001b[39m\u001b[33mb\u001b[39m\u001b[33m\"\u001b[39m \u001b[38;5;129;01min\u001b[39;00m mode \u001b[38;5;28;01melse\u001b[39;00m \u001b[33m\"\u001b[39m\u001b[33mutf8\u001b[39m\u001b[33m\"\u001b[39m\n\u001b[32m--> \u001b[39m\u001b[32m171\u001b[39m     \u001b[38;5;28;01mwith\u001b[39;00m \u001b[43mio\u001b[49m\u001b[43m.\u001b[49m\u001b[43mopen\u001b[49m\u001b[43m(\u001b[49m\u001b[43mfilename\u001b[49m\u001b[43m,\u001b[49m\u001b[43m \u001b[49m\u001b[43mmode\u001b[49m\u001b[43m,\u001b[49m\u001b[43m \u001b[49m\u001b[43mencoding\u001b[49m\u001b[43m=\u001b[49m\u001b[43mencoding\u001b[49m\u001b[43m)\u001b[49m \u001b[38;5;28;01mas\u001b[39;00m f:\n\u001b[32m    172\u001b[39m         compatify = compat.as_bytes \u001b[38;5;28;01mif\u001b[39;00m \u001b[33m\"\u001b[39m\u001b[33mb\u001b[39m\u001b[33m\"\u001b[39m \u001b[38;5;129;01min\u001b[39;00m mode \u001b[38;5;28;01melse\u001b[39;00m compat.as_text\n\u001b[32m    173\u001b[39m         f.write(compatify(file_content))\n",
            "\u001b[31mFileNotFoundError\u001b[39m: [Errno 2] No such file or directory: b'./log/TD3_BipedalWalker-v3\\\\TD3_6\\\\events.out.tfevents.1746464115.DESKTOP-V8JHN9B.18696.0'"
          ]
        },
        {
          "ename": "",
          "evalue": "",
          "output_type": "error",
          "traceback": [
            "\u001b[1;31mThe Kernel crashed while executing code in the current cell or a previous cell. \n",
            "\u001b[1;31mPlease review the code in the cell(s) to identify a possible cause of the failure. \n",
            "\u001b[1;31mClick <a href='https://aka.ms/vscodeJupyterKernelCrash'>here</a> for more info. \n",
            "\u001b[1;31mView Jupyter <a href='command:jupyter.viewOutput'>log</a> for further details."
          ]
        }
      ],
      "source": [
        "# Parameters\n",
        "benchmark = \"BipedalWalkerHardcore-v3\"\n",
        "model_ = TD3\n",
        "max_stepov_na_epizodu = 1000\n",
        "num_envs = 6\n",
        "\n",
        "# Custom environment wrapper (optional reward shaping)\n",
        "class CustomBipedalWalker(gym.Wrapper):\n",
        "    def __init__(self, env):\n",
        "        super().__init__(env)\n",
        "\n",
        "# Function to create monitored env\n",
        "def make_env():\n",
        "    env = gym.make(benchmark, max_episode_steps=max_stepov_na_epizodu)\n",
        "    env = CustomBipedalWalker(env)\n",
        "    env = Monitor(env)  # Required for episode reward tracking\n",
        "    return env\n",
        "\n",
        "# Vectorized environments with monitoring\n",
        "vec_env = SubprocVecEnv([make_env for _ in range(num_envs)])\n",
        "vec_env = VecMonitor(vec_env)\n",
        "\n",
        "# Action noise for TD3\n",
        "action_noise = NormalActionNoise(\n",
        "    mean=np.zeros(vec_env.action_space.shape),\n",
        "    sigma=0.1 * np.ones(vec_env.action_space.shape)\n",
        ")\n",
        "\n",
        "# Custom callback for logging average reward\n",
        "class AvgRewardCallback(BaseCallback):\n",
        "    def __init__(self, verbose=0):\n",
        "        super().__init__(verbose)\n",
        "        self.episode_rewards = []\n",
        "\n",
        "    def _on_step(self) -> bool:\n",
        "        if \"infos\" in self.locals:\n",
        "            for info in self.locals[\"infos\"]:\n",
        "                if \"episode\" in info:\n",
        "                    reward = info[\"episode\"][\"r\"]\n",
        "                    self.episode_rewards.append(reward)\n",
        "                    if len(self.episode_rewards) >= 100:\n",
        "                        avg_reward = sum(self.episode_rewards[-100:]) / 100\n",
        "                        self.logger.record(\"custom/avg_reward_100ep\", avg_reward)\n",
        "        return True\n",
        "\n",
        "# Eval environment\n",
        "eval_env = Monitor(gym.make(benchmark, max_episode_steps=max_stepov_na_epizodu))\n",
        "\n",
        "def make_eval_env():\n",
        "    env = gym.make(benchmark, max_episode_steps=max_stepov_na_epizodu)\n",
        "    env = CustomBipedalWalker(env)\n",
        "    env = Monitor(env)\n",
        "    return env\n",
        "\n",
        "eval_env = DummyVecEnv([make_eval_env])\n",
        "eval_env = VecMonitor(eval_env)\n",
        "\n",
        "\n",
        "# Eval callback\n",
        "eval_callback = EvalCallback(\n",
        "    eval_env,\n",
        "    best_model_save_path=\"./models/\",\n",
        "    log_path=\"./log/\",\n",
        "    eval_freq=5000,\n",
        "    deterministic=True,\n",
        "    render=False\n",
        ")\n",
        "\n",
        "\n",
        "\n",
        "model = TD3.load(\"TD3_BipedalWalker-v3\", env=vec_env)\n",
        "\n",
        "# Train with callbacks\n",
        "model.learn(\n",
        "    total_timesteps=1_000_000,\n",
        "    callback=[eval_callback, AvgRewardCallback()],\n",
        "    progress_bar=True,\n",
        ")"
      ]
    },
    {
      "cell_type": "code",
      "execution_count": 1,
      "metadata": {},
      "outputs": [
        {
          "ename": "NameError",
          "evalue": "name 'model' is not defined",
          "output_type": "error",
          "traceback": [
            "\u001b[31m---------------------------------------------------------------------------\u001b[39m",
            "\u001b[31mNameError\u001b[39m                                 Traceback (most recent call last)",
            "\u001b[36mCell\u001b[39m\u001b[36m \u001b[39m\u001b[32mIn[1]\u001b[39m\u001b[32m, line 1\u001b[39m\n\u001b[32m----> \u001b[39m\u001b[32m1\u001b[39m \u001b[43mmodel\u001b[49m.save(model_.\u001b[34m__name__\u001b[39m + \u001b[33m\"\u001b[39m\u001b[33m_\u001b[39m\u001b[33m\"\u001b[39m + benchmark + \u001b[33m\"\u001b[39m\u001b[33m_hardcore\u001b[39m\u001b[33m\"\u001b[39m)\n",
            "\u001b[31mNameError\u001b[39m: name 'model' is not defined"
          ]
        }
      ],
      "source": [
        "model.save(model_.__name__ + \"_\" + benchmark + \"_hardcore\")"
      ]
    }
  ],
  "metadata": {
    "accelerator": "GPU",
    "colab": {
      "gpuType": "T4",
      "provenance": []
    },
    "kernelspec": {
      "display_name": ".venv",
      "language": "python",
      "name": "python3"
    },
    "language_info": {
      "codemirror_mode": {
        "name": "ipython",
        "version": 3
      },
      "file_extension": ".py",
      "mimetype": "text/x-python",
      "name": "python",
      "nbconvert_exporter": "python",
      "pygments_lexer": "ipython3",
      "version": "3.13.3"
    }
  },
  "nbformat": 4,
  "nbformat_minor": 0
}
